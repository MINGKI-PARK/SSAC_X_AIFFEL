{
 "cells": [
  {
   "cell_type": "markdown",
   "metadata": {},
   "source": [
    "# 사람이 말하는 단어를 인공지능 모델로 구분해보자"
   ]
  },
  {
   "cell_type": "markdown",
   "metadata": {},
   "source": [
    "## 들어가며"
   ]
  },
  {
   "cell_type": "markdown",
   "metadata": {},
   "source": [
    "+ 음성(speech)은 사람의 언어가 들어있는 소리\n",
    "+ 오디오(audio)는 사람 목소리 이외의 모든 소리를 통칭해서 일컫는 것. 예를 들면, 생활소리, 동물울음소리, 클래식, 악기소리 등등이 포함.\n",
    "\n",
    "음성의 경우 일정한 주파수 영역에만 해당하기 때문에 일반적인 소리보다는 처리하기가 수월. 일반적인 오디오를 다루는 것은 좀더 까다로움. 하지만 기본적인 원리는 비슷."
   ]
  },
  {
   "cell_type": "markdown",
   "metadata": {},
   "source": [
    "**목표**\n",
    "\n",
    "+ Audio 형태의 데이터를 다루는 방법에 대해서 알아보기\n",
    "+ Wav 파일의 형태와 원리를 이해하기\n",
    "+ 오디오데이터를 다른 다양한 형태로 변형시켜보기\n",
    "+ 차원이 다른 데이터에 사용가능한 classification 모델 직접 제작해보기"
   ]
  },
  {
   "cell_type": "markdown",
   "metadata": {},
   "source": [
    "## 음성과 오디오 데이터"
   ]
  },
  {
   "cell_type": "markdown",
   "metadata": {},
   "source": [
    "### 파동으로서의 소리\n",
    "\n",
    "---\n",
    "\n",
    "소리는 진동으로 인한 공기 압축을 이야기하며, 압축이 얼마나됬느냐는 파동(Wave)로 말할 수 있다.\n",
    "\n",
    "소리에서 얻을 수 있는 물리량의 3요소\n",
    "\n",
    "+ 진폭(Amplitude)\n",
    "+ 주파수(Frequency)\n",
    "+ 위상(Phase)\n",
    "\n",
    "물리적 음향에서는 Intensity(강도)를 진폭의 세기로 정의하고, Frequency는 떨림의 빠르기 그리고 Tone-Color는 파동의 모양으로 정의한다. \n",
    "\n",
    "심리적 음향에서는 Loudness는 소리의 크기를 말하고, Pitch는 음정, 소리의 높낮이, 진동수를 의미한다. \n",
    "\n",
    "마지막으로 Timbre는 음색, 소리, 감각등을 나타낸다."
   ]
  },
  {
   "cell_type": "markdown",
   "metadata": {},
   "source": [
    "#### 주파수란?\n",
    "\n",
    "주파수는 the number of compression, 즉 1초동안의 진동 횟수를 의미하며 단위는 Hz를 사용한다. 1Hz는 1초에 한번 진동한다는 것을 의미합니다.\n",
    "\n",
    "주기(period)는 파동이 한 번 진동하는데 걸리는 시간, 또는 그 길이를 말하며, 일반적으로는 sin함수의 주기는 2π/ω입니다. (ω=주파수)\n",
    "\n",
    "소리의 높낮이는 음원의 주파수에 의해 결정됩니다. 주파수가 높으면 높은 소리가 나고, 낮으면 낮은 소리가 납니다."
   ]
  },
  {
   "cell_type": "markdown",
   "metadata": {},
   "source": [
    "#### 복합파(Complex Wave)란?\n",
    "\n",
    "우리가 사용하는 대부분의 소리들은 복합파입니다. 서로다른 주파수를 가진 수많은 소리가 뒤섞여 만들어지는 복합파는, **복수의 서로 다른 정현파(sine wave)들의 합**으로 이루어진 파형입니다. 수식으로 표현하자면 아래와 같습니다. 이른바 오디오 데이터의 제너럴한 수식 표현이라고 할 수 있습니다."
   ]
  },
  {
   "cell_type": "markdown",
   "metadata": {},
   "source": [
    "$ x(n)\\approx \\sum_{k=0}^{K}a_k(n)cos(\\phi _k(n))+e(n) $"
   ]
  },
  {
   "cell_type": "markdown",
   "metadata": {},
   "source": [
    "$\\begin{align}\n",
    "where, a_k & =instantaneous amplitude \\\\\n",
    "\\phi_k & =instantaneous phase \\\\\n",
    "e(n) & = residual (noise) \\\\\n",
    "\\end{align}$"
   ]
  },
  {
   "cell_type": "markdown",
   "metadata": {},
   "source": [
    "### 오디오 데이터의 디지털화\n",
    "\n",
    "---"
   ]
  },
  {
   "cell_type": "markdown",
   "metadata": {},
   "source": [
    "위에서 언급한 오디오 데이터는 아날로그 데이터로서의 소리에 대한 설명이었습니다. 그러나 컴퓨터는 0과 1로만 이루어진 디지털 데이터만 취급 가능합니다. 우리가 흔히 볼 수 있는 소리들은 컴퓨터의 입력으로 들어가게 되면 어떤 과정을 거치게 될까요? 컴퓨터가 소리를 이해하는 과정을 살펴보겠습니다!\n",
    "\n",
    "연속적인 아날로그 신호 중 가장 단순한 형태인 사인 함수(sine function)를 수식으로 표현하면 아래와 같습니다.\n",
    "\n",
    "$ Asin(2\\pi ft - \\phi) $\n",
    "\n",
    "$A$는 진폭(amplitude)으로 위, 아래로 움직이는 소리의 크기를 나타냅니다. \n",
    "\n",
    "$f$는 주파수(frequnecy)로, 초당 진동 횟수를 나타냅니다. 즉, 소리의 세기를 나타냅니다. 주파수가 높으면 빠르게 진동해 소리의 세기가 커지게 됩니다.\n",
    "\n",
    "$\\phi$은 위상이고 $t$는 시간으로 정의합니다."
   ]
  },
  {
   "cell_type": "markdown",
   "metadata": {},
   "source": [
    "#### 아날로그 신호의 표본화(Sampling)"
   ]
  },
  {
   "cell_type": "code",
   "execution_count": 5,
   "metadata": {
    "ExecuteTime": {
     "end_time": "2021-01-26T11:21:51.074210Z",
     "start_time": "2021-01-26T11:21:51.036790Z"
    }
   },
   "outputs": [],
   "source": [
    "import numpy as np\n",
    "import matplotlib.pyplot as plt\n",
    "\n",
    "def single_tone(frequecy, sampling_rate=16000, duration=1):\n",
    "    t = np.linspace(0, duration, int(sampling_rate))\n",
    "    y = np.sin(2 * np.pi * frequecy * t)\n",
    "    return y\n",
    "\n",
    "y = single_tone(400)"
   ]
  },
  {
   "cell_type": "markdown",
   "metadata": {},
   "source": [
    "1 사이클 동안 나타나는 연속시간 연속크기 아날로그 신호인 간단한 사인함수를 그려보겠습니다."
   ]
  },
  {
   "cell_type": "code",
   "execution_count": 6,
   "metadata": {
    "ExecuteTime": {
     "end_time": "2021-01-26T11:21:51.987307Z",
     "start_time": "2021-01-26T11:21:51.774292Z"
    }
   },
   "outputs": [
    {
     "data": {
      "image/png": "[encoded data removed]",
      "text/plain": [
       "<Figure size 432x288 with 1 Axes>"
      ]
     },
     "metadata": {
      "needs_background": "light"
     },
     "output_type": "display_data"
    }
   ],
   "source": [
    "plt.plot(y[:41])\n",
    "plt.show()"
   ]
  },
  {
   "cell_type": "markdown",
   "metadata": {},
   "source": [
    "시간축 방향에서 일정 간격으로 샘플을 추출하여 이산 신호(discrete signal)로 변환시키는 과정을 **표본화(Sampling)**라고 부릅니다. 아래 그래프는 1 사이클 동안 나타나는 **이산시간** 연속크기 신호를 한번 출력해보도록 하겠습니다."
   ]
  },
  {
   "cell_type": "code",
   "execution_count": 7,
   "metadata": {
    "ExecuteTime": {
     "end_time": "2021-01-26T11:21:52.591321Z",
     "start_time": "2021-01-26T11:21:52.453883Z"
    }
   },
   "outputs": [
    {
     "data": {
      "image/png": "[encoded data removed]",
      "text/plain": [
       "<Figure size 432x288 with 1 Axes>"
      ]
     },
     "metadata": {
      "needs_background": "light"
     },
     "output_type": "display_data"
    }
   ],
   "source": [
    "plt.stem(y[:41])\n",
    "plt.show()"
   ]
  },
  {
   "cell_type": "markdown",
   "metadata": {},
   "source": [
    "우리는 위에서 `single_tone()` 함수 구현시 sampling rate를 16000으로 지정하고, duration은 1초, 그리고 주파수는 400인 사인함수를 정의했습니다. 여기서 sampling rate는 무엇일까요? 초당 샘플링의 횟수를 말합니다. 샘플링이란? 1초의 연속적인 신호를 몇 개의 숫자로 나누는 표현할 것인지를 말합니다. 그렇다면 Sampling rate는 어떻게 설정하는 것이 좋을까요?"
   ]
  },
  {
   "cell_type": "markdown",
   "metadata": {},
   "source": [
    "나이키스트-섀넌 표본화에 따라 Sampling rate가 결정되며, 일반적으로 사용되는 주파수 영역대는 16kHz, 44.1kHz를 많이 사용합니다. 16kHz는 보통 Speech에서 많이 사용되는 주파수 영역대이고, 44.1kHz는 Music에서 많이 사용하는 주파수영역대입니다. 우리는 음성데이터를 사용할 것이므로, sampling rate를16000(16k)으로 지정하겠습니다. duration은 지속시간을 나타내며, 단위는 초단위 입니다. 여기서 Hz는 주기가 일정하게 반복되는 횟수를 의미하며, 이를 주파수라고 칭합니다. 따라서 주파수의 단위는 Hz입니다.\n",
    "\n",
    "참고: [나이키스트-섀넌 표본화](https://linecard.tistory.com/20)"
   ]
  },
  {
   "cell_type": "markdown",
   "metadata": {},
   "source": [
    "#### 표본화, 양자화, 부호화\n",
    "\n",
    "연속적인 아날로그 신호를 컴퓨터 입력으로 넣게 되면 **표본화(Sampling)**, **양자화(Quantizing)**, **부호화(Encoding)**을 거쳐 이진 디지털 신호(Binary Digital Signal)로 변화시켜 인식하게 됩니다. 아래 그림은 아날로그 오디오 신호를 표본화, 양자화하는 과정을 시각화하여 보여 줍니다."
   ]
  },
  {
   "cell_type": "markdown",
   "metadata": {},
   "source": [
    "위에서 설명한 바와 같이 아날로그 데이터에서 일정 간격으로 표본을 채취하는 방식으로 이산적 데이터를 구합니다. 그러나 디지털화를 위해서는 이산적 데이터의 값 자체가 소수점 아래로 무한히 정밀해질 수 없고, 일정 간격으로 값을 근사하여 구할 수밖에 없습니다. 이 과정을 **양자화**라고 합니다. 이 과정에서 원본 아날로그 데이터화의 차이가 발생하고 미세한 왜곡이 발생합니다. Sampling rate 가 클수록 이 기대 왜곡치가 작아져 원본에 가까운 형태로 변환됩니다.\n",
    "\n",
    "그리고 마지막으로 **부호화**를 통해 표본화->양자화를 거친 원본 아날로그 수치가 최종적인 디지털 표현(0과 1로만 이루어진)을 얻게 됩니다."
   ]
  },
  {
   "cell_type": "markdown",
   "metadata": {},
   "source": [
    "### Wave data 분석\n",
    "\n",
    "---\n",
    "\n",
    "#### Wave 데이터 형식 뜯어보기\n",
    "\n",
    "Audio 데이터는 이미지 데이터보다 낮은 차원의 데이터를 다룹니다. 1개의 wav 파일은 1차원으로 이루어진 시계열 데이터입니다. 실제로는 여러 소리 파형이 합쳐진 복합파라고 보아야 합니다."
   ]
  },
  {
   "cell_type": "markdown",
   "metadata": {},
   "source": [
    "#### 간단한 단어 인식을 위한 훈련데이터셋\n",
    "\n",
    "짧은 단어의 라벨이 달려 있어, 음성들을 텍스트로 구분하는 모델 혹은 간단한 명령어를 구별하는 모델로도 학습이 가능합니다."
   ]
  },
  {
   "cell_type": "markdown",
   "metadata": {},
   "source": [
    "#### Bits per sample\n",
    "\n",
    "+ 샘플 하나마다 소리의 세기를 몇 비트로 저장했는지를 나타냅니다.\n",
    "+ 값이 커질 수록 세기를 정확하게 저장할 수 있습니다. 예를 들어, Bits rate가 16 bits 라면, 소리의 세기를 , 즉 65,536 단계로 표현할 수 있습니다.\n",
    "+ 4 bits / 8 bits unsigned int / 16 bits int / 24 bits / 32 bits float 등의 자료형으로 표현됩니다."
   ]
  },
  {
   "cell_type": "markdown",
   "metadata": {},
   "source": [
    "#### Sampling frequency\n",
    "\n",
    "+ 샘플링 주파수라는 단어입니다. 소리로부터 초당 샘플링한 횟수를 의미합니다.\n",
    "+ 샘플링은 원래 신호를 다시 복원할 수 있는 나이퀴스트(Nyquist) 샘플링 룰에 따라서, 복원해야 할 신호 주파수의 2배 이상으로 샘플링 해야합니다.\n",
    "+ 가청 주파수 20 ~ 24 kHz를 복원하기 위해 사용하며, 음원에서 많이 쓰이는 값은 44.1 kHz입니다.\n"
   ]
  },
  {
   "cell_type": "markdown",
   "metadata": {},
   "source": [
    "#### Channel\n",
    "+ 각 채널별로 샘플링된 데이터가 따로 저장되어 있습니다.\n",
    "+ 2채널(Stereo) 음원을 재생하면 왼쪽(L)과 오른쪽(R) 스피커에 다른 값이 출력됩니다.\n",
    "+ 1채널(Mono) 음원의 경우 왼쪽(L) 데이터만 있으며, 재생시엔 왼쪽(L)과 오른쪽(R) 스피커에 같은 값이 출력됩니다.\n",
    "\n",
    "+ 1000 Hz 신호를 저장한 wav 파일입니다.\n",
    "+ Sample rate 는 48000 Hz, 즉 1초 재생하는데 필요한 Sample 수는 48000개입니다.\n",
    "+ 모든 샘플은 -1 ~ 1 사이의 정해진 bits per sample의 값으로 표현됩니다."
   ]
  },
  {
   "cell_type": "code",
   "execution_count": 8,
   "metadata": {
    "ExecuteTime": {
     "end_time": "2021-01-26T11:21:54.844965Z",
     "start_time": "2021-01-26T11:21:54.837783Z"
    }
   },
   "outputs": [
    {
     "name": "stdout",
     "output_type": "stream",
     "text": [
      "✅\n"
     ]
    }
   ],
   "source": [
    "import numpy as np\n",
    "import os\n",
    "\n",
    "data_path = os.getenv(\"HOME\")+'/aiffel/speech_recognition/data/speech_wav_8000.npz'\n",
    "speech_data = np.load(data_path)\n",
    "\n",
    "print(\"✅\")"
   ]
  },
  {
   "cell_type": "code",
   "execution_count": 9,
   "metadata": {
    "ExecuteTime": {
     "end_time": "2021-01-26T11:21:57.421846Z",
     "start_time": "2021-01-26T11:21:55.029939Z"
    }
   },
   "outputs": [
    {
     "name": "stdout",
     "output_type": "stream",
     "text": [
      "Wave data shape :  (50620, 8000)\n",
      "Label data shape :  (50620, 1)\n",
      "✅\n"
     ]
    }
   ],
   "source": [
    "print(\"Wave data shape : \", speech_data[\"wav_vals\"].shape)\n",
    "print(\"Label data shape : \", speech_data[\"label_vals\"].shape)\n",
    "print(\"✅\")"
   ]
  },
  {
   "cell_type": "markdown",
   "metadata": {},
   "source": [
    "+ 데이터셋은 1초 길이의 오디오 음성데이터 50620개로 이뤄져 있습니다.\n",
    "+ 주어진 데이터의 원래 Sample rate는 16000이지만, 8000으로 re-sampling해 사용하겠습니다.\n",
    "+ 모두 1초의 길이를 가지는 오디오 음성데이터이여서 각각 8000개의 sample data를 가지고 있습니다.\n",
    "\n",
    "> 데이터셋은 캐글의 음성 인식 챌린지의 데이터입니다. [Kaggle/TensorFlow Speech Recognition Challenge](https://www.kaggle.com/c/tensorflow-speech-recognition-challenge). This is version 0.01 of the data set containing 64,727 audio files, released on August 3rd 2017."
   ]
  },
  {
   "cell_type": "code",
   "execution_count": 10,
   "metadata": {
    "ExecuteTime": {
     "end_time": "2021-01-26T11:22:00.773102Z",
     "start_time": "2021-01-26T11:21:57.423598Z"
    }
   },
   "outputs": [
    {
     "name": "stdout",
     "output_type": "stream",
     "text": [
      "rand num :  16022\n",
      "Wave data shape :  (8000,)\n",
      "label :  ['stop']\n"
     ]
    },
    {
     "data": {
      "text/html": [
       "\n",
       "                <audio  controls=\"controls\" >\n",
       "                    <source src=\"data:audio/wav;base64,UklGRqQ+AABXQVZFZm10IBAAAAABAAEAQB8AAIA+AAACABAAZGF0YYA+AAD///z///////r///8EAAIAAgACAPv/+//8//7//f///wEABQADAAMAAgAAAP3//P8AAPz//v/8//7//f/8/wIABQAFAAMABQD///r/BAAAAPz/AAD9//z/+//6////BQAFAAYAAwD9//r/9//4//f/+f/2//z/BQADAAUAAQACAAQABAAAAP7//v/9//7//f8AAAYABgAEAAcAAgADAAAA+v/9//v//f/9////BQAHAAUABQAHAAcAAAAAAAEA/f/+//7//f8AAAYABQAHAAQABgADAPz//f/7//3//f/+//7/BAAFAAUABQAGAAEA//8GAP7//f8AAP///P/6//v///8EAAEAAQD4//j/+P/4//f/+P////v/AwAEAAAA//8AAAAAAQAEAAUABQAFAAYABAAFAAUAAwABAAEAAwD9//3/AAD+//7//f8DAAUABQAGAAMAAwABAAAA/v///////f/+//3/BAAFAAQABwAFAAMABAAAAP3////+//7//v/+//7/+//9//7///8EAAQA///+//3//f/8//n//v///wAAAAD8/////f8AAP///P8CAAAA/f/2//r//P/+//v//v8EAPz/AAADAAQABQAGAAYACAAIAAkABQD+//7//v/+//7/AQAAAAAA/v/9//7//P/+//3/BAAAAAAACQAHAAMAAgAFAAMABQAGAAcABgAFAAUABQAGAAQABQAAAAIAAgD8//3//f////7//v/+//7//f/8/////P/6//b/+v/6//z/AwAGAAIA+P/5//j/+P/9/wcABAAAAAQABAAFAAQABgAEAAYABAAHAAIAAAAHAAAA/f/9//3//P/8/////f////7//f/+//3//f/+//7/BQD9////BwAEAAYABgAGAAMABQADAAIAAwAFAAMAAgAEAAQABgAFAAYABAAAAP3//v/+//7//P/8//7//P/9//7//f/+//7/+v/3//r/+P/6/wMABgD+//7/AAD9/////v8CAAUABAAGAAQABQABAPz/AAAFAAUABgAFAAYAAwD+//3//v/9//7//f8AAP//+/8AAP7//f/+//7//v/+/wQABAAAAP3///8HAAAAAgAIAAQABgAEAAYAAQD+//3/AAADAP3//f8DAAAA+//+//3//v/9//7//v/+//7//f8BAAQABQAFAAUABQAFAAUABgD8//b/+f/3//j/+P/7////+//6//r/AwACAP3/AAD+//7//P////7//P///wUABQAFAAUABQAFAAUABQAFAAQAAAD+//3//f/9//7//P/8//n//v8BAP7////9/wIAAwD6//3/AwABAP3/AQAFAAMABgAFAAUAAAD9/wYAAQACAAAA//8GAAMABQAFAAQABAAEAAIABQAAAPj////5//j/+P/4//n/+P/5//b/AAD9/wMAAAAAAAMA+//+////AgD8/wQA//8DAAAAAgAIAAQAAAD+/wcA/v8EAP7/AwD//wMAAAD9/wcA/f8FAP7/BQAAAAIAAwAEAAEA/f8BAP7/AAD9/wEA/v8GAAAAAgAGAAQABgACAAoABAAJAAQAAwAFAAQABwAFAP///f8EAAQABgABAAMAAAD6//f/+P/3//j/+P/4/wAA9/8DAPz/AQAAAPr/BwD9/wQAAAD7/wUAAAAAAAIAAAADAP//BAAEAAUABQAFAAEAAAD+/wAABQAAAAAA/v8AAAAA//8AAPv//f/8//r//f/+/wAA/P/9//v//v/+//7/BQAEAAYABAADAAYABQADAAYABwAFAAUABgADAAUABgAFAAYABQAGAAUABgADAAUABQD+//3/+v////7/+v/5//j/9//3//b/9//3//j////9//7//f/+//3//v/9//z//v/8/wAABAAGAAAA/f/+//7//f///wAAAwAGAAUABQAFAAUABQAFAAUABQAFAAUABQAHAAAA/f///wAA/v/9//7//f8EAAAA/v/+//7//v/+//3/AAAGAAUABQAFAAUABQAFAAUABQD+/wMABgAFAAQABwACAPr//P/4//v/9//4//j/+P/4//j/+P/5/////P/9//r/AAAEAP7/BQAFAAUABQAFAAUABQAFAAYABwAFAAQA/v/+//7//v/+//7//v/7//z/+//+//r//v8AAP3/AAD9////AgADAAIAAgADAAQAAwAEAAUABgAIAAYABQAFAAUAAwAFAAUABQAFAAQABwAEAAMABgAEAAUA/v/1//r//P/5/wEACQD/////BQD8//j/9//5//j/+f/9//3//v/+//3//P/9//z/AQAHAP7/AQAHAAQAAgD8//v/+//9//7/+////wUAAwAGAAMA/P/+//7//f/8/wEAAgAGAAUAAwADAP3//v/+//3//f/+//3/AgAAAAEABwAFAAcABAD+//v//f/9//3//f/+//3/AAAEAPz/AwACAP7/AwAEAAYAAAD2//b/+P/5//r/+P8CAAYAAwAGAAIAAgABAAAAAgADAAUABQAAAAIAAAD9//3//f/+//3//v8EAAUABAAGAAQABgAEAAYAAQD//wQA/v/9//7/+v////7///8BAP7/AgAEAAUABAADAAUAAgD//wAA/v/+//7//P8FAAIABAADAP//CAD///7/BgAFAAYABgACAAYAAAD5//z/+f/7//r//f///wAA///9//7////+////AwD//wMAAgD//wQA/P8AAAMA/v8CAP7/AAAHAP//AQD///3/AAD+/wYA/////wUAAgD//wEABgABAAAAAgABAAIABwD//wMABQD9/wQAAgACAAcA//8AAAEA/P////3//f/+//7/BgABAAEAAwD7/wAAAwD+//7/AgADAAIAAAD8//7/+f/5//b/AAD8//f/AAD3//v/+f/4//n/9//6//j/AAAGAAQABgAEAAQABgAGAAUABAAEAAUABQD//wEA//8DAAEA//8FAAAAAQD//wQABgAAAAAAAAACAP3//v/8//3/AwAAAP///v8DAAEAAwAAAP7/AAAAAAMA///+//7//f/+//z//v8BAPv//f/9//z////9/wMAAAAAAAIA/f/9//3///8GAAIA+P/3//X/9//5/////f/+/wAA/v/7//n//f8CAAUAAwAEAAQAAwADAAQA///9//7////9//z//v8AAAAA+/8AAAQABQAEAAQABAAAAAAA/v/9/wUABgAEAAEA/f8AAAIAAwD8/wEAAQD+/wUA///6//z//v/7/wAAAwD8/wIAAwAAAP7//f////3//f/9/wAA/v/+//7/AgAAAPj/AAAGAAUABwAGAAUABgAFAAQABQAHAAYABgAFAAYAAgAFAAIA/P/9//3//f8AAAYAAQAEAAYAAQAHAAUABQAFAAUAAwD9/wAA+//+//7//P/8//z/+//5/wAABAAEAAUABAACAAYABgAGAAcAAgAAAAIABAD8/wAA/P/8//3//f/9/wIABgADAAYABwAGAAMABgAEAAcAAwD///3/9//5//f/+//7//r/+f/5//f//f/5//7/AQD4/wEAAAAFAAQABAAHAP//BwAAAAEABgACAAYA/f8EAAIAAQACAP//BgD5/w8A/v8JAAUA/f8SAPH/DgD7/wgAAAD6/wgA9f8IAPv/BQD9/woAAAACAAYA/v8HAPb/CwD5/wYABQDu/wkA7f8EAP3/9f8JAOD/HwDb/xoA+f8AAB8A3f89AMr/SgDF/zEA3//w/xkAtf9TAJP/bgB6/1MAv/8jAB0A1P98AH3/lgB+/5AAt/86AN7/3P8lAKn/UQCe/0IAiv8yANX/GgAYAMv/LADW/y0A8P8YAC8Ay/9QAMr/NQAEAPD/NgC1/1IAlf9iAL//FQAfAKn/ZACN/20Anf85ANf/2f87AKz/VgDg/ygAAgA9ANX/dwCO/6MAq/8YADgAfP/gACL/wwBz/zoACQB+/18Acf9CAI7/yv8nAJz/EwA0ALH/jAD//34AMQBLANEAhP+iASL/9gA9AIz/QQHK/mEB3P6SABQAOf89AZH+sABG/9L/9f9E/1YAzP5/ADP/yf8KAKf/FACj/3cARf+xAKb/jwDs/w4AnwAv/wwCJf5uAmv+sgH7/+3+8wKT/FMEVfw8A+H9rAFMAN7+4QIW/dkDCfzLBGT7xwMd/dv/sQCG/DcCZ/pEA735DwMQ+rIBA/yz/zf/ePv6Av74XQME+uMAG/zP/3j8xP6i/NL+KP0//iUAafqLBEj3KwWq+RgCv/1N/k8Bw/vzAsT8yALO/isD1/5cBKf/IgXHAEkF1gF2A+sErgAqB38ADgbrASMEGAM8A2cDMgNAAjAEQAD9A/0AOgKJAaQBAgGZ/ykEHfw/BTv+vf+bAnz9UwMg/eQCr/7Y/o0EX/nCBsD71QGAAV/8oQaO+EsHFfuZACYDo/qvBLP7XAK3/cL/+AAI/IsDiPzS/vkAmPz1/+b+df6U/wr+sgBT/QQBH/8z////8f9e/j0BgP5P/nYCnvu/At78bgFj/eYA8f4L/jcCZvtmAa/+q/0xAff7jQEF/QcACv9O/f8BAvveA4X59AVs+aQDSP/k+4EHbfdNCE35TAUn/Wb/qwM1+ngGCfriA2j+KQCuASn9WwVr+48FM/6IAtoByf40Btf5YQp/+E0H8P1L/lgI0fQtDQ713Am6+d4CxgJU+dEKePMLDB/1TQkF+oYAuwID+tsGLvhPCQ72Ogt8+AcFhgPp+NwNdvPeDNv4xATt/gn/+ANg930LiPGgDJr1XwRo/jz9IgRk+QcH9PfEBJ389v8DAZUA5/x4BTL6FQW3/4D95Qb4+rsBfgKd/ZgC7v+O/nUC1fvjBEz6bAQ+/AH+3wQq95QGifxf+44FSvmeA0z+fP+uAdP71gUS+tQGc/xS/1oFTfkQB9r7tAJW/+D/dAKh/e0CCP1TAtj86gJw/J0Ba//c/JwCtP3SAHz8tASc+tT/BQLS+zsCgP47/gj/NQIq+sUHWPknApEDEfnuCC/5wQif+qgEYwJy/BUH4f0+Ag8CQAC2ACYDUP6CA5v/PgHdAfT84AJd/jH9JgW5+q3/AwRE9cgIAvilAN4A6PhmBKz4YQMk+0wBmP5C/UEAYgEl+9UFTfxcAVsDKfzFBeT+EwDSA4X/OgAJAjYDF/1fAXkHW/U4CVP7NwOs+wIEvv3J/k4FXvYoCcv67QBPAlH/y/w8BaL7twGuAVv+h/74AYz+Xf38B7f0uwca/DT7CAsj8HwLtPfr/UsI+O4iDyHxLAg0/IH8JwgJ8m4Ljvg1AGsG6fUhCbP8CfrMDUDxuA4X+RX+MQsw7w8WvvDvCAoDb/T4EdnvCQ6E+yAAMgSP+ywH0/6F/64EsP/l/QgKW/fFCtL4Lgdg/1L+YgYl+DkI7vd3BV77+gCW/0H+h/wCBNf7Vf2JBvDy4wre+W77pQm49pgCpf9IAO37ywIoBOn1GwoC/Fn/RQXy/IcA/Abi9o0II/83+rwLTvWrBtf9agDN/QcFN/1C/pEHB/i0A6gB9/tPAhwDmfiPCJj6rf8yB5r18AUrAoL6IgPt/0n+xAAV/vD/BwI7/JL9EATo/Nz67Qls9pMDNAOd9REOQPfcAOEFY/t8/LQJWfXeBOUBbvnhAzj+Qf9f/ZwJfPOeB5sDffSXCcsDrPK6DjD8tPgoC/z6Cf/IBzP5AwRAAcn9WAO7/0IEufieC1v4kwJ9A2789AOH/VcD9fxgAsv+lv8VAV8Axvu/A7T9GvzaBPv46wS7+OsE/fuf+mUIU/V8Ap8ByfnTAfsAs/s5A5j+jgB1/6QDv/6Q/+4GyvpxA5gB/P6kAgwAEwAmAVL/K/+bANv9QAEY/Y7/rgD9+s4FM/oOAWEFy/YOCcj68wFPA/X4kgrS9lwDZwTM93oGH/7F/agE5vqEAxsAT/2fA3T9awIV/s8BgP/q//T/uv41AD3/7/wYAWD9Vv7q//P88wAD/o7/7f/p/6P/hAA4/00DIv0qA53/OgDNAvr8TQV9/cwB8gHl/sACUQDZANcBEwDZAMUBIf9mANAAtv4O/8AAyf3B/6f/pfxlAu/9Sv3dAxf87gAkAT39gQP9/M8BQwB//7QBD/+zAiz+sgIEAPz/UgLR/kQCQQFHAOcBVAL9/9oCPQHUAJUCaP+1AW0Bhv4uAiH/HgCq/2v/UwDn/OYB7vvj/oD/DfvgAAn8wP1kAM76WgFF/XH+iP+X/Kz/Zvzh/mH8Mv4k/b39h/2X/m79x/+W/mz+wwEg/eYB8v5uAOX/oP/G/3b/nv/a/j//Pf+i//n+vAA0/6EAKAFa/4QCLgBDAf0BUQAMAxv/KwTQ/wYCdAMUAFcEoQEUAwECPAQ1ATQEOQKuAlMD8AF5AxABswSy/hMFSgAKAZIDrP5sA3r/yAHKAAsB1gAzAecAygCoAQMAYQKI//QBSgDV/z8CAv4cAr7+IABTAGP+DgEy/rD/bP/n/pj+9v51/rX9Wv88/az+H//l/ND/s/3m/X3/yP0+/63/zf27AN/+FAA/AJf/nwGW/k0Cqv+C/68Bif5SABcBsP4lAUkAP/+XADkAY/7GAOf+Af52AF79t/+O/dH/Nv08/4f+b/2dAOv7xQDN/cX+CQBZ/r3/i/9q/xEA8v+B/7cAs/9oAAoA1ABXACwAwADF/0oAhADV/gMBWf53//v/oP1KABv+Y/9w/or/FP6u/iT/fP3X/2r9If/x/g3/zf71/+b/nf7CAsf+4AGZAdj/ZgMoACkC3gH/AEACmAEBAo4BGAIJAqwBgAK4ATACLQLJAd8BqwHSAOUB3QD+ANYB/f8nAqQAaAFBAaAAMwEDAI4BUf9BAeT/2v8nAZ//3ACNAD4AmABeAQ//zgIU/+EACwJ5/vEChP5pATMAcv8rAYH+KwFs/7P/XAAm/9r/kP9Q/0v/0/8J/+r/r/6h/1r/eP4nAPL9GwBh/mf/6/5x/gX/Cf7k/n79cP/f/Nz+EP5c/VL/i/1B/4f+XP/h/rT/0f8g/+YAA/+8AI4A4f5zAUn/rf+oAIb+MACL/6T+WgAu/lf/Pv/H/QwAjf1O/x3+nf7Z/sn9fP+5/dP///5X/y8A4/+lALEA1wBCARABEQJNAUQC5wHLASUDZQFtA1sCRQIoAx4CfgJ+ApgBxQHeAe8ACgEPAQAANQEqAMv/dQBX/8r/cv/C/oP+Z/95/Ur/Nf59/ef/Tv2Y/6L+iP7Y/0z+s//V/m3/R//H/r3/iP7Q/rH/y/1g//D+2f1c/8v9f/5T/hr+Y/6S/tv9vf4h/nb+Pf6W/sH+Bv6Y/6f9SwA5/gIA5AAv/+UCKgA2AsoBrAFiAs4BfQKdAW0CXAHjAV4B5gGCAf4BGgIoAi8CWQIvA+8BVQOaAosCIAOiAgsCHgP7AdEBbgOgANkCYgFYAVECaf//Aav+cQDc/13+nACB/bf/Pf5T/8f/SP/DAIT/wgAPAAABAQBmATQA3P9PAV3+hwGg/xcApwBA/+8AUv/5/xAAvv5J/5wAdf63/8r/x/4gAKH/EgB9CrkDLvDXBhEGEPN6AGsCSPhz/zQAs/hcBHwBKvoOAkQBM/ozAeIB2P+p/3v8CwMMBGUCY/z0+gsG1gH+9Q79TwFu+jP9//zn+xMAYP1G/Jn/X/zw/DD+XPxwABr9yf6iAnr/EgChA4AAIwLPBBz6VwfFBS36xgX7ApD+8wD6Bf0ARQJKBB0AdQMsBFz/YgW5BED7JQRxAykCZAA8BGAJkALP/Q4JKwA1A8wJLPJDBR8E8/CS/vv82PWqANf3Y/hf+7P8zv1X9+cAyPlD+ab+Yf+Y/J/8Sf4g+64AfQKq/h0AYwHV/KAAEQbsAUABLgPPAB0CbgUJBA0B/gMYAXf9LASBBJf/LgP9Asz8ygLtAhgDFgN1AZoD/P7gBU0GDgHwBPsBe/5FAMYAyf9h/uP95vwU/ET95ABI/tj7Sfq7+o79x/n7/Zb6zfip+474S/w5/BD8rv1h+oP8r/x9/rUCm/3z/yX+tv2oAZb8NADD/l/9KgCt/fQC2wWQBVUGKgfkDYMS5BUBHI4a8RpEHYQcfxoKFscREQkABiABjPt5+u/1U/Tx8MPuJO9Q7B7umO3/6Y/s5OqS6qLr3edV5JXfct8c4QPhLej56Knmiexy7jDwmfLw9Mr0BPb8/MIA7QHHAYIDeABx+XL4tPQ08aL+1yFQPM1HMFreWv5TF1SyTb4/QSmGF1YCBvMl9iH3G/YP9TfwBen45qXvPfRO9iT7efZl8nL0Y/Q69CDzaPAw6IXlqutg7sT1CfhL86nvju2s8WXyq/Ne9GPu6uqp6TPr2+wQ7Qvtdujj5lvqz+qI7Dzw1+2k6W/ml+ch6SHsuu4A617qSOuS7W7u+fNO+VDzVvHf8GT65hPQPElr8XI6ewV7XWRQXxpXsEdYNfUgKw9iAloEmxSjElwV7g/q/U3yr+iD8ifwj/J59lHnUORj4c/hkeSf4vHiUNp92Cvcf+S48q74yvdq9cv23fT6/oEDMPhQ8WPwuOyc6A34TwEK/o346/fW8LDlgOq27WfoBeMk3frZNd/u5VnmUOWw5uje/eI57Svx4PZW9QHz5+6274bxz+8U8mrzq/j0DKQiAkrlcL54/3+Wclhbe0oLOxs0bi3kK78m0h9dI7Qj/SS7I1UYxwgs9TPq9eNt4RjouOQM3+fanc9tzjfMndAu1aXXnt3E3LHhY+aP6gv2ofwTAnsH4gUFBs0AIPoF9yP0P/U69l30uPdk9fn0FvTy7r3rd+VI4arczN935YrtePTx9bz2Z/bC9nv3IPhP+sr9sP26/yAEDASzBqEGjgHqA5kD9f9wBYASYCXvP1dX5lsWWQNPej1iNFcuLCsaLF0t4CpxJFcfiBhnEeQNngfZ+5ny5ujm30Phr+Iq4Uffl9qB02HQ88+q0lfZeeCY5knmLON64h3i0OZM8TH5RwSkC0IJdgaMAhD8jfzH/nD+QgG4A7cCrgIyAD/6X/Z18GLrIesB7dPwpfYe+0r/8f07/F33KPJi9Ar2B/uo/hQD4wQ0BEMFSgV7BqsFIQSoAlYD2QKlBEsKDRQQJFszHT+3P6k8jzYfLFsmxh9gG4Qb6hsgHNQbIRvUFwITFQ2bBIv/Ove37zTt+eid6EzmnOE/3mvcbNpk2Tbamtyh36XhXeRw5NrmtOVP6O/s6e9m+Z/9MwMQC6MKLwkjBzkAeQGiACMBHAakBQ4ICwRl///86PdY93r4jPk0/GX8vvnj9231i/SQ81/2APkj+RL80PwS/2cAWwKDA8wEdQZABbUHQAsVDWMN5QxNDO0JJQhCDJ4WliGuLZo0kzV2NHkrLSNwGacT0hI6EAMS0hHZEZAREA49ClQERP0h9W7uHup35XXjJeOq4Snhkd+I3dXc+dzH3X/gseXM6TrtG+878LTxRfKa9Uz7RwENChcPpBCxDzUJPAV///H9pP5gAawGFgfaCKgF6ALB/WL3yfIw7uztAuwL68ftPvF38oHzoPYh+9T50/m0/Hr9iABk/8MAQgMGBLEFIAZ7CLQKKAtxDHMOoBBWFYwaAx8/Iu8kFySaIQIfFRwkGoYXbxeoFVsT3xBHDDQImQL2/lH6r/b58w7wjO4M7HfqnejN57DoD+tS7kvwwvIh9Arzu/Ib89zyB/RF9dH4p/kN+kf9b/1YAcYETAYgCb4KzgttCfUGFgSO/9z9Gfy1+av4HvcU9mb18PNn8T/vHe6i7U7u+vGd9Ib2Zfdu9e3y9O0N7QPu9vDV9Zv58P5r//b9EPxQ/vYJ9BZAKso67kLHRUk8jzC+IBsUtA8NDvwTwRkTH+sgIR2rFvUM0QHW+BryCe8z8KLxDPOq8VXv9+oK5r3i4uBh4n3k2+jH62XuNvCG8Y303PSn94X5JfvJ/S/+if+z//j/YwCVAKsBFgKvAh0D4gL9ANb+d/xC+gD6kPoq/F/+XAFJA0IEWgYPB7AHXQktCcAIKQfcBAoCcgCuADgA7AHoAvICOQOsAT//IvzU+Uf4HPYM9372jPYR+CH32Pi2+Er4DfhV95T34fYU+J35Gfwm/1oChwYrCuYN+w9iEqMTURTWFFUV+xbIF18aexsEHA0bqRigFoISHRDIC7EIFweBAwkCgf4b+/P3APWd8rDw7/Cg8HvxK/Ia8uTylfHV8UPyoPKc9Hn1tvbJ9qD2A/YW9k32oPft+U37q/xA/cz7mvp4+YX31Pdy+Mz5Q/p3+qD6nviv9372Jfai9kP3DflR+uv9zP8mAGMEUwOQADECmwD2/wgDCQXmBU4KJQs1C8ANvwypDX8OxxCLE4EWIhrSGvga+BhjFZoQ0AtICN8EBAQIA4cCWwLjABP/7PzQ+r33ovXb81nxl/CZ7/ntD+747JrsQe107UPuAO9E8OzxPPSr9kL5SvvS/L79Of61/wUA+AGFAjcC2wEK/4f+rv2U/6gC1QaDCwMNcA8LD8wObw+ND2UQkhDnEMIPeg67DCUKiAjwBhUGUAXiBLkETwOjAuL/kf1q+4H5xfip9/L3JPfN9lf1SfS58gvxofCS8ZLz7vVj+Wv7I/1R/eP86vsb/N37Cf3D/vr/IAKxAgYE4QKsAqEBGgF0AW4BJQNRA/4E+ARFBf4EbwQVBTcEwAW3BdoFNgWKA9UC6gAiAJL/xP8IAGEAgwA6AO3/a/9u//3+9/6x/xcAPwHiAawB2QHMAHgA4ABXAHYATAD4/4H/zv5d/qL9Ff2F/PH7JPxp/Fb8Uvzq+6z7Ivsy+yv7gvsq/Fz8uPxd/Gr8WPwH/QL+Dv8NAKMA2wDnABABDQFJAXABVAGjAfIBEQLXAr0CWQMWA5MCigLFAYQBbAEHAbEAmQDo/zkA4QBiAd0BTgIFAmMBkQCk/1D/oP6K/uX+U//r/w8AYgCCAEcA//90/w7/kf5w/lT+fv6c/pf+0v7k/gj/TP9+/2j/iP/n/9D/8f8YAL3/uf/S/6X/j/+w/z//rf8IACcAbgA2AC0AtP8O//7+5f7K/vL/FQCIABcBuwDyAJoA9AD1AFYB2AGsARcC1QFtAS0BAwHFAKIAnwAhAJ//Tf/I/nv+UP55/kX+Y/6f/p3+W/9x/6z/4v/T/2b/ev9b/5H/7P9AAK4AtAC2ABoAKwB3/63/af+a/5r/vf8qAOP/eQDP/1gAGQA1AMsA9ACJAYIBkQGbAWwBLwFrAXMBhAHFAbUBwQGfAToB2ADTAOsAfACaAFAA7v/h/+3/EwAaADAAaAAuALIAGwHgAIABDQGNAMX/w/6o/bn8e/xY/MX8V/0R/rb+Tv9r/5X/Ff9V/lX+V/0v/R799fwO/Ub9tP27/Ur+If7x/av9j/1v/bv9jf4l/7b/SQB3AGEA4wAgAaMB2AK2AzoE0QTMBJQEcQSHBLoE9ASpBdYFKAY1BjkFwQTpA0gDkQITApIB5QC6ANf/f//x/lj+wv1j/cb8Kvzl+x37vvpY+g362Pkm+qr67fqw+1n8SPy5/A79av1a/jP/GwD0AOIBbwIIA6gD4wMZBFMEjgSXBIoEnQTCBM8EvASoBD0EtQMoA6QCUwLyAXEBCAGQAFMADgCL/2L/IP+n/lL+xv1Q/Zv87PsJ/KL7C/yE/EL8nPxZ/ED8bvxe/Nr89/wW/bz9+f17/v7+T//R/wUADgAWAPH/5/8rAE0AzwAmAaABqgHFAQ4C0AEjAgsCcAKfAtoC3wKcAtQCfgJcAlkC/QHhAakBKAEYAZ8AiABpACwAKQDs/7//H//f/qD+pv5P/jn+//1o/Yn9C/2M/ZD9iP0S/jH+pP7C/jr/Mv9F/zL/yP7i/rD+Jv9g/5f/9P/i/x8APQB3AMQA/QBSAVIB4AFXAmIC6ALAArECfwJNAh4C3AHqAdcBwAGrAaoBWQGRASkBBgHwAJwAlAAkAE4Ay/+6/4z/Zv9//z//bP8l/zL/Iv/f/sL+m/6M/tH+Fv87/3v/k/+E/1H/Xv8y//f+/P7p/iH/Rv9g/4v/p/+F/0L/J/8o/23/pv/f//z/EgBiAC4AOABxABgATgAtADsAdABGACEArv+y/6b/tf+3/+r/2//J/wAA+f9YAGEApwDhAPoAHwEQARoBRgEZAfQA5QCnAI4ATwBvAI8AngDAAKcAswB/AGcAIwCI/33/AP/M/rn+r/74/gf/Nf8e///+Lv9i/6j/3f8HAEsAYABwADgAHAASAOX/7P8BAB4AZQBuAMUA+QARAVwBEwEWAbQAgwBnAHoA2AAUASgB8wCwACcA+v+8/5v/kf+S/67/xv+U/0z/FP9N/5n/yP8ZAPf/0f+0/6D/lv91/7L/3v/D/ykABgATAAgAuP/f/8D/PwBbAEsAXAACAML/U/9b/2H/c/+b/6//if9U/xf/mP6X/q/+0f6D/oL+kv6X/vn+Yv/t/ywAbACVANcA8wC1AKAAewCQAMkAvAAlASwBeAGfAaEBzQHIAQ0CnwFiAf8A5QC1AHEASgDf/2f/6f6F/kT+aP6K/qz+vf7c/tP+uP51/iv+QP4Q/uj97v3I/eP9//1K/mX+vP74/jz/b/9//8X/u//6/ywAvAAWAWMBrQHSAdwB4wHRAUYBDwH5AAsBFgFYAakBwAGPAQ0BfAAYAN3/ef9g/1f/Nv8O/9j+i/5e/mv+m/7E/vb+Ef8W/1H/QP9l/4//qf/D/6z/vv/K/6j/p//Q/xQASQBNAH8AiQBwAEsAHAAJANn/s/+U/5X/7v8nAFUAawCDAJAAoADDAA4BLQEgAV8BUwGyAecBCgLtAbQBkwFOATgBAwHkAHwARwAUANn/hP9L/zf/DP8E/wH/Cf/2/uX+Kf88/13/hv96/0z/Bf8g/yn/XP9Q/1X/av9W/1D/Q/9v/47/1f8/AI4AjgB8AIcAjgBpAFMAbwBdAJYAzwABATYBWQGsAYcBbQFLASMBKAEzAdoAlgCHAHYAmQB3AGwAIwDZ/7v/lf9B/+H+7f78/v7+Mf9t/zj/7f7n/qn+W/4s/kn+V/5I/lX+Yf5o/mv+j/7I/iT/h/8GAFcAZQCcAK4A0wD7ABoBOAFTATYB/ADcANYA9ACxAHAAJgAWAAIAQwCUACwAFgAjAKP/av9T/0L/TP96//L/0/+y/6v/tv+K/1L/m//G/+X/JAD1/5H/tf+k/5v/i//Z/uv+p/6r/hH+R/45/6v/0wLtCaINywUXABn/oP2N+4f6Z/qc+R/6bfp+/LD+fQDYADf/d/2Y/Sr+pv4jAJYBnwEtAX0BowG7AA0AIQCUAIwAngA2ATEB3AEJAsICewKVATsB7wCXALoAywEUAt4B3QGJATkARP+H/zQA5f8fAM//YP/0/8f/AwBSAL4AgQASALf/X//z/zcACQHjASICTAHz/uH9S/4z/xsAugAVAY4Amf89/y0AjQCBAO//7/7i/jn/wP///5QAyAAMALr+EP7v/XX+5P+fAP8AwAB2AEX/Nf/+/zEA1QAdAR4BLwFLAfUAywBcAG8A1f9cAI8DJQdRBfgBuQCW/oT9ZPyd+2j6APtf+3f8vf5v/4L/z/32+7b7VfvW+7b92P59/+j/TgA0ACUALACh/1n/GwDXANMBuwJTBF4EmwP6ApMBLAHQAIIBHAJEAxIEXAQ8BNIC4gGWADsAYwBQALkAwgByAPT/z/8oADsAkgBZAM3/7P47/lv+0/6h//z/KwA2AO//Nf/y/sL+B/89/1P/EP+w/uX+Zf8hAPH/4v+E/+D+ff6M/j//cP9X/07/qP4r/j7+lP78/l//zv+3/7v/7v8YAGoAZwCVAHcAUQBeAGgAjABOAFcAlv+Z/9f/tf/y/7f/wP+G//b+ov6W/pT+zP47/4D/b/+A/1z/WP9+/9T/PAAUAO//2P/F/+T/hwAgAVoBCQFgABEAJQB5ABwBuQHzAeABhAEkAcoAwQAnAe8BUQIlArcBNgF7AMX/lv9J/2n/sv+SAOsA8QAsAQEBhADc/1n/Cv+Q/9P/QgCMAKEAjQCCAJwAiwA0AMj/tP+0/8P/CQDrAIYBYgGxACgAlf8+/43/IQADAU0BowD+/4T/Sv8c/yL/Kf9h/53/1P9bAKYA1QA2AKv//v6D/pL+Tv+zAD0BCwGbANL/IP9Z/wYAAgGfARQB1P+a/hH+Vv41/yAAUgDd/xf/y/7c/lH/uf97/9n+z/1r/d79Jv+PAAkBqwCT/1/+t/3U/eD+vP/v/+P/zP/H/7j/LgD6AHQBbwHZAGYAWgCIAKYAjgCPAFIAKQADACEAYACqAKUAHwB+/9v+cf70/fT9h/5m/63/iv+t/5n/v/+N/7T/RQBoAIEANQAFAPL/FwBrAOkA6AB6AHkAnACmAL0A5wDBAH0AMgATAPf/NwB4AFwASwAUACAALAB6ABEBPwEbAcsAAgCL/7//LgDIAAsBBwGoABMAi/9P/1H/1P9bAG0AYgBOABgAAQDi/9//AgCZ/yf/9f5p/+//YgDWAKsAOgCw/3j/2/9vABQBMgHsAHUA/P/6/zYAhQAMAT8B8QB+ABYAn/9b/7v//f/Z/0f/r/6M/rf+5v6V/yUATwD+/3X/Sv8E//b+BP/S/pj+dv6q/iD/of8WAEEATQAHAJz/kP8AAG8ABAGYAaABnAFNAeUAyADjAFQBYgFpAUUB3ACRAGIAjwDFABEBLAG/AOf/U/8M/wn/Zv+8/7v/Qv/Z/pX+hv7S/kj/pP+z/6r/cP9R/7b/MABnAFgAGQDT/8//CwB8AO8A5QDoANAAqgCuAKYArgBEAKf/Rv8L/w7/T//C/87/cf91/1r/Gf8k/2T/nv/I/+n/7v/m/6v/yv8fAH0ADgFHAV4BHwH+ALcAegCXAMkA9gDdAJUAMwDt/8j/vP93/7z/v/9t/0P/NP/v/rH+xP7h/rz+o/63/rL+n/5O/o3+nf6v/sz+9P4o/2X/of+j/8T/4P8eAEEAdwCGAG8AbQBiAJQAvQDcABUB3QC0AI8AlAC6AKEAnwCdANEA3wCbAIkAuwB1AEAARQAfAA4ADgAxAE0AcwCfAKUAkgCdAHoAQQAYADIAXgAAAOf/2/+w/4z/Qf9E/xf/A//+/iP/SP9A/1D/JP/o/n/+h/6L/q3+9f4W/xP/2/7l/uj+Cf8i/0z/n/++/7//4//6/yEAfAC8APcAGQEiARUBJgFGATcBOAE8AXEBTgH+AMsA4wAXAe8AzgCnALYAcgA2AFkAUQBAAD4AZQB5AH4AiQCXAKsAzwAsAUkBNgEwAUQBQwEoASYB8QDwAOkAwwC5AIoAaQAkALv/if+k/57/VP81/+X+ov5p/kn+kf6a/mf+Nf47/nr+1v4O/x//cf+w/9v/AgBWANkA9ADuAPkAKgE6ARoBIwEzAUYBRQFcAWMBPQEpARYBvgBiACIAGQADAMP/l/9b/xD/wP6x/n/+P/4n/ij+Hf4k/kv+aP6K/tP+Sf+c/9v/BgBRAHEAiwCxAMIAzwDkAAMB9QD3ABsBOQFMAW0BeAFpATkBKgH0AOAA2QC4ALEAZgBCACMANQA1AF8AdgBtAHkATgBnAF0AWQBZAGUAUQAXAPf/8f/Y/6L/Uf/m/pT+Sv4l/q79Yf0t/fv8xvx6/HL8e/yA/Hf8jvy0/Mr84Pwd/Uf9Q/0k/V39rf3j/f/9Kv5g/nT+k/6i/qz+uv7S/vn+B//4/gv/8v7X/sT+zv7t/g//O/9J/1//ef+w/+X/GQCGAOYADAESATUBhwG5ARMCgQKzAtoC2wL3AhYDTwO2Ax0EaAR2BKYExATdBCAFYAVoBRcF6ATVBNIE3gTUBN0EqQR4BDkEJQTnA40DYQMOA88CZwITAsoBlQE5AeAAnQBeAAkAuv+A/yX/Df/m/sP+uP6O/m7+VP4Z/gT+Bf76/df9hP0a/dn8p/x0/En8EPwM/BT8HPxK/FP8kvzm/Af9Df34/PL81/zi/MT8wfyK/Fb8UPw+/C/8/vsW/Bz8Mvx6/Kz82fwy/ZH91f04/rD+JP+X/9P/IABOAIwAvwDxAOwA3wDdAKkAzADlAPoAyQDaAOYA4ADsAOwAEwHpAOIApABiAFwAWABrAF8AiACDAJIAvwDXAPYA3AAAAREBAwEDAQcB/ADVALsAjwBeADUAEgDe/+H/6f/8/yoAOgASAAwALQBJAJQAtgAQAVEBwQFJAsMCRwOVA90DNwSPBMsEFgU4BX4FvQUTBhsGJQY0BgcG6QW0BZcFCwXMBJcEXAQJBMIDwANtAxADmAIrAuMB4QGyAUEB7wC5AH4AXQAFAIv/Nv/z/qn+DP6Q/fz8k/wl/Jz7+Po0+pb57PhP+Mj3Pvel9jr2uvVF9Rj1LfU/9U71YPWZ9ZX1yfXn9f31NfZ39u32LPe19x34t/hA+b35Mvq2+kz7yPtG/Nf8kf1W/gn/h/9PAA4BsAE6AssCWwPJAzIEngTBBLcE7gQDBfcE6wTrBM4EnQRmBCcE6gPHA50DZQM4AwQDwQKLAqMCkAJpAncCkALAAtwC6gIAAxQDWgORA6cD3QP3A+YDzAPHA6UDbgNBAxED3gKfAnoCXAImAvsBtAGpAa8BfwGQAaUB0QHvASMCdAJ8AoACpgKOAmgCVAI1AhYC4QHQAb4BewExAf0AzwCQAF0AGgCz/2j/J//v/pj+jf6W/mv+N/5J/ob+Zv5y/on+lf5k/jr+H/7W/cr9yP3k/cj9nv2a/Xb9iv18/XP9pf3L/dr93f3r/Tz+SP57/sv+6v4e/zD/iP9o/4D/qP+8/+z//P8fAOL/1P/X/9H/rv+q/8L/0P/7/xcACwDT/9r/8v8TAAgACQA1ACAAIgD+/+j/wv+e/4v/a/9g/13/pP+6/8b/7P87AEUAPwBqAIIAngCFAKgAkQBiAJ4A4QAFARYBFgEpARYBAgEZAQUBBAENAdsAtACjAI8AlQCJAIkAhgBuAGoAZABlAIoAxAD6AEoBbQGXAbABiwGOAXoBjgF8AVIBQgEHAc4AoQB1AFIANgDy/7z/tP+g/5L/cP9p/1//Rf9V/2X/bv9g/6L/v//N/+f/7v/R/7z/4P/N/7L/hv+4/7f/Zf9z/4n/iv9m/zH/Ev/P/rv+s/7F/uD++/4a/xX/G/8e/x//B/82/2X/qv/R/+T/+v8QAE4AXQCCAIkAagBpAGoAagBcAGQAeABjAGcAZgBZAB4ABwDW/77/mP9e/1j/Ef8O/w//LP82/xH//f4K/zD/N/9P/33/mP96/3//nP+r//j/KAA7ADUANQAaANP/x/+3/73/x//D/8H/sv/a/x8AKQA2AFgAoADFAMIA7gALASgBLQFcAXMBYwE5Af4A3gC6AKEAkgB4AGgAcQBoADsAFAAFAM7/xP+L/1j/K/8X/yj/PP9Y/13/gv+J/4L/af+K/5P/j/9s/1P/D/+l/rD+tP6r/sX+Lf9z/2L/iP/r/zYAgwCnANQA7wAIAUEBcQGEAacB8AELAkACYwKeArcCigJyAlACBAK7AW0BBgGyAFIAGgALAMD/f/9Z/xr/9P7p/gD/8f7l/vP+5/7X/uT+rv6H/m3+QP5B/hr+Cf4D/in+MP41/lT+gP6P/qL+yf7i/jH/Sv+I/6T/pv8AABgAKwBUAJEAxADZAB0BSgFhAV8BVQFlAZABWQEZAfcAswCPAEsAUwBnAHkAlQB7AJEAowC7ANUAxACyAKcAlABkACsA8P/K/6X/m/+C/3//ff9s/2P/Nv8q/yD/I/8M/87+mv60/r7+yP7L/gj/Xv+V/8b/9/9cAHAAlgCrAKsAlwCRAJ4AowCPAGgAbQBeAEgANQAXABcA6//c/9b/wf+z/2P/Xv9V/0f/Qv9u/5P/rf/C/9f/8/8CADUAdQC6AKoAjwCOAHcASwAhANj/rf+d/4X/d/9t/4f/zP/0/yUAYAC6AAEBDgEuAS0BMQEnAQoBCQEDAcYAsQCLAH0AYQA7AEwAQgBMAFEARABmAJUArADEAJsAvwDfAO4A6QDeACgBYwGeAdIB+wEUAj8CQwJRAk8CKAIaAt4BsAFqASYB/wDVAJUAYwBHAAoAvP93/1f/9v6l/ib+0v12/fj8lvwW/Pr7k/tD++n6ufqR+kX6MfoL+hb6F/pS+pT65PpE+4P7xfsj/IH8yfwo/Yj95/1H/uX+Zf+j//z/UwC1ACIBbAG2AQgCZAKmAgQDdwPbAzAEWAS/BBoFRwViBWsFcgU9BTsFJAXJBJoETgQjBMkDTAPVAmQCFQLJAWYBJgEHAdYAvACDAFcAQwBWAE4APwAVABEA+f/v/xYAEAAOAAUANAAhAO//wP9u/07/Xf9b/z///f76/tn+mP6Z/oX+n/62/tT+5f4A/yv/Qv9R/17/Wv8+/3P/if+q/6//lv++/8j/wf+d/4T/Z/89/yH/Ff/j/pj+f/5w/lz+T/4z/jn+WP5g/n7+ov7G/uH+LP8t/zH/Tf8I/x//BP/e/sz+pv6C/mj+f/6A/on+n/7V/uz+F/9b/4H/of/V/ysAZAC5AB0BZgGSAbcB3gEGAkgCVgJtApYCkQKVApkChgJtAlUCJwLhAbMBkgGEAXMBRQEpAQQB5QDLAKwAjwBkAFQABgDF/6n/cf8+/xD/CP/n/tX+yP68/rn+zP7B/rb+x/67/rr+lP6W/qP+q/7r/gb/Hv9X/3P/zv8cAE8AowDfAEYBtgHiASwCXgJLAm8CdwJbAkkCNQL4AZMBZQFUAQcBwAB+ACEAq/9a/zX/9/6//q/+o/5g/kf+Xv5W/lT+bf5t/nf+i/6z/tz+5f73/h7/KP8v/0L/PP9E/zH/H/8Y/zn/gv9n/1b/cf96/2b/Q/9f/1r/T/9S/3r/rv/L/wAACQAOACkAOwBDAFcAVQBgAD4AFAASAPj/3P/H/6H/XP8h/+7+uv6o/pL+Sv4r/iH+F/4a/jj+T/56/pr+vP4D/wz/Iv83/0v/Uv9P/2//e/+v/+P/MgCFAJMAugDSAOUA+wAIAQgBOQFFAUsBaAFdAWYBWQE8AUEBOwE6AT8BLQEXAQ4BAgHgAOwA2gDJAKoArACDAFEAJwAGAAMA0//Z/9b/2v/f/wwASwBvAJUAygD3ADIBYAGRAa8B4gEhAh8CIwJQAmcCWwJrAoECogKpArcCnQKUApgCYAI3AiAC7gGjAUUB4gC0AH0AAgCw/4//bv9l/zj/Hv/9/tv+zP63/qT+Z/46/iH++f3W/bD9gP16/YP9jP2W/Yz9df2a/af9rv3M/dn9A/4Y/hj+Lv5H/iv+Jv4z/m7+f/6i/tb+9P4+/1P/cP+P/8v/5f/7/xUAUwBfAD8AXABWAC8ACQDs/73/m/9j/0r/Rv8v/wf//P73/g3/D/8C/wr/Kv9U/2f/Zf9U/1//Uf9t/3r/lf+r/67/xP/C/9z/9//v/9n/0P/6//r/AgD9/wcALQBMAKkA2gD9ACEBTAF4AcEB8QEBAigCUwJpAo8CowKMAooCmwKaApgCgAJVAlICUgJLAjcCOwJIAm0CgwKIApMCkQKVApcCjwJQAi4CFALTAaIBQgH2ANUAsABkABgA0v+I/1H/I//3/sT+r/60/tX+zf7O/tr+zP7X/uv+1f7F/rb+y/7I/sD+s/6c/pv+jf60/qX+sf6u/tD+3P7b/vP+zP7C/q3+q/6J/lr+Q/5Q/j3+Mf4u/jr+YP6L/sf+9f76/gH/Qv9o/5P/kf+L/5b/yv/U/7j/rf+t/73/v//T/8z/AAAPADkATQBaAKIAugDdAN0A7wDmAPYABAH1AMsAiABkADsACQDK/3H/N/8k/yH/A/+O/on+f/5s/nf+cv6F/pz+1v4U/1z/bf+e/8H/2v8kACkAYgB3AHoAtwDQAAkBJQEbARgBGAHyAOcAtQB8AEoA///6//T/2v/S/9b/3//4/xoAEQAOAPz/4P/4/9j/0f/E/9D/yf/p/xYAIQAnABcAPwArACwAOABIAEwAPQBKAFMAWABdAFkAUgBTAFAAYgBQAEkAWgA9ABgAEAD2/67/p/+w/5z/gP83/xr/F/80/2f/dP9+/6T/8P8gAG4AxADjAPkAOQGHAX8BcAEtASABOgHaAJ4AiwBnAEoANQDr/8P/xP+s/7n/xf++/5f/hP+C/0v/Hv8M/y7/Z/+A/4D/oP/S/+f/HgBJAE0AZgBkAEoAUQBxAGsASQBDAGYAcwBjAGkAbwB8AHYAegCqANAAvQDvACcBDwEGARMB/wDNAJ0AiwCRAI0AmAB7AFYAWQBtAJQArQDUAAkBLQE1ASIBLQEfASUBNAEbAfMA7AD5ANUAvgCnAJkApQBtAAAAsP9k/y7/Ff/p/q3+SP4W/gH+vf2l/Zf9hP2W/bH9z/30/QD+FP5M/m/+iP7F/tv++P49/4L/tf+w/6f/lf/K/wkACAAgABEAVwCiANAA3gDdAP4ACQFhAYUBnwGOAV8BLQHzABsB3ACdAIAAOQAmAPP/uP9j/yD/Bv/8/sr+dv5C/lP+Wf4P/uL9hf0y/TP9Ef3k/MH8nvyW/ID8e/xr/HX8lPyV/M38Bv0T/VP9qv3C/fL9RP6F/qb+xP4R/2D/vv8dAFMAtgAqAZgB7AFGAqwC9gJhA6EDwgP0AzMEYgSVBLMEzwThBPEE3ATRBMgEkQSDBHAEaAQ3BAsEsQNVAwsD3QKMAhACowFMATAB3QBwAOf/tP+U/z//Fv/L/of+d/6a/rL+oP6k/sH+1P7i/vr+6f7n/u7+Ev8K/8n+4P78/hv/C/8d/1//bP9N/x7/OP8j//P+5/7U/tL+r/6c/on+RP76/er9/P0a/j3+Pf5I/mX+sf7b/v7+Kv8+/1X/jv+6/+P/7f8GAFMAawBoAFsAXwA3ADcAMwAeAOn/3v++/3j/kv+c/5r/X/9E/wb/B//s/r7+0P7e/gD/z/7a/uf+B/8D/w3/LP85/2r/gv+j/7P/0f8BADkARgBTAFkAigCoAKEAxADIAJ8AhwB3AGYASAAZACYAIgAHAPP/6/+//8n/6P/p/9H/tv/s//z/JwBEAFQAeACsAMIA4wANAScBOwFKAXIBigGRAYUBcAFQAYkBkgGSAXUBXQFoAXcBaAFsAXwBRAEqAQIB/wDJAKYAaQAKALj/d/9O/y7/Fv/y/vr+Ef84/1j/fv+Z/9v/AQACADoAcgCYAOAAUQF/AYkBxgECAtsB2AHkAc8BqgGBAUcBFgHmAKQAVwACAL//VP/0/n3+Tv7//eb9yv2c/Y/9bf2C/Wb9ZP2A/Wz9Zv2p/cL99P0X/kX+h/6k/un+Iv9S/3T/jv+c/6D/x//t/wwAHAAJAA8A9f8DAPj/8P8BAMj/5v/X/8z/3//J/6z/vf+W/zv/C//o/uX+8P7i/un++v7//j7/WP/G/+r/EQBhAJgA7wABARYBRAFMAVIBZAFsAZQB\" type=\"audio/wav\" />\n",
       "                    Your browser does not support the audio element.\n",
       "                </audio>\n",
       "              "
      ],
      "text/plain": [
       "<IPython.lib.display.Audio object>"
      ]
     },
     "execution_count": 10,
     "metadata": {},
     "output_type": "execute_result"
    }
   ],
   "source": [
    "import IPython.display as ipd\n",
    "import random\n",
    "\n",
    "# 데이터 선택 (랜덤하게 선택하고 있으니, 여러번 실행해 보세요)\n",
    "rand = random.randint(0, len(speech_data[\"wav_vals\"]))\n",
    "print(\"rand num : \", rand)\n",
    "\n",
    "sr = 8000 # 1초동안 재생되는 샘플의 갯수\n",
    "data = speech_data[\"wav_vals\"][rand]\n",
    "print(\"Wave data shape : \", data.shape)\n",
    "print(\"label : \", speech_data[\"label_vals\"][rand])\n",
    "\n",
    "ipd.Audio(data, rate=sr)"
   ]
  },
  {
   "cell_type": "markdown",
   "metadata": {},
   "source": [
    "## Train/Test 데이터셋 구성하기\n",
    "\n",
    "### Label data 처리\n",
    "\n",
    "현재 단어의 정답은 Text 형태로 이뤄져있습니다. 학습을 위해서는 Text 데이터를 학습가능한 형태로 만들어줘야 합니다.\n",
    "\n",
    "아래는 구분해야할 label 목록입니다.\n",
    "\n",
    "`['yes', 'no', 'up', 'down', 'left', 'right', 'on', 'off', 'stop', 'go' ]`\n",
    "\n",
    "이외 데이터들은 'unknown', 'silence'로 분류되어 있습니다.\n",
    "\n"
   ]
  },
  {
   "cell_type": "code",
   "execution_count": 7,
   "metadata": {},
   "outputs": [
    {
     "name": "stdout",
     "output_type": "stream",
     "text": [
      "LABEL :  ['yes', 'no', 'up', 'down', 'left', 'right', 'on', 'off', 'stop', 'go', 'unknown', 'silence']\n",
      "Indexed LABEL :  {'yes': 0, 'no': 1, 'up': 2, 'down': 3, 'left': 4, 'right': 5, 'on': 6, 'off': 7, 'stop': 8, 'go': 9, 'unknown': 10, 'silence': 11}\n"
     ]
    }
   ],
   "source": [
    "target_list = ['yes', 'no', 'up', 'down', 'left', 'right', 'on', 'off', 'stop', 'go']\n",
    "\n",
    "label_value = target_list\n",
    "label_value.append('unknown')\n",
    "label_value.append('silence')\n",
    "\n",
    "print('LABEL : ', label_value)\n",
    "\n",
    "new_label_value = dict()\n",
    "for i, l in enumerate(label_value):\n",
    "    new_label_value[l] = i\n",
    "label_value = new_label_value\n",
    "\n",
    "print('Indexed LABEL : ', new_label_value)"
   ]
  },
  {
   "cell_type": "markdown",
   "metadata": {},
   "source": [
    "Text로 이루어진 라벨 데이터를 학습에 사용하기 위해서 index 형태로 바꿔주는 작업을 하였습니다.\n",
    "\n",
    "int로 이뤄진 index 작업을 통해서 Label data를 더 쉽게 사용할 수 있습니다."
   ]
  },
  {
   "cell_type": "code",
   "execution_count": 8,
   "metadata": {},
   "outputs": [
    {
     "data": {
      "text/plain": [
       "(array([ 3,  3,  3, ..., 11, 11, 11]), 50620)"
      ]
     },
     "execution_count": 8,
     "metadata": {},
     "output_type": "execute_result"
    }
   ],
   "source": [
    "temp = []\n",
    "for v in speech_data[\"label_vals\"]:\n",
    "    temp.append(label_value[v[0]])\n",
    "label_data = np.array(temp)\n",
    "\n",
    "label_data, len(label_data)"
   ]
  },
  {
   "cell_type": "markdown",
   "metadata": {},
   "source": [
    "### 학습을 위한 데이터 분리\n",
    "\n",
    "sklearn의 train_test_split 함수를 이용해 train data와 test data를 분리하겠습니다.\n",
    "\n",
    "test_size의 인자를 조절해주면, 설정해 준 값만큼 Test dataset의 비율을 조정할 수 있습니다.\n",
    "\n"
   ]
  },
  {
   "cell_type": "code",
   "execution_count": 9,
   "metadata": {},
   "outputs": [
    {
     "name": "stdout",
     "output_type": "stream",
     "text": [
      "[[-1.0628689e-03 -4.2822822e-03 -4.7846292e-03 ... -1.3108266e-03\n",
      "   2.8041902e-03  4.3115155e-03]\n",
      " [ 1.1414427e-03 -2.0870534e-03 -1.2160629e-02 ... -8.2742954e-03\n",
      "  -8.2303388e-03 -1.1085301e-02]\n",
      " [ 4.0625883e-03  5.7113445e-03  1.2412195e-03 ... -2.4805707e-04\n",
      "  -8.2157692e-04 -4.1706953e-03]\n",
      " ...\n",
      " [ 2.5876358e-04  5.0972780e-04  7.7731698e-04 ...  3.6387829e-04\n",
      "   5.7647179e-04  7.8417402e-04]\n",
      " [ 3.0576908e-03  4.2898301e-03 -1.1671798e-04 ...  2.9101660e-03\n",
      "   2.3611775e-03 -1.6193584e-03]\n",
      " [ 4.9027921e-07  7.6526980e-05  2.0016351e-04 ...  4.3533355e-04\n",
      "   8.6522901e-05  1.1504416e-04]]\n",
      "✅\n"
     ]
    }
   ],
   "source": [
    "from sklearn.model_selection import train_test_split\n",
    "\n",
    "sr = 8000\n",
    "train_wav, test_wav, train_label, test_label = train_test_split(speech_data[\"wav_vals\"], \n",
    "                                                                label_data, \n",
    "                                                                test_size=0.1,\n",
    "                                                                stratify=label_data,\n",
    "                                                                shuffle=True)\n",
    "print(train_wav)\n",
    "\n",
    "train_wav = train_wav.reshape([-1, sr, 1]) # add channel for CNN\n",
    "test_wav = test_wav.reshape([-1, sr, 1])\n",
    "print(\"✅\")"
   ]
  },
  {
   "cell_type": "code",
   "execution_count": 10,
   "metadata": {},
   "outputs": [
    {
     "name": "stdout",
     "output_type": "stream",
     "text": [
      "(array([ 0,  1,  2,  3,  4,  5,  6,  7,  8,  9, 10, 11]), array([3883, 3776, 3712, 3874, 3897, 3879, 3789, 3857, 3913, 3782, 3600,\n",
      "       3596]))\n",
      "(array([ 0,  1,  2,  3,  4,  5,  6,  7,  8,  9, 10, 11]), array([431, 420, 412, 430, 433, 431, 421, 429, 435, 420, 400, 400]))\n"
     ]
    }
   ],
   "source": [
    "# 비율 확인하기\n",
    "print(np.unique(train_label, return_counts=True))\n",
    "print(np.unique(test_label, return_counts=True))"
   ]
  },
  {
   "cell_type": "code",
   "execution_count": 11,
   "metadata": {},
   "outputs": [
    {
     "name": "stdout",
     "output_type": "stream",
     "text": [
      "train data :  (45558, 8000, 1)\n",
      "train labels :  (45558,)\n",
      "test data :  (5062, 8000, 1)\n",
      "test labels :  (5062,)\n",
      "✅\n"
     ]
    }
   ],
   "source": [
    "print(\"train data : \", train_wav.shape)\n",
    "print(\"train labels : \", train_label.shape)\n",
    "print(\"test data : \", test_wav.shape)\n",
    "print(\"test labels : \", test_label.shape)\n",
    "print(\"✅\")"
   ]
  },
  {
   "cell_type": "markdown",
   "metadata": {},
   "source": [
    "###  Hyper-parameters setting\n",
    "\n",
    "학습을 위한 하이퍼파라미터를 설정해줍니다.모델 체크포인트 저장을 위한 체크포인트의 경로를 설정해줍니다.\n",
    "\n",
    "후에 모델 체크포인트 Callback 함수를 설정하거나, 모델을 불러올때 사용합니다."
   ]
  },
  {
   "cell_type": "code",
   "execution_count": 12,
   "metadata": {},
   "outputs": [
    {
     "data": {
      "text/plain": [
       "'/home/ssac28/aiffel/speech_recognition/models/wav'"
      ]
     },
     "execution_count": 12,
     "metadata": {},
     "output_type": "execute_result"
    }
   ],
   "source": [
    "batch_size = 32\n",
    "max_epochs = 10\n",
    "\n",
    "# the save point\n",
    "checkpoint_dir = os.getenv('HOME')+'/aiffel/speech_recognition/models/wav'\n",
    "\n",
    "checkpoint_dir"
   ]
  },
  {
   "cell_type": "markdown",
   "metadata": {},
   "source": [
    "### Data setting\n",
    "\n",
    "`tf.data.Dataset`을 이용해서 데이터셋을 구성하겠습니다. Tensorflow에 포함된 이 데이터셋 관리 패키지는 데이터셋 전처리, 배치처리 등을 쉽게 할 수 있도록 해 줍니다. 자주 사용하게 되니 사용법을 잘 익혀 둡시다.\n",
    "\n",
    "`tf.data.Dataset.from_tensor_slices` 함수에 return 받길 원하는 데이터를 튜플 (data, label) 형태로 넣어서 사용할 수 있습니다.\n",
    "\n",
    "`map` 함수는 dataset이 데이터를 불러올때마다 동작시킬 데이터 전처리 함수를 매핑해 주는 역할을 합니다. 첫번째 `map` 함수는 `from_tensor_slice` 에 입력한 튜플 형태로 데이터를 받으며 return 값으로 어떤 데이터를 반환할지 결정합니다.\n",
    "`map` 함수는 중첩해서 사용이 가능합니다.\n",
    "\n",
    "아래와 같이, `map` 함수에 넘겨줄 데이터 전처리 함수를 작성해 봅시다."
   ]
  },
  {
   "cell_type": "code",
   "execution_count": 13,
   "metadata": {},
   "outputs": [
    {
     "name": "stdout",
     "output_type": "stream",
     "text": [
      "✅\n"
     ]
    }
   ],
   "source": [
    "def one_hot_label(wav, label):\n",
    "    label = tf.one_hot(label, depth=12)\n",
    "    return wav, label\n",
    "print(\"✅\")"
   ]
  },
  {
   "cell_type": "code",
   "execution_count": 14,
   "metadata": {},
   "outputs": [
    {
     "name": "stdout",
     "output_type": "stream",
     "text": [
      "<BatchDataset shapes: ((None, 8000, 1), (None, 12)), types: (tf.float32, tf.float32)>\n",
      "<BatchDataset shapes: ((None, 8000, 1), (None, 12)), types: (tf.float32, tf.float32)>\n",
      "✅\n"
     ]
    }
   ],
   "source": [
    "import tensorflow as tf\n",
    "\n",
    "# for train\n",
    "train_dataset = tf.data.Dataset.from_tensor_slices((train_wav, train_label))\n",
    "train_dataset = train_dataset.map(one_hot_label)\n",
    "train_dataset = train_dataset.repeat().batch(batch_size=batch_size)\n",
    "print(train_dataset)\n",
    "\n",
    "# for test\n",
    "test_dataset = tf.data.Dataset.from_tensor_slices((test_wav, test_label))\n",
    "test_dataset = test_dataset.map(one_hot_label)\n",
    "test_dataset = test_dataset.batch(batch_size=batch_size)\n",
    "print(test_dataset)\n",
    "print(\"✅\")"
   ]
  },
  {
   "cell_type": "markdown",
   "metadata": {},
   "source": [
    "## Wave classification 모델 구현\n",
    "\n",
    "### Model\n",
    "\n",
    "Audio 데이터는 1차원 데이터이기 때문에 데이터 형식에 맞도록 모델을 구성해주어야 합니다.\n",
    "\n",
    "`Conv1D` layer를 이용해서 모델을 구성해보겠습니다.\n",
    "\n",
    "Conv, batch norm, dropout, dense layer 등을 이용해 모델을 구성해보도록 하죠."
   ]
  },
  {
   "cell_type": "code",
   "execution_count": 15,
   "metadata": {},
   "outputs": [
    {
     "name": "stdout",
     "output_type": "stream",
     "text": [
      "Model: \"model\"\n",
      "_________________________________________________________________\n",
      "Layer (type)                 Output Shape              Param #   \n",
      "=================================================================\n",
      "input_1 (InputLayer)         [(None, 8000, 1)]         0         \n",
      "_________________________________________________________________\n",
      "conv1d (Conv1D)              (None, 8000, 32)          320       \n",
      "_________________________________________________________________\n",
      "conv1d_1 (Conv1D)            (None, 8000, 32)          9248      \n",
      "_________________________________________________________________\n",
      "max_pooling1d (MaxPooling1D) (None, 4000, 32)          0         \n",
      "_________________________________________________________________\n",
      "conv1d_2 (Conv1D)            (None, 4000, 64)          18496     \n",
      "_________________________________________________________________\n",
      "conv1d_3 (Conv1D)            (None, 4000, 64)          36928     \n",
      "_________________________________________________________________\n",
      "max_pooling1d_1 (MaxPooling1 (None, 2000, 64)          0         \n",
      "_________________________________________________________________\n",
      "conv1d_4 (Conv1D)            (None, 2000, 128)         73856     \n",
      "_________________________________________________________________\n",
      "conv1d_5 (Conv1D)            (None, 2000, 128)         147584    \n",
      "_________________________________________________________________\n",
      "conv1d_6 (Conv1D)            (None, 2000, 128)         147584    \n",
      "_________________________________________________________________\n",
      "max_pooling1d_2 (MaxPooling1 (None, 1000, 128)         0         \n",
      "_________________________________________________________________\n",
      "conv1d_7 (Conv1D)            (None, 1000, 256)         295168    \n",
      "_________________________________________________________________\n",
      "conv1d_8 (Conv1D)            (None, 1000, 256)         590080    \n",
      "_________________________________________________________________\n",
      "conv1d_9 (Conv1D)            (None, 1000, 256)         590080    \n",
      "_________________________________________________________________\n",
      "max_pooling1d_3 (MaxPooling1 (None, 500, 256)          0         \n",
      "_________________________________________________________________\n",
      "dropout (Dropout)            (None, 500, 256)          0         \n",
      "_________________________________________________________________\n",
      "flatten (Flatten)            (None, 128000)            0         \n",
      "_________________________________________________________________\n",
      "dense (Dense)                (None, 256)               32768256  \n",
      "_________________________________________________________________\n",
      "batch_normalization (BatchNo (None, 256)               1024      \n",
      "_________________________________________________________________\n",
      "activation (Activation)      (None, 256)               0         \n",
      "_________________________________________________________________\n",
      "dense_1 (Dense)              (None, 12)                3084      \n",
      "=================================================================\n",
      "Total params: 34,681,708\n",
      "Trainable params: 34,681,196\n",
      "Non-trainable params: 512\n",
      "_________________________________________________________________\n"
     ]
    }
   ],
   "source": [
    "from tensorflow.keras import layers\n",
    "\n",
    "input_tensor = layers.Input(shape=(sr, 1))\n",
    "\n",
    "x = layers.Conv1D(32, 9, padding='same', activation='relu')(input_tensor)\n",
    "x = layers.Conv1D(32, 9, padding='same', activation='relu')(x)\n",
    "x = layers.MaxPool1D()(x)\n",
    "\n",
    "x = layers.Conv1D(64, 9, padding='same', activation='relu')(x)\n",
    "x = layers.Conv1D(64, 9, padding='same', activation='relu')(x)\n",
    "x = layers.MaxPool1D()(x)\n",
    "\n",
    "x = layers.Conv1D(128, 9, padding='same', activation='relu')(x)\n",
    "x = layers.Conv1D(128, 9, padding='same', activation='relu')(x)\n",
    "x = layers.Conv1D(128, 9, padding='same', activation='relu')(x)\n",
    "x = layers.MaxPool1D()(x)\n",
    "\n",
    "x = layers.Conv1D(256, 9, padding='same', activation='relu')(x)\n",
    "x = layers.Conv1D(256, 9, padding='same', activation='relu')(x)\n",
    "x = layers.Conv1D(256, 9, padding='same', activation='relu')(x)\n",
    "x = layers.MaxPool1D()(x)\n",
    "x = layers.Dropout(0.3)(x)\n",
    "\n",
    "x = layers.Flatten()(x)\n",
    "x = layers.Dense(256)(x)\n",
    "x = layers.BatchNormalization()(x)\n",
    "x = layers.Activation('relu')(x)\n",
    "\n",
    "output_tensor = layers.Dense(12)(x)\n",
    "\n",
    "model_wav = tf.keras.Model(input_tensor, output_tensor)\n",
    "\n",
    "model_wav.summary()"
   ]
  },
  {
   "cell_type": "markdown",
   "metadata": {},
   "source": [
    "### Loss\n",
    "\n",
    "현재 라벨이 될 수 있는 12개의 단어 class를 가지고 있습니다.\n",
    "\n",
    "해당 class를 구분하기 위해서는 multi-class classification이 필요하며, 이를 수행하기 위한 Loss로 Categorical Cross-Entropy loss를 사용하겠습니다."
   ]
  },
  {
   "cell_type": "code",
   "execution_count": 16,
   "metadata": {},
   "outputs": [
    {
     "name": "stdout",
     "output_type": "stream",
     "text": [
      "✅\n"
     ]
    }
   ],
   "source": [
    "optimizer=tf.keras.optimizers.Adam(1e-4)\n",
    "model_wav.compile(loss=tf.keras.losses.CategoricalCrossentropy(from_logits=True),\n",
    "             optimizer=optimizer,\n",
    "             metrics=['accuracy'])\n",
    "print(\"✅\")"
   ]
  },
  {
   "cell_type": "markdown",
   "metadata": {},
   "source": [
    "### Training\n",
    "\n",
    "#### callback\n",
    "\n",
    "+ model.fit 함수를 이용할 때, callback 함수를 이용해서 학습 중간 중간 원하는 동작을 하도록 설정할 수 있습니다.\n",
    "+ 모델을 재사용하기위해서 모델 가중치를 저장하는 callback 함수를 추가해보겠습니다.\n",
    "\n",
    "`Model Checkpoint callback`은 모델을 학습을 진행하며, `fit` 함수내 다양한 인자를 지정해 모니터하며 동작하게 설정할 수 있습니다.\n",
    "현재 모델은 validation loss를 모니터하며, loss가 낮아지면 모델 파라미터를 저장하도록 구성되어 있습니다."
   ]
  },
  {
   "cell_type": "code",
   "execution_count": 17,
   "metadata": {},
   "outputs": [
    {
     "name": "stdout",
     "output_type": "stream",
     "text": [
      "✅\n"
     ]
    }
   ],
   "source": [
    "cp_callback = tf.keras.callbacks.ModelCheckpoint(checkpoint_dir,\n",
    "                                                 save_weights_only=True,\n",
    "                                                 monitor='val_loss',\n",
    "                                                 mode='auto',\n",
    "                                                 save_best_only=True,\n",
    "                                                 verbose=1)\n",
    "print(\"✅\")"
   ]
  },
  {
   "cell_type": "code",
   "execution_count": 18,
   "metadata": {},
   "outputs": [
    {
     "name": "stdout",
     "output_type": "stream",
     "text": [
      "Epoch 1/10\n",
      "1423/1423 [==============================] - ETA: 0s - loss: 1.3746 - accuracy: 0.5438\n",
      "Epoch 00001: val_loss improved from inf to 0.94449, saving model to /home/ssac28/aiffel/speech_recognition/models/wav\n",
      "1423/1423 [==============================] - 145s 102ms/step - loss: 1.3746 - accuracy: 0.5438 - val_loss: 0.9445 - val_accuracy: 0.6756\n",
      "Epoch 2/10\n",
      "1423/1423 [==============================] - ETA: 0s - loss: 0.8069 - accuracy: 0.7509 ETA: 0s - loss: 0.8071 \n",
      "Epoch 00002: val_loss improved from 0.94449 to 0.65022, saving model to /home/ssac28/aiffel/speech_recognition/models/wav\n",
      "1423/1423 [==============================] - 146s 103ms/step - loss: 0.8069 - accuracy: 0.7509 - val_loss: 0.6502 - val_accuracy: 0.7888\n",
      "Epoch 3/10\n",
      "1423/1423 [==============================] - ETA: 0s - loss: 0.5624 - accuracy: 0.8297\n",
      "Epoch 00003: val_loss improved from 0.65022 to 0.51598, saving model to /home/ssac28/aiffel/speech_recognition/models/wav\n",
      "1423/1423 [==============================] - 144s 101ms/step - loss: 0.5624 - accuracy: 0.8297 - val_loss: 0.5160 - val_accuracy: 0.8358\n",
      "Epoch 4/10\n",
      "1423/1423 [==============================] - ETA: 0s - loss: 0.3973 - accuracy: 0.8846\n",
      "Epoch 00004: val_loss improved from 0.51598 to 0.44308, saving model to /home/ssac28/aiffel/speech_recognition/models/wav\n",
      "1423/1423 [==============================] - 145s 102ms/step - loss: 0.3973 - accuracy: 0.8846 - val_loss: 0.4431 - val_accuracy: 0.8505\n",
      "Epoch 5/10\n",
      "1423/1423 [==============================] - ETA: 0s - loss: 0.2774 - accuracy: 0.9242\n",
      "Epoch 00005: val_loss improved from 0.44308 to 0.38790, saving model to /home/ssac28/aiffel/speech_recognition/models/wav\n",
      "1423/1423 [==============================] - 144s 101ms/step - loss: 0.2774 - accuracy: 0.9242 - val_loss: 0.3879 - val_accuracy: 0.8677\n",
      "Epoch 6/10\n",
      "1423/1423 [==============================] - ETA: 0s - loss: 0.1929 - accuracy: 0.9512\n",
      "Epoch 00006: val_loss improved from 0.38790 to 0.38430, saving model to /home/ssac28/aiffel/speech_recognition/models/wav\n",
      "1423/1423 [==============================] - 147s 103ms/step - loss: 0.1929 - accuracy: 0.9512 - val_loss: 0.3843 - val_accuracy: 0.8671\n",
      "Epoch 7/10\n",
      "1423/1423 [==============================] - ETA: 0s - loss: 0.1403 - accuracy: 0.9659\n",
      "Epoch 00007: val_loss did not improve from 0.38430\n",
      "1423/1423 [==============================] - 162s 114ms/step - loss: 0.1403 - accuracy: 0.9659 - val_loss: 0.3863 - val_accuracy: 0.8794\n",
      "Epoch 8/10\n",
      "1423/1423 [==============================] - ETA: 0s - loss: 0.1078 - accuracy: 0.9737\n",
      "Epoch 00008: val_loss improved from 0.38430 to 0.34564, saving model to /home/ssac28/aiffel/speech_recognition/models/wav\n",
      "1423/1423 [==============================] - 156s 110ms/step - loss: 0.1078 - accuracy: 0.9737 - val_loss: 0.3456 - val_accuracy: 0.8904\n",
      "Epoch 9/10\n",
      "1423/1423 [==============================] - ETA: 0s - loss: 0.0823 - accuracy: 0.9808\n",
      "Epoch 00009: val_loss improved from 0.34564 to 0.29365, saving model to /home/ssac28/aiffel/speech_recognition/models/wav\n",
      "1423/1423 [==============================] - 158s 111ms/step - loss: 0.0823 - accuracy: 0.9808 - val_loss: 0.2936 - val_accuracy: 0.9070\n",
      "Epoch 10/10\n",
      "1423/1423 [==============================] - ETA: 0s - loss: 0.0727 - accuracy: 0.9816\n",
      "Epoch 00010: val_loss improved from 0.29365 to 0.28580, saving model to /home/ssac28/aiffel/speech_recognition/models/wav\n",
      "1423/1423 [==============================] - 161s 113ms/step - loss: 0.0727 - accuracy: 0.9816 - val_loss: 0.2858 - val_accuracy: 0.9106\n",
      "✅\n"
     ]
    }
   ],
   "source": [
    "#30분 내외 소요 (메모리 사용량에 주의해 주세요.)\n",
    "history_wav = model_wav.fit(train_dataset, epochs=max_epochs,\n",
    "                    steps_per_epoch=len(train_wav) // batch_size,\n",
    "                    validation_data=test_dataset,\n",
    "                    validation_steps=len(test_wav) // batch_size,\n",
    "                    callbacks=[cp_callback]\n",
    "                    )\n",
    "print(\"✅\")"
   ]
  },
  {
   "cell_type": "markdown",
   "metadata": {},
   "source": [
    "### 학습결과 Plot\n",
    "\n",
    "model.fit 함수는 학습 동안의 결과를 return해줍니다.\n",
    "\n",
    "return 값을 기반으로 loss와 accuracy를 그래프로 표현하겠습니다.\n",
    "\n",
    "fit 함수에서 전달 받은 Loss와 Accuracy의 값을 이용해 모델이 어떻게 학습되고 있는지 볼 수 있습니다.\n",
    "\n",
    "train loss와 val_loss의 차이가 커지는 경우 오버피팅이 일어나는 것이기 때문에 이를 수정할 필요가 있습니다.\n",
    "\n",
    "출력된 그래프를 기반으로 모델의 학습이 어떻게 진행됐는지 확인해볼 수 있습니다."
   ]
  },
  {
   "cell_type": "code",
   "execution_count": 19,
   "metadata": {},
   "outputs": [
    {
     "data": {
      "image/png": "[encoded data removed]",
      "text/plain": [
       "<Figure size 1440x576 with 2 Axes>"
      ]
     },
     "metadata": {
      "needs_background": "light"
     },
     "output_type": "display_data"
    },
    {
     "name": "stdout",
     "output_type": "stream",
     "text": [
      "✅\n"
     ]
    }
   ],
   "source": [
    "import matplotlib.pyplot as plt\n",
    "\n",
    "acc = history_wav.history['accuracy']\n",
    "val_acc = history_wav.history['val_accuracy']\n",
    "\n",
    "loss=history_wav.history['loss']\n",
    "val_loss=history_wav.history['val_loss']\n",
    "\n",
    "epochs_range = range(len(acc))\n",
    "\n",
    "plt.figure(figsize=(20, 8))\n",
    "plt.subplot(1, 2, 1)\n",
    "plt.plot(epochs_range, acc, label='Training Accuracy')\n",
    "plt.plot(epochs_range, val_acc, label='Validation Accuracy')\n",
    "plt.legend(loc='lower right')\n",
    "plt.title('Training and Validation Accuracy')\n",
    "\n",
    "plt.subplot(1, 2, 2)\n",
    "plt.plot(epochs_range, loss, label='Training Loss')\n",
    "plt.plot(epochs_range, val_loss, label='Validation Loss')\n",
    "plt.legend(loc='upper right')\n",
    "plt.title('Training and Validation Loss')\n",
    "plt.show()\n",
    "print(\"✅\")"
   ]
  },
  {
   "cell_type": "markdown",
   "metadata": {},
   "source": [
    "### Evaluation\n",
    "\n",
    "Test dataset을 이용해서 모델의 성능을 평가합니다.\n",
    "\n",
    "실습삼아 checkpoint callback 함수가 저장한 weight를 다시 불러와서 테스트 준비를 해보겠습니다."
   ]
  },
  {
   "cell_type": "code",
   "execution_count": 20,
   "metadata": {},
   "outputs": [
    {
     "name": "stdout",
     "output_type": "stream",
     "text": [
      "✅\n"
     ]
    }
   ],
   "source": [
    "model_wav.load_weights(checkpoint_dir)\n",
    "print(\"✅\")"
   ]
  },
  {
   "cell_type": "markdown",
   "metadata": {},
   "source": [
    "Test data을 이용하여 모델의 예측값과 실제값이 얼마나 일치하는지 확인하겠습니다."
   ]
  },
  {
   "cell_type": "code",
   "execution_count": 21,
   "metadata": {},
   "outputs": [
    {
     "name": "stdout",
     "output_type": "stream",
     "text": [
      "159/159 [==============================] - 11s 69ms/step - loss: 0.2861 - accuracy: 0.9105\n",
      "✅\n"
     ]
    }
   ],
   "source": [
    "results = model_wav.evaluate(test_dataset)\n",
    "print(\"✅\")"
   ]
  },
  {
   "cell_type": "code",
   "execution_count": 22,
   "metadata": {},
   "outputs": [
    {
     "name": "stdout",
     "output_type": "stream",
     "text": [
      "loss value: 0.286\n",
      "accuracy value: 91.0510%\n",
      "✅\n"
     ]
    }
   ],
   "source": [
    "# loss\n",
    "print(\"loss value: {:.3f}\".format(results[0]))\n",
    "# accuracy\n",
    "print(\"accuracy value: {:.4f}%\".format(results[1]*100))\n",
    "print(\"✅\")"
   ]
  },
  {
   "cell_type": "markdown",
   "metadata": {},
   "source": [
    "### Model Test\n",
    "\n",
    "Test data 셋을 골라 직접 들어보고 모델의 예측이 맞는지 확인해 봅시다."
   ]
  },
  {
   "cell_type": "code",
   "execution_count": 23,
   "metadata": {},
   "outputs": [
    {
     "name": "stdout",
     "output_type": "stream",
     "text": [
      "label :  down\n"
     ]
    },
    {
     "data": {
      "text/html": [
       "\n",
       "                <audio  controls=\"controls\" >\n",
       "                    <source src=\"data:audio/wav;base64,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\" type=\"audio/wav\" />\n",
       "                    Your browser does not support the audio element.\n",
       "                </audio>\n",
       "              "
      ],
      "text/plain": [
       "<IPython.lib.display.Audio object>"
      ]
     },
     "execution_count": 23,
     "metadata": {},
     "output_type": "execute_result"
    }
   ],
   "source": [
    "inv_label_value = {v: k for k, v in label_value.items()}\n",
    "batch_index = np.random.choice(len(test_wav), size=1, replace=False)\n",
    "\n",
    "batch_xs = test_wav[batch_index]\n",
    "batch_ys = test_label[batch_index]\n",
    "y_pred_ = model_wav(batch_xs, training=False)\n",
    "\n",
    "print(\"label : \", str(inv_label_value[batch_ys[0]]))\n",
    "\n",
    "ipd.Audio(batch_xs.reshape(8000,), rate=8000)"
   ]
  },
  {
   "cell_type": "markdown",
   "metadata": {},
   "source": [
    "위에서 확인해본 테스트셋의 라벨과 우리 모델의 실제 prediction 결과를 비교해 봅시다."
   ]
  },
  {
   "cell_type": "code",
   "execution_count": 24,
   "metadata": {},
   "outputs": [
    {
     "name": "stdout",
     "output_type": "stream",
     "text": [
      "y_pred: down(Correct!)\n",
      "✅\n"
     ]
    }
   ],
   "source": [
    "if np.argmax(y_pred_) == batch_ys[0]:\n",
    "    print(\"y_pred: \" + str(inv_label_value[np.argmax(y_pred_)]) + '(Correct!)')\n",
    "else:\n",
    "    print(\"y_pred: \" + str(inv_label_value[np.argmax(y_pred_)]) + '(Incorrect!)')\n",
    "print(\"✅\")"
   ]
  },
  {
   "cell_type": "markdown",
   "metadata": {},
   "source": [
    "## Skip-Connection model을 추가해보자\n",
    "\n",
    "### Skip-Connection model 구현\n",
    "\n",
    "이전 스텝에서 우리는 Conv1D 기반의 간단한 분류 모델을 구현해서 학습 및 테스트를 진행해 보았습니다. 간단한 모델임에도 정확도가 나쁘지 않았을 것입니다.\n",
    "\n",
    "하지만 여러분들은 이미지처리 모델을 다루면서 ResNet 등 skip-connection을 활용한 모델들이 훨씬 안정적으로 높은 성능을 낼 수 있음을 배워왔을 것입니다. 그렇다면 이번 음성처리 모델에 적용해도 비슷한 개선 효과를 낼 수 있지 않을까요?\n",
    "\n",
    "기존의 모델을 skip-connection이 추가된 모델로 변경해 학습을 진행해보겠습니다."
   ]
  },
  {
   "cell_type": "markdown",
   "metadata": {},
   "source": [
    "그림에서 보듯이 위쪽의 데이터가 레이어를 뛰어넘어 레이어를 통과한 값에 더해주는 형식으로 구현됨을 확인할 수 있습니다.\n",
    "Concat을 이용한 방식으로 구현하면 됩니다.\n",
    "\n",
    "`tf.concat([#layer output tensor, layer output tensor#], axis=#)`\n",
    "\n",
    "우리가 사용하는 데이터가 1차원 audio 데이터이기 때문에 1차원 데이터를 처리하는 모델을 구성해보겠습니다."
   ]
  },
  {
   "cell_type": "code",
   "execution_count": 25,
   "metadata": {
    "scrolled": false
   },
   "outputs": [
    {
     "name": "stdout",
     "output_type": "stream",
     "text": [
      "Model: \"model_1\"\n",
      "__________________________________________________________________________________________________\n",
      "Layer (type)                    Output Shape         Param #     Connected to                     \n",
      "==================================================================================================\n",
      "input_2 (InputLayer)            [(None, 8000, 1)]    0                                            \n",
      "__________________________________________________________________________________________________\n",
      "conv1d_10 (Conv1D)              (None, 8000, 32)     320         input_2[0][0]                    \n",
      "__________________________________________________________________________________________________\n",
      "conv1d_11 (Conv1D)              (None, 8000, 32)     9248        conv1d_10[0][0]                  \n",
      "__________________________________________________________________________________________________\n",
      "max_pooling1d_4 (MaxPooling1D)  (None, 4000, 32)     0           conv1d_11[0][0]                  \n",
      "__________________________________________________________________________________________________\n",
      "conv1d_12 (Conv1D)              (None, 4000, 64)     18496       max_pooling1d_4[0][0]            \n",
      "__________________________________________________________________________________________________\n",
      "conv1d_13 (Conv1D)              (None, 4000, 64)     36928       conv1d_12[0][0]                  \n",
      "__________________________________________________________________________________________________\n",
      "tf_op_layer_concat (TensorFlowO [(None, 4000, 96)]   0           conv1d_13[0][0]                  \n",
      "                                                                 max_pooling1d_4[0][0]            \n",
      "__________________________________________________________________________________________________\n",
      "max_pooling1d_5 (MaxPooling1D)  (None, 2000, 96)     0           tf_op_layer_concat[0][0]         \n",
      "__________________________________________________________________________________________________\n",
      "conv1d_14 (Conv1D)              (None, 2000, 128)    110720      max_pooling1d_5[0][0]            \n",
      "__________________________________________________________________________________________________\n",
      "conv1d_15 (Conv1D)              (None, 2000, 128)    147584      conv1d_14[0][0]                  \n",
      "__________________________________________________________________________________________________\n",
      "conv1d_16 (Conv1D)              (None, 2000, 128)    147584      conv1d_15[0][0]                  \n",
      "__________________________________________________________________________________________________\n",
      "tf_op_layer_concat_1 (TensorFlo [(None, 2000, 224)]  0           conv1d_16[0][0]                  \n",
      "                                                                 max_pooling1d_5[0][0]            \n",
      "__________________________________________________________________________________________________\n",
      "max_pooling1d_6 (MaxPooling1D)  (None, 1000, 224)    0           tf_op_layer_concat_1[0][0]       \n",
      "__________________________________________________________________________________________________\n",
      "conv1d_17 (Conv1D)              (None, 1000, 256)    516352      max_pooling1d_6[0][0]            \n",
      "__________________________________________________________________________________________________\n",
      "conv1d_18 (Conv1D)              (None, 1000, 256)    590080      conv1d_17[0][0]                  \n",
      "__________________________________________________________________________________________________\n",
      "conv1d_19 (Conv1D)              (None, 1000, 256)    590080      conv1d_18[0][0]                  \n",
      "__________________________________________________________________________________________________\n",
      "tf_op_layer_concat_2 (TensorFlo [(None, 1000, 480)]  0           conv1d_19[0][0]                  \n",
      "                                                                 max_pooling1d_6[0][0]            \n",
      "__________________________________________________________________________________________________\n",
      "max_pooling1d_7 (MaxPooling1D)  (None, 500, 480)     0           tf_op_layer_concat_2[0][0]       \n",
      "__________________________________________________________________________________________________\n",
      "dropout_1 (Dropout)             (None, 500, 480)     0           max_pooling1d_7[0][0]            \n",
      "__________________________________________________________________________________________________\n",
      "flatten_1 (Flatten)             (None, 240000)       0           dropout_1[0][0]                  \n",
      "__________________________________________________________________________________________________\n",
      "dense_2 (Dense)                 (None, 256)          61440256    flatten_1[0][0]                  \n",
      "__________________________________________________________________________________________________\n",
      "batch_normalization_1 (BatchNor (None, 256)          1024        dense_2[0][0]                    \n",
      "__________________________________________________________________________________________________\n",
      "activation_1 (Activation)       (None, 256)          0           batch_normalization_1[0][0]      \n",
      "__________________________________________________________________________________________________\n",
      "dense_3 (Dense)                 (None, 12)           3084        activation_1[0][0]               \n",
      "==================================================================================================\n",
      "Total params: 63,611,756\n",
      "Trainable params: 63,611,244\n",
      "Non-trainable params: 512\n",
      "__________________________________________________________________________________________________\n"
     ]
    }
   ],
   "source": [
    "input_tensor = layers.Input(shape=(sr, 1))\n",
    "\n",
    "x = layers.Conv1D(32, 9, padding='same', activation='relu')(input_tensor)\n",
    "x = layers.Conv1D(32, 9, padding='same', activation='relu')(x)\n",
    "skip_1 = layers.MaxPool1D()(x)\n",
    "\n",
    "x = layers.Conv1D(64, 9, padding='same', activation='relu')(skip_1)\n",
    "x = layers.Conv1D(64, 9, padding='same', activation='relu')(x)\n",
    "x = tf.concat([x, skip_1], -1)\n",
    "skip_2 = layers.MaxPool1D()(x)\n",
    "\n",
    "x = layers.Conv1D(128, 9, padding='same', activation='relu')(skip_2)\n",
    "x = layers.Conv1D(128, 9, padding='same', activation='relu')(x)\n",
    "x = layers.Conv1D(128, 9, padding='same', activation='relu')(x)\n",
    "x = tf.concat([x, skip_2], -1)\n",
    "skip_3 = layers.MaxPool1D()(x)\n",
    "\n",
    "x = layers.Conv1D(256, 9, padding='same', activation='relu')(skip_3)\n",
    "x = layers.Conv1D(256, 9, padding='same', activation='relu')(x)\n",
    "x = layers.Conv1D(256, 9, padding='same', activation='relu')(x)\n",
    "x = tf.concat([x, skip_3], -1)\n",
    "x = layers.MaxPool1D()(x)\n",
    "x = layers.Dropout(0.3)(x)\n",
    "\n",
    "x = layers.Flatten()(x)\n",
    "x = layers.Dense(256)(x)\n",
    "x = layers.BatchNormalization()(x)\n",
    "x = layers.Activation('relu')(x)\n",
    "\n",
    "output_tensor = layers.Dense(12)(x)\n",
    "\n",
    "model_wav_skip = tf.keras.Model(input_tensor, output_tensor)\n",
    "\n",
    "model_wav_skip.summary()"
   ]
  },
  {
   "cell_type": "markdown",
   "metadata": {},
   "source": [
    "모델 구성만 달라졌을 뿐, 그 외 Task구성이나 데이터셋 구성, 훈련 과정은 동일합니다."
   ]
  },
  {
   "cell_type": "code",
   "execution_count": 26,
   "metadata": {},
   "outputs": [
    {
     "name": "stdout",
     "output_type": "stream",
     "text": [
      "✅\n"
     ]
    }
   ],
   "source": [
    "optimizer=tf.keras.optimizers.Adam(1e-4)\n",
    "model_wav_skip.compile(loss=tf.keras.losses.CategoricalCrossentropy(from_logits=True),\n",
    "             optimizer=optimizer,\n",
    "             metrics=['accuracy'])\n",
    "print(\"✅\")"
   ]
  },
  {
   "cell_type": "code",
   "execution_count": 27,
   "metadata": {},
   "outputs": [
    {
     "name": "stdout",
     "output_type": "stream",
     "text": [
      "✅\n"
     ]
    }
   ],
   "source": [
    "# the save point\n",
    "checkpoint_dir = os.getenv('HOME')+'/aiffel/speech_recognition/models/wav_skip'\n",
    "\n",
    "cp_callback = tf.keras.callbacks.ModelCheckpoint(checkpoint_dir,\n",
    "                                                 save_weights_only=True,\n",
    "                                                 monitor='val_loss',\n",
    "                                                 mode='auto',\n",
    "                                                 save_best_only=True,\n",
    "                                                 verbose=1)\n",
    "print(\"✅\")"
   ]
  },
  {
   "cell_type": "code",
   "execution_count": 28,
   "metadata": {},
   "outputs": [
    {
     "name": "stdout",
     "output_type": "stream",
     "text": [
      "Epoch 1/10\n",
      "1423/1423 [==============================] - ETA: 0s - loss: 1.2019 - accuracy: 0.6134\n",
      "Epoch 00001: val_loss improved from inf to 0.80735, saving model to /home/ssac28/aiffel/speech_recognition/models/wav_skip\n",
      "1423/1423 [==============================] - 184s 129ms/step - loss: 1.2019 - accuracy: 0.6134 - val_loss: 0.8074 - val_accuracy: 0.7464\n",
      "Epoch 2/10\n",
      "1423/1423 [==============================] - ETA: 0s - loss: 0.6313 - accuracy: 0.8157\n",
      "Epoch 00002: val_loss improved from 0.80735 to 0.65149, saving model to /home/ssac28/aiffel/speech_recognition/models/wav_skip\n",
      "1423/1423 [==============================] - 187s 132ms/step - loss: 0.6313 - accuracy: 0.8157 - val_loss: 0.6515 - val_accuracy: 0.7900\n",
      "Epoch 3/10\n",
      "1423/1423 [==============================] - ETA: 0s - loss: 0.3305 - accuracy: 0.9140\n",
      "Epoch 00003: val_loss improved from 0.65149 to 0.40841, saving model to /home/ssac28/aiffel/speech_recognition/models/wav_skip\n",
      "1423/1423 [==============================] - 180s 126ms/step - loss: 0.3305 - accuracy: 0.9140 - val_loss: 0.4084 - val_accuracy: 0.8687\n",
      "Epoch 4/10\n",
      "1423/1423 [==============================] - ETA: 0s - loss: 0.1733 - accuracy: 0.9600\n",
      "Epoch 00004: val_loss improved from 0.40841 to 0.37669, saving model to /home/ssac28/aiffel/speech_recognition/models/wav_skip\n",
      "1423/1423 [==============================] - 180s 126ms/step - loss: 0.1733 - accuracy: 0.9600 - val_loss: 0.3767 - val_accuracy: 0.8795\n",
      "Epoch 5/10\n",
      "1423/1423 [==============================] - ETA: 0s - loss: 0.0989 - accuracy: 0.9796\n",
      "Epoch 00005: val_loss improved from 0.37669 to 0.29303, saving model to /home/ssac28/aiffel/speech_recognition/models/wav_skip\n",
      "1423/1423 [==============================] - 175s 123ms/step - loss: 0.0989 - accuracy: 0.9796 - val_loss: 0.2930 - val_accuracy: 0.9112\n",
      "Epoch 6/10\n",
      "1423/1423 [==============================] - ETA: 0s - loss: 0.0670 - accuracy: 0.9868\n",
      "Epoch 00006: val_loss did not improve from 0.29303\n",
      "1423/1423 [==============================] - 173s 121ms/step - loss: 0.0670 - accuracy: 0.9868 - val_loss: 0.3496 - val_accuracy: 0.8995\n",
      "Epoch 7/10\n",
      "1423/1423 [==============================] - ETA: 0s - loss: 0.0494 - accuracy: 0.9896\n",
      "Epoch 00007: val_loss did not improve from 0.29303\n",
      "1423/1423 [==============================] - 172s 121ms/step - loss: 0.0494 - accuracy: 0.9896 - val_loss: 0.3118 - val_accuracy: 0.9084\n",
      "Epoch 8/10\n",
      "1423/1423 [==============================] - ETA: 0s - loss: 0.0361 - accuracy: 0.9928\n",
      "Epoch 00008: val_loss did not improve from 0.29303\n",
      "1423/1423 [==============================] - 172s 121ms/step - loss: 0.0361 - accuracy: 0.9928 - val_loss: 0.3231 - val_accuracy: 0.9005\n",
      "Epoch 9/10\n",
      "1423/1423 [==============================] - ETA: 0s - loss: 0.0296 - accuracy: 0.9938\n",
      "Epoch 00009: val_loss did not improve from 0.29303\n",
      "1423/1423 [==============================] - 172s 121ms/step - loss: 0.0296 - accuracy: 0.9938 - val_loss: 0.3604 - val_accuracy: 0.9013\n",
      "Epoch 10/10\n",
      "1423/1423 [==============================] - ETA: 0s - loss: 0.0246 - accuracy: 0.9952\n",
      "Epoch 00010: val_loss did not improve from 0.29303\n",
      "1423/1423 [==============================] - 172s 121ms/step - loss: 0.0246 - accuracy: 0.9952 - val_loss: 0.3198 - val_accuracy: 0.9136\n",
      "✅\n"
     ]
    }
   ],
   "source": [
    "#30분 내외 소요\n",
    "history_wav_skip = model_wav_skip.fit(train_dataset, epochs=max_epochs,\n",
    "                    steps_per_epoch=len(train_wav) // batch_size,\n",
    "                    validation_data=test_dataset,\n",
    "                    validation_steps=len(test_wav) // batch_size,\n",
    "                    callbacks=[cp_callback]\n",
    "                    )\n",
    "print(\"✅\")"
   ]
  },
  {
   "cell_type": "markdown",
   "metadata": {},
   "source": [
    "학습결과의 시각화 및 evaluation 과정도 동일합니다."
   ]
  },
  {
   "cell_type": "code",
   "execution_count": 33,
   "metadata": {},
   "outputs": [
    {
     "data": {
      "image/png": "[encoded data removed]",
      "text/plain": [
       "<Figure size 1440x576 with 2 Axes>"
      ]
     },
     "metadata": {
      "needs_background": "light"
     },
     "output_type": "display_data"
    },
    {
     "name": "stdout",
     "output_type": "stream",
     "text": [
      "✅\n"
     ]
    }
   ],
   "source": [
    "import matplotlib.pyplot as plt\n",
    "\n",
    "acc = history_wav_skip.history['accuracy']\n",
    "val_acc = history_wav_skip.history['val_accuracy']\n",
    "\n",
    "loss=history_wav_skip.history['loss']\n",
    "val_loss=history_wav_skip.history['val_loss']\n",
    "\n",
    "epochs_range = range(len(acc))\n",
    "\n",
    "plt.figure(figsize=(20, 8))\n",
    "plt.subplot(1, 2, 1)\n",
    "plt.plot(epochs_range, acc, label='Training Accuracy')\n",
    "plt.plot(epochs_range, val_acc, label='Validation Accuracy')\n",
    "plt.legend(loc='lower right')\n",
    "plt.title('Training and Validation Accuracy')\n",
    "\n",
    "plt.subplot(1, 2, 2)\n",
    "plt.plot(epochs_range, loss, label='Training Loss')\n",
    "plt.plot(epochs_range, val_loss, label='Validation Loss')\n",
    "plt.legend(loc='upper right')\n",
    "plt.title('Training and Validation Loss')\n",
    "plt.show()\n",
    "print(\"✅\")"
   ]
  },
  {
   "cell_type": "code",
   "execution_count": 30,
   "metadata": {},
   "outputs": [
    {
     "name": "stdout",
     "output_type": "stream",
     "text": [
      "159/159 [==============================] - 7s 42ms/step - loss: 0.2930 - accuracy: 0.9113\n",
      "loss value: 0.293\n",
      "accuracy value: 91.1300%\n",
      "✅\n"
     ]
    }
   ],
   "source": [
    "# Evaluation \n",
    "\n",
    "model_wav_skip.load_weights(checkpoint_dir)\n",
    "results = model_wav_skip.evaluate(test_dataset)\n",
    "\n",
    "# loss\n",
    "print(\"loss value: {:.3f}\".format(results[0]))\n",
    "# accuracy\n",
    "print(\"accuracy value: {:.4f}%\".format(results[1]*100))\n",
    "print(\"✅\")"
   ]
  },
  {
   "cell_type": "code",
   "execution_count": 31,
   "metadata": {},
   "outputs": [
    {
     "name": "stdout",
     "output_type": "stream",
     "text": [
      "label :  up\n"
     ]
    },
    {
     "data": {
      "text/html": [
       "\n",
       "                <audio  controls=\"controls\" >\n",
       "                    <source src=\"data:audio/wav;base64,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\" type=\"audio/wav\" />\n",
       "                    Your browser does not support the audio element.\n",
       "                </audio>\n",
       "              "
      ],
      "text/plain": [
       "<IPython.lib.display.Audio object>"
      ]
     },
     "execution_count": 31,
     "metadata": {},
     "output_type": "execute_result"
    }
   ],
   "source": [
    "# Test \n",
    "\n",
    "inv_label_value = {v: k for k, v in label_value.items()}\n",
    "batch_index = np.random.choice(len(test_wav), size=1, replace=False)\n",
    "\n",
    "batch_xs = test_wav[batch_index]\n",
    "batch_ys = test_label[batch_index]\n",
    "y_pred_ = model_wav_skip(batch_xs, training=False)\n",
    "\n",
    "print(\"label : \", str(inv_label_value[batch_ys[0]]))\n",
    "\n",
    "ipd.Audio(batch_xs.reshape(8000,), rate=8000)"
   ]
  },
  {
   "cell_type": "markdown",
   "metadata": {},
   "source": [
    "위에서 확인해본 테스트셋의 라벨과 우리 모델의 실제 prediction 결과를 비교해 봅시다."
   ]
  },
  {
   "cell_type": "code",
   "execution_count": 32,
   "metadata": {},
   "outputs": [
    {
     "name": "stdout",
     "output_type": "stream",
     "text": [
      "y_pred: up(Correct!)\n",
      "✅\n"
     ]
    }
   ],
   "source": [
    "if np.argmax(y_pred_) == batch_ys[0]:\n",
    "    print(\"y_pred: \" + str(inv_label_value[np.argmax(y_pred_)]) + '(Correct!)')\n",
    "else:\n",
    "    print(\"y_pred: \" + str(inv_label_value[np.argmax(y_pred_)]) + '(Incorrect!)')\n",
    "print(\"✅\")"
   ]
  },
  {
   "cell_type": "markdown",
   "metadata": {},
   "source": [
    "## Spectrogram\n",
    "\n",
    "우리는 지금까지 음성 데이터를 1차원 시계열 데이터로 해석하는 waveform 해석을 통해 다루어 왔습니다.\n",
    "\n",
    "그러나 우리가 다루는 waveform은 실은 많은 음원의 파형이 합성된 복합파라는 것을 앞서 언급했습니다. 그렇다면 보다 뚜렷이 다양한 파형들을 그 주파수 대역별로 나누어 별도로 해석해볼 수 있는 방법은 없을까요? 이제 우리가 자주 들었던 푸리에 변환(Fourier transform)을 언급할 때가 된 것 같습니다.\n",
    "\n",
    "### 푸리에변환 (Fourier transform)\n",
    "\n",
    "---\n",
    "\n",
    "임의의 입력 신호를 다양한 주파수를 갖는 주기함수 (복수 지수함수)들이 합으로 분해하여 표현하는 것을 말합니다. 수식으로 말하면 아래와 같습니다.\n",
    "\n",
    "$  \n",
    "A_k = \\frac{1}{T}\\int_{-\\frac{T}{2}}^{\\frac{T}{2}}f(t)exp(-i\\cdot 2\\pi\\frac{k}{T}t)dt \n",
    "$\n",
    " \n",
    "그러나 보다 직관적인 이해는 아래 그림을 참고하는 것이 좋겠습니다. 위 수식과 아래 그림의 의미는 같습니다.\n",
    "\n",
    "![img1](./img/img1.png)"
   ]
  },
  {
   "cell_type": "markdown",
   "metadata": {},
   "source": [
    "### 조금 더 깊이 들어가는 푸리에 변환\n",
    "\n",
    "---\n",
    "\n",
    "조금만 더 이론적으로 들어가 봅시다. 아래 내용은 꼭 이해하지 못해도 좋습니다.\n",
    "\n",
    "**오일러 공식 (지수함수와 주기함수와의 관계)**\n",
    "\n",
    "여기서 $cos2\\pi kT$, $jsin2\\pi kT$ 함수는 주기와 주파수를 가지는 주기함수 입니다. 즉 푸리에 변환은 입력 signal이 어떤것인지 상관없이 , 과 같은 주기함수들의 합으로 항상 분해가 가능하다는 것입니다.\n",
    "\n",
    "\n",
    "$ e^{i\\theta }=cos\\theta + isin\\theta $\n",
    "\n",
    "$ \n",
    "exp(i\\cdot 2\\pi \\frac{k}{T}t)=cos(2\\pi \\frac{k}{T})+jsin(2\\pi \\frac{k}{T}) \n",
    "$\n",
    "\n",
    "![img2](./img/img2.png)\n",
    "\n",
    "푸리에 변환이 끝나면, 이제 실수부와 허수부를 가지는 복소수가 얻어집니다. 이러한 복소수의 절대값은 Spectrum magnitude (주파수의 강도)라고 부르며, 복소수가 가지는 phase는 phase spectrum(주파수의 위상)이라고 부르게 됩니다.\n",
    "\n",
    "![img3](./img/img3.png)\n",
    "\n",
    "$ \n",
    "\\left | X(k) \\right |=\\sqrt{X^2_R(k)+X^2_I(k) }\n",
    "$\n",
    "\n",
    "$ \n",
    "\\angle X = \\pi(k)=tan^{-1}\\frac{X_I(k)}{X_R(k)}\n",
    "$\n",
    "\n",
    "**STFT(Short Time Fourier Transform)**\n",
    "\n",
    "FFT는 시간에 흐름에 따라 신호의 주파수가 변했을 때, 어느 시간대에 주파수가 변하는지 모르게 됩니다. 이러한 한계를 극복하기 위해서, STFT는 시간의 길이를 나눠서 푸리에 변환을 하게 됩니다.\n",
    "\n",
    "$ \n",
    "X(l,k)=\\sum_{n=0}^{N-1}\\omega (n)x(n+lH)exp^{\\frac{-2\\pi kn}{N}} $\n",
    "\n",
    "+ N은 FFT size 이고, Window를 얼마나 많은 주파수 밴드로 나누는 가를 의미합니다.\n",
    "+ Duration은 sampling rate를 window로 나눈 값입니다. T=window/sampling rate. duration은 신호주기보다 5배이상 길게 잡아야합니다. T(window)=5T(Signal). 예를 들어 440Hz신호의 window size는 5(1/440)이 됩니다.\n",
    "+ (n)는 window 함수를 나타냅니다. 일반적으로는 hann window가 많이 쓰입니다.\n",
    "+ n는 window size입니다. window 함수에 들어가는 sample의 양입니다. n이 작을 수록 low-frequency resolution을 가지게 되고, high-time resolution을 가지게 되고, n이 길수록 high-frequency를 가지고 되고 low-time resolution을 가지게 됩니다.\n",
    "+ H는 hop size를 의미합니다. 윈도우가 겹치는 사이즈입니다. 일반적으로는 1/4정도를 겹치게 합니다.\n",
    "\n",
    "> STFT의 결과는 즉 시간의 흐름에 따른 frequency영역별 Amplitude를 반환합니다.\n",
    "\n",
    "![img4](./img/img4.png)"
   ]
  },
  {
   "cell_type": "markdown",
   "metadata": {},
   "source": [
    "### Spectrogram이란?\n",
    "\n",
    "wav 데이터를 해석하는 방법 중 하나로, 일정 시간동안 wav 데이터 안의 다양한 주파수들이 얼마나 포함되어 있는 지를 보여줍니다.\n",
    "이 Spectrogram을 그리는 방법이 바로 위에 소개한 STFT 입니다.\n",
    "\n",
    "![img5](./img/img5.png)\n",
    "\n",
    "X축은 시간, Y축은 주파수를 나타내며, 해당 시간/주파수에서의 음파 강도에 따라 밝은색으로 표현됩니다.\n",
    "wav 데이터가 단위 시간만큼 Short Time Fourier Transform을 진행해 매 순간의 주파수 데이터들을 얻어서 Spectrogram을 완성합니다.\n",
    "\n",
    "Step2에서 사용한 샘플데이터를 이용하여 스펙트로그램을 생성해 봅시다.\n",
    "\n",
    "먼저 파이썬에서 제공하는 FFT 관련 라이브러리인 `librosa`를 설치합니다.\n",
    "\n",
    "```bash\n",
    "$ pip install librosa\n",
    "```\n",
    "\n"
   ]
  },
  {
   "cell_type": "code",
   "execution_count": 11,
   "metadata": {
    "ExecuteTime": {
     "end_time": "2021-01-26T11:22:26.108439Z",
     "start_time": "2021-01-26T11:22:26.105030Z"
    }
   },
   "outputs": [
    {
     "name": "stdout",
     "output_type": "stream",
     "text": [
      "✅\n"
     ]
    }
   ],
   "source": [
    "import librosa\n",
    "\n",
    "def wav2spec(wav, fft_size=258): # spectrogram shape을 맞추기위해서 size 변형\n",
    "    D = np.abs(librosa.stft(wav, n_fft=fft_size))\n",
    "    return D\n",
    "print(\"✅\")"
   ]
  },
  {
   "cell_type": "code",
   "execution_count": 12,
   "metadata": {
    "ExecuteTime": {
     "end_time": "2021-01-26T11:22:26.798792Z",
     "start_time": "2021-01-26T11:22:26.785759Z"
    }
   },
   "outputs": [
    {
     "name": "stdout",
     "output_type": "stream",
     "text": [
      "Waveform shape :  (8000,)\n",
      "Spectrogram shape :  (130, 126)\n"
     ]
    }
   ],
   "source": [
    "# 위에서 뽑았던 sample data\n",
    "spec = wav2spec(data)\n",
    "print(\"Waveform shape : \",data.shape)\n",
    "print(\"Spectrogram shape : \",spec.shape)"
   ]
  },
  {
   "cell_type": "code",
   "execution_count": 13,
   "metadata": {
    "ExecuteTime": {
     "end_time": "2021-01-26T11:22:27.735110Z",
     "start_time": "2021-01-26T11:22:27.601166Z"
    }
   },
   "outputs": [
    {
     "data": {
      "image/png": "[encoded data removed]",
      "text/plain": [
       "<Figure size 432x288 with 2 Axes>"
      ]
     },
     "metadata": {
      "needs_background": "light"
     },
     "output_type": "display_data"
    }
   ],
   "source": [
    "import librosa.display\n",
    "\n",
    "librosa.display.specshow(librosa.amplitude_to_db(spec, ref=np.max), x_axis='time')\n",
    "plt.title('Power spectrogram')\n",
    "plt.colorbar(format='%+2.0f dB')\n",
    "plt.xticks(range(0, 1))\n",
    "plt.tight_layout()\n",
    "plt.show()"
   ]
  }
 ],
 "metadata": {
  "hide_input": false,
  "kernelspec": {
   "display_name": "aiffel",
   "language": "python",
   "name": "aiffel"
  },
  "language_info": {
   "codemirror_mode": {
    "name": "ipython",
    "version": 3
   },
   "file_extension": ".py",
   "mimetype": "text/x-python",
   "name": "python",
   "nbconvert_exporter": "python",
   "pygments_lexer": "ipython3",
   "version": "3.7.9"
  },
  "toc": {
   "base_numbering": 1,
   "nav_menu": {},
   "number_sections": true,
   "sideBar": true,
   "skip_h1_title": false,
   "title_cell": "Table of Contents",
   "title_sidebar": "Contents",
   "toc_cell": false,
   "toc_position": {
    "height": "calc(100% - 180px)",
    "left": "10px",
    "top": "150px",
    "width": "219.475px"
   },
   "toc_section_display": true,
   "toc_window_display": true
  }
 },
 "nbformat": 4,
 "nbformat_minor": 4
}
