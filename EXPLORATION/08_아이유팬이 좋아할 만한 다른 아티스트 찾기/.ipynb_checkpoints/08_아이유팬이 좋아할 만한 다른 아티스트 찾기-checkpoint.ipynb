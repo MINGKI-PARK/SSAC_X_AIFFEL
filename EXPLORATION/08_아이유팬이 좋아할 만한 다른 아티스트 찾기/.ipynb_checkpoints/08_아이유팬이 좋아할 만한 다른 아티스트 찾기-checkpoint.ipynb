{
 "cells": [
  {
   "cell_type": "markdown",
   "metadata": {
    "toc": true
   },
   "source": [
    "<h1>Table of Contents<span class=\"tocSkip\"></span></h1>\n",
    "<div class=\"toc\"><ul class=\"toc-item\"><li><span><a href=\"#시작하며\" data-toc-modified-id=\"시작하며-1\"><span class=\"toc-item-num\">1&nbsp;&nbsp;</span>시작하며</a></span></li><li><span><a href=\"#데이터-전처리와--EDA\" data-toc-modified-id=\"데이터-전처리와--EDA-2\"><span class=\"toc-item-num\">2&nbsp;&nbsp;</span>데이터 전처리와  EDA</a></span><ul class=\"toc-item\"><li><span><a href=\"#데이터-준비\" data-toc-modified-id=\"데이터-준비-2.1\"><span class=\"toc-item-num\">2.1&nbsp;&nbsp;</span>데이터 준비</a></span></li><li><span><a href=\"#데이터-탐색\" data-toc-modified-id=\"데이터-탐색-2.2\"><span class=\"toc-item-num\">2.2&nbsp;&nbsp;</span>데이터 탐색</a></span></li><li><span><a href=\"#모델-검증을-위한-사용자-초기-정보-세팅\" data-toc-modified-id=\"모델-검증을-위한-사용자-초기-정보-세팅-2.3\"><span class=\"toc-item-num\">2.3&nbsp;&nbsp;</span>모델 검증을 위한 사용자 초기 정보 세팅</a></span></li><li><span><a href=\"#모델에-활용하기-위한-전처리-(실습)\" data-toc-modified-id=\"모델에-활용하기-위한-전처리-(실습)-2.4\"><span class=\"toc-item-num\">2.4&nbsp;&nbsp;</span>모델에 활용하기 위한 전처리 (실습)</a></span></li></ul></li><li><span><a href=\"#사용자의-명시적/암묵적-평가\" data-toc-modified-id=\"사용자의-명시적/암묵적-평가-3\"><span class=\"toc-item-num\">3&nbsp;&nbsp;</span>사용자의 명시적/암묵적 평가</a></span></li><li><span><a href=\"#CSR(Compressed-Sparse-Row)-Matrix\" data-toc-modified-id=\"CSR(Compressed-Sparse-Row)-Matrix-4\"><span class=\"toc-item-num\">4&nbsp;&nbsp;</span>CSR(Compressed Sparse Row) Matrix</a></span></li><li><span><a href=\"#MF-모델-학습하기\" data-toc-modified-id=\"MF-모델-학습하기-5\"><span class=\"toc-item-num\">5&nbsp;&nbsp;</span>MF 모델 학습하기</a></span></li><li><span><a href=\"#비슷한-아티스트-찾기-+-유저에게-추천하기\" data-toc-modified-id=\"비슷한-아티스트-찾기-+-유저에게-추천하기-6\"><span class=\"toc-item-num\">6&nbsp;&nbsp;</span>비슷한 아티스트 찾기 + 유저에게 추천하기</a></span><ul class=\"toc-item\"><li><span><a href=\"#비슷한-아티스트-찾기\" data-toc-modified-id=\"비슷한-아티스트-찾기-6.1\"><span class=\"toc-item-num\">6.1&nbsp;&nbsp;</span>비슷한 아티스트 찾기</a></span></li><li><span><a href=\"#유저에게-아티스트-추천하기\" data-toc-modified-id=\"유저에게-아티스트-추천하기-6.2\"><span class=\"toc-item-num\">6.2&nbsp;&nbsp;</span>유저에게 아티스트 추천하기</a></span></li></ul></li><li><span><a href=\"#마무리\" data-toc-modified-id=\"마무리-7\"><span class=\"toc-item-num\">7&nbsp;&nbsp;</span>마무리</a></span></li></ul></div>"
   ]
  },
  {
   "cell_type": "markdown",
   "metadata": {},
   "source": [
    "## 시작하며\n",
    "\n",
    "0. 추천시스템의 개념과 목적을 이해한다.\n",
    "1. Implicit 라이브러리를 활용하여 Matrix Factorization(이하 MF) 기반의 추천 모델을 만들어 본다.\n",
    "2. 음악 감상 기록을 활용하여 비슷한 아티스트를 찾고 아티스트를 추천해 본다.\n",
    "3. 추천 시스템에서 자주 사용되는 데이터 구조인 CSR Matrix을 익힌다\n",
    "4. 유저의 행위 데이터 중 Explicit data와 Implicit data의 차이점을 익힌다.\n",
    "5. 새로운 데이터셋으로 직접 추천 모델을 만들어 본다."
   ]
  },
  {
   "cell_type": "markdown",
   "metadata": {},
   "source": [
    "## 데이터 전처리와  EDA"
   ]
  },
  {
   "cell_type": "markdown",
   "metadata": {},
   "source": [
    "### 데이터 준비"
   ]
  },
  {
   "cell_type": "code",
   "execution_count": 1,
   "metadata": {
    "ExecuteTime": {
     "end_time": "2021-02-04T10:42:40.393842Z",
     "start_time": "2021-02-04T10:42:28.543244Z"
    },
    "scrolled": false
   },
   "outputs": [
    {
     "data": {
      "text/html": [
       "<div>\n",
       "<style scoped>\n",
       "    .dataframe tbody tr th:only-of-type {\n",
       "        vertical-align: middle;\n",
       "    }\n",
       "\n",
       "    .dataframe tbody tr th {\n",
       "        vertical-align: top;\n",
       "    }\n",
       "\n",
       "    .dataframe thead th {\n",
       "        text-align: right;\n",
       "    }\n",
       "</style>\n",
       "<table border=\"1\" class=\"dataframe\">\n",
       "  <thead>\n",
       "    <tr style=\"text-align: right;\">\n",
       "      <th></th>\n",
       "      <th>user_id</th>\n",
       "      <th>artist_MBID</th>\n",
       "      <th>artist</th>\n",
       "      <th>play</th>\n",
       "    </tr>\n",
       "  </thead>\n",
       "  <tbody>\n",
       "    <tr>\n",
       "      <th>0</th>\n",
       "      <td>00000c289a1829a808ac09c00daf10bc3c4e223b</td>\n",
       "      <td>3bd73256-3905-4f3a-97e2-8b341527f805</td>\n",
       "      <td>betty blowtorch</td>\n",
       "      <td>2137</td>\n",
       "    </tr>\n",
       "    <tr>\n",
       "      <th>1</th>\n",
       "      <td>00000c289a1829a808ac09c00daf10bc3c4e223b</td>\n",
       "      <td>f2fb0ff0-5679-42ec-a55c-15109ce6e320</td>\n",
       "      <td>die Ärzte</td>\n",
       "      <td>1099</td>\n",
       "    </tr>\n",
       "    <tr>\n",
       "      <th>2</th>\n",
       "      <td>00000c289a1829a808ac09c00daf10bc3c4e223b</td>\n",
       "      <td>b3ae82c2-e60b-4551-a76d-6620f1b456aa</td>\n",
       "      <td>melissa etheridge</td>\n",
       "      <td>897</td>\n",
       "    </tr>\n",
       "    <tr>\n",
       "      <th>3</th>\n",
       "      <td>00000c289a1829a808ac09c00daf10bc3c4e223b</td>\n",
       "      <td>3d6bbeb7-f90e-4d10-b440-e153c0d10b53</td>\n",
       "      <td>elvenking</td>\n",
       "      <td>717</td>\n",
       "    </tr>\n",
       "    <tr>\n",
       "      <th>4</th>\n",
       "      <td>00000c289a1829a808ac09c00daf10bc3c4e223b</td>\n",
       "      <td>bbd2ffd7-17f4-4506-8572-c1ea58c3f9a8</td>\n",
       "      <td>juliette &amp; the licks</td>\n",
       "      <td>706</td>\n",
       "    </tr>\n",
       "    <tr>\n",
       "      <th>5</th>\n",
       "      <td>00000c289a1829a808ac09c00daf10bc3c4e223b</td>\n",
       "      <td>8bfac288-ccc5-448d-9573-c33ea2aa5c30</td>\n",
       "      <td>red hot chili peppers</td>\n",
       "      <td>691</td>\n",
       "    </tr>\n",
       "    <tr>\n",
       "      <th>6</th>\n",
       "      <td>00000c289a1829a808ac09c00daf10bc3c4e223b</td>\n",
       "      <td>6531c8b1-76ea-4141-b270-eb1ac5b41375</td>\n",
       "      <td>magica</td>\n",
       "      <td>545</td>\n",
       "    </tr>\n",
       "    <tr>\n",
       "      <th>7</th>\n",
       "      <td>00000c289a1829a808ac09c00daf10bc3c4e223b</td>\n",
       "      <td>21f3573f-10cf-44b3-aeaa-26cccd8448b5</td>\n",
       "      <td>the black dahlia murder</td>\n",
       "      <td>507</td>\n",
       "    </tr>\n",
       "    <tr>\n",
       "      <th>8</th>\n",
       "      <td>00000c289a1829a808ac09c00daf10bc3c4e223b</td>\n",
       "      <td>c5db90c4-580d-4f33-b364-fbaa5a3a58b5</td>\n",
       "      <td>the murmurs</td>\n",
       "      <td>424</td>\n",
       "    </tr>\n",
       "    <tr>\n",
       "      <th>9</th>\n",
       "      <td>00000c289a1829a808ac09c00daf10bc3c4e223b</td>\n",
       "      <td>0639533a-0402-40ba-b6e0-18b067198b73</td>\n",
       "      <td>lunachicks</td>\n",
       "      <td>403</td>\n",
       "    </tr>\n",
       "  </tbody>\n",
       "</table>\n",
       "</div>"
      ],
      "text/plain": [
       "                                    user_id  \\\n",
       "0  00000c289a1829a808ac09c00daf10bc3c4e223b   \n",
       "1  00000c289a1829a808ac09c00daf10bc3c4e223b   \n",
       "2  00000c289a1829a808ac09c00daf10bc3c4e223b   \n",
       "3  00000c289a1829a808ac09c00daf10bc3c4e223b   \n",
       "4  00000c289a1829a808ac09c00daf10bc3c4e223b   \n",
       "5  00000c289a1829a808ac09c00daf10bc3c4e223b   \n",
       "6  00000c289a1829a808ac09c00daf10bc3c4e223b   \n",
       "7  00000c289a1829a808ac09c00daf10bc3c4e223b   \n",
       "8  00000c289a1829a808ac09c00daf10bc3c4e223b   \n",
       "9  00000c289a1829a808ac09c00daf10bc3c4e223b   \n",
       "\n",
       "                            artist_MBID                   artist  play  \n",
       "0  3bd73256-3905-4f3a-97e2-8b341527f805          betty blowtorch  2137  \n",
       "1  f2fb0ff0-5679-42ec-a55c-15109ce6e320                die Ärzte  1099  \n",
       "2  b3ae82c2-e60b-4551-a76d-6620f1b456aa        melissa etheridge   897  \n",
       "3  3d6bbeb7-f90e-4d10-b440-e153c0d10b53                elvenking   717  \n",
       "4  bbd2ffd7-17f4-4506-8572-c1ea58c3f9a8     juliette & the licks   706  \n",
       "5  8bfac288-ccc5-448d-9573-c33ea2aa5c30    red hot chili peppers   691  \n",
       "6  6531c8b1-76ea-4141-b270-eb1ac5b41375                   magica   545  \n",
       "7  21f3573f-10cf-44b3-aeaa-26cccd8448b5  the black dahlia murder   507  \n",
       "8  c5db90c4-580d-4f33-b364-fbaa5a3a58b5              the murmurs   424  \n",
       "9  0639533a-0402-40ba-b6e0-18b067198b73               lunachicks   403  "
      ]
     },
     "execution_count": 1,
     "metadata": {},
     "output_type": "execute_result"
    }
   ],
   "source": [
    "import os\n",
    "import pandas as pd\n",
    "\n",
    "fname = os.getenv('HOME') + '/aiffel/recommendata_iu/data/lastfm-dataset-360K/usersha1-artmbid-artname-plays.tsv'\n",
    "col_names = ['user_id', 'artist_MBID', 'artist', 'play']   # 임의로 지정한 컬럼명\n",
    "data = pd.read_csv(fname, sep='\\t', names= col_names)      # sep='\\t'로 주어야 tsv를 열 수 있습니다.  \n",
    "data.head(10)"
   ]
  },
  {
   "cell_type": "code",
   "execution_count": 2,
   "metadata": {
    "ExecuteTime": {
     "end_time": "2021-02-04T10:42:40.642119Z",
     "start_time": "2021-02-04T10:42:40.395481Z"
    }
   },
   "outputs": [
    {
     "data": {
      "text/html": [
       "<div>\n",
       "<style scoped>\n",
       "    .dataframe tbody tr th:only-of-type {\n",
       "        vertical-align: middle;\n",
       "    }\n",
       "\n",
       "    .dataframe tbody tr th {\n",
       "        vertical-align: top;\n",
       "    }\n",
       "\n",
       "    .dataframe thead th {\n",
       "        text-align: right;\n",
       "    }\n",
       "</style>\n",
       "<table border=\"1\" class=\"dataframe\">\n",
       "  <thead>\n",
       "    <tr style=\"text-align: right;\">\n",
       "      <th></th>\n",
       "      <th>user_id</th>\n",
       "      <th>artist</th>\n",
       "      <th>play</th>\n",
       "    </tr>\n",
       "  </thead>\n",
       "  <tbody>\n",
       "    <tr>\n",
       "      <th>0</th>\n",
       "      <td>00000c289a1829a808ac09c00daf10bc3c4e223b</td>\n",
       "      <td>betty blowtorch</td>\n",
       "      <td>2137</td>\n",
       "    </tr>\n",
       "    <tr>\n",
       "      <th>1</th>\n",
       "      <td>00000c289a1829a808ac09c00daf10bc3c4e223b</td>\n",
       "      <td>die Ärzte</td>\n",
       "      <td>1099</td>\n",
       "    </tr>\n",
       "    <tr>\n",
       "      <th>2</th>\n",
       "      <td>00000c289a1829a808ac09c00daf10bc3c4e223b</td>\n",
       "      <td>melissa etheridge</td>\n",
       "      <td>897</td>\n",
       "    </tr>\n",
       "    <tr>\n",
       "      <th>3</th>\n",
       "      <td>00000c289a1829a808ac09c00daf10bc3c4e223b</td>\n",
       "      <td>elvenking</td>\n",
       "      <td>717</td>\n",
       "    </tr>\n",
       "    <tr>\n",
       "      <th>4</th>\n",
       "      <td>00000c289a1829a808ac09c00daf10bc3c4e223b</td>\n",
       "      <td>juliette &amp; the licks</td>\n",
       "      <td>706</td>\n",
       "    </tr>\n",
       "  </tbody>\n",
       "</table>\n",
       "</div>"
      ],
      "text/plain": [
       "                                    user_id                artist  play\n",
       "0  00000c289a1829a808ac09c00daf10bc3c4e223b       betty blowtorch  2137\n",
       "1  00000c289a1829a808ac09c00daf10bc3c4e223b             die Ärzte  1099\n",
       "2  00000c289a1829a808ac09c00daf10bc3c4e223b     melissa etheridge   897\n",
       "3  00000c289a1829a808ac09c00daf10bc3c4e223b             elvenking   717\n",
       "4  00000c289a1829a808ac09c00daf10bc3c4e223b  juliette & the licks   706"
      ]
     },
     "execution_count": 2,
     "metadata": {},
     "output_type": "execute_result"
    }
   ],
   "source": [
    "# 필요없는 컬럼 제거\n",
    "using_cols = ['user_id', 'artist', 'play']\n",
    "data = data[using_cols]\n",
    "data.head()"
   ]
  },
  {
   "cell_type": "code",
   "execution_count": 3,
   "metadata": {
    "ExecuteTime": {
     "end_time": "2021-02-04T10:42:40.645942Z",
     "start_time": "2021-02-04T10:42:40.644000Z"
    }
   },
   "outputs": [],
   "source": [
    "# 다른 방법으로 컬럼 제거하기\n",
    "# del data['artist_MBID']\n",
    "# data.head()"
   ]
  },
  {
   "cell_type": "code",
   "execution_count": 4,
   "metadata": {
    "ExecuteTime": {
     "end_time": "2021-02-04T10:42:45.444295Z",
     "start_time": "2021-02-04T10:42:40.647256Z"
    }
   },
   "outputs": [
    {
     "data": {
      "text/html": [
       "<div>\n",
       "<style scoped>\n",
       "    .dataframe tbody tr th:only-of-type {\n",
       "        vertical-align: middle;\n",
       "    }\n",
       "\n",
       "    .dataframe tbody tr th {\n",
       "        vertical-align: top;\n",
       "    }\n",
       "\n",
       "    .dataframe thead th {\n",
       "        text-align: right;\n",
       "    }\n",
       "</style>\n",
       "<table border=\"1\" class=\"dataframe\">\n",
       "  <thead>\n",
       "    <tr style=\"text-align: right;\">\n",
       "      <th></th>\n",
       "      <th>user_id</th>\n",
       "      <th>artist</th>\n",
       "      <th>play</th>\n",
       "    </tr>\n",
       "  </thead>\n",
       "  <tbody>\n",
       "    <tr>\n",
       "      <th>0</th>\n",
       "      <td>00000c289a1829a808ac09c00daf10bc3c4e223b</td>\n",
       "      <td>betty blowtorch</td>\n",
       "      <td>2137</td>\n",
       "    </tr>\n",
       "    <tr>\n",
       "      <th>1</th>\n",
       "      <td>00000c289a1829a808ac09c00daf10bc3c4e223b</td>\n",
       "      <td>die ärzte</td>\n",
       "      <td>1099</td>\n",
       "    </tr>\n",
       "    <tr>\n",
       "      <th>2</th>\n",
       "      <td>00000c289a1829a808ac09c00daf10bc3c4e223b</td>\n",
       "      <td>melissa etheridge</td>\n",
       "      <td>897</td>\n",
       "    </tr>\n",
       "    <tr>\n",
       "      <th>3</th>\n",
       "      <td>00000c289a1829a808ac09c00daf10bc3c4e223b</td>\n",
       "      <td>elvenking</td>\n",
       "      <td>717</td>\n",
       "    </tr>\n",
       "    <tr>\n",
       "      <th>4</th>\n",
       "      <td>00000c289a1829a808ac09c00daf10bc3c4e223b</td>\n",
       "      <td>juliette &amp; the licks</td>\n",
       "      <td>706</td>\n",
       "    </tr>\n",
       "  </tbody>\n",
       "</table>\n",
       "</div>"
      ],
      "text/plain": [
       "                                    user_id                artist  play\n",
       "0  00000c289a1829a808ac09c00daf10bc3c4e223b       betty blowtorch  2137\n",
       "1  00000c289a1829a808ac09c00daf10bc3c4e223b             die ärzte  1099\n",
       "2  00000c289a1829a808ac09c00daf10bc3c4e223b     melissa etheridge   897\n",
       "3  00000c289a1829a808ac09c00daf10bc3c4e223b             elvenking   717\n",
       "4  00000c289a1829a808ac09c00daf10bc3c4e223b  juliette & the licks   706"
      ]
     },
     "execution_count": 4,
     "metadata": {},
     "output_type": "execute_result"
    }
   ],
   "source": [
    "# 검색을 쉽게하기 위해서 아티스트 문자열을 소문자로 바꿔주기\n",
    "data['artist'] = data['artist'].str.lower()\n",
    "data.head()"
   ]
  },
  {
   "cell_type": "code",
   "execution_count": 5,
   "metadata": {
    "ExecuteTime": {
     "end_time": "2021-02-04T10:42:46.167127Z",
     "start_time": "2021-02-04T10:42:45.445652Z"
    }
   },
   "outputs": [
    {
     "data": {
      "text/html": [
       "<div>\n",
       "<style scoped>\n",
       "    .dataframe tbody tr th:only-of-type {\n",
       "        vertical-align: middle;\n",
       "    }\n",
       "\n",
       "    .dataframe tbody tr th {\n",
       "        vertical-align: top;\n",
       "    }\n",
       "\n",
       "    .dataframe thead th {\n",
       "        text-align: right;\n",
       "    }\n",
       "</style>\n",
       "<table border=\"1\" class=\"dataframe\">\n",
       "  <thead>\n",
       "    <tr style=\"text-align: right;\">\n",
       "      <th></th>\n",
       "      <th>user_id</th>\n",
       "      <th>artist</th>\n",
       "      <th>play</th>\n",
       "    </tr>\n",
       "  </thead>\n",
       "  <tbody>\n",
       "    <tr>\n",
       "      <th>0</th>\n",
       "      <td>00000c289a1829a808ac09c00daf10bc3c4e223b</td>\n",
       "      <td>betty blowtorch</td>\n",
       "      <td>2137</td>\n",
       "    </tr>\n",
       "    <tr>\n",
       "      <th>1</th>\n",
       "      <td>00000c289a1829a808ac09c00daf10bc3c4e223b</td>\n",
       "      <td>die ärzte</td>\n",
       "      <td>1099</td>\n",
       "    </tr>\n",
       "    <tr>\n",
       "      <th>2</th>\n",
       "      <td>00000c289a1829a808ac09c00daf10bc3c4e223b</td>\n",
       "      <td>melissa etheridge</td>\n",
       "      <td>897</td>\n",
       "    </tr>\n",
       "    <tr>\n",
       "      <th>3</th>\n",
       "      <td>00000c289a1829a808ac09c00daf10bc3c4e223b</td>\n",
       "      <td>elvenking</td>\n",
       "      <td>717</td>\n",
       "    </tr>\n",
       "    <tr>\n",
       "      <th>4</th>\n",
       "      <td>00000c289a1829a808ac09c00daf10bc3c4e223b</td>\n",
       "      <td>juliette &amp; the licks</td>\n",
       "      <td>706</td>\n",
       "    </tr>\n",
       "    <tr>\n",
       "      <th>5</th>\n",
       "      <td>00000c289a1829a808ac09c00daf10bc3c4e223b</td>\n",
       "      <td>red hot chili peppers</td>\n",
       "      <td>691</td>\n",
       "    </tr>\n",
       "    <tr>\n",
       "      <th>6</th>\n",
       "      <td>00000c289a1829a808ac09c00daf10bc3c4e223b</td>\n",
       "      <td>magica</td>\n",
       "      <td>545</td>\n",
       "    </tr>\n",
       "    <tr>\n",
       "      <th>7</th>\n",
       "      <td>00000c289a1829a808ac09c00daf10bc3c4e223b</td>\n",
       "      <td>the black dahlia murder</td>\n",
       "      <td>507</td>\n",
       "    </tr>\n",
       "    <tr>\n",
       "      <th>8</th>\n",
       "      <td>00000c289a1829a808ac09c00daf10bc3c4e223b</td>\n",
       "      <td>the murmurs</td>\n",
       "      <td>424</td>\n",
       "    </tr>\n",
       "    <tr>\n",
       "      <th>9</th>\n",
       "      <td>00000c289a1829a808ac09c00daf10bc3c4e223b</td>\n",
       "      <td>lunachicks</td>\n",
       "      <td>403</td>\n",
       "    </tr>\n",
       "    <tr>\n",
       "      <th>10</th>\n",
       "      <td>00000c289a1829a808ac09c00daf10bc3c4e223b</td>\n",
       "      <td>walls of jericho</td>\n",
       "      <td>393</td>\n",
       "    </tr>\n",
       "    <tr>\n",
       "      <th>11</th>\n",
       "      <td>00000c289a1829a808ac09c00daf10bc3c4e223b</td>\n",
       "      <td>letzte instanz</td>\n",
       "      <td>387</td>\n",
       "    </tr>\n",
       "    <tr>\n",
       "      <th>12</th>\n",
       "      <td>00000c289a1829a808ac09c00daf10bc3c4e223b</td>\n",
       "      <td>goldfrapp</td>\n",
       "      <td>361</td>\n",
       "    </tr>\n",
       "    <tr>\n",
       "      <th>13</th>\n",
       "      <td>00000c289a1829a808ac09c00daf10bc3c4e223b</td>\n",
       "      <td>horrorpops</td>\n",
       "      <td>358</td>\n",
       "    </tr>\n",
       "    <tr>\n",
       "      <th>14</th>\n",
       "      <td>00000c289a1829a808ac09c00daf10bc3c4e223b</td>\n",
       "      <td>the butchies</td>\n",
       "      <td>329</td>\n",
       "    </tr>\n",
       "    <tr>\n",
       "      <th>15</th>\n",
       "      <td>00000c289a1829a808ac09c00daf10bc3c4e223b</td>\n",
       "      <td>jack off jill</td>\n",
       "      <td>316</td>\n",
       "    </tr>\n",
       "    <tr>\n",
       "      <th>16</th>\n",
       "      <td>00000c289a1829a808ac09c00daf10bc3c4e223b</td>\n",
       "      <td>babes in toyland</td>\n",
       "      <td>310</td>\n",
       "    </tr>\n",
       "    <tr>\n",
       "      <th>17</th>\n",
       "      <td>00000c289a1829a808ac09c00daf10bc3c4e223b</td>\n",
       "      <td>dropkick murphys</td>\n",
       "      <td>302</td>\n",
       "    </tr>\n",
       "    <tr>\n",
       "      <th>18</th>\n",
       "      <td>00000c289a1829a808ac09c00daf10bc3c4e223b</td>\n",
       "      <td>all:my:faults</td>\n",
       "      <td>288</td>\n",
       "    </tr>\n",
       "    <tr>\n",
       "      <th>19</th>\n",
       "      <td>00000c289a1829a808ac09c00daf10bc3c4e223b</td>\n",
       "      <td>le tigre</td>\n",
       "      <td>281</td>\n",
       "    </tr>\n",
       "    <tr>\n",
       "      <th>20</th>\n",
       "      <td>00000c289a1829a808ac09c00daf10bc3c4e223b</td>\n",
       "      <td>schandmaul</td>\n",
       "      <td>244</td>\n",
       "    </tr>\n",
       "    <tr>\n",
       "      <th>21</th>\n",
       "      <td>00000c289a1829a808ac09c00daf10bc3c4e223b</td>\n",
       "      <td>edguy</td>\n",
       "      <td>232</td>\n",
       "    </tr>\n",
       "    <tr>\n",
       "      <th>22</th>\n",
       "      <td>00000c289a1829a808ac09c00daf10bc3c4e223b</td>\n",
       "      <td>maximum the hormone</td>\n",
       "      <td>231</td>\n",
       "    </tr>\n",
       "    <tr>\n",
       "      <th>23</th>\n",
       "      <td>00000c289a1829a808ac09c00daf10bc3c4e223b</td>\n",
       "      <td>all ends</td>\n",
       "      <td>229</td>\n",
       "    </tr>\n",
       "    <tr>\n",
       "      <th>24</th>\n",
       "      <td>00000c289a1829a808ac09c00daf10bc3c4e223b</td>\n",
       "      <td>jack johnson</td>\n",
       "      <td>227</td>\n",
       "    </tr>\n",
       "    <tr>\n",
       "      <th>25</th>\n",
       "      <td>00000c289a1829a808ac09c00daf10bc3c4e223b</td>\n",
       "      <td>eluveitie</td>\n",
       "      <td>222</td>\n",
       "    </tr>\n",
       "    <tr>\n",
       "      <th>26</th>\n",
       "      <td>00000c289a1829a808ac09c00daf10bc3c4e223b</td>\n",
       "      <td>rasputina</td>\n",
       "      <td>220</td>\n",
       "    </tr>\n",
       "    <tr>\n",
       "      <th>27</th>\n",
       "      <td>00000c289a1829a808ac09c00daf10bc3c4e223b</td>\n",
       "      <td>london after midnight</td>\n",
       "      <td>210</td>\n",
       "    </tr>\n",
       "    <tr>\n",
       "      <th>28</th>\n",
       "      <td>00000c289a1829a808ac09c00daf10bc3c4e223b</td>\n",
       "      <td>the killers</td>\n",
       "      <td>208</td>\n",
       "    </tr>\n",
       "    <tr>\n",
       "      <th>29</th>\n",
       "      <td>00000c289a1829a808ac09c00daf10bc3c4e223b</td>\n",
       "      <td>mutyumu</td>\n",
       "      <td>205</td>\n",
       "    </tr>\n",
       "    <tr>\n",
       "      <th>30</th>\n",
       "      <td>00000c289a1829a808ac09c00daf10bc3c4e223b</td>\n",
       "      <td>judas priest</td>\n",
       "      <td>198</td>\n",
       "    </tr>\n",
       "    <tr>\n",
       "      <th>31</th>\n",
       "      <td>00000c289a1829a808ac09c00daf10bc3c4e223b</td>\n",
       "      <td>rob zombie</td>\n",
       "      <td>198</td>\n",
       "    </tr>\n",
       "    <tr>\n",
       "      <th>32</th>\n",
       "      <td>00000c289a1829a808ac09c00daf10bc3c4e223b</td>\n",
       "      <td>the bosshoss</td>\n",
       "      <td>189</td>\n",
       "    </tr>\n",
       "    <tr>\n",
       "      <th>33</th>\n",
       "      <td>00000c289a1829a808ac09c00daf10bc3c4e223b</td>\n",
       "      <td>blue öyster cult</td>\n",
       "      <td>185</td>\n",
       "    </tr>\n",
       "    <tr>\n",
       "      <th>34</th>\n",
       "      <td>00000c289a1829a808ac09c00daf10bc3c4e223b</td>\n",
       "      <td>sandra nasic</td>\n",
       "      <td>183</td>\n",
       "    </tr>\n",
       "    <tr>\n",
       "      <th>35</th>\n",
       "      <td>00000c289a1829a808ac09c00daf10bc3c4e223b</td>\n",
       "      <td>john mayer</td>\n",
       "      <td>182</td>\n",
       "    </tr>\n",
       "    <tr>\n",
       "      <th>36</th>\n",
       "      <td>00000c289a1829a808ac09c00daf10bc3c4e223b</td>\n",
       "      <td>sleater-kinney</td>\n",
       "      <td>175</td>\n",
       "    </tr>\n",
       "    <tr>\n",
       "      <th>37</th>\n",
       "      <td>00000c289a1829a808ac09c00daf10bc3c4e223b</td>\n",
       "      <td>the who</td>\n",
       "      <td>168</td>\n",
       "    </tr>\n",
       "    <tr>\n",
       "      <th>38</th>\n",
       "      <td>00000c289a1829a808ac09c00daf10bc3c4e223b</td>\n",
       "      <td>disciple</td>\n",
       "      <td>154</td>\n",
       "    </tr>\n",
       "    <tr>\n",
       "      <th>39</th>\n",
       "      <td>00000c289a1829a808ac09c00daf10bc3c4e223b</td>\n",
       "      <td>tanzwut</td>\n",
       "      <td>153</td>\n",
       "    </tr>\n",
       "    <tr>\n",
       "      <th>40</th>\n",
       "      <td>00000c289a1829a808ac09c00daf10bc3c4e223b</td>\n",
       "      <td>guano apes</td>\n",
       "      <td>151</td>\n",
       "    </tr>\n",
       "    <tr>\n",
       "      <th>41</th>\n",
       "      <td>00000c289a1829a808ac09c00daf10bc3c4e223b</td>\n",
       "      <td>the rolling stones</td>\n",
       "      <td>150</td>\n",
       "    </tr>\n",
       "    <tr>\n",
       "      <th>42</th>\n",
       "      <td>00000c289a1829a808ac09c00daf10bc3c4e223b</td>\n",
       "      <td>little big town</td>\n",
       "      <td>145</td>\n",
       "    </tr>\n",
       "    <tr>\n",
       "      <th>43</th>\n",
       "      <td>00000c289a1829a808ac09c00daf10bc3c4e223b</td>\n",
       "      <td>team dresch</td>\n",
       "      <td>137</td>\n",
       "    </tr>\n",
       "    <tr>\n",
       "      <th>44</th>\n",
       "      <td>00000c289a1829a808ac09c00daf10bc3c4e223b</td>\n",
       "      <td>betty</td>\n",
       "      <td>135</td>\n",
       "    </tr>\n",
       "    <tr>\n",
       "      <th>45</th>\n",
       "      <td>00000c289a1829a808ac09c00daf10bc3c4e223b</td>\n",
       "      <td>l7</td>\n",
       "      <td>135</td>\n",
       "    </tr>\n",
       "    <tr>\n",
       "      <th>46</th>\n",
       "      <td>00000c289a1829a808ac09c00daf10bc3c4e223b</td>\n",
       "      <td>bif naked</td>\n",
       "      <td>134</td>\n",
       "    </tr>\n",
       "    <tr>\n",
       "      <th>47</th>\n",
       "      <td>00000c289a1829a808ac09c00daf10bc3c4e223b</td>\n",
       "      <td>girlschool</td>\n",
       "      <td>134</td>\n",
       "    </tr>\n",
       "    <tr>\n",
       "      <th>48</th>\n",
       "      <td>00000c289a1829a808ac09c00daf10bc3c4e223b</td>\n",
       "      <td>the wallflowers</td>\n",
       "      <td>131</td>\n",
       "    </tr>\n",
       "  </tbody>\n",
       "</table>\n",
       "</div>"
      ],
      "text/plain": [
       "                                     user_id                   artist  play\n",
       "0   00000c289a1829a808ac09c00daf10bc3c4e223b          betty blowtorch  2137\n",
       "1   00000c289a1829a808ac09c00daf10bc3c4e223b                die ärzte  1099\n",
       "2   00000c289a1829a808ac09c00daf10bc3c4e223b        melissa etheridge   897\n",
       "3   00000c289a1829a808ac09c00daf10bc3c4e223b                elvenking   717\n",
       "4   00000c289a1829a808ac09c00daf10bc3c4e223b     juliette & the licks   706\n",
       "5   00000c289a1829a808ac09c00daf10bc3c4e223b    red hot chili peppers   691\n",
       "6   00000c289a1829a808ac09c00daf10bc3c4e223b                   magica   545\n",
       "7   00000c289a1829a808ac09c00daf10bc3c4e223b  the black dahlia murder   507\n",
       "8   00000c289a1829a808ac09c00daf10bc3c4e223b              the murmurs   424\n",
       "9   00000c289a1829a808ac09c00daf10bc3c4e223b               lunachicks   403\n",
       "10  00000c289a1829a808ac09c00daf10bc3c4e223b         walls of jericho   393\n",
       "11  00000c289a1829a808ac09c00daf10bc3c4e223b           letzte instanz   387\n",
       "12  00000c289a1829a808ac09c00daf10bc3c4e223b                goldfrapp   361\n",
       "13  00000c289a1829a808ac09c00daf10bc3c4e223b               horrorpops   358\n",
       "14  00000c289a1829a808ac09c00daf10bc3c4e223b             the butchies   329\n",
       "15  00000c289a1829a808ac09c00daf10bc3c4e223b            jack off jill   316\n",
       "16  00000c289a1829a808ac09c00daf10bc3c4e223b         babes in toyland   310\n",
       "17  00000c289a1829a808ac09c00daf10bc3c4e223b         dropkick murphys   302\n",
       "18  00000c289a1829a808ac09c00daf10bc3c4e223b            all:my:faults   288\n",
       "19  00000c289a1829a808ac09c00daf10bc3c4e223b                 le tigre   281\n",
       "20  00000c289a1829a808ac09c00daf10bc3c4e223b               schandmaul   244\n",
       "21  00000c289a1829a808ac09c00daf10bc3c4e223b                    edguy   232\n",
       "22  00000c289a1829a808ac09c00daf10bc3c4e223b      maximum the hormone   231\n",
       "23  00000c289a1829a808ac09c00daf10bc3c4e223b                 all ends   229\n",
       "24  00000c289a1829a808ac09c00daf10bc3c4e223b             jack johnson   227\n",
       "25  00000c289a1829a808ac09c00daf10bc3c4e223b                eluveitie   222\n",
       "26  00000c289a1829a808ac09c00daf10bc3c4e223b                rasputina   220\n",
       "27  00000c289a1829a808ac09c00daf10bc3c4e223b    london after midnight   210\n",
       "28  00000c289a1829a808ac09c00daf10bc3c4e223b              the killers   208\n",
       "29  00000c289a1829a808ac09c00daf10bc3c4e223b                  mutyumu   205\n",
       "30  00000c289a1829a808ac09c00daf10bc3c4e223b             judas priest   198\n",
       "31  00000c289a1829a808ac09c00daf10bc3c4e223b               rob zombie   198\n",
       "32  00000c289a1829a808ac09c00daf10bc3c4e223b             the bosshoss   189\n",
       "33  00000c289a1829a808ac09c00daf10bc3c4e223b         blue öyster cult   185\n",
       "34  00000c289a1829a808ac09c00daf10bc3c4e223b             sandra nasic   183\n",
       "35  00000c289a1829a808ac09c00daf10bc3c4e223b               john mayer   182\n",
       "36  00000c289a1829a808ac09c00daf10bc3c4e223b           sleater-kinney   175\n",
       "37  00000c289a1829a808ac09c00daf10bc3c4e223b                  the who   168\n",
       "38  00000c289a1829a808ac09c00daf10bc3c4e223b                 disciple   154\n",
       "39  00000c289a1829a808ac09c00daf10bc3c4e223b                  tanzwut   153\n",
       "40  00000c289a1829a808ac09c00daf10bc3c4e223b               guano apes   151\n",
       "41  00000c289a1829a808ac09c00daf10bc3c4e223b       the rolling stones   150\n",
       "42  00000c289a1829a808ac09c00daf10bc3c4e223b          little big town   145\n",
       "43  00000c289a1829a808ac09c00daf10bc3c4e223b              team dresch   137\n",
       "44  00000c289a1829a808ac09c00daf10bc3c4e223b                    betty   135\n",
       "45  00000c289a1829a808ac09c00daf10bc3c4e223b                       l7   135\n",
       "46  00000c289a1829a808ac09c00daf10bc3c4e223b                bif naked   134\n",
       "47  00000c289a1829a808ac09c00daf10bc3c4e223b               girlschool   134\n",
       "48  00000c289a1829a808ac09c00daf10bc3c4e223b          the wallflowers   131"
      ]
     },
     "execution_count": 5,
     "metadata": {},
     "output_type": "execute_result"
    }
   ],
   "source": [
    "# 데이터 확인하기\n",
    "# 첫 번째 유저가 어떤 아티스트의 노래를 듣는지 확인하기\n",
    "data[data['user_id'] == data.loc[0, 'user_id']]"
   ]
  },
  {
   "cell_type": "code",
   "execution_count": 6,
   "metadata": {
    "ExecuteTime": {
     "end_time": "2021-02-04T10:42:46.173157Z",
     "start_time": "2021-02-04T10:42:46.168200Z"
    }
   },
   "outputs": [
    {
     "name": "stdout",
     "output_type": "stream",
     "text": [
      "<class 'pandas.core.frame.DataFrame'>\n",
      "RangeIndex: 17535655 entries, 0 to 17535654\n",
      "Data columns (total 3 columns):\n",
      " #   Column   Dtype \n",
      "---  ------   ----- \n",
      " 0   user_id  object\n",
      " 1   artist   object\n",
      " 2   play     int64 \n",
      "dtypes: int64(1), object(2)\n",
      "memory usage: 401.4+ MB\n"
     ]
    }
   ],
   "source": [
    "data.info()"
   ]
  },
  {
   "cell_type": "code",
   "execution_count": 7,
   "metadata": {
    "ExecuteTime": {
     "end_time": "2021-02-04T10:42:46.177711Z",
     "start_time": "2021-02-04T10:42:46.174097Z"
    }
   },
   "outputs": [
    {
     "data": {
      "text/plain": [
       "(17535655, 3)"
      ]
     },
     "execution_count": 7,
     "metadata": {},
     "output_type": "execute_result"
    }
   ],
   "source": [
    "data.shape"
   ]
  },
  {
   "cell_type": "markdown",
   "metadata": {},
   "source": [
    "### 데이터 탐색\n",
    "\n",
    "+ EDA\n",
    "    - 유저수, 아티스트수, 인기 많은 아티스트\n",
    "    - 유저들이 몇 명의 아티스트를 듣고 있는지에 대한 통계\n",
    "    - 유저 play 횟수 중앙값에 대한 통계"
   ]
  },
  {
   "cell_type": "markdown",
   "metadata": {},
   "source": [
    "> pandas.DataFrame.nunique()"
   ]
  },
  {
   "cell_type": "code",
   "execution_count": 8,
   "metadata": {
    "ExecuteTime": {
     "end_time": "2021-02-04T10:42:47.358003Z",
     "start_time": "2021-02-04T10:42:46.179456Z"
    }
   },
   "outputs": [
    {
     "data": {
      "text/plain": [
       "358868"
      ]
     },
     "execution_count": 8,
     "metadata": {},
     "output_type": "execute_result"
    }
   ],
   "source": [
    "# 유저 수\n",
    "data['user_id'].nunique()"
   ]
  },
  {
   "cell_type": "code",
   "execution_count": 9,
   "metadata": {
    "ExecuteTime": {
     "end_time": "2021-02-04T10:42:49.444375Z",
     "start_time": "2021-02-04T10:42:47.359411Z"
    }
   },
   "outputs": [
    {
     "data": {
      "text/plain": [
       "291346"
      ]
     },
     "execution_count": 9,
     "metadata": {},
     "output_type": "execute_result"
    }
   ],
   "source": [
    "# 아티스트 수\n",
    "data['artist'].nunique()"
   ]
  },
  {
   "cell_type": "code",
   "execution_count": 10,
   "metadata": {
    "ExecuteTime": {
     "end_time": "2021-02-04T10:42:52.719055Z",
     "start_time": "2021-02-04T10:42:49.445485Z"
    }
   },
   "outputs": [
    {
     "data": {
      "text/plain": [
       "artist\n",
       "radiohead                77254\n",
       "the beatles              76245\n",
       "coldplay                 66658\n",
       "red hot chili peppers    48924\n",
       "muse                     46954\n",
       "Name: user_id, dtype: int64"
      ]
     },
     "execution_count": 10,
     "metadata": {},
     "output_type": "execute_result"
    }
   ],
   "source": [
    "# 인기많은 아티스트\n",
    "artist_count = data.groupby('artist')['user_id'].count()\n",
    "artist_count.sort_values(ascending=False).head()"
   ]
  },
  {
   "cell_type": "code",
   "execution_count": 11,
   "metadata": {
    "ExecuteTime": {
     "end_time": "2021-02-04T10:42:54.662050Z",
     "start_time": "2021-02-04T10:42:52.720312Z"
    },
    "scrolled": true
   },
   "outputs": [
    {
     "data": {
      "text/plain": [
       "count    358868.000000\n",
       "mean         48.863234\n",
       "std           8.524272\n",
       "min           1.000000\n",
       "25%          46.000000\n",
       "50%          49.000000\n",
       "75%          51.000000\n",
       "max         166.000000\n",
       "Name: artist, dtype: float64"
      ]
     },
     "execution_count": 11,
     "metadata": {},
     "output_type": "execute_result"
    }
   ],
   "source": [
    "# 유저별 몇 명의 아티스트를 듣고 있는지에 대한 통계\n",
    "user_count = data.groupby('user_id')['artist'].count()\n",
    "user_count.describe()"
   ]
  },
  {
   "cell_type": "markdown",
   "metadata": {},
   "source": [
    "### 모델 검증을 위한 사용자 초기 정보 세팅"
   ]
  },
  {
   "cell_type": "code",
   "execution_count": 12,
   "metadata": {
    "ExecuteTime": {
     "end_time": "2021-02-04T10:42:55.731831Z",
     "start_time": "2021-02-04T10:42:54.663121Z"
    }
   },
   "outputs": [
    {
     "data": {
      "text/html": [
       "<div>\n",
       "<style scoped>\n",
       "    .dataframe tbody tr th:only-of-type {\n",
       "        vertical-align: middle;\n",
       "    }\n",
       "\n",
       "    .dataframe tbody tr th {\n",
       "        vertical-align: top;\n",
       "    }\n",
       "\n",
       "    .dataframe thead th {\n",
       "        text-align: right;\n",
       "    }\n",
       "</style>\n",
       "<table border=\"1\" class=\"dataframe\">\n",
       "  <thead>\n",
       "    <tr style=\"text-align: right;\">\n",
       "      <th></th>\n",
       "      <th>user_id</th>\n",
       "      <th>artist</th>\n",
       "      <th>play</th>\n",
       "    </tr>\n",
       "  </thead>\n",
       "  <tbody>\n",
       "    <tr>\n",
       "      <th>17535650</th>\n",
       "      <td>sep 20, 2008</td>\n",
       "      <td>turbostaat</td>\n",
       "      <td>12</td>\n",
       "    </tr>\n",
       "    <tr>\n",
       "      <th>17535651</th>\n",
       "      <td>sep 20, 2008</td>\n",
       "      <td>cuba missouri</td>\n",
       "      <td>11</td>\n",
       "    </tr>\n",
       "    <tr>\n",
       "      <th>17535652</th>\n",
       "      <td>sep 20, 2008</td>\n",
       "      <td>little man tate</td>\n",
       "      <td>11</td>\n",
       "    </tr>\n",
       "    <tr>\n",
       "      <th>17535653</th>\n",
       "      <td>sep 20, 2008</td>\n",
       "      <td>sigur rós</td>\n",
       "      <td>10</td>\n",
       "    </tr>\n",
       "    <tr>\n",
       "      <th>17535654</th>\n",
       "      <td>sep 20, 2008</td>\n",
       "      <td>the smiths</td>\n",
       "      <td>10</td>\n",
       "    </tr>\n",
       "    <tr>\n",
       "      <th>0</th>\n",
       "      <td>mingki</td>\n",
       "      <td>black eyed peas</td>\n",
       "      <td>30</td>\n",
       "    </tr>\n",
       "    <tr>\n",
       "      <th>1</th>\n",
       "      <td>mingki</td>\n",
       "      <td>maroon5</td>\n",
       "      <td>30</td>\n",
       "    </tr>\n",
       "    <tr>\n",
       "      <th>2</th>\n",
       "      <td>mingki</td>\n",
       "      <td>jason mraz</td>\n",
       "      <td>30</td>\n",
       "    </tr>\n",
       "    <tr>\n",
       "      <th>3</th>\n",
       "      <td>mingki</td>\n",
       "      <td>coldplay</td>\n",
       "      <td>30</td>\n",
       "    </tr>\n",
       "    <tr>\n",
       "      <th>4</th>\n",
       "      <td>mingki</td>\n",
       "      <td>beyoncé</td>\n",
       "      <td>30</td>\n",
       "    </tr>\n",
       "  </tbody>\n",
       "</table>\n",
       "</div>"
      ],
      "text/plain": [
       "               user_id           artist  play\n",
       "17535650  sep 20, 2008       turbostaat    12\n",
       "17535651  sep 20, 2008    cuba missouri    11\n",
       "17535652  sep 20, 2008  little man tate    11\n",
       "17535653  sep 20, 2008        sigur rós    10\n",
       "17535654  sep 20, 2008       the smiths    10\n",
       "0               mingki  black eyed peas    30\n",
       "1               mingki          maroon5    30\n",
       "2               mingki       jason mraz    30\n",
       "3               mingki         coldplay    30\n",
       "4               mingki          beyoncé    30"
      ]
     },
     "execution_count": 12,
     "metadata": {},
     "output_type": "execute_result"
    }
   ],
   "source": [
    "# 본인이 좋아하시는 아티스트 데이터로 바꿔서 추가하셔도 됩니다! 단, 이름은 꼭 데이터셋에 있는 것과 동일하게 맞춰주세요. \n",
    "my_favorite = ['black eyed peas' , 'maroon5' ,'jason mraz' ,'coldplay' ,'beyoncé']\n",
    "\n",
    "# 'mingki'라는 user_id가 위 아티스트의 노래를 30회씩 들었다고 가정하겠습니다.\n",
    "my_playlist = pd.DataFrame({'user_id': ['mingki']*5, 'artist': my_favorite, 'play':[30]*5})\n",
    "\n",
    "if not data.isin({'user_id':['mingki']})['user_id'].any():  # user_id에 'zimin'이라는 데이터가 없다면\n",
    "    data = data.append(my_playlist)                           # 위에 임의로 만든 my_favorite 데이터를 추가해 줍니다. \n",
    "\n",
    "data.tail(10)       # 잘 추가되었는지 확인해 봅시다."
   ]
  },
  {
   "cell_type": "code",
   "execution_count": 13,
   "metadata": {
    "ExecuteTime": {
     "end_time": "2021-02-04T10:42:56.516258Z",
     "start_time": "2021-02-04T10:42:55.733064Z"
    }
   },
   "outputs": [
    {
     "data": {
      "text/plain": [
       "True"
      ]
     },
     "execution_count": 13,
     "metadata": {},
     "output_type": "execute_result"
    }
   ],
   "source": [
    "data.isin({'user_id':['mingki']})['user_id'].any()"
   ]
  },
  {
   "cell_type": "markdown",
   "metadata": {
    "ExecuteTime": {
     "end_time": "2021-02-04T10:13:52.140916Z",
     "start_time": "2021-02-04T10:13:51.259347Z"
    }
   },
   "source": [
    "### 모델에 활용하기 위한 전처리 (실습)\n",
    "\n",
    "우리가 다루는 데이터에서는 user와 artist 각각에 번호를 붙이고 싶습니다. 보통 이런 작업을 indexing이라고 합니다."
   ]
  },
  {
   "cell_type": "markdown",
   "metadata": {},
   "source": [
    "> pandas.DataFrame.unique()"
   ]
  },
  {
   "cell_type": "code",
   "execution_count": 14,
   "metadata": {
    "ExecuteTime": {
     "end_time": "2021-02-04T10:42:59.298699Z",
     "start_time": "2021-02-04T10:42:56.517374Z"
    }
   },
   "outputs": [],
   "source": [
    "# 고유한 유저, 아티스트로 배열 만들어주기\n",
    "user_unique = data['user_id'].unique()\n",
    "artist_unique = data['artist'].unique()"
   ]
  },
  {
   "cell_type": "code",
   "execution_count": 15,
   "metadata": {
    "ExecuteTime": {
     "end_time": "2021-02-04T10:42:59.302845Z",
     "start_time": "2021-02-04T10:42:59.299749Z"
    },
    "scrolled": true
   },
   "outputs": [
    {
     "data": {
      "text/plain": [
       "{'00000c289a1829a808ac09c00daf10bc3c4e223b': 0,\n",
       " '00001411dc427966b17297bf4d69e7e193135d89': 1,\n",
       " '00004d2ac9316e22dc007ab2243d6fcb239e707d': 2,\n",
       " '000063d3fe1cf2ba248b9e3c3f0334845a27a6bf': 3,\n",
       " '00007a47085b9aab8af55f52ec8846ac479ac4fe': 4}"
      ]
     },
     "execution_count": 15,
     "metadata": {},
     "output_type": "execute_result"
    }
   ],
   "source": [
    "{j:i for i, j in enumerate(user_unique[:5])}"
   ]
  },
  {
   "cell_type": "code",
   "execution_count": 16,
   "metadata": {
    "ExecuteTime": {
     "end_time": "2021-02-04T10:42:59.410115Z",
     "start_time": "2021-02-04T10:42:59.303910Z"
    }
   },
   "outputs": [],
   "source": [
    "# 인덱싱\n",
    "user_to_idx = {j:i for i, j in enumerate(user_unique)}\n",
    "artist_to_idx = {j:i for i, j in enumerate(artist_unique)}"
   ]
  },
  {
   "cell_type": "code",
   "execution_count": 17,
   "metadata": {
    "ExecuteTime": {
     "end_time": "2021-02-04T10:42:59.414311Z",
     "start_time": "2021-02-04T10:42:59.411286Z"
    }
   },
   "outputs": [
    {
     "name": "stdout",
     "output_type": "stream",
     "text": [
      "358868\n",
      "270115\n"
     ]
    }
   ],
   "source": [
    "# 인덱싱이 잘 되었는지 확인하기\n",
    "print(user_to_idx['mingki'])\n",
    "print(artist_to_idx['maroon5'])"
   ]
  },
  {
   "cell_type": "code",
   "execution_count": 18,
   "metadata": {
    "ExecuteTime": {
     "end_time": "2021-02-04T10:43:02.101005Z",
     "start_time": "2021-02-04T10:42:59.415574Z"
    }
   },
   "outputs": [
    {
     "data": {
      "text/plain": [
       "0         0\n",
       "1         0\n",
       "2         0\n",
       "3         0\n",
       "4         0\n",
       "      ...  \n",
       "0    358868\n",
       "1    358868\n",
       "2    358868\n",
       "3    358868\n",
       "4    358868\n",
       "Name: user_id, Length: 17535660, dtype: int64"
      ]
     },
     "execution_count": 18,
     "metadata": {},
     "output_type": "execute_result"
    }
   ],
   "source": [
    "# indexing을 통해 데이터 컬럼 내 값을 바꾸는 코드\n",
    "\n",
    "# user_to_idx.get을 통해 user_id 컬럼의 모든 값을 인덱싱한 Series를 구해보자.\n",
    "# 혹시 정상적으로 인덱싱되지 않은 row가 있다면 인덱스가 NaN이 될테니 dropna()로 제거한다.\n",
    "temp_user_data = data['user_id'].map(user_to_idx.get).dropna()\n",
    "temp_user_data"
   ]
  },
  {
   "cell_type": "code",
   "execution_count": 19,
   "metadata": {
    "ExecuteTime": {
     "end_time": "2021-02-04T10:43:04.794782Z",
     "start_time": "2021-02-04T10:43:02.102119Z"
    }
   },
   "outputs": [
    {
     "data": {
      "text/plain": [
       "0         0\n",
       "1         0\n",
       "2         0\n",
       "3         0\n",
       "4         0\n",
       "      ...  \n",
       "0    358868\n",
       "1    358868\n",
       "2    358868\n",
       "3    358868\n",
       "4    358868\n",
       "Name: user_id, Length: 17535660, dtype: int64"
      ]
     },
     "execution_count": 19,
     "metadata": {},
     "output_type": "execute_result"
    }
   ],
   "source": [
    "data['user_id'].map(user_to_idx.get).dropna()"
   ]
  },
  {
   "cell_type": "code",
   "execution_count": 20,
   "metadata": {
    "ExecuteTime": {
     "end_time": "2021-02-04T10:43:04.968524Z",
     "start_time": "2021-02-04T10:43:04.795822Z"
    }
   },
   "outputs": [
    {
     "name": "stdout",
     "output_type": "stream",
     "text": [
      "user_id column indexing OK!!\n"
     ]
    }
   ],
   "source": [
    "if len(temp_user_data)==len(data): # 모든 row가 정상적으로 인덱싱 되었다면\n",
    "    print('user_id column indexing OK!!')\n",
    "    data['user_id']=temp_user_data # data['user_id']을 인덱싱된 Series로 교체\n",
    "else:\n",
    "    print('user_id column indexing Fail!!')"
   ]
  },
  {
   "cell_type": "code",
   "execution_count": 21,
   "metadata": {
    "ExecuteTime": {
     "end_time": "2021-02-04T10:43:10.188066Z",
     "start_time": "2021-02-04T10:43:04.970123Z"
    }
   },
   "outputs": [
    {
     "name": "stdout",
     "output_type": "stream",
     "text": [
      "artist column indexing OK!!\n"
     ]
    },
    {
     "data": {
      "text/html": [
       "<div>\n",
       "<style scoped>\n",
       "    .dataframe tbody tr th:only-of-type {\n",
       "        vertical-align: middle;\n",
       "    }\n",
       "\n",
       "    .dataframe tbody tr th {\n",
       "        vertical-align: top;\n",
       "    }\n",
       "\n",
       "    .dataframe thead th {\n",
       "        text-align: right;\n",
       "    }\n",
       "</style>\n",
       "<table border=\"1\" class=\"dataframe\">\n",
       "  <thead>\n",
       "    <tr style=\"text-align: right;\">\n",
       "      <th></th>\n",
       "      <th>user_id</th>\n",
       "      <th>artist</th>\n",
       "      <th>play</th>\n",
       "    </tr>\n",
       "  </thead>\n",
       "  <tbody>\n",
       "    <tr>\n",
       "      <th>0</th>\n",
       "      <td>0</td>\n",
       "      <td>0</td>\n",
       "      <td>2137</td>\n",
       "    </tr>\n",
       "    <tr>\n",
       "      <th>1</th>\n",
       "      <td>0</td>\n",
       "      <td>1</td>\n",
       "      <td>1099</td>\n",
       "    </tr>\n",
       "    <tr>\n",
       "      <th>2</th>\n",
       "      <td>0</td>\n",
       "      <td>2</td>\n",
       "      <td>897</td>\n",
       "    </tr>\n",
       "    <tr>\n",
       "      <th>3</th>\n",
       "      <td>0</td>\n",
       "      <td>3</td>\n",
       "      <td>717</td>\n",
       "    </tr>\n",
       "    <tr>\n",
       "      <th>4</th>\n",
       "      <td>0</td>\n",
       "      <td>4</td>\n",
       "      <td>706</td>\n",
       "    </tr>\n",
       "    <tr>\n",
       "      <th>...</th>\n",
       "      <td>...</td>\n",
       "      <td>...</td>\n",
       "      <td>...</td>\n",
       "    </tr>\n",
       "    <tr>\n",
       "      <th>0</th>\n",
       "      <td>358868</td>\n",
       "      <td>376</td>\n",
       "      <td>30</td>\n",
       "    </tr>\n",
       "    <tr>\n",
       "      <th>1</th>\n",
       "      <td>358868</td>\n",
       "      <td>270115</td>\n",
       "      <td>30</td>\n",
       "    </tr>\n",
       "    <tr>\n",
       "      <th>2</th>\n",
       "      <td>358868</td>\n",
       "      <td>3746</td>\n",
       "      <td>30</td>\n",
       "    </tr>\n",
       "    <tr>\n",
       "      <th>3</th>\n",
       "      <td>358868</td>\n",
       "      <td>62</td>\n",
       "      <td>30</td>\n",
       "    </tr>\n",
       "    <tr>\n",
       "      <th>4</th>\n",
       "      <td>358868</td>\n",
       "      <td>396</td>\n",
       "      <td>30</td>\n",
       "    </tr>\n",
       "  </tbody>\n",
       "</table>\n",
       "<p>17535660 rows × 3 columns</p>\n",
       "</div>"
      ],
      "text/plain": [
       "    user_id  artist  play\n",
       "0         0       0  2137\n",
       "1         0       1  1099\n",
       "2         0       2   897\n",
       "3         0       3   717\n",
       "4         0       4   706\n",
       "..      ...     ...   ...\n",
       "0    358868     376    30\n",
       "1    358868  270115    30\n",
       "2    358868    3746    30\n",
       "3    358868      62    30\n",
       "4    358868     396    30\n",
       "\n",
       "[17535660 rows x 3 columns]"
      ]
     },
     "execution_count": 21,
     "metadata": {},
     "output_type": "execute_result"
    }
   ],
   "source": [
    "# artist_to_idx을 통해 artist 컬럼도 동일한 방식으로 인덱싱\n",
    "temp_artist_data = data['artist'].map(artist_to_idx.get).dropna()\n",
    "if len(temp_artist_data) == len(data):\n",
    "    print('artist column indexing OK!!')\n",
    "    data['artist'] = temp_artist_data\n",
    "else:\n",
    "    print('artist column indexing Fail!!')\n",
    "\n",
    "data"
   ]
  },
  {
   "cell_type": "markdown",
   "metadata": {},
   "source": [
    "## 사용자의 명시적/암묵적 평가\n",
    "\n",
    "+ 명시적(explicit)\n",
    "    - 좋아요, 별점\n",
    "+ 암묵적(implicit)"
   ]
  },
  {
   "cell_type": "code",
   "execution_count": 25,
   "metadata": {
    "ExecuteTime": {
     "end_time": "2021-02-04T11:09:34.958059Z",
     "start_time": "2021-02-04T11:09:34.926404Z"
    }
   },
   "outputs": [
    {
     "name": "stdout",
     "output_type": "stream",
     "text": [
      "147740 17535660 \n",
      "\n",
      "Ratio of only_one over all data is 0.84%\n"
     ]
    }
   ],
   "source": [
    "# 1회만 play한 데이터의 비율을 보는 코드\n",
    "only_one = data[data['play']<2]\n",
    "\n",
    "one, all_data = len(only_one), len(data)\n",
    "print(one, all_data, '\\n')\n",
    "print(f'Ratio of only_one over all data is {one/all_data:.2%}')"
   ]
  },
  {
   "cell_type": "markdown",
   "metadata": {},
   "source": [
    "우리가 앞으로 만들어갈 모델에서는 암묵적 데이터의 해석을 위해 다음과 같은 규칙을 적용할 것입니다.\n",
    "\n",
    "1. 한 번이라도 들었으면 선호한다고 판단한다.\n",
    "2. 많이 재생한 아티스트에 대해 가중치를 주어서 더 확실히 좋아한다고 판단한다."
   ]
  },
  {
   "cell_type": "markdown",
   "metadata": {},
   "source": [
    "> Matrix Factorization(MF)"
   ]
  },
  {
   "cell_type": "markdown",
   "metadata": {},
   "source": [
    "## CSR(Compressed Sparse Row) Matrix\n",
    "\n",
    "```python\n",
    "csr_matrix((data, (row_ind, col_ind)), [shape=(M, N)])  \n",
    "where data, row_ind and col_ind satisfy the relationship a[row_ind[k], col_ind[k]] = data[k]., M,N은 matrix의 shape\n",
    "```"
   ]
  },
  {
   "cell_type": "code",
   "execution_count": 29,
   "metadata": {
    "ExecuteTime": {
     "end_time": "2021-02-04T11:26:40.245951Z",
     "start_time": "2021-02-04T11:26:39.216360Z"
    },
    "scrolled": true
   },
   "outputs": [
    {
     "name": "stdout",
     "output_type": "stream",
     "text": [
      "358869 291347 \n",
      "\n",
      "  (0, 0)\t2137\n",
      "  (0, 1)\t1099\n",
      "  (0, 2)\t897\n",
      "  (0, 3)\t717\n",
      "  (0, 4)\t706\n",
      "  (0, 5)\t691\n",
      "  (0, 6)\t545\n",
      "  (0, 7)\t507\n",
      "  (0, 8)\t424\n",
      "  (0, 9)\t403\n",
      "  (0, 10)\t393\n",
      "  (0, 11)\t387\n",
      "  (0, 12)\t361\n",
      "  (0, 13)\t358\n",
      "  (0, 14)\t329\n",
      "  (0, 15)\t316\n",
      "  (0, 16)\t310\n",
      "  (0, 17)\t302\n",
      "  (0, 18)\t288\n",
      "  (0, 19)\t281\n",
      "  (0, 20)\t244\n",
      "  (0, 21)\t232\n",
      "  (0, 22)\t231\n",
      "  (0, 23)\t229\n",
      "  (0, 24)\t227\n",
      "  :\t:\n",
      "  (358867, 4542)\t23\n",
      "  (358867, 4896)\t12\n",
      "  (358867, 4947)\t19\n",
      "  (358867, 5395)\t14\n",
      "  (358867, 5562)\t39\n",
      "  (358867, 5858)\t93\n",
      "  (358867, 5867)\t16\n",
      "  (358867, 6855)\t36\n",
      "  (358867, 7856)\t46\n",
      "  (358867, 9641)\t45\n",
      "  (358867, 11203)\t40\n",
      "  (358867, 11631)\t12\n",
      "  (358867, 15227)\t51\n",
      "  (358867, 21303)\t14\n",
      "  (358867, 25966)\t12\n",
      "  (358867, 28563)\t12\n",
      "  (358867, 49416)\t54\n",
      "  (358867, 73333)\t14\n",
      "  (358867, 97322)\t15\n",
      "  (358867, 140606)\t11\n",
      "  (358868, 62)\t30\n",
      "  (358868, 376)\t30\n",
      "  (358868, 396)\t30\n",
      "  (358868, 3746)\t30\n",
      "  (358868, 270115)\t30\n"
     ]
    }
   ],
   "source": [
    "# CSR Matrix 만들어보기\n",
    "from scipy.sparse import csr_matrix\n",
    "\n",
    "num_user = data['user_id'].nunique()\n",
    "num_artist = data['artist'].nunique()\n",
    "print(num_user, num_artist, '\\n')\n",
    "\n",
    "csr_data = csr_matrix((data.play, (data.user_id, data.artist)), shape=(num_user, num_artist))\n",
    "print(csr_data)"
   ]
  },
  {
   "cell_type": "markdown",
   "metadata": {},
   "source": [
    "## MF 모델 학습하기\n",
    "\n",
    "Matrix Factorization 모델을 implicit 패키지를 사용하여 학습해 봅시다.\n",
    "\n",
    "+ implicit 패키지는 이전 스텝에서 설명한 암묵적(implicit) dataset을 사용하는 다양한 모델을 굉장히 빠르게 학습할 수 있는 패키지입니다.\n",
    "+ 이 패키지에 구현된 als(AlternatingLeastSquares) 모델을 사용하겠습니다. Matrix Factorization에서 쪼개진 두 Feature Matrix를 한꺼번에 훈련하는 것은 잘 수렴하지 않기 때문에, 한쪽을 고정시키고 다른 쪽을 학습하는 방식을 번갈아 수행하는 AlternatingLeastSquares 방식이 효과적인 것으로 알려져 있습니다."
   ]
  },
  {
   "cell_type": "code",
   "execution_count": 30,
   "metadata": {
    "ExecuteTime": {
     "end_time": "2021-02-04T11:34:06.807527Z",
     "start_time": "2021-02-04T11:34:06.715298Z"
    }
   },
   "outputs": [],
   "source": [
    "from implicit.als import AlternatingLeastSquares\n",
    "import os\n",
    "import numpy as np\n",
    "\n",
    "# implicit 라이브러리에서 권장하고 있는 부분입니다.\n",
    "os.environ['OPENBLAS_NUM_THREADS']='1'\n",
    "os.environ['KMP_DUPLICATE_LIB_OK']='True'\n",
    "os.environ['MKL_NUM_THREADS']='1'"
   ]
  },
  {
   "cell_type": "markdown",
   "metadata": {},
   "source": [
    "AlternatingLeastSquares 클래스의 \\_\\_init\\_\\_ 파라미터를 살펴보겠습니다.\n",
    "\n",
    "1. factors : 유저와 아이템의 벡터를 몇 차원으로 할 것인지 \n",
    "2. regularization : 과적합을 방지하기 위해 정규화 값을 얼마나 사용할 것인지 \n",
    "3. use_gpu : GPU를 사용할 것인지 \n",
    "4. iterations : epochs와 같은 의미입니다. 데이터를 몇 번 반복해서 학습할 것인지\n",
    "\n",
    "1,4를 늘릴수록 학습데이터를 잘 학습하게 되지만 과적합의 우려가 있으니 좋은 값을 찾아야 합니다."
   ]
  },
  {
   "cell_type": "code",
   "execution_count": 31,
   "metadata": {
    "ExecuteTime": {
     "end_time": "2021-02-04T11:35:45.059063Z",
     "start_time": "2021-02-04T11:35:45.054767Z"
    }
   },
   "outputs": [],
   "source": [
    "# Implicit AlternatingLeastSquares 모델의 선언\n",
    "als_model = AlternatingLeastSquares(factors=100, regularization=0.01, use_gpu=False, iterations=15, dtype=np.float32)"
   ]
  },
  {
   "cell_type": "code",
   "execution_count": 32,
   "metadata": {
    "ExecuteTime": {
     "end_time": "2021-02-04T11:35:45.484873Z",
     "start_time": "2021-02-04T11:35:45.481886Z"
    }
   },
   "outputs": [
    {
     "data": {
      "text/plain": [
       "<291347x358869 sparse matrix of type '<class 'numpy.int64'>'\n",
       "\twith 17535578 stored elements in Compressed Sparse Column format>"
      ]
     },
     "execution_count": 32,
     "metadata": {},
     "output_type": "execute_result"
    }
   ],
   "source": [
    "# als 모델은 input으로 (item X user 꼴의 matrix를 받기 때문에 Transpose해줍니다.)\n",
    "csr_data_transpose = csr_data.T\n",
    "csr_data_transpose"
   ]
  },
  {
   "cell_type": "code",
   "execution_count": 33,
   "metadata": {
    "ExecuteTime": {
     "end_time": "2021-02-04T11:37:57.366651Z",
     "start_time": "2021-02-04T11:35:54.500581Z"
    }
   },
   "outputs": [
    {
     "data": {
      "application/vnd.jupyter.widget-view+json": {
       "model_id": "47ceda65613f4612bb461fb89c374097",
       "version_major": 2,
       "version_minor": 0
      },
      "text/plain": [
       "  0%|          | 0/15 [00:00<?, ?it/s]"
      ]
     },
     "metadata": {},
     "output_type": "display_data"
    }
   ],
   "source": [
    "# 모델 훈련\n",
    "als_model.fit(csr_data_transpose)"
   ]
  },
  {
   "cell_type": "markdown",
   "metadata": {},
   "source": [
    "모델이 \n",
    "\n",
    "1. mingki의 벡터와 black eyed peas의 벡터를 어떻게 만들고 있는지와 \n",
    "2. 두 벡터를 곱하면 어떤 값이 나오는지 확인해보자"
   ]
  },
  {
   "cell_type": "code",
   "execution_count": 34,
   "metadata": {
    "ExecuteTime": {
     "end_time": "2021-02-04T11:39:38.055231Z",
     "start_time": "2021-02-04T11:39:38.052247Z"
    }
   },
   "outputs": [],
   "source": [
    "mingki, black_eyed_peas = user_to_idx['mingki'], artist_to_idx['black eyed peas']\n",
    "mingki_vector, black_eyed_peas_vector = als_model.user_factors[mingki], als_model.item_factors[black_eyed_peas]"
   ]
  },
  {
   "cell_type": "code",
   "execution_count": 35,
   "metadata": {
    "ExecuteTime": {
     "end_time": "2021-02-04T11:39:43.586657Z",
     "start_time": "2021-02-04T11:39:43.574942Z"
    }
   },
   "outputs": [
    {
     "data": {
      "text/plain": [
       "array([-3.83735567e-01, -1.23676217e+00, -1.40806392e-01,  3.40656340e-01,\n",
       "       -1.09270155e+00,  4.54874933e-02, -1.36691064e-01,  5.95259011e-01,\n",
       "       -6.02212608e-01, -4.17082906e-01, -3.34860533e-02, -4.18518446e-02,\n",
       "        7.07242012e-01,  5.66836953e-01,  1.68607748e+00, -6.25044465e-01,\n",
       "        3.53346825e-01, -5.26049554e-01,  4.64677244e-01, -8.85980017e-03,\n",
       "       -5.61957806e-02,  1.10386632e-01,  4.22694057e-01, -2.34800600e-03,\n",
       "       -8.10281277e-01,  1.32103503e+00, -4.90551740e-01, -1.03418267e+00,\n",
       "        1.36612117e+00,  7.45039061e-02,  3.94948483e-01, -5.16591728e-01,\n",
       "        7.13973939e-01, -3.04117203e-01,  3.99797291e-01,  7.18800426e-01,\n",
       "        2.69561201e-01,  4.99989063e-01, -2.67915912e-02,  3.41405720e-01,\n",
       "       -2.56065875e-01,  2.33823568e-01,  2.88126171e-02, -4.27389145e-01,\n",
       "       -5.78258097e-01, -9.47586954e-01, -1.68849647e-01,  5.93479753e-01,\n",
       "       -4.19676542e-01, -5.00210404e-01, -2.43659690e-01, -1.56476557e-01,\n",
       "       -1.52068615e+00, -5.85437179e-01, -1.09590485e-03,  9.95471537e-01,\n",
       "        1.01039624e+00, -2.91652679e-01, -5.10498941e-01,  7.61697888e-01,\n",
       "        7.63104439e-01,  6.09309793e-01,  1.37659773e-01, -1.04510747e-01,\n",
       "       -9.18776169e-02,  5.21995544e-01,  2.45225310e-01,  1.07412338e+00,\n",
       "        1.44534156e-01, -5.79159975e-01,  9.65102494e-01,  2.15626329e-01,\n",
       "        7.52126038e-01,  4.92323518e-01,  8.24516788e-02,  1.35788858e+00,\n",
       "       -1.55220222e+00,  2.46540695e-01,  1.45232052e-01,  6.99383676e-01,\n",
       "        1.01556323e-01, -1.29351258e+00,  3.33755314e-01,  6.94310606e-01,\n",
       "        5.15902817e-01, -1.34283483e+00,  2.45444179e-02, -1.99538112e+00,\n",
       "        2.50846714e-01, -8.16876590e-02,  1.63329095e-01, -1.24845795e-01,\n",
       "       -4.07708973e-01, -2.25358292e-01, -4.84751016e-01,  2.70699263e-01,\n",
       "       -2.45572284e-01,  5.99926591e-01,  8.86590540e-01, -5.52125990e-01],\n",
       "      dtype=float32)"
      ]
     },
     "execution_count": 35,
     "metadata": {},
     "output_type": "execute_result"
    }
   ],
   "source": [
    "mingki_vector"
   ]
  },
  {
   "cell_type": "code",
   "execution_count": 36,
   "metadata": {
    "ExecuteTime": {
     "end_time": "2021-02-04T11:39:51.947301Z",
     "start_time": "2021-02-04T11:39:51.938671Z"
    },
    "scrolled": true
   },
   "outputs": [
    {
     "data": {
      "text/plain": [
       "array([ 0.00250109,  0.00208457, -0.01711112, -0.01254841, -0.01168851,\n",
       "        0.0046178 ,  0.00610716,  0.00332234,  0.00203546, -0.00915099,\n",
       "        0.00958754,  0.00674012,  0.01236502,  0.00980316,  0.02194051,\n",
       "        0.00113018,  0.01182256,  0.00488442,  0.00870972,  0.00552423,\n",
       "       -0.00121838,  0.00120894,  0.01600437,  0.00358528, -0.00152492,\n",
       "        0.01611694, -0.00154885, -0.01523089,  0.01753458, -0.00041767,\n",
       "        0.02372853, -0.00119951,  0.01540025,  0.00313716,  0.01574198,\n",
       "        0.00447259,  0.01175291,  0.02306204,  0.01537561,  0.01057643,\n",
       "        0.00322336, -0.00156966,  0.00929087, -0.00220727,  0.01141554,\n",
       "        0.00750667,  0.01157629,  0.01453355, -0.00282058,  0.01500169,\n",
       "        0.00153026,  0.01130919, -0.00734093, -0.0084358 , -0.0021203 ,\n",
       "        0.02044763,  0.03440222,  0.01743187,  0.00630796,  0.01200541,\n",
       "        0.00750066,  0.01301515,  0.01801098,  0.00539395, -0.0023731 ,\n",
       "        0.01871411,  0.00538497,  0.02651937,  0.0104226 ,  0.00699596,\n",
       "        0.00986663,  0.01265677,  0.01465047,  0.01047002,  0.02646265,\n",
       "        0.01855117, -0.00704266,  0.00995579,  0.00515647, -0.00262079,\n",
       "        0.01147491, -0.01848462,  0.00284671,  0.01462889,  0.0140465 ,\n",
       "        0.00378476,  0.00825331, -0.02085322,  0.00795651,  0.00394193,\n",
       "        0.01398341, -0.00338781, -0.02008955,  0.01851299,  0.00435382,\n",
       "        0.01720893, -0.00024042,  0.02453686,  0.01589549, -0.00412226],\n",
       "      dtype=float32)"
      ]
     },
     "execution_count": 36,
     "metadata": {},
     "output_type": "execute_result"
    }
   ],
   "source": [
    "black_eyed_peas_vector"
   ]
  },
  {
   "cell_type": "code",
   "execution_count": 37,
   "metadata": {
    "ExecuteTime": {
     "end_time": "2021-02-04T11:40:34.605825Z",
     "start_time": "2021-02-04T11:40:34.602652Z"
    }
   },
   "outputs": [
    {
     "data": {
      "text/plain": [
       "0.48400587"
      ]
     },
     "execution_count": 37,
     "metadata": {},
     "output_type": "execute_result"
    }
   ],
   "source": [
    "# mingki와 black_eyed_peas를 내적하는 코드\n",
    "np.dot(mingki_vector, black_eyed_peas_vector)"
   ]
  },
  {
   "cell_type": "code",
   "execution_count": 39,
   "metadata": {
    "ExecuteTime": {
     "end_time": "2021-02-04T11:41:39.355663Z",
     "start_time": "2021-02-04T11:41:39.345175Z"
    }
   },
   "outputs": [
    {
     "data": {
      "text/plain": [
       "0.28803676"
      ]
     },
     "execution_count": 39,
     "metadata": {},
     "output_type": "execute_result"
    }
   ],
   "source": [
    "# 나의 Queen에 대한 선호도를 어떻게 예측하는지 확인하기\n",
    "queen = artist_to_idx['queen']\n",
    "queen_vector = als_model.item_factors[queen]\n",
    "np.dot(mingki_vector, queen_vector)"
   ]
  },
  {
   "cell_type": "code",
   "execution_count": 41,
   "metadata": {
    "ExecuteTime": {
     "end_time": "2021-02-04T11:42:14.613546Z",
     "start_time": "2021-02-04T11:42:14.608765Z"
    }
   },
   "outputs": [
    {
     "data": {
      "text/plain": [
       "75"
      ]
     },
     "execution_count": 41,
     "metadata": {},
     "output_type": "execute_result"
    }
   ],
   "source": [
    "# 확인\n",
    "artist_to_idx['queen']"
   ]
  },
  {
   "cell_type": "markdown",
   "metadata": {},
   "source": [
    "## 비슷한 아티스트 찾기 + 유저에게 추천하기"
   ]
  },
  {
   "cell_type": "markdown",
   "metadata": {},
   "source": [
    "### 비슷한 아티스트 찾기\n",
    "\n",
    "---\n",
    "\n",
    "AlternatingLeastSquares 클래스에 구현되어 있는 similar_items 메서드를 통하여 비슷한 아티스트를 찾는다."
   ]
  },
  {
   "cell_type": "code",
   "execution_count": 42,
   "metadata": {
    "ExecuteTime": {
     "end_time": "2021-02-04T11:45:00.267616Z",
     "start_time": "2021-02-04T11:45:00.211417Z"
    }
   },
   "outputs": [
    {
     "data": {
      "text/plain": [
       "[(62, 0.99999994),\n",
       " (277, 0.9883233),\n",
       " (5, 0.981684),\n",
       " (28, 0.9792143),\n",
       " (217, 0.9701359),\n",
       " (473, 0.96990097),\n",
       " (418, 0.96952754),\n",
       " (247, 0.9652551),\n",
       " (490, 0.96283054),\n",
       " (694, 0.9561561),\n",
       " (910, 0.9517499),\n",
       " (782, 0.9490773),\n",
       " (1018, 0.9473282),\n",
       " (268, 0.946832),\n",
       " (75, 0.934987)]"
      ]
     },
     "execution_count": 42,
     "metadata": {},
     "output_type": "execute_result"
    }
   ],
   "source": [
    "favorite_artist = 'coldplay'\n",
    "artist_id = artist_to_idx[favorite_artist]\n",
    "similar_artist = als_model.similar_items(artist_id, N=15)\n",
    "similar_artist"
   ]
  },
  {
   "cell_type": "markdown",
   "metadata": {},
   "source": [
    "(아티스트의 id, 유사도) Tuple로 반환."
   ]
  },
  {
   "cell_type": "code",
   "execution_count": 43,
   "metadata": {
    "ExecuteTime": {
     "end_time": "2021-02-04T11:49:19.278711Z",
     "start_time": "2021-02-04T11:49:19.206265Z"
    }
   },
   "outputs": [
    {
     "data": {
      "text/plain": [
       "{0: 'betty blowtorch',\n",
       " 1: 'die ärzte',\n",
       " 2: 'melissa etheridge',\n",
       " 3: 'elvenking',\n",
       " 4: 'juliette & the licks',\n",
       " 5: 'red hot chili peppers',\n",
       " 6: 'magica',\n",
       " 7: 'the black dahlia murder',\n",
       " 8: 'the murmurs',\n",
       " 9: 'lunachicks',\n",
       " 10: 'walls of jericho',\n",
       " 11: 'letzte instanz',\n",
       " 12: 'goldfrapp',\n",
       " 13: 'horrorpops',\n",
       " 14: 'the butchies',\n",
       " 15: 'jack off jill',\n",
       " 16: 'babes in toyland',\n",
       " 17: 'dropkick murphys',\n",
       " 18: 'all:my:faults',\n",
       " 19: 'le tigre',\n",
       " 20: 'schandmaul',\n",
       " 21: 'edguy',\n",
       " 22: 'maximum the hormone',\n",
       " 23: 'all ends',\n",
       " 24: 'jack johnson',\n",
       " 25: 'eluveitie',\n",
       " 26: 'rasputina',\n",
       " 27: 'london after midnight',\n",
       " 28: 'the killers',\n",
       " 29: 'mutyumu',\n",
       " 30: 'judas priest',\n",
       " 31: 'rob zombie',\n",
       " 32: 'the bosshoss',\n",
       " 33: 'blue öyster cult',\n",
       " 34: 'sandra nasic',\n",
       " 35: 'john mayer',\n",
       " 36: 'sleater-kinney',\n",
       " 37: 'the who',\n",
       " 38: 'disciple',\n",
       " 39: 'tanzwut',\n",
       " 40: 'guano apes',\n",
       " 41: 'the rolling stones',\n",
       " 42: 'little big town',\n",
       " 43: 'team dresch',\n",
       " 44: 'betty',\n",
       " 45: 'l7',\n",
       " 46: 'bif naked',\n",
       " 47: 'girlschool',\n",
       " 48: 'the wallflowers',\n",
       " 49: 'the most serene republic',\n",
       " 50: 'stars',\n",
       " 51: 'broken social scene',\n",
       " 52: 'have heart',\n",
       " 53: 'luminous orange',\n",
       " 54: 'boris',\n",
       " 55: 'arctic monkeys',\n",
       " 56: 'bright eyes',\n",
       " 57: 'coaltar of the deepers',\n",
       " 58: 'polar bear club',\n",
       " 59: 'the libertines',\n",
       " 60: 'death from above 1979',\n",
       " 61: 'owl city',\n",
       " 62: 'coldplay',\n",
       " 63: 'okkervil river',\n",
       " 64: 'jim sturgess',\n",
       " 65: 'deerhoof',\n",
       " 66: 'fear before the march of flames',\n",
       " 67: 'breathe carolina',\n",
       " 68: 'mstrkrft',\n",
       " 69: 'arcade fire',\n",
       " 70: 'the strokes',\n",
       " 71: 'cancer bats',\n",
       " 72: 'the honorary title',\n",
       " 73: 'michio kurihara',\n",
       " 74: 'mgmt',\n",
       " 75: 'queen',\n",
       " 76: 'the secret handshake',\n",
       " 77: 'animal collective',\n",
       " 78: 'heavy heavy low low',\n",
       " 79: 'hot hot heat',\n",
       " 80: 'hadouken!',\n",
       " 81: 'the wombats',\n",
       " 82: 'ai aso',\n",
       " 83: 'boris with michio kurihara',\n",
       " 84: 'uffie',\n",
       " 85: 'the last shadow puppets',\n",
       " 86: 'boys noize',\n",
       " 87: 'built to spill',\n",
       " 88: 'nujabes',\n",
       " 89: 'the rocket summer',\n",
       " 90: 'little dragon',\n",
       " 91: 'boris with merzbow',\n",
       " 92: 'the album leaf',\n",
       " 93: 'the microphones',\n",
       " 94: 'simian mobile disco',\n",
       " 95: 'm.i.a.',\n",
       " 96: 'death cab for cutie',\n",
       " 97: 'patrick wolf',\n",
       " 98: 'the fiery furnaces',\n",
       " 99: 'digitalism',\n",
       " 100: 'current 93',\n",
       " 101: 'coil',\n",
       " 102: 'andrew liles',\n",
       " 103: 'six organs of admittance',\n",
       " 104: '16 horsepower',\n",
       " 105: 'angels of light',\n",
       " 106: 'the legendary pink dots',\n",
       " 107: 'charalambides',\n",
       " 108: 'festival',\n",
       " 109: 'fern knight',\n",
       " 110: 'nick cave & the bad seeds',\n",
       " 111: 'fovea hex',\n",
       " 112: 'amanda rogers',\n",
       " 113: 'lux interna',\n",
       " 114: 'nalle',\n",
       " 115: 'antony and the johnsons',\n",
       " 116: 'marissa nadler',\n",
       " 117: 'a silver mt. zion',\n",
       " 118: 'einstürzende neubauten',\n",
       " 119: 'marc almond',\n",
       " 120: 'mariee sioux',\n",
       " 121: 'björk',\n",
       " 122: 'bill fay',\n",
       " 123: 'nurse with wound',\n",
       " 124: 'baby dee',\n",
       " 125: 'ghq',\n",
       " 126: 'daniel higgs',\n",
       " 127: 'flairck',\n",
       " 128: 'jack rose',\n",
       " 129: 'castanets',\n",
       " 130: 'john jacob niles',\n",
       " 131: 'the revolutionary army of the infant jesus',\n",
       " 132: 'carter tutti',\n",
       " 133: 'the one ensemble',\n",
       " 134: 'orion rigel dommisse',\n",
       " 135: 'jocelyn pook',\n",
       " 136: 'matmos',\n",
       " 137: 'ulver',\n",
       " 138: 'ane brun',\n",
       " 139: 'soisong',\n",
       " 140: 'a hawk and a hacksaw',\n",
       " 141: 'frank london',\n",
       " 142: 'michael gira',\n",
       " 143: 'larkin grimm',\n",
       " 144: 'pelt',\n",
       " 145: 'jean parlette',\n",
       " 146: 'opeth',\n",
       " 147: 'cannibal corpse',\n",
       " 148: 'elis',\n",
       " 149: 'amoral',\n",
       " 150: 'amon amarth',\n",
       " 151: 'riverside',\n",
       " 152: 'dark tranquillity',\n",
       " 153: 'atrocity',\n",
       " 154: 'kromlek',\n",
       " 155: 'kamelot',\n",
       " 156: 'novembers doom',\n",
       " 157: 'poe',\n",
       " 158: 'rock universal',\n",
       " 159: 'dido',\n",
       " 160: 'stone temple pilots',\n",
       " 161: 'audioslave',\n",
       " 162: 'katatonia',\n",
       " 163: 'ark',\n",
       " 164: 'circus maximus',\n",
       " 165: 'dimmu borgir',\n",
       " 166: 'death',\n",
       " 167: 'månegarm',\n",
       " 168: 'cynic',\n",
       " 169: 'korpiklaani',\n",
       " 170: 'my dying bride',\n",
       " 171: 'brujeria',\n",
       " 172: 'agalloch',\n",
       " 173: 'alice in chains',\n",
       " 174: 'johann sebastian bach',\n",
       " 175: 'kalmah',\n",
       " 176: 'farmakon',\n",
       " 177: 'children of bodom',\n",
       " 178: 'dragonforce',\n",
       " 179: 'dredg',\n",
       " 180: 'green carnation',\n",
       " 181: 'pain of salvation',\n",
       " 182: 'rhapsody of fire',\n",
       " 183: 'the mars volta',\n",
       " 184: 'tool',\n",
       " 185: 'arch enemy',\n",
       " 186: 'at the gates',\n",
       " 187: 'compay segundo',\n",
       " 188: 'ensiferum',\n",
       " 189: 'naglfar',\n",
       " 190: 'nevermore',\n",
       " 191: 'old mans child',\n",
       " 192: 'shade empire',\n",
       " 193: 'system of a down',\n",
       " 194: 'tristania',\n",
       " 195: 'devendra banhart',\n",
       " 196: 'boards of canada',\n",
       " 197: 'cocorosie',\n",
       " 198: 'aphex twin',\n",
       " 199: 'atmosphere',\n",
       " 200: 'joanna newsom',\n",
       " 201: 'air',\n",
       " 202: 'portishead',\n",
       " 203: 'massive attack',\n",
       " 204: 'plaid',\n",
       " 205: 'fog',\n",
       " 206: 'prefuse 73',\n",
       " 207: 'm83',\n",
       " 208: 'the flashbulb',\n",
       " 209: 'pavement',\n",
       " 210: 'amon tobin',\n",
       " 211: 'sage francis',\n",
       " 212: 'four tet',\n",
       " 213: 'brother ali',\n",
       " 214: 'max richter',\n",
       " 215: 'why?',\n",
       " 216: 'autechre',\n",
       " 217: 'radiohead',\n",
       " 218: 'susumu yokota',\n",
       " 219: 'electrelane',\n",
       " 220: 'neutral milk hotel',\n",
       " 221: 'bent',\n",
       " 222: 'vetiver',\n",
       " 223: 'k-the-i???',\n",
       " 224: 'illogic',\n",
       " 225: 'annie',\n",
       " 226: 'broadcast',\n",
       " 227: 'beastie boys',\n",
       " 228: 'aesop rock',\n",
       " 229: 'mf doom',\n",
       " 230: 'the books',\n",
       " 231: 'bibio',\n",
       " 232: \"rachel's\",\n",
       " 233: 'architecture in helsinki',\n",
       " 234: 'bola',\n",
       " 235: 'isan',\n",
       " 236: 'apes & androids',\n",
       " 237: 'múm',\n",
       " 238: 'elliott smith',\n",
       " 239: 'caribou',\n",
       " 240: 'the hold steady',\n",
       " 241: 'mogwai',\n",
       " 242: 'justice',\n",
       " 243: 'sigur rós',\n",
       " 244: 'clutch',\n",
       " 245: 'white denim',\n",
       " 246: 'the go! team',\n",
       " 247: 'the beatles',\n",
       " 248: \"2 many dj's\",\n",
       " 249: 'tv on the radio',\n",
       " 250: 'kyuss',\n",
       " 251: 'dj shadow',\n",
       " 252: 'a tribe called quest',\n",
       " 253: 'the cinematic orchestra',\n",
       " 254: 'beck',\n",
       " 255: 'bon iver',\n",
       " 256: 'röyksopp',\n",
       " 257: 'rex the dog',\n",
       " 258: 'bonobo',\n",
       " 259: 'deadmau5',\n",
       " 260: 'the decemberists',\n",
       " 261: 'earth',\n",
       " 262: 'snow patrol',\n",
       " 263: 'battles',\n",
       " 264: 'metronomy',\n",
       " 265: 'dj format',\n",
       " 266: 'the prodigy',\n",
       " 267: 'lemon jelly',\n",
       " 268: 'pink floyd',\n",
       " 269: 'rjd2',\n",
       " 270: 'the flaming lips',\n",
       " 271: 'alasdair fraser & paul machlis',\n",
       " 272: 'passion pit',\n",
       " 273: 'holy fuck',\n",
       " 274: 'michael jackson',\n",
       " 275: 'late of the pier',\n",
       " 276: 'flight of the conchords',\n",
       " 277: 'muse',\n",
       " 278: 'fleetwood mac',\n",
       " 279: 'led zeppelin',\n",
       " 280: 'stam1na',\n",
       " 281: 'dream theater',\n",
       " 282: 'ac/dc',\n",
       " 283: 'metallica',\n",
       " 284: 'iron maiden',\n",
       " 285: 'bob marley & the wailers',\n",
       " 286: 'megadeth',\n",
       " 287: 'trivium',\n",
       " 288: 'raappana',\n",
       " 289: 'nightwish',\n",
       " 290: 'kotiteollisuus',\n",
       " 291: 'sublime',\n",
       " 292: 'viikate',\n",
       " 293: 'volbeat',\n",
       " 294: \"guns n' roses\",\n",
       " 295: 'bon jovi',\n",
       " 296: 'dio',\n",
       " 297: 'soldiers of jah army',\n",
       " 298: 'scorpions',\n",
       " 299: 'teräsbetoni',\n",
       " 300: 'nopsajalka',\n",
       " 301: 'paramore',\n",
       " 302: 'the darkness',\n",
       " 303: 'soul captain band',\n",
       " 304: 'asa',\n",
       " 305: 'tarot',\n",
       " 306: 'klamydia',\n",
       " 307: 'gentleman',\n",
       " 308: 'mötley crüe',\n",
       " 309: 'manowar',\n",
       " 310: 'killswitch engage',\n",
       " 311: 'slayer',\n",
       " 312: 'in flames',\n",
       " 313: 'skid row',\n",
       " 314: 'stone',\n",
       " 315: 'bullet for my valentine',\n",
       " 316: 'mokoma',\n",
       " 317: 'pantera',\n",
       " 318: 'brother firetribe',\n",
       " 319: 'hurriganes',\n",
       " 320: 'norther',\n",
       " 321: 'stratovarius',\n",
       " 322: 'kiuas',\n",
       " 323: 'ozzy osbourne',\n",
       " 324: 'pin',\n",
       " 325: 'feel',\n",
       " 326: 'elton john',\n",
       " 327: 'orgy',\n",
       " 328: 'brandy',\n",
       " 329: 'pet shop boys',\n",
       " 330: 'sade',\n",
       " 331: 'belinda carlisle',\n",
       " 332: 'eurythmics',\n",
       " 333: 'mike oldfield',\n",
       " 334: 'hall & oates',\n",
       " 335: 'chris rea',\n",
       " 336: 'laura branigan',\n",
       " 337: 'the waterboys',\n",
       " 338: 'maciej silski',\n",
       " 339: 'leona lewis',\n",
       " 340: 'george michael',\n",
       " 341: 'black',\n",
       " 342: 'frozen silence',\n",
       " 343: 'sweet coffee',\n",
       " 344: 'blackfield',\n",
       " 345: 'cyndi lauper',\n",
       " 346: 'pseudo echo',\n",
       " 347: 'desireless',\n",
       " 348: 'limp bizkit',\n",
       " 349: 'modern talking',\n",
       " 350: 'rihanna',\n",
       " 351: 'a-ha',\n",
       " 352: 'linkin park',\n",
       " 353: 'hans zimmer',\n",
       " 354: 'nelly furtado',\n",
       " 355: 'madonna',\n",
       " 356: 'blink-182',\n",
       " 357: 'dave gahan',\n",
       " 358: 'kelly clarkson',\n",
       " 359: 'lucie silvas',\n",
       " 360: 'natalie imbruglia',\n",
       " 361: 'michelle branch',\n",
       " 362: 'delta goodrem',\n",
       " 363: 'new order',\n",
       " 364: 'seal',\n",
       " 365: 'atomic kitten',\n",
       " 366: 'backstreet boys',\n",
       " 367: 'mary j. blige',\n",
       " 368: 'negative',\n",
       " 369: 'justin timberlake',\n",
       " 370: 'savage garden',\n",
       " 371: 'nerina pallot',\n",
       " 372: 'erasure',\n",
       " 373: 'culture club',\n",
       " 374: 'mr. oizo',\n",
       " 375: 'robbie williams',\n",
       " 376: 'black eyed peas',\n",
       " 377: 'antonio orozco',\n",
       " 378: 'decai',\n",
       " 379: 'kiko & shara',\n",
       " 380: 'marc anthony',\n",
       " 381: 'manuel carrasco',\n",
       " 382: 'mika',\n",
       " 383: 'juanes',\n",
       " 384: 'la oreja de van gogh',\n",
       " 385: 'melendi',\n",
       " 386: 'amaral',\n",
       " 387: 'andy & lucas',\n",
       " 388: 'chambao',\n",
       " 389: 'chayanne',\n",
       " 390: 'christian castro',\n",
       " 391: 'christina aguilera',\n",
       " 392: 'craig david',\n",
       " 393: 'luis fonsi',\n",
       " 394: 'sergio contreras',\n",
       " 395: 'ana torroja',\n",
       " 396: 'beyoncé',\n",
       " 397: 'bustamante',\n",
       " 398: 'camila',\n",
       " 399: 'colbie caillat',\n",
       " 400: 'coti',\n",
       " 401: 'david bisbal',\n",
       " 402: 'edurne',\n",
       " 403: 'fito & fitipaldis',\n",
       " 404: 'hanna',\n",
       " 405: 'malu',\n",
       " 406: 'paulina rubio',\n",
       " 407: 'rosana',\n",
       " 408: 't.a.t.u.',\n",
       " 409: 'amy winehouse',\n",
       " 410: 'efecto mariposa',\n",
       " 411: 'el arrebato',\n",
       " 412: 'enrique iglesias',\n",
       " 413: 'fondo flamenco',\n",
       " 414: 'jennifer lopez',\n",
       " 415: 'mecano',\n",
       " 416: 'phil collins',\n",
       " 417: 'sean kingston',\n",
       " 418: 'u2',\n",
       " 419: 'dub fx',\n",
       " 420: 'box car racer',\n",
       " 421: 'zebrahead',\n",
       " 422: 'paul oakenfold',\n",
       " 423: 'pendulum',\n",
       " 424: 'ronald jenkees',\n",
       " 425: 'sum 41',\n",
       " 426: 'angels & airwaves',\n",
       " 427: 'haggard',\n",
       " 428: 'alien ant farm',\n",
       " 429: 'the offspring',\n",
       " 430: 'океан ельзи',\n",
       " 431: 'ronan hardiman',\n",
       " 432: 'the crystal method',\n",
       " 433: '川田まみ',\n",
       " 434: 'eminem',\n",
       " 435: 'the qemists',\n",
       " 436: 'silverstein',\n",
       " 437: 'rise against',\n",
       " 438: 'бумбокс',\n",
       " 439: 'scum of the earth',\n",
       " 440: 'blu mar ten',\n",
       " 441: 'bomfunk mcs',\n",
       " 442: 'vanessa-mae',\n",
       " 443: 'тартак',\n",
       " 444: 'drop dead, gorgeous',\n",
       " 445: 'flying steps',\n",
       " 446: 'drumattic twins',\n",
       " 447: 'andrew w.k.',\n",
       " 448: 'hoobastank',\n",
       " 449: 'dover',\n",
       " 450: 'bodyjar',\n",
       " 451: 'southside rockers',\n",
       " 452: 'prodigy',\n",
       " 453: 'future prophecies',\n",
       " 454: 'jonathan coulton',\n",
       " 455: 'blessthefall',\n",
       " 456: 'nubreed & luke chable',\n",
       " 457: 'franz ferdinand',\n",
       " 458: 'johannes linstead',\n",
       " 459: 'infected mushroom',\n",
       " 460: 'darude',\n",
       " 461: 'akira yamaoka',\n",
       " 462: 'aqua',\n",
       " 463: 'clawfinger',\n",
       " 464: 'dusty kid',\n",
       " 465: 'senses fail',\n",
       " 466: 'commix',\n",
       " 467: 'id software',\n",
       " 468: 'panic at the disco',\n",
       " 469: 'enigma',\n",
       " 470: 'fatboy slim',\n",
       " 471: 'krs-one',\n",
       " 472: 'drowning pool',\n",
       " 473: 'placebo',\n",
       " 474: 'david & the citizens',\n",
       " 475: 'kent',\n",
       " 476: 'säkert!',\n",
       " 477: 'detektivbyrån',\n",
       " 478: 'lars winnerbäck',\n",
       " 479: 'raymond & maria',\n",
       " 480: 'tegan and sara',\n",
       " 481: 'the knife',\n",
       " 482: 'tiger lou',\n",
       " 483: 'håkan hellström',\n",
       " 484: 'david fridlund',\n",
       " 485: 'the ark',\n",
       " 486: 'alice in videoland',\n",
       " 487: 'timo räisänen',\n",
       " 488: 'the cardigans',\n",
       " 489: 'bloc party',\n",
       " 490: 'oasis',\n",
       " 491: 'sahara hotnights',\n",
       " 492: 'vapnet',\n",
       " 493: 'laleh',\n",
       " 494: 'markus krunegård',\n",
       " 495: 'the kooks',\n",
       " 496: 'deportees',\n",
       " 497: 'r.e.m.',\n",
       " 498: 'slagsmålsklubben',\n",
       " 499: 'hot chip',\n",
       " 500: 'millencolin',\n",
       " 501: 'the sounds',\n",
       " 502: 'mew',\n",
       " 503: 'green day',\n",
       " 504: 'kings of convenience',\n",
       " 505: 'firefox ak',\n",
       " 506: 'mando diao',\n",
       " 507: 'the tough alliance',\n",
       " 508: 'shout out louds',\n",
       " 509: 'keane',\n",
       " 510: 'wir sind helden',\n",
       " 511: 'thompson twins',\n",
       " 512: 'hanson',\n",
       " 513: 'no doubt',\n",
       " 514: 'orchestral manoeuvres in the dark',\n",
       " 515: 'the human league',\n",
       " 516: 'altered images',\n",
       " 517: 'martina mcbride',\n",
       " 518: 'yazoo',\n",
       " 519: 'regina spektor',\n",
       " 520: 'the format',\n",
       " 521: 'carolyn dawn johnson',\n",
       " 522: 'mazzy star',\n",
       " 523: 'dashboard confessional',\n",
       " 524: 'jonathan larson',\n",
       " 525: 'wicked',\n",
       " 526: 'the verve pipe',\n",
       " 527: 'missing persons',\n",
       " 528: 'the passions',\n",
       " 529: 'ima robot',\n",
       " 530: 'judith holofernes',\n",
       " 531: 'depeche mode',\n",
       " 532: 'fake',\n",
       " 533: 'der plan',\n",
       " 534: 'gwen stefani',\n",
       " 535: 'dierks bentley',\n",
       " 536: 'heaven 17',\n",
       " 537: 'the sundays',\n",
       " 538: 'dixie chicks',\n",
       " 539: 'shania twain',\n",
       " 540: 'stacey q',\n",
       " 541: 'camera obscura',\n",
       " 542: 'deana carter',\n",
       " 543: 'matt & kim',\n",
       " 544: 'steel train',\n",
       " 545: 'dan fogelberg',\n",
       " 546: 'taking back sunday',\n",
       " 547: 'andrew bird',\n",
       " 548: 'jewel',\n",
       " 549: 'haircut 100',\n",
       " 550: 'britney spears',\n",
       " 551: 'kristy lee',\n",
       " 552: 'the police',\n",
       " 553: 'the postal service',\n",
       " 554: 'fefe dobson',\n",
       " 555: 'julie roberts',\n",
       " 556: 'j dilla',\n",
       " 557: 'nas',\n",
       " 558: 'common',\n",
       " 559: 'black milk',\n",
       " 560: 'pete rock',\n",
       " 561: 'jay-z',\n",
       " 562: 'dr. dre',\n",
       " 563: 'evidence',\n",
       " 564: 'kanye west',\n",
       " 565: 'dead prez',\n",
       " 566: 'percee p',\n",
       " 567: 'jeff mills',\n",
       " 568: 'method man',\n",
       " 569: 'panacea',\n",
       " 570: '2pac',\n",
       " 571: 'fort minor',\n",
       " 572: 'madvillain',\n",
       " 573: 'ratatat',\n",
       " 574: 'talib kweli',\n",
       " 575: 'do or die',\n",
       " 576: 'madlib',\n",
       " 577: '50 cent',\n",
       " 578: 'abstract rude & tribe unique',\n",
       " 579: 'the alchemist',\n",
       " 580: 'bill evans',\n",
       " 581: 'gza/genius',\n",
       " 582: 'lil wayne',\n",
       " 583: 'styles p',\n",
       " 584: 'emc',\n",
       " 585: 'ghostface',\n",
       " 586: 'k-os',\n",
       " 587: 'burial',\n",
       " 588: 'dj vadim',\n",
       " 589: 'el-p',\n",
       " 590: 'big shug',\n",
       " 591: 'black spade',\n",
       " 592: 'john coltrane',\n",
       " 593: 'the residents',\n",
       " 594: 'roni size & reprazent',\n",
       " 595: 'flying lotus - (www.influencias-urbanas.blogspot.com)',\n",
       " 596: 'the cool kids',\n",
       " 597: 'the game',\n",
       " 598: 'redman',\n",
       " 599: 'rza',\n",
       " 600: 'joan baez',\n",
       " 601: 'e-rotic',\n",
       " 602: 'goo goo dolls',\n",
       " 603: 'apulanta',\n",
       " 604: 'chorale',\n",
       " 605: 'bryan adams',\n",
       " 606: 'gnarls barkley',\n",
       " 607: 'groove coverage',\n",
       " 608: 'september',\n",
       " 609: '3 doors down',\n",
       " 610: 'basic element',\n",
       " 611: 'chris brown',\n",
       " 612: 'eels',\n",
       " 613: 'solid base',\n",
       " 614: 'irwin goodman',\n",
       " 615: 'moby',\n",
       " 616: 'don huonot',\n",
       " 617: 'stella',\n",
       " 618: 'the pussycat dolls',\n",
       " 619: 'cascada',\n",
       " 620: 'john legend',\n",
       " 621: 'alicia keys',\n",
       " 622: 'kapasiteettiyksikkö',\n",
       " 623: 'sonata arctica',\n",
       " 624: 'frank sinatra',\n",
       " 625: 'jonas brothers',\n",
       " 626: 'deep insight',\n",
       " 627: 'maroon 5',\n",
       " 628: 'the calling',\n",
       " 629: 'ambassadöör',\n",
       " 630: 'cheek',\n",
       " 631: 'darin',\n",
       " 632: 'antti tuisku',\n",
       " 633: 'usher',\n",
       " 634: 'finlanders',\n",
       " 635: 'sadetanssi',\n",
       " 636: 'snoop dogg',\n",
       " 637: 'akon',\n",
       " 638: 'mamba',\n",
       " 639: 'da buzz',\n",
       " 640: 'jessy',\n",
       " 641: 'syd barrett',\n",
       " 642: 'spiritualized',\n",
       " 643: 'the boo radleys',\n",
       " 644: 'the brian jonestown massacre',\n",
       " 645: 'black rebel motorcycle club',\n",
       " 646: 'the duke spirit',\n",
       " 647: 'the stone roses',\n",
       " 648: 'jefferson airplane',\n",
       " 649: 'the black angels',\n",
       " 650: 'graham bond organisation',\n",
       " 651: 'love',\n",
       " 652: 'the warlocks',\n",
       " 653: 'a place to bury strangers',\n",
       " 654: 'not from there',\n",
       " 655: 'richard in your mind',\n",
       " 656: 'king khan & the shrines',\n",
       " 657: 'the stairs',\n",
       " 658: 'the vera violets',\n",
       " 659: \"edgar 'jones' jones\",\n",
       " 660: 'film school',\n",
       " 661: 'captain beefheart & his magic band',\n",
       " 662: 'the charlatans',\n",
       " 663: 'kaleidoscope',\n",
       " 664: 'the raconteurs',\n",
       " 665: 'dungen',\n",
       " 666: 'the velvet underground',\n",
       " 667: 'spindrift',\n",
       " 668: 'the incredible string band',\n",
       " 669: 'flavor crystals',\n",
       " 670: 'nico',\n",
       " 671: 'the dandy warhols',\n",
       " 672: 'asobi seksu',\n",
       " 673: 'stereolab',\n",
       " 674: 'fairport convention',\n",
       " 675: 'nick drake',\n",
       " 676: 'soft machine',\n",
       " 677: 'the greenhornes',\n",
       " 678: 'the national',\n",
       " 679: 'black mountain',\n",
       " 680: 'television',\n",
       " 681: 'the telescopes',\n",
       " 682: 'lostprophets',\n",
       " 683: 'all time low',\n",
       " 684: 'lucky boys confusion',\n",
       " 685: 'amber pacific',\n",
       " 686: 'four year strong',\n",
       " 687: 'fall out boy',\n",
       " 688: 'the weakerthans',\n",
       " 689: 'showoff',\n",
       " 690: '+44',\n",
       " 691: 'damien rice',\n",
       " 692: 'my chemical romance',\n",
       " 693: 'ben kweller',\n",
       " 694: 'foo fighters',\n",
       " 695: 'anberlin',\n",
       " 696: 'moving mountains',\n",
       " 697: 'the wedding',\n",
       " 698: 'frightened rabbit',\n",
       " 699: 'cartel',\n",
       " 700: 'saosin',\n",
       " 701: 'set your goals',\n",
       " 702: 'holiday parade',\n",
       " 703: 'cauterize',\n",
       " 704: 'nizlopi',\n",
       " 705: 'hit the lights',\n",
       " 706: 'get cape. wear cape. fly',\n",
       " 707: 'better luck next time',\n",
       " 708: 'girl talk',\n",
       " 709: 'story of the year',\n",
       " 710: 'joshua radin',\n",
       " 711: 'the frantic',\n",
       " 712: 'the ataris',\n",
       " 713: 'sufjan stevens',\n",
       " 714: 'sherwood',\n",
       " 715: 'norah jones',\n",
       " 716: 'madredeus',\n",
       " 717: 'așa',\n",
       " 718: 'carla bruni',\n",
       " 719: 'penguin cafe orchestra',\n",
       " 720: 'ravid goldschmidt',\n",
       " 721: 'humanos',\n",
       " 722: 'xutos & pontapés',\n",
       " 723: 'paul simon',\n",
       " 724: 'lily allen',\n",
       " 725: 'kid loco',\n",
       " 726: 'pedro abrunhosa',\n",
       " 727: 'stevie wonder',\n",
       " 728: 'thievery corporation',\n",
       " 729: 'the streets',\n",
       " 730: 'ratos de porão',\n",
       " 731: 'lady sovereign',\n",
       " 732: 'faith no more',\n",
       " 733: 'manu chao',\n",
       " 734: 'tenacious d',\n",
       " 735: 'fantômas',\n",
       " 736: 'type o negative',\n",
       " 737: 'pearl jam',\n",
       " 738: 'cali lewis',\n",
       " 739: 'the commitments',\n",
       " 740: 'soundgarden',\n",
       " 741: 'buckethead',\n",
       " 742: 'the cult',\n",
       " 743: 'rush',\n",
       " 744: 'king crimson',\n",
       " 745: 'camel',\n",
       " 746: 'amplifier',\n",
       " 747: 'uriah heep',\n",
       " 748: 'the answer',\n",
       " 749: 'yes',\n",
       " 750: 'disturbed',\n",
       " 751: 'jethro tull',\n",
       " 752: 'porcupine tree',\n",
       " 753: 'liquid tension experiment',\n",
       " 754: 'ted nugent',\n",
       " 755: 'wolfmother',\n",
       " 756: 'emerson, lake & palmer',\n",
       " 757: 'aerosmith',\n",
       " 758: 'iommi',\n",
       " 759: 'frankie goes to hollywood',\n",
       " 760: 'ufo',\n",
       " 761: 'days of the new',\n",
       " 762: 'caravan',\n",
       " 763: 'the verve',\n",
       " 764: 'rammstein',\n",
       " 765: 'wishbone ash',\n",
       " 766: 'the moody blues',\n",
       " 767: 'jordan rudess',\n",
       " 768: 'chevelle',\n",
       " 769: 'cream',\n",
       " 770: 'patti smith',\n",
       " 771: 'nickelback',\n",
       " 772: 'zz top',\n",
       " 773: 'nine inch nails',\n",
       " 774: 'my bloody valentine',\n",
       " 775: 'pj harvey',\n",
       " 776: 'the cure',\n",
       " 777: 'nick cave and the bad seeds',\n",
       " 778: 'the jesus and mary chain',\n",
       " 779: 'the sisters of mercy',\n",
       " 780: 'david bowie',\n",
       " 781: 'a perfect circle',\n",
       " 782: 'the white stripes',\n",
       " 783: 'the dresden dolls',\n",
       " 784: 'nouvelle vague',\n",
       " 785: 'leonard cohen',\n",
       " 786: 'rowland s. howard',\n",
       " 787: 'creedence clearwater revival',\n",
       " 788: 'goon moon',\n",
       " 789: 'grinderman',\n",
       " 790: 'gary numan',\n",
       " 791: 'slowdive',\n",
       " 792: 'the boys next door',\n",
       " 793: 'beirut',\n",
       " 794: 'joy division',\n",
       " 795: 'clint mansell',\n",
       " 796: 'inkubus sukkubus',\n",
       " 797: 'the smiths',\n",
       " 798: 'cat power',\n",
       " 799: 'nick cave & warren ellis',\n",
       " 800: 'anita lane',\n",
       " 801: 'bauhaus',\n",
       " 802: 'amiina',\n",
       " 803: 'bajaga',\n",
       " 804: 'interpol',\n",
       " 805: 'the 69 eyes',\n",
       " 806: 'christian death',\n",
       " 807: 'the stooges',\n",
       " 808: 'iggy pop',\n",
       " 809: 'grave digger',\n",
       " 810: 'running wild',\n",
       " 811: 'primal fear',\n",
       " 812: 'paragon',\n",
       " 813: 'iced earth',\n",
       " 814: 'lamb of god',\n",
       " 815: 'u.d.o.',\n",
       " 816: 'annihilator',\n",
       " 817: 'exodus',\n",
       " 818: 'exciter',\n",
       " 819: 'strapping young lad',\n",
       " 820: 'kreator',\n",
       " 821: 'rebellion',\n",
       " 822: 'sabaton',\n",
       " 823: 'helloween',\n",
       " 824: 'iron savior',\n",
       " 825: 'accept',\n",
       " 826: '3 inches of blood',\n",
       " 827: 'jag panzer',\n",
       " 828: 'mastodon',\n",
       " 829: 'steel attack',\n",
       " 830: 'daath',\n",
       " 831: 'metal church',\n",
       " 832: 'gojira',\n",
       " 833: 'devildriver',\n",
       " 834: 'decapitated',\n",
       " 835: 'hammerfall',\n",
       " 836: 'the ocean',\n",
       " 837: 'hatebreed',\n",
       " 838: 'mortification',\n",
       " 839: 'halford',\n",
       " 840: 'meshuggah',\n",
       " 841: 'finntroll',\n",
       " 842: 'gamma ray',\n",
       " 843: 'stormwarrior',\n",
       " 844: 'fight',\n",
       " 845: 'vicious rumors',\n",
       " 846: 'dream evil',\n",
       " 847: 'necrophagist',\n",
       " 848: 'rage',\n",
       " 849: 'morgana lefay',\n",
       " 850: 'chiodos',\n",
       " 851: 'black tequila',\n",
       " 852: '30 seconds to mars',\n",
       " 853: 'as i lay dying',\n",
       " 854: 'a static lullaby',\n",
       " 855: 'billy talent',\n",
       " 856: 'bosse',\n",
       " 857: 'deus',\n",
       " 858: 'feeder',\n",
       " 859: 'funeral for a friend',\n",
       " 860: 'a day to remember',\n",
       " 861: 'beatsteaks',\n",
       " 862: 'coheed and cambria',\n",
       " 863: 'dúné',\n",
       " 864: 'enter shikari',\n",
       " 865: 'finch',\n",
       " 866: 'from first to last',\n",
       " 867: 'lostalone',\n",
       " 868: 'mindless self indulgence',\n",
       " 869: 'olli schulz & der hund marie',\n",
       " 870: 'slut',\n",
       " 871: 'the dreaming',\n",
       " 872: 'alesana',\n",
       " 873: 'ash',\n",
       " 874: 'brand new',\n",
       " 875: 'canoe',\n",
       " 876: 'kill hannah',\n",
       " 877: 'madsen',\n",
       " 878: 'maxïmo park',\n",
       " 879: 'neaera',\n",
       " 880: 'scary kids scaring kids',\n",
       " 881: 'secret and whisper',\n",
       " 882: 'the fall of troy',\n",
       " 883: 'the vines',\n",
       " 884: 'virginia jetzt!',\n",
       " 885: 'as we fight',\n",
       " 886: 'grammatics',\n",
       " 887: 'tele',\n",
       " 888: 'underoath',\n",
       " 889: 'parragon books',\n",
       " 890: 'michael armstrong',\n",
       " 891: 'alkaline trio',\n",
       " 892: 'afi',\n",
       " 893: 'tiger army',\n",
       " 894: 'elvis costello',\n",
       " 895: 'elvis presley',\n",
       " 896: 'the mighty mighty bosstones',\n",
       " 897: 'adema',\n",
       " 898: 'foghat',\n",
       " 899: 'kylie minogue',\n",
       " 900: 'foxboro hot tubs',\n",
       " 901: 'pink',\n",
       " 902: 'tim mcgraw',\n",
       " 903: 'dead to me',\n",
       " 904: 'mxpx',\n",
       " 905: 'bad religion',\n",
       " 906: 'jimmy eat world',\n",
       " 907: 'the gaslight anthem',\n",
       " 908: 'danny elfman',\n",
       " 909: 'dead kennedys',\n",
       " 910: 'nirvana',\n",
       " 911: 'the tantra monsters',\n",
       " 912: 'poison',\n",
       " 913: 'me first and the gimme gimmes',\n",
       " 914: 'mgm studio orchestra',\n",
       " 915: 'new found glory',\n",
       " 916: 'agnostic front',\n",
       " 917: 'all',\n",
       " 918: 'marilyn manson',\n",
       " 919: 'rancid',\n",
       " 920: 'less than jake',\n",
       " 921: 'my life with the thrill kill kult',\n",
       " 922: 'the aquabats',\n",
       " 923: 'the distillers',\n",
       " 924: 'skarface',\n",
       " 925: 'mad caddies',\n",
       " 926: 'nofx',\n",
       " 927: 'cypress hill',\n",
       " 928: 'koяn',\n",
       " 929: 'the planet smashers',\n",
       " 930: 'reel big fish',\n",
       " 931: 'ska-p',\n",
       " 932: 'moskovskaya',\n",
       " 933: 'onyx',\n",
       " 934: 'belvedere',\n",
       " 935: 'distemper',\n",
       " 936: 'aventura',\n",
       " 937: \"5'nizza\",\n",
       " 938: 'captain everything!',\n",
       " 939: 'bob marley',\n",
       " 940: 'slipknot',\n",
       " 941: 'alizée',\n",
       " 942: 'electrosoul system',\n",
       " 943: 'richard cheese',\n",
       " 944: 'avril lavigne',\n",
       " 945: 'otklonenie',\n",
       " 946: 'cidade negra',\n",
       " 947: 'talco',\n",
       " 948: 'f.p.g.',\n",
       " 949: 'the specials',\n",
       " 950: 'daddy yankee',\n",
       " 951: 'skaface',\n",
       " 952: 'tina charles',\n",
       " 953: 'yeah yeah yeahs',\n",
       " 954: 'the dead weather',\n",
       " 955: 'no age',\n",
       " 956: 'tiny masters of today',\n",
       " 957: 'japandroids',\n",
       " 958: 'the used',\n",
       " 959: 'veto',\n",
       " 960: 'friendly fires',\n",
       " 961: 'hateen',\n",
       " 962: 'onerepublic',\n",
       " 963: 'dead fish',\n",
       " 964: 'sixpence none the richer',\n",
       " 965: 'peter bjorn and john',\n",
       " 966: 'thursday',\n",
       " 967: 'weezer',\n",
       " 968: 'japanther',\n",
       " 969: 'kings of leon',\n",
       " 970: \"rock'n'zombie\",\n",
       " 971: 'feist',\n",
       " 972: 'klaxons',\n",
       " 973: 'cansei de ser sexy',\n",
       " 974: 'does it offend you, yeah?',\n",
       " 975: 'twilight',\n",
       " 976: 'grease',\n",
       " 977: 'kaiser chiefs',\n",
       " 978: 'pelle miljoona',\n",
       " 979: 'ripsipiirakka',\n",
       " 980: 'orson',\n",
       " 981: 'frankie valli',\n",
       " 982: 'motion city soundtrack',\n",
       " 983: 'kuningas pähkinä & setä tamu',\n",
       " 984: 'genesis',\n",
       " 985: 'jukka poika',\n",
       " 986: 'technotronic',\n",
       " 987: 'robert pattinson',\n",
       " 988: 'stig dogg',\n",
       " 989: 'aviation',\n",
       " 990: 'high school musical 2',\n",
       " 991: 'kapteeni ä-ni',\n",
       " 992: 'ramones',\n",
       " 993: 'fools garden',\n",
       " 994: 'bone thugs-n-harmony',\n",
       " 995: 'rufus wainwright',\n",
       " 996: 'iron & wine',\n",
       " 997: 'blue foundation',\n",
       " 998: 'lemon ice',\n",
       " 999: 'the black ghosts',\n",
       " ...}"
      ]
     },
     "execution_count": 43,
     "metadata": {},
     "output_type": "execute_result"
    }
   ],
   "source": [
    "# artist_to_idx를 뒤집어, index로부터 artist 이름을 얻는 dict를 생성하기\n",
    "idx_to_artist = {v:k for k, v in artist_to_idx.items()}\n",
    "idx_to_artist"
   ]
  },
  {
   "cell_type": "code",
   "execution_count": 45,
   "metadata": {
    "ExecuteTime": {
     "end_time": "2021-02-04T11:51:12.510662Z",
     "start_time": "2021-02-04T11:51:12.505147Z"
    }
   },
   "outputs": [
    {
     "data": {
      "text/plain": [
       "['coldplay',\n",
       " 'muse',\n",
       " 'red hot chili peppers',\n",
       " 'the killers',\n",
       " 'radiohead',\n",
       " 'placebo',\n",
       " 'u2',\n",
       " 'the beatles',\n",
       " 'oasis',\n",
       " 'foo fighters',\n",
       " 'nirvana',\n",
       " 'the white stripes',\n",
       " 'the smashing pumpkins',\n",
       " 'pink floyd',\n",
       " 'queen']"
      ]
     },
     "execution_count": 45,
     "metadata": {},
     "output_type": "execute_result"
    }
   ],
   "source": [
    "[idx_to_artist[i[0]] for i in similar_artist]"
   ]
  },
  {
   "cell_type": "code",
   "execution_count": 46,
   "metadata": {
    "ExecuteTime": {
     "end_time": "2021-02-04T11:59:15.198883Z",
     "start_time": "2021-02-04T11:59:15.188977Z"
    }
   },
   "outputs": [
    {
     "name": "stdout",
     "output_type": "stream",
     "text": [
      "완료오\n"
     ]
    }
   ],
   "source": [
    "# 코드 함수로 만들어주기\n",
    "def get_similar_artist(artist_name: str):\n",
    "    artist_id = artist_to_idx[artist_name]\n",
    "    similar_artist = als_model.similar_items(artist_id)\n",
    "    similar_artist = [idx_to_artist[i[0]] for i in similar_artist]\n",
    "    return similar_artist\n",
    "\n",
    "print(\"완료오\")"
   ]
  },
  {
   "cell_type": "code",
   "execution_count": 47,
   "metadata": {
    "ExecuteTime": {
     "end_time": "2021-02-04T11:59:27.310618Z",
     "start_time": "2021-02-04T11:59:27.283448Z"
    }
   },
   "outputs": [
    {
     "data": {
      "text/plain": [
       "['2pac',\n",
       " 'nas',\n",
       " 'notorious b.i.g.',\n",
       " 'the game',\n",
       " 'dr. dre',\n",
       " 'jay-z',\n",
       " 'ludacris',\n",
       " 'ice cube',\n",
       " '50 cent',\n",
       " 'snoop dogg']"
      ]
     },
     "execution_count": 47,
     "metadata": {},
     "output_type": "execute_result"
    }
   ],
   "source": [
    "get_similar_artist('2pac')"
   ]
  },
  {
   "cell_type": "code",
   "execution_count": 48,
   "metadata": {
    "ExecuteTime": {
     "end_time": "2021-02-04T11:59:54.545909Z",
     "start_time": "2021-02-04T11:59:54.516764Z"
    }
   },
   "outputs": [
    {
     "data": {
      "text/plain": [
       "['lady gaga',\n",
       " 'britney spears',\n",
       " 'katy perry',\n",
       " 'rihanna',\n",
       " 'beyoncé',\n",
       " 'the pussycat dolls',\n",
       " 'kelly clarkson',\n",
       " 'christina aguilera',\n",
       " 'pink',\n",
       " 'leona lewis']"
      ]
     },
     "execution_count": 48,
     "metadata": {},
     "output_type": "execute_result"
    }
   ],
   "source": [
    "get_similar_artist('lady gaga')"
   ]
  },
  {
   "cell_type": "markdown",
   "metadata": {},
   "source": [
    "### 유저에게 아티스트 추천하기\n",
    "\n",
    "---\n",
    "\n",
    "\n",
    "AlternatingLeastSquares 클래스에 구현되어 있는 recommend 메서드를 통하여 제가 좋아할 만한 아티스트를 추천받는다.\n",
    "\n",
    "filter_already_liked_items 는 유저가 이미 평가한 아이템은 제외하는 Argument이다."
   ]
  },
  {
   "cell_type": "code",
   "execution_count": 49,
   "metadata": {
    "ExecuteTime": {
     "end_time": "2021-02-04T12:01:07.533027Z",
     "start_time": "2021-02-04T12:01:07.506218Z"
    }
   },
   "outputs": [
    {
     "data": {
      "text/plain": [
       "[(350, 0.4649889),\n",
       " (1800, 0.4521076),\n",
       " (550, 0.44828832),\n",
       " (369, 0.44559696),\n",
       " (2249, 0.44404596),\n",
       " (354, 0.41937998),\n",
       " (274, 0.41510072),\n",
       " (627, 0.40544838),\n",
       " (391, 0.3997802),\n",
       " (355, 0.39843953),\n",
       " (409, 0.38578185),\n",
       " (621, 0.3847586),\n",
       " (5555, 0.38201624),\n",
       " (724, 0.38064545),\n",
       " (901, 0.37948197),\n",
       " (24, 0.37323323),\n",
       " (618, 0.37225682),\n",
       " (358, 0.3674389),\n",
       " (1777, 0.36323345),\n",
       " (564, 0.3448195)]"
      ]
     },
     "execution_count": 49,
     "metadata": {},
     "output_type": "execute_result"
    }
   ],
   "source": [
    "user = user_to_idx['mingki']\n",
    "# recommend에서는 user*item CSR Matrix를 받습니다.\n",
    "artist_recommended = als_model.recommend(user, csr_data, N=20, filter_already_liked_items=True)\n",
    "artist_recommended"
   ]
  },
  {
   "cell_type": "code",
   "execution_count": 50,
   "metadata": {
    "ExecuteTime": {
     "end_time": "2021-02-04T12:01:41.389377Z",
     "start_time": "2021-02-04T12:01:41.378033Z"
    }
   },
   "outputs": [
    {
     "data": {
      "text/plain": [
       "['rihanna',\n",
       " 'lady gaga',\n",
       " 'britney spears',\n",
       " 'justin timberlake',\n",
       " 'katy perry',\n",
       " 'nelly furtado',\n",
       " 'michael jackson',\n",
       " 'maroon 5',\n",
       " 'christina aguilera',\n",
       " 'madonna',\n",
       " 'amy winehouse',\n",
       " 'alicia keys',\n",
       " 'timbaland',\n",
       " 'lily allen',\n",
       " 'pink',\n",
       " 'jack johnson',\n",
       " 'the pussycat dolls',\n",
       " 'kelly clarkson',\n",
       " 'mariah carey',\n",
       " 'kanye west']"
      ]
     },
     "execution_count": 50,
     "metadata": {},
     "output_type": "execute_result"
    }
   ],
   "source": [
    "[idx_to_artist[i[0]] for i in artist_recommended]"
   ]
  },
  {
   "cell_type": "markdown",
   "metadata": {},
   "source": [
    "rihanna를 추천해주고 있네요. 모델은 왜 rihanna를 추천해줬을까? \n",
    "\n",
    "AlternatingLeastSquares 클래스에 구현된 explain 메소드를 사용하면 기록을 남긴 데이터 중 이 추천에 기여한 정도를 확인할 수 있다."
   ]
  },
  {
   "cell_type": "code",
   "execution_count": 51,
   "metadata": {
    "ExecuteTime": {
     "end_time": "2021-02-04T12:02:39.636304Z",
     "start_time": "2021-02-04T12:02:39.546715Z"
    }
   },
   "outputs": [],
   "source": [
    "rihanna = artist_to_idx['rihanna']\n",
    "explain = als_model.explain(user, csr_data, itemid=rihanna)"
   ]
  },
  {
   "cell_type": "code",
   "execution_count": 54,
   "metadata": {
    "ExecuteTime": {
     "end_time": "2021-02-04T12:03:45.851376Z",
     "start_time": "2021-02-04T12:03:45.843895Z"
    }
   },
   "outputs": [
    {
     "name": "stdout",
     "output_type": "stream",
     "text": [
      "3\n"
     ]
    },
    {
     "data": {
      "text/plain": [
       "(0.46619557636353576,\n",
       " [(396, 0.20933865521868983),\n",
       "  (376, 0.15184489538140572),\n",
       "  (3746, 0.061451087964159115),\n",
       "  (62, 0.043327786867204385),\n",
       "  (270115, 0.0002331509320767174)],\n",
       " (array([[ 2.89597294e+00,  2.24469103e+00,  2.58387849e+00, ...,\n",
       "           2.77025396e+00,  2.39734896e+00,  2.39880382e+00],\n",
       "         [ 6.50056449e+00,  1.20530257e+00,  5.33223931e-01, ...,\n",
       "           5.04270540e-01,  5.12363080e-01,  4.01765445e-01],\n",
       "         [ 7.48284220e+00,  6.44270505e+00,  1.08721853e+00, ...,\n",
       "           4.15530262e-01,  3.47800143e-01,  3.60242130e-01],\n",
       "         ...,\n",
       "         [ 8.02258051e+00,  6.82616280e+00,  7.87866095e+00, ...,\n",
       "           8.64808077e-01, -6.13671689e-03,  3.20468405e-02],\n",
       "         [ 6.94265771e+00,  5.99886024e+00,  6.84579743e+00, ...,\n",
       "           7.36876889e+00,  8.47237366e-01,  2.36369350e-02],\n",
       "         [ 6.94687097e+00,  5.86882235e+00,  6.80411048e+00, ...,\n",
       "           7.39594250e+00,  6.40156218e+00,  8.62267968e-01]]),\n",
       "  False))"
      ]
     },
     "execution_count": 54,
     "metadata": {},
     "output_type": "execute_result"
    }
   ],
   "source": [
    "print(len(explain))\n",
    "explain"
   ]
  },
  {
   "cell_type": "markdown",
   "metadata": {},
   "source": [
    "이 method는 추천한 콘텐츠의 점수에 기여한 다른 콘텐츠와 기여도(합이 콘텐츠의 점수)를 반환. \n",
    "\n",
    "어떤 아티스트들이 이 추천에 얼마나 기여하고 있는 걸까 확인할 수 있다."
   ]
  },
  {
   "cell_type": "code",
   "execution_count": 53,
   "metadata": {
    "ExecuteTime": {
     "end_time": "2021-02-04T12:03:07.778823Z",
     "start_time": "2021-02-04T12:03:07.765450Z"
    }
   },
   "outputs": [
    {
     "data": {
      "text/plain": [
       "[('beyoncé', 0.20933865521868983),\n",
       " ('black eyed peas', 0.15184489538140572),\n",
       " ('jason mraz', 0.061451087964159115),\n",
       " ('coldplay', 0.043327786867204385),\n",
       " ('maroon5', 0.0002331509320767174)]"
      ]
     },
     "execution_count": 53,
     "metadata": {},
     "output_type": "execute_result"
    }
   ],
   "source": [
    "[(idx_to_artist[i[0]], i[1]) for i in explain[1]]"
   ]
  },
  {
   "cell_type": "markdown",
   "metadata": {},
   "source": [
    "## 마무리\n",
    "\n",
    "---\n",
    "\n",
    "1. 유저, 아티스트에 대한 Meta 정보를 반영하기 쉽지 않다. 연령대별로 음악 취향이 굉장히 다르지 않을까?\n",
    "2. 유저가 언제 play 했는지에 반영하기 쉽지 않다. 10년 전에 즐겨듣던 아티스트와 지금 즐겨듣는 아티스트를 비교해보자."
   ]
  }
 ],
 "metadata": {
  "hide_input": false,
  "kernelspec": {
   "display_name": "aiffel",
   "language": "python",
   "name": "aiffel"
  },
  "language_info": {
   "codemirror_mode": {
    "name": "ipython",
    "version": 3
   },
   "file_extension": ".py",
   "mimetype": "text/x-python",
   "name": "python",
   "nbconvert_exporter": "python",
   "pygments_lexer": "ipython3",
   "version": "3.7.9"
  },
  "toc": {
   "base_numbering": 1,
   "nav_menu": {},
   "number_sections": true,
   "sideBar": true,
   "skip_h1_title": true,
   "title_cell": "Table of Contents",
   "title_sidebar": "Contents",
   "toc_cell": true,
   "toc_position": {},
   "toc_section_display": true,
   "toc_window_display": false
  }
 },
 "nbformat": 4,
 "nbformat_minor": 4
}
