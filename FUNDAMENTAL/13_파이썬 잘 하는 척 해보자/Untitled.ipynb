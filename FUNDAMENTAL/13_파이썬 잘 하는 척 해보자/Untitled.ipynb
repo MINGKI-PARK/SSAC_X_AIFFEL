{
 "cells": [
  {
   "cell_type": "markdown",
   "metadata": {
    "toc": true
   },
   "source": [
    "<h1>Table of Contents<span class=\"tocSkip\"></span></h1>\n",
    "<div class=\"toc\"><ul class=\"toc-item\"><li><span><a href=\"#시작하며\" data-toc-modified-id=\"시작하며-1\"><span class=\"toc-item-num\">1&nbsp;&nbsp;</span>시작하며</a></span><ul class=\"toc-item\"><li><span><a href=\"#학습-목표\" data-toc-modified-id=\"학습-목표-1.1\"><span class=\"toc-item-num\">1.1&nbsp;&nbsp;</span>학습 목표</a></span></li></ul></li><li><span><a href=\"#파이썬-어디까지-써-봤니?\" data-toc-modified-id=\"파이썬-어디까지-써-봤니?-2\"><span class=\"toc-item-num\">2&nbsp;&nbsp;</span>파이썬 어디까지 써 봤니?</a></span><ul class=\"toc-item\"><li><span><a href=\"#파이썬-성능과-한계\" data-toc-modified-id=\"파이썬-성능과-한계-2.1\"><span class=\"toc-item-num\">2.1&nbsp;&nbsp;</span>파이썬 성능과 한계</a></span></li><li><span><a href=\"#퍼포먼스-vs-생산성\" data-toc-modified-id=\"퍼포먼스-vs-생산성-2.2\"><span class=\"toc-item-num\">2.2&nbsp;&nbsp;</span>퍼포먼스 vs 생산성</a></span></li><li><span><a href=\"#파이썬의-성능\" data-toc-modified-id=\"파이썬의-성능-2.3\"><span class=\"toc-item-num\">2.3&nbsp;&nbsp;</span>파이썬의 성능</a></span></li></ul></li><li><span><a href=\"#파이썬을-더-잘-사용해보자!-(1)-for문-잘-사용하기\" data-toc-modified-id=\"파이썬을-더-잘-사용해보자!-(1)-for문-잘-사용하기-3\"><span class=\"toc-item-num\">3&nbsp;&nbsp;</span>파이썬을 더 잘 사용해보자! (1) for문 잘 사용하기</a></span><ul class=\"toc-item\"><li><span><a href=\"#실행시간-측정\" data-toc-modified-id=\"실행시간-측정-3.1\"><span class=\"toc-item-num\">3.1&nbsp;&nbsp;</span>실행시간 측정</a></span></li></ul></li><li><span><a href=\"#파이썬을-더-잘-사용해보자!-(3)-Multiprocessing\" data-toc-modified-id=\"파이썬을-더-잘-사용해보자!-(3)-Multiprocessing-4\"><span class=\"toc-item-num\">4&nbsp;&nbsp;</span>파이썬을 더 잘 사용해보자! (3) Multiprocessing</a></span></li><li><span><a href=\"#같은-코드-두-번-짜지-말자!-(3)-람다-표현식\" data-toc-modified-id=\"같은-코드-두-번-짜지-말자!-(3)-람다-표현식-5\"><span class=\"toc-item-num\">5&nbsp;&nbsp;</span>같은 코드 두 번 짜지 말자! (3) 람다 표현식</a></span></li></ul></div>"
   ]
  },
  {
   "cell_type": "markdown",
   "metadata": {},
   "source": [
    "## 시작하며\n",
    "\n",
    "### 학습 목표\n",
    "\n",
    "---\n",
    "\n",
    "+ 파이썬에 대해서 알아보자.\n",
    "+ 코드 재사용에 대해서 알아보자. \n",
    "+ 프로그래밍 패러다임에 대해서 알아보자. \n",
    "+ 파이썬 코드를 이쁘게 해보자."
   ]
  },
  {
   "cell_type": "markdown",
   "metadata": {},
   "source": [
    "## 파이썬 어디까지 써 봤니?\n",
    "\n",
    "### 파이썬 성능과 한계\n",
    "\n",
    "---\n",
    "\n",
    "이 세상에 많은 언어들이 존재하는 것처럼, 컴퓨터에도 다양한 언어들이 있습니다.\n",
    "\n",
    "C, C++, C#, JAVA, PHP, JavaScript, Python, Ruby, Object-C, Perl 등… 이처럼 수많은 언어가 있지만 우리는 여기서 파이썬(Python)을 다뤄보고자 합니다.\n",
    "\n",
    "우리는 하필이면 왜 파이썬을 배우고 있을까요? 파이썬에 대해 더 깊이 들어가기에 앞서 '왜 파이썬인지' 한번 알아보도록 하겠습니다."
   ]
  },
  {
   "cell_type": "markdown",
   "metadata": {},
   "source": [
    "### 퍼포먼스 vs 생산성\n",
    "\n",
    "---\n",
    "\n",
    "코딩 언어에서 가장 중요하게 생각하는 것을 꼽아보라면 바로 '퍼포먼스'와 '생산성' 입니다.\n",
    "\n",
    "1. 퍼포먼스\n",
    "\n",
    "먼저 **퍼포먼스(성능)** 란 어떤 언어든 코드를 짜서 실행을 시켰을 때 얼마나 빨리 처리가 되는가를 말합니다.\n",
    "\n",
    "자전거와 자동차를 이용해 좀 더 자세히 설명해 보겠습니다. 자전거는 사람이 엔진이 되어 움직이는 이동수단입니다. 그리고 자동차는 기계가 엔진으로 있는 성능이 매우 좋은 이동수단입니다. 성능이 좋고 나쁘고는 이동수단이 얼마나 빨리 움직이는지에 따라 정해집니다. 자전거를 타고 가는 것보다는 자동차를 타고 움직이는 것이 훨씬 빠르겠죠?\n",
    "\n",
    "언어도 똑같습니다. 퍼포먼스가 좋은 언어는 특정한 연산을 빠르게 수행하고 퍼포먼스가 안 좋은 언어는 연산이 느리게 수행되게 되죠.\n",
    "\n",
    "아래는 언어별 특정 연산에 대한 수행 속도 결과입니다.\n",
    "\n",
    "![](./img/img1.png)\n",
    "\n",
    "위를 보시면 C 언어가 퍼포먼스 상위를 차지하고 있고 파이썬은 상대적으로 하위에 위치에 있는 것을 보실 수 있습니다."
   ]
  },
  {
   "cell_type": "markdown",
   "metadata": {},
   "source": [
    "2. 생산성\n",
    "\n",
    "그렇다면 생산성은 무엇을 의미할까요?\n",
    "\n",
    "답은 시간에 있습니다. 시간은 항상 우리에게 충분히 주어지지 않을 때가 더 많습니다. 생산성이란 한 마디로 똑같은 기능을 하는 프로그램을 얼마나 빨리 작성할 수 있는가 입니다.\n",
    "\n",
    "빠른 시간 안에 기능을 구현해야 할 때, 높은 생산성은 큰 의미가 있습니다.\n",
    "\n",
    "예를 들어, 저희가 사진을 분류하는 프로그램을 만든다고 해봅시다. 같은 기능을 가진 프로그램이라도 파이썬으로는 일주일 만에 짤 수도 있지만, C++로는 한 달이 걸릴 수도 있습니다. 훨씬 많은 코드를 쳐서 만들어야 하죠."
   ]
  },
  {
   "cell_type": "markdown",
   "metadata": {},
   "source": [
    "3. 퍼포먼스 vs 생산성\n",
    "\n",
    "C와 파이썬만 보더라도 이렇게 생산성과 퍼포먼스 간의 trade-off가 상당한 걸 보실 수 있습니다. 그렇다면 생산성과 퍼포먼스 중에서는 어떤 것을 우선적으로 선택해야 할까요?\n",
    "\n",
    "생산성과 퍼포먼스가 모두 뛰어난 언어를 선택하면 좋겠지만 사실 생산성이 좋은 언어들은 퍼포먼스가 떨어지고 퍼포먼스가 좋은 언어는 생산성이 떨어집니다. 이런 상황에서 우리는 선택을 해야 합니다."
   ]
  },
  {
   "cell_type": "markdown",
   "metadata": {},
   "source": [
    "> 그래서 어떤 언어를 써야 돼?\n",
    ">\n",
    "> 목적에 맞게, 상황에 맞게 언어를 선택하고 사용하는 방법을 배우면 됩니다.\n",
    "실무에서는 먼저 회사의 각 프로그램들에서 기존에 사용하고 있는 언어를 가장 먼저 고려하고, 그다음에는 개발하고자 하는 프로젝트의 성능과 개발 기간을 고려해서 언어를 정하게 됩니다."
   ]
  },
  {
   "cell_type": "markdown",
   "metadata": {},
   "source": [
    "### 파이썬의 성능\n",
    "\n",
    "---\n",
    "\n",
    "일단, 우리가 배우려는 언어는 파이썬이니, 왜 우리가 파이썬을 배우면 좋은지 좀 더 알아보겠습니다.\n",
    "\n",
    "1. 높은 생산성\n",
    "\n",
    "![](./img/img2.png)\n",
    "\n",
    "위 그림은 파이썬 터미널에서 import antigravity를 실행하면 나오는 이스터에그 이미지입니다. 파이썬의 Battery Included라는 모토에 충실하게, 파이썬은 '이런 것까지 이미 다 포함해 두었나!' 하고 놀라울 만큼 다양한 모듈을 이미 라이브러리화해서 제공하고 있습니다. 뿐만 아니라 pip를 통해 얼마든지 쉽게 설치할 수 있는 써드파티 라이브러리를 통해 개발기간을 크게 단축시킬 수 있게 되죠.\n",
    "\n",
    "하늘을 나는 기능조차 직접 구현하지 않고 import로 불러다 사용하면 된다는 건 우스개이긴 하지만, 파이썬을 사용하고 있다면 어떤 기능을 직접 구현하려 들기 전에 한번 검색해 보시기를 권합니다. 대부분의 기능은 이미 어떤 패키지로 만들어져 있을 가능성이 높습니다."
   ]
  },
  {
   "cell_type": "markdown",
   "metadata": {},
   "source": [
    "2. 코드의 간결함\n",
    "\n",
    "java\n",
    "\n",
    "```java\n",
    "if(true) {\n",
    "    System.out.println(\"첫 번째\");\n",
    "    if(true) {\n",
    "        System.out.println(\"두 번째\");\n",
    "    }\n",
    "}\n",
    "```\n",
    "\n",
    "python\n",
    "\n",
    "```python\n",
    "if True :\n",
    "    print(\"첫 번쨰\");\n",
    "    if True :\n",
    "        print(\"두 번째\");\n",
    "```"
   ]
  },
  {
   "cell_type": "markdown",
   "metadata": {},
   "source": [
    "3. 빠른 개발 속도\n",
    "\n",
    "![](./img/img3.png)\n",
    "\n",
    "위의 표를 살펴봅시다. 같은 문제를 C++로 짜게 되면 평균 11시간 정도의 시간이 걸리고 파이썬으로 짜게 되면 약 3시간의 시간이 걸리는 걸 확인할 수 있습니다. 따라서 성능과 상관없이 개발이 빨리 돼야 하는 프로젝트를 하시게 된다면 파이썬을 사용하시면 좋습니다."
   ]
  },
  {
   "cell_type": "markdown",
   "metadata": {},
   "source": [
    "4. 스크립트 언어\n",
    "\n",
    "스크립트 언어로 실시간으로 코드가 실행됩니다.\n",
    "\n",
    "> 스크립트 언어는 프로그래밍 언어의 한 종류로, 기존에 이미 존재하는 소프트웨어(애플리케이션)를 제어하기 위한 용도로 쓰이는 언어입니다.\n",
    ">\n",
    "> 일반적인 응용 소프트웨어는 컴파일러를 사용하는 언어에 의해 기계어로 번역된 채로 실행되기 때문에, 수정이 빈번하게 발생하면 수정 후 일일이 컴파일을 다시 해야 합니다. 덩치가 큰 프로그램은 컴파일 시간도 몇 시간 단위로 잡아먹는 일이 많은 데다, 일일이 컴파일을 다시 하는 것도 상당히 귀찮은 작업입니다.\n",
    ">\n",
    "> 이 때문에 수정이 빈번하게 발생하는 부분은 소스코드를 한줄 한줄 읽어 바로바로 실행하는 인터프리터 방식이 상당히 유리합니다. 스크립트 언어는 이런 부분에 사용하기 위해 나온 것으로, 응용 소프트웨어에서 스크립트 언어에 맞는 API를 제공, 응용 소프트웨어와 상호작용하면서 돌아가게 됩니다.\n",
    "\n",
    "https://namu.wiki/w/%EC%8A%A4%ED%81%AC%EB%A6%BD%ED%8A%B8%20%EC%96%B8%EC%96%B4\n",
    "\n",
    "파이썬의 기본적인 사용법은 아실 테니 오늘은 파이썬을 파이썬답게 더욱 잘 쓰는 방법에 대해서 알아보겠습니다."
   ]
  },
  {
   "cell_type": "markdown",
   "metadata": {},
   "source": [
    "## 파이썬을 더 잘 사용해보자! (1) for문 잘 사용하기\n",
    "\n",
    "### 실행시간 측정\n",
    "\n",
    "---\n",
    "\n",
    "특정 프로그램을 짜다 보면 내가 짠 코드의 성능을 측정하고 싶을 때가 종종 있습니다. 내가 짠 코드를 실행시킬 때 얼마나 시간이 소요되는지 아래의 코드를 통해 확인해보겠습니다."
   ]
  },
  {
   "cell_type": "code",
   "execution_count": 1,
   "metadata": {
    "ExecuteTime": {
     "end_time": "2021-02-01T00:57:11.017991Z",
     "start_time": "2021-02-01T00:57:11.014056Z"
    }
   },
   "outputs": [
    {
     "name": "stdout",
     "output_type": "stream",
     "text": [
      "time : 0.00012922286987304688\n"
     ]
    }
   ],
   "source": [
    "import time\n",
    "start = time.time()  # 시작 시간 저장\n",
    "\n",
    "a = 1\n",
    "for i in range(100):\n",
    "\ta += 1\n",
    " \n",
    "# 작업 코드\n",
    "print(\"time :\", time.time() - start) # 결과는 '초' 단위 입니다."
   ]
  },
  {
   "cell_type": "markdown",
   "metadata": {},
   "source": [
    "### for문 잘 써보기 - enumerate()와 이중 for문\n",
    "\n",
    "---\n",
    "\n",
    "for문을 잘 쓰면 반복적으로 코드를 쓰지 않아도 돼 간결한 코드를 만드는 데 큰 도움이 됩니다.\n",
    "\n",
    "아래와 같이 my_list에 있는 값들을 하나씩 출력하는 코드를 보겠습니다. 일단 먼저 돌려보시죠!"
   ]
  },
  {
   "cell_type": "code",
   "execution_count": 2,
   "metadata": {
    "ExecuteTime": {
     "end_time": "2021-02-01T00:57:53.312159Z",
     "start_time": "2021-02-01T00:57:53.302441Z"
    }
   },
   "outputs": [
    {
     "name": "stdout",
     "output_type": "stream",
     "text": [
      "값 :  a\n",
      "값 :  b\n",
      "값 :  c\n",
      "값 :  d\n"
     ]
    }
   ],
   "source": [
    "my_list = ['a','b','c','d']\n",
    "\n",
    "for i in my_list:\n",
    "    print(\"값 : \", i)"
   ]
  },
  {
   "cell_type": "markdown",
   "metadata": {},
   "source": [
    "출력 결과가 어떻습니까? 값이 쭉 출력되었죠? 그럼 print 되는 각각의 값이 몇 번째로 출력되어 나왔는지는 어떻게 확인할까요? 물론 위의 예제는 4개의 값밖에 안 되어 바로 몇 번째인지 한눈에 확인이 가능하나, 100개 정도의 값을 출력한다고 했을 때는 '50번째에 출력된 값이 무엇인가?'라고 물으면 대답하기가 어려워질 것 같습니다.\n",
    "\n",
    "확인하는 방법은 enumerate()라는 기능을 이용하는 것입니다. enumerate()는 리스트, 문자열, 튜플 등이 있는 경우 순서와 리스트의 값을 함께 반환해주는 기능입니다. 그럼 아래 코드를 통해 확인해보겠습니다."
   ]
  },
  {
   "cell_type": "markdown",
   "metadata": {},
   "source": [
    "## 파이썬을 더 잘 사용해보자! (3) Multiprocessing\n",
    "\n",
    "Multiprocessing\n",
    "Multiprocessing(멀티프로세싱)은 컴퓨터가 작업을 처리하는 속도를 높여주는 방법 중 하나입니다. 그렇다고 멀티프로세싱을 이용하면 갑자기 자전거가 자동차의 속도로 빨리 가게 되지는 않습니다. 비유하자면 하나의 자전거를 이용해 여러 명이 한 명씩 순차적으로 목적지까지 가다가, 여러 자전거를 이용해서 여러 명이 동시에 목적지까지 가게 되는 것입니다.\n",
    "\n",
    "![](./img/img5.png)\n",
    "\n",
    "아래의 이미지를 보면 parallel processing, serial processing이 있습니다. parallel processing은 병렬 처리로, serial processing은 순차 처리로 번역이 가능합니다. 우리가 지금까지 짠 코드는 순차 처리의 방식이었습니다. 즉, 4개의 자전거를 가용할 수 있으나 그중 1개의 자전거만 사용하고 있는 것과 같습니다. 그럼 어떻게 하면 놀고 있는 나머지 3개 자전거도 함께 사용할 수 있는지 알아보겠습니다.\n",
    "\n",
    "![](./img/img6.png)\n",
    "\n",
    "왼쪽 그림을 보시면 병렬 처리는 4개의 문자열이 동시에 처리가 되어 저장되는 것을 볼 수 있고, 순차 처리는 문자열이 하나씩 차례대로 처리되어 저장되는 것을 볼 수 있습니다.\n",
    "\n",
    "먼저 순차 처리의 예제를 밑에 코드로 확인해보겠습니다. 변수를 1억 번 돌려보는 코드입니다."
   ]
  },
  {
   "cell_type": "code",
   "execution_count": null,
   "metadata": {},
   "outputs": [],
   "source": [
    "import time\n",
    "\n",
    "num_list = ['p1','p2', 'p3', 'p4']\n",
    "start = time.time()\n",
    "\n",
    "def count(name):\n",
    "    for i in range(0, 100000000):\n",
    "        a=1+2\n",
    "        \n",
    "    print(\"finish : \",name)\n",
    "\n",
    "for num in num_list:\n",
    "    count(num)\n",
    "\n",
    "print(\"time :\", time.time() - start)"
   ]
  },
  {
   "cell_type": "markdown",
   "metadata": {},
   "source": [
    "finish로 나오는 문자는 p1, p2, p3, p4의 순서로, 원래의 리스트['p1', 'p2', 'p3', 'p4']의 순서가 동일합니다. 그리고 아래에 출력된, 총 걸린 시간을 기억해주세요!\n",
    "\n",
    "다음은 병렬 처리를 이용한 코드입니다. 먼저 실행해보겠습니다."
   ]
  },
  {
   "cell_type": "code",
   "execution_count": null,
   "metadata": {},
   "outputs": [],
   "source": [
    "import multiprocessing\n",
    "import time\n",
    "\n",
    "num_list = ['p1','p2', 'p3', 'p4']\n",
    "start = time.time()\n",
    "\n",
    "def count(name):\n",
    "    for i in range(0, 100000000):\n",
    "            a=1+2\n",
    "    print(\"finish : \",name)\n",
    "    \n",
    "\n",
    "if __name__ == '__main__':\n",
    "    pool = multiprocessing.Pool(processes = 4)\n",
    "    pool.map(count, num_list)\n",
    "    pool.close()\n",
    "    pool.join()\n",
    "\n",
    "print(\"time :\", time.time() - start)"
   ]
  },
  {
   "cell_type": "markdown",
   "metadata": {},
   "source": [
    "우와, 속도 보이십니까? time이 순차 처리 보다 병렬 처리를 시행했을 때 2배 이상 빨라진 것을 볼 수 있으실 겁니다. 그런데 병렬 처리의 경우, finish의 순서가 순차 처리의 코드와 다를 것입니다. 제가 돌렸을 때는 p2, p1, p3, p4 순서대로 종료되었다고 나왔습니다. 여러분들 창의 결과는 저랑 같을 수도 있고 다를 수도 있습니다. 그 이유는 각 프로세스에 작업 코드가 거의 동시에 들어가기 때문에 처리되어 나오는 결과는 각 코어의 점유 상황이나 여러 이유로 인해 시간차가 생길 수 있기 때문입니다.\n",
    "\n",
    "그럼 병렬 처리를 사용하는 방법에 대해 좀 더 자세히 알아보겠습니다. 일단, multiprocessing모듈을 import합니다. 그리고 병렬 처리를 하고 싶은 함수를 작성합니다. 그 아래에 count(name) 함수를 만들어보겠습니다."
   ]
  },
  {
   "cell_type": "code",
   "execution_count": null,
   "metadata": {},
   "outputs": [],
   "source": [
    "import multiprocessing\n",
    "\n",
    "def count(name):\n",
    "    for i in range(0, 100000000):\n",
    "            a=1+2\n",
    "    print(\"finish : \",name)"
   ]
  },
  {
   "cell_type": "markdown",
   "metadata": {},
   "source": [
    "아래에 이어서 if __name__ == '__main__': 이 나옵니다. 이것은 코드 시작점을 여기로 하라는 명령어입니다."
   ]
  },
  {
   "cell_type": "code",
   "execution_count": null,
   "metadata": {},
   "outputs": [],
   "source": [
    "num_list = ['p1','p2', 'p3', 'p4']\n",
    "\n",
    "if __name__ == '__main__':\n",
    "    pool = multiprocessing.Pool(processes = 4)\n",
    "    pool.map(count, num_list)\n",
    "    pool.close()\n",
    "    pool.join()"
   ]
  },
  {
   "cell_type": "markdown",
   "metadata": {},
   "source": [
    "한 줄씩 자세히 설명하자면,\n",
    "\n",
    "+ pool = multiprocessing.Pool(processes = 4) : 병렬 처리 시, 4개의 프로세스를 사용하도록 합니다.\n",
    "+ pool.map(count, num_list) : 병렬화를 시키는 함수로써 count 함수에 num_list의 원소들을 하나씩 넣어 놓습니다. 여기서 num_list의 원소는 4개이므로 4개의 count 함수에 각각 하나씩 원소가 들어가게 됩니다.\n",
    "+ 즉, count('p1'), count('p2'), count('p3'), count('p4')가 만들어집니다.\n",
    "+ pool.close() : 일반적으로 병렬화 부분이 끝나면 나옵니다. 더이상 pool을 통해서 새로운 작업을 추가하지 않을 때 사용합니다.\n",
    "+ pool.join() : 프로세스가 종료될 때까지 대기하도록 지시하는 구문으로써 병렬처리 작업이 끝날 때까지 기다리도록 합니다."
   ]
  },
  {
   "cell_type": "markdown",
   "metadata": {},
   "source": [
    "## 같은 코드 두 번 짜지 말자! (3) 람다 표현식\n",
    "\n",
    "람다는 런타임에 생성해서 사용할 수 있는 익명 함수입니다. 쉽게 말하자면, 함수 이름이 없는 함수라고 생각하시면 됩니다. 람다 표현식은 식 형태로 되어 있어 람다 표현식(lambda expression)이라 부릅니다. 람다를 이용한 기능들은 많이 있지만 우리가 먼저 알아볼 것은 한 줄로 된 함수입니다.\n",
    "\n",
    "먼저 더하기를 하는 함수를 짜보겠습니다."
   ]
  },
  {
   "cell_type": "code",
   "execution_count": 3,
   "metadata": {
    "ExecuteTime": {
     "end_time": "2021-02-01T01:19:00.563220Z",
     "start_time": "2021-02-01T01:19:00.561217Z"
    }
   },
   "outputs": [],
   "source": [
    "def add(x, y):\n",
    "    return x + y"
   ]
  },
  {
   "cell_type": "markdown",
   "metadata": {},
   "source": [
    "위와 같이 def를 사용해 일반적으로 함수를 만들려면 최소 2줄이 필요합니다. 함수 이름, 입력값들을 정의하는 첫 번째 줄, 결과를 반환하는 return 줄을 써야 하기 때문이죠. 하지만 우리는 이것을 한 줄로 줄일 수 있습니다!"
   ]
  },
  {
   "cell_type": "code",
   "execution_count": 4,
   "metadata": {
    "ExecuteTime": {
     "end_time": "2021-02-01T01:19:15.385790Z",
     "start_time": "2021-02-01T01:19:15.383187Z"
    }
   },
   "outputs": [],
   "source": [
    "def add(x, y): return x + y"
   ]
  },
  {
   "cell_type": "markdown",
   "metadata": {},
   "source": [
    "짠! 사실 좋은 코드로 보이지는 않죠. 아래에서 유지보수가 쉬운 코드에 대한 이야기도 금방 나올 테니 일단은 봐주세요. 💪\n",
    "\n",
    "다시 정신 차려서.. 우리는 지금 람다를 알아보려고 했었습니다. 일단 람다를 사용하는 법을 보여드리겠습니다.\n",
    "\n"
   ]
  },
  {
   "cell_type": "code",
   "execution_count": 5,
   "metadata": {
    "ExecuteTime": {
     "end_time": "2021-02-01T01:19:23.209609Z",
     "start_time": "2021-02-01T01:19:23.206810Z"
    }
   },
   "outputs": [
    {
     "name": "stdout",
     "output_type": "stream",
     "text": [
      "30\n"
     ]
    }
   ],
   "source": [
    "print( (lambda x,y: x + y)(10, 20) )"
   ]
  },
  {
   "cell_type": "markdown",
   "metadata": {},
   "source": [
    "먼저 lambda라고 적혀져 있고 그 옆에 위의 add 함수와 같은 역할을 하는 코드가 적혀져 있습니다. 순서대로 살펴보겠습니다.\n",
    "\n",
    "+ 먼저 x, y 는 입력값을 의미합니다. 즉, x값과 y값이 입력으로 들어온다는 의미입니다.\n",
    "+ 두 번째, x + y는 return 부분과 같습니다. add 함수에도 return x + y가 있었던 것과 같이 lambda 에도 ':' 이후에 반환값으로 나오게 됩니다.\n",
    "+ 마지막은 (10, 20) 입니다. 각각 앞에 있던 x, y 입력값입니다. 만약 입력이 x, y, z 이라면 (10, 20, 30) 이렇게 세 개의 값을 넣게 됩니다. 보통 함수 안의 함수를 간단히 만들 때, def를 이용해 만들지 않고 람다를 이용해서 함수를 만들게 됩니다.\n",
    "\n",
    "람다 표현식을 사용하는 가장 중요한 이유는 함수의 인수 부분을 간단히 하기 위함입니다. 이런 방식으로 사용하는 대표적인 예가 map()입니다.\n",
    "\n",
    "람다 표현식을 사용하기 전에 먼저 def로 함수를 만들어서 map()을 사용하는 예제를 보여드리겠습니다.\n",
    "\n",
    "map() 함수는 입력받은 자료형의 각 요소가 함수에 의해 수행된 결과를 묶어서 map iterator 객체로 출력하는 역할을 합니다. 무슨 말인지 좀 복잡하죠? 아래 예시를 보면서 이해해 보도록 하겠습니다. 먼저 코드를 돌려보겠습니다."
   ]
  },
  {
   "cell_type": "code",
   "execution_count": 6,
   "metadata": {
    "ExecuteTime": {
     "end_time": "2021-02-01T01:19:54.620698Z",
     "start_time": "2021-02-01T01:19:54.609688Z"
    }
   },
   "outputs": [
    {
     "name": "stdout",
     "output_type": "stream",
     "text": [
      "[2, 4, 6]\n"
     ]
    }
   ],
   "source": [
    "def list_mul(x):\n",
    "     return x * 2\n",
    "\n",
    "result = list(map(list_mul, [1, 2, 3]))\n",
    "print(result)\n",
    "\n",
    "#map_res = map(list_mul, [1, 2, 3])\n",
    "#print(map_res)\n",
    "#list_map_res = list(map_res)\n",
    "#print(list_map_res)"
   ]
  },
  {
   "cell_type": "markdown",
   "metadata": {},
   "source": [
    "코드를 먼저 설명하면, 함수 list_mul()은 숫자를 받은 뒤 그 두 배 값을 반환하는 함수입니다. 그리고 map()에 list_mul()함수와 리스트 [1, 2, 3]을 넣습니다. 주의할 점이 map()의 결과는 그냥 map 객체이므로 결과창에서 직접 눈으로 확인할 수 있는 형태로 바꾸기 위해 list()를 사용해 리스트 형태로 변환해 줍니다.\n",
    "\n",
    "map(f, iterable) 는 입력으로 함수(f)와 반복 가능한(iterable) 객체(리스트, 튜플 등)를 받습니다. 코드에서 보시면 f에는 list_mul() 함수가 들어갔고 iterable에는 [1,2,3] 리스트가 들어가 있습니다. 코드를 수행하면 리스트에 들어가 있는 값들에 2를 곱한 결과가 나옵니다. 즉, 리스트안의 원소들을 1(0번째) 부터 시작해서 2(1번째), 3(2번째) 순서로 list_mul() 함수에 차례로 넣고 출력을 받아서 list 형태로 바꾼 것입니다.\n",
    "\n",
    "그럼 이 map()이 lambda와 결합을 하면 어떻게 될까요?! 아래의 코드와 같이 list_mul() 함수를 lambda로 대체하면 총 3줄이었던 코드가 1줄로 줄어드는 매직을 보게 됩니다.\n",
    "\n"
   ]
  },
  {
   "cell_type": "code",
   "execution_count": 7,
   "metadata": {
    "ExecuteTime": {
     "end_time": "2021-02-01T01:20:14.329604Z",
     "start_time": "2021-02-01T01:20:14.326563Z"
    }
   },
   "outputs": [
    {
     "name": "stdout",
     "output_type": "stream",
     "text": [
      "[2, 4, 6]\n"
     ]
    }
   ],
   "source": [
    "result = list(map(lambda i: i * 2 , [1, 2, 3]))\n",
    "print(result)"
   ]
  },
  {
   "cell_type": "markdown",
   "metadata": {},
   "source": [
    "map() 이외에도 filter(), reduce() 등 람다 표현식과 자주 쓰이는 함수가 많이 있습니다. 아래 사이트를 가시면 해당 함수에 대한 추가적인 설명이 있습니다\n",
    "\n",
    "https://wikidocs.net/64"
   ]
  },
  {
   "cell_type": "code",
   "execution_count": null,
   "metadata": {},
   "outputs": [],
   "source": []
  },
  {
   "cell_type": "code",
   "execution_count": null,
   "metadata": {},
   "outputs": [],
   "source": []
  },
  {
   "cell_type": "code",
   "execution_count": null,
   "metadata": {},
   "outputs": [],
   "source": []
  }
 ],
 "metadata": {
  "hide_input": false,
  "kernelspec": {
   "display_name": "aiffel",
   "language": "python",
   "name": "aiffel"
  },
  "language_info": {
   "codemirror_mode": {
    "name": "ipython",
    "version": 3
   },
   "file_extension": ".py",
   "mimetype": "text/x-python",
   "name": "python",
   "nbconvert_exporter": "python",
   "pygments_lexer": "ipython3",
   "version": "3.7.9"
  },
  "toc": {
   "base_numbering": 1,
   "nav_menu": {},
   "number_sections": true,
   "sideBar": true,
   "skip_h1_title": true,
   "title_cell": "Table of Contents",
   "title_sidebar": "Contents",
   "toc_cell": true,
   "toc_position": {},
   "toc_section_display": true,
   "toc_window_display": true
  }
 },
 "nbformat": 4,
 "nbformat_minor": 4
}
