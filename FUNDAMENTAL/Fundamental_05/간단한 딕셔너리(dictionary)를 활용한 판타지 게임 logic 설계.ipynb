{
 "cells": [
  {
   "cell_type": "markdown",
   "metadata": {},
   "source": [
    "플레이어가 보물상자를 얻었을 때, 보물상자 안에 있는 물품과, 각 물품을 통해 얻은 은화를 보여주는 프로그램을 만든다고 해 볼게요.\n",
    "\n",
    "보물상자에 다음과 같은 물건이 들어 있을 때, 그리고 각 물품은 게임세계의 돈인 은화로 거래될 수 있습니다.\n",
    "\n",
    "+ 물품을 보여주는 함수"
   ]
  },
  {
   "cell_type": "code",
   "execution_count": 1,
   "metadata": {},
   "outputs": [
    {
     "name": "stdout",
     "output_type": "stream",
     "text": [
      "Congraturation!! you got a treasure box\n",
      "you have rope 2pcs\n",
      "you have apple 10pcs\n",
      "you have torch 6pcs\n",
      "you have gold coin 50pcs\n",
      "you have knife 1pcs\n",
      "you have arrow 30pcs\n"
     ]
    }
   ],
   "source": [
    "treasure_box = {'rope':2, \n",
    "                'apple':10, \n",
    "                'torch': 6, \n",
    "                'gold coin': 50, \n",
    "                'knife': 1, \n",
    "                'arrow': 30}\n",
    "\n",
    "def display_stuff(treasure_box):\n",
    "    print(\"Congraturation!! you got a treasure box\")\n",
    "    for k, v in treasure_box.items():\n",
    "        print(\"you have {} {}pcs\".format(k, v))\n",
    "display_stuff(treasure_box)"
   ]
  },
  {
   "cell_type": "markdown",
   "metadata": {},
   "source": [
    "+ 물품을 통해 얻을 은화를 보여주는 함수"
   ]
  },
  {
   "cell_type": "code",
   "execution_count": 2,
   "metadata": {},
   "outputs": [
    {
     "name": "stdout",
     "output_type": "stream",
     "text": [
      "rope : 1coins/pcs * 2pcs = 2 coins\n",
      "apple : 2coins/pcs * 10pcs = 20 coins\n",
      "torch : 2coins/pcs * 6pcs = 12 coins\n",
      "gold coin : 5coins/pcs * 50pcs = 250 coins\n",
      "knife : 30coins/pcs * 1pcs = 30 coins\n",
      "arrow : 1coins/pcs * 30pcs = 30 coins\n",
      "total_coin :  344\n"
     ]
    }
   ],
   "source": [
    "coin_per_treasure = {'rope':1,\n",
    "        'apple':2,\n",
    "        'torch': 2,\n",
    "        'gold coin': 5, \n",
    "        'knife': 30,\n",
    "        'arrow': 1}\n",
    "\n",
    "def total_silver(treasure_box, coin_per_treasure):\n",
    "    total_coin = 0\n",
    "    for treasure in treasure_box:\n",
    "        coin = coin_per_treasure[treasure] * treasure_box[treasure]\n",
    "        print(\"{} : {}coins/pcs * {}pcs = {} coins\".format(\n",
    "          treasure, coin_per_treasure[treasure], treasure_box[treasure], coin))\n",
    "        total_coin += coin\n",
    "    print('total_coin : ', total_coin)\n",
    "total_silver(treasure_box, coin_per_treasure)"
   ]
  },
  {
   "cell_type": "markdown",
   "metadata": {},
   "source": [
    "보물상자안의 물품과 개수와 은화를 각각의 dictionary 형태로 저장하고, 동일한 단어를 키로 사용해서 각각의 데이터 값을 매칭했습니다.\n",
    "\n",
    "데이터를 하나의 변수에 저장할 수도 있습니다. \"딕셔너리의 딕셔너리\" 형태에요."
   ]
  },
  {
   "cell_type": "code",
   "execution_count": 3,
   "metadata": {},
   "outputs": [
    {
     "data": {
      "text/plain": [
       "{'coin': 1, 'pcs': 2}"
      ]
     },
     "execution_count": 3,
     "metadata": {},
     "output_type": "execute_result"
    }
   ],
   "source": [
    "treasure_box = {'rope': {'coin': 1, 'pcs': 2},\n",
    "                'apple': {'coin': 2, 'pcs': 10},\n",
    "                'torch': {'coin': 2, 'pcs': 6},\n",
    "                'gold coin': {'coin': 5, 'pcs': 50},\n",
    "                'knife': {'coin': 1, 'pcs': 30}}\n",
    "treasure_box['rope']"
   ]
  },
  {
   "cell_type": "markdown",
   "metadata": {},
   "source": [
    "이전 스텝에서 구조화된 데이터란?하고 던진 질문에 대한 답변을 드릴 때가 된 것 같습니다. 위에 보는 treasure_box 에 포함된 5개의 데이터는 내부적으로 coin과 pcs라는 내부 구조를 가집니다. 이렇게 데이터 내부에 자체적인 서브 구조를 가지는 데이터를 구조화된 데이터라고 하겠습니다. 이런 데이터는 나중에 살펴보겠지만, 테이블(table) 형태로 전개됩니다. 위의 treasure_box 데이터는 5개의 행(row), 2개의 열(column)을 가진 데이터가 될 것입니다."
   ]
  },
  {
   "cell_type": "code",
   "execution_count": 4,
   "metadata": {},
   "outputs": [],
   "source": [
    "def display_stuff(treasure_box):\n",
    "    ## type your code\n",
    "    print(\"Congraturation!! you got a treasure box!!\")\n",
    "    for treasure in treasure_box:\n",
    "             print(\"You have {} {}pcs\".format(treasure, treasure_box[treasure]['pcs']))\n",
    "\n",
    "def total_silver(treasure_box, coin_per_treasure):\n",
    "    ## type your code\n",
    "    total_coin = 0\n",
    "    for treasure in treasure_box:\n",
    "        coin = coin_per_treasure[treasure] * treasure_box[treasure]['pcs']\n",
    "        print(\"{} : {}coins/pcs * {}pcs = {} coins\".format(\n",
    "          treasure, coin_per_treasure[treasure], treasure_box[treasure]['pcs'], coin))\n",
    "        total_coin += coin\n",
    "    print('total_coin : ', total_coin)"
   ]
  }
 ],
 "metadata": {
  "kernelspec": {
   "display_name": "aiffel",
   "language": "python",
   "name": "aiffel"
  },
  "language_info": {
   "codemirror_mode": {
    "name": "ipython",
    "version": 3
   },
   "file_extension": ".py",
   "mimetype": "text/x-python",
   "name": "python",
   "nbconvert_exporter": "python",
   "pygments_lexer": "ipython3",
   "version": "3.7.9"
  }
 },
 "nbformat": 4,
 "nbformat_minor": 4
}
