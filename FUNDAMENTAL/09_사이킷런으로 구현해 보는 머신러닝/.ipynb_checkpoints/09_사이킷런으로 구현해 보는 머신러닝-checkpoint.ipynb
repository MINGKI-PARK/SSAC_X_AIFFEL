{
 "cells": [
  {
   "cell_type": "markdown",
   "metadata": {},
   "source": [
    "# 09_사이킷런으로 구현해 보는 머신러닝"
   ]
  },
  {
   "cell_type": "markdown",
   "metadata": {
    "toc": true
   },
   "source": [
    "<h1>Table of Contents<span class=\"tocSkip\"></span></h1>\n",
    "<div class=\"toc\"><ul class=\"toc-item\"><li><span><a href=\"#시작하며\" data-toc-modified-id=\"시작하며-1\"><span class=\"toc-item-num\">1&nbsp;&nbsp;</span>시작하며</a></span><ul class=\"toc-item\"><li><span><a href=\"#학습목표\" data-toc-modified-id=\"학습목표-1.1\"><span class=\"toc-item-num\">1.1&nbsp;&nbsp;</span>학습목표</a></span></li></ul></li><li><span><a href=\"#머신러닝-알고리즘\" data-toc-modified-id=\"머신러닝-알고리즘-2\"><span class=\"toc-item-num\">2&nbsp;&nbsp;</span>머신러닝 알고리즘</a></span><ul class=\"toc-item\"><li><span><a href=\"#지도학습과-비지도학습\" data-toc-modified-id=\"지도학습과-비지도학습-2.1\"><span class=\"toc-item-num\">2.1&nbsp;&nbsp;</span>지도학습과 비지도학습</a></span></li></ul></li><li><span><a href=\"#사이킷런에서-가이드하는-머신러닝-알고리즘\" data-toc-modified-id=\"사이킷런에서-가이드하는-머신러닝-알고리즘-3\"><span class=\"toc-item-num\">3&nbsp;&nbsp;</span>사이킷런에서 가이드하는 머신러닝 알고리즘</a></span></li><li><span><a href=\"#Hello-Scikit-learn\" data-toc-modified-id=\"Hello-Scikit-learn-4\"><span class=\"toc-item-num\">4&nbsp;&nbsp;</span>Hello Scikit-learn</a></span><ul class=\"toc-item\"><li><span><a href=\"#설치\" data-toc-modified-id=\"설치-4.1\"><span class=\"toc-item-num\">4.1&nbsp;&nbsp;</span>설치</a></span></li><li><span><a href=\"#사이킷런-살펴보기\" data-toc-modified-id=\"사이킷런-살펴보기-4.2\"><span class=\"toc-item-num\">4.2&nbsp;&nbsp;</span>사이킷런 살펴보기</a></span></li></ul></li><li><span><a href=\"#사이킷런의-주요-모듈-(1)-데이터-표현법\" data-toc-modified-id=\"사이킷런의-주요-모듈-(1)-데이터-표현법-5\"><span class=\"toc-item-num\">5&nbsp;&nbsp;</span>사이킷런의 주요 모듈 (1) 데이터 표현법</a></span><ul class=\"toc-item\"><li><span><a href=\"#데이터-표현법\" data-toc-modified-id=\"데이터-표현법-5.1\"><span class=\"toc-item-num\">5.1&nbsp;&nbsp;</span>데이터 표현법</a></span><ul class=\"toc-item\"><li><span><a href=\"#특성-행렬(Feature-Matrix)\" data-toc-modified-id=\"특성-행렬(Feature-Matrix)-5.1.1\"><span class=\"toc-item-num\">5.1.1&nbsp;&nbsp;</span>특성 행렬(Feature Matrix)</a></span></li><li><span><a href=\"#타겟-벡터-(Target-Vector)\" data-toc-modified-id=\"타겟-벡터-(Target-Vector)-5.1.2\"><span class=\"toc-item-num\">5.1.2&nbsp;&nbsp;</span>타겟 벡터 (Target Vector)</a></span></li></ul></li></ul></li><li><span><a href=\"#사이킷런의-주요-모듈-(2)-회귀-모델-실습\" data-toc-modified-id=\"사이킷런의-주요-모듈-(2)-회귀-모델-실습-6\"><span class=\"toc-item-num\">6&nbsp;&nbsp;</span>사이킷런의 주요 모듈 (2) 회귀 모델 실습</a></span></li><li><span><a href=\"#사이킷런의-주요-모듈-(3)-datasets-모듈\" data-toc-modified-id=\"사이킷런의-주요-모듈-(3)-datasets-모듈-7\"><span class=\"toc-item-num\">7&nbsp;&nbsp;</span>사이킷런의 주요 모듈 (3) datasets 모듈</a></span><ul class=\"toc-item\"><li><span><a href=\"#datasets.load_wine()-뜯어보기\" data-toc-modified-id=\"datasets.load_wine()-뜯어보기-7.1\"><span class=\"toc-item-num\">7.1&nbsp;&nbsp;</span><code>datasets.load_wine()</code> 뜯어보기</a></span><ul class=\"toc-item\"><li><span><a href=\"#1.-data\" data-toc-modified-id=\"1.-data-7.1.1\"><span class=\"toc-item-num\">7.1.1&nbsp;&nbsp;</span>1. data</a></span></li><li><span><a href=\"#2.-target\" data-toc-modified-id=\"2.-target-7.1.2\"><span class=\"toc-item-num\">7.1.2&nbsp;&nbsp;</span>2. target</a></span></li><li><span><a href=\"#3.-feature_names\" data-toc-modified-id=\"3.-feature_names-7.1.3\"><span class=\"toc-item-num\">7.1.3&nbsp;&nbsp;</span>3. feature_names</a></span></li><li><span><a href=\"#4.-target_names\" data-toc-modified-id=\"4.-target_names-7.1.4\"><span class=\"toc-item-num\">7.1.4&nbsp;&nbsp;</span>4. target_names</a></span></li><li><span><a href=\"#5.-DESCR\" data-toc-modified-id=\"5.-DESCR-7.1.5\"><span class=\"toc-item-num\">7.1.5&nbsp;&nbsp;</span>5. DESCR</a></span></li></ul></li></ul></li><li><span><a href=\"#사이킷런의-주요-모듈-(4)-사이킷런-데이터셋을-이용한-분류-문제-실습\" data-toc-modified-id=\"사이킷런의-주요-모듈-(4)-사이킷런-데이터셋을-이용한-분류-문제-실습-8\"><span class=\"toc-item-num\">8&nbsp;&nbsp;</span>사이킷런의 주요 모듈 (4) 사이킷런 데이터셋을 이용한 분류 문제 실습</a></span><ul class=\"toc-item\"><li><span><a href=\"#DataFrame으로-나타내기\" data-toc-modified-id=\"DataFrame으로-나타내기-8.1\"><span class=\"toc-item-num\">8.1&nbsp;&nbsp;</span>DataFrame으로 나타내기</a></span></li><li><span><a href=\"#머신러닝\" data-toc-modified-id=\"머신러닝-8.2\"><span class=\"toc-item-num\">8.2&nbsp;&nbsp;</span>머신러닝</a></span></li></ul></li><li><span><a href=\"#사이킷런의-주요-모듈-(5)-Estimator\" data-toc-modified-id=\"사이킷런의-주요-모듈-(5)-Estimator-9\"><span class=\"toc-item-num\">9&nbsp;&nbsp;</span>사이킷런의 주요 모듈 (5) Estimator</a></span></li><li><span><a href=\"#Estimator-객체\" data-toc-modified-id=\"Estimator-객체-10\"><span class=\"toc-item-num\">10&nbsp;&nbsp;</span>Estimator 객체</a></span></li><li><span><a href=\"#훈련-데이터와-테스트-데이터-분리하기\" data-toc-modified-id=\"훈련-데이터와-테스트-데이터-분리하기-11\"><span class=\"toc-item-num\">11&nbsp;&nbsp;</span>훈련 데이터와 테스트 데이터 분리하기</a></span><ul class=\"toc-item\"><li><span><a href=\"#훈련-데이터와-테스트-데이터-직접-분리하기\" data-toc-modified-id=\"훈련-데이터와-테스트-데이터-직접-분리하기-11.1\"><span class=\"toc-item-num\">11.1&nbsp;&nbsp;</span>훈련 데이터와 테스트 데이터 직접 분리하기</a></span></li><li><span><a href=\"#train_test_split()-사용해서-분리하기\" data-toc-modified-id=\"train_test_split()-사용해서-분리하기-11.2\"><span class=\"toc-item-num\">11.2&nbsp;&nbsp;</span><code>train_test_split()</code> 사용해서 분리하기</a></span></li><li><span><a href=\"#실습\" data-toc-modified-id=\"실습-11.3\"><span class=\"toc-item-num\">11.3&nbsp;&nbsp;</span>실습</a></span></li></ul></li><li><span><a href=\"#마치며\" data-toc-modified-id=\"마치며-12\"><span class=\"toc-item-num\">12&nbsp;&nbsp;</span>마치며</a></span></li></ul></div>"
   ]
  },
  {
   "cell_type": "markdown",
   "metadata": {},
   "source": [
    "## 시작하며"
   ]
  },
  {
   "cell_type": "markdown",
   "metadata": {},
   "source": [
    "### 학습목표\n",
    "\n",
    "---\n",
    "\n",
    "+ 머신러닝의 다양한 알고리즘을 소개합니다.\n",
    "+ 사이킷런 라이브러리의 사용법을 익힙니다.\n",
    "+ 사이킷런에서 데이터를 표현하는 방법에 대해 이해하고 훈련용 데이터셋과 테스트용 데이터셋으로 데이터를 나누는 방법을 이해합니다."
   ]
  },
  {
   "cell_type": "markdown",
   "metadata": {},
   "source": [
    "## 머신러닝 알고리즘\n",
    "\n",
    "이번 강의에서는 머신러닝의 다양한 알고리즘에 대해 소개하고 유명한 머신러닝용 라이브러리인 `사이킷런(Scikit-Learn)`을 사용해서 직접 머신러닝 알고리즘을 구현해 보도록 하겠습니다.\n",
    "\n",
    "머신러닝의 알고리즘 종류는 크게 3가지로 나눌 수 있습니다.\n",
    "\n",
    "+ 지도학습 (Supervised Learning)\n",
    "+ 비지도학습 (Unsupervised Learning)\n",
    "+ 강화학습 (Reinforcement Learning)\n",
    "\n",
    "위 3가지 카테고리는 상황이나 구현하고자 하는 Application에 따라 합쳐서 사용될 수도 있습니다. 경우에 따라 지도학습으로 학습을 진행하다 차원과 특징(Feature)의 수가 너무 많아지면 비지도 학습으로 전환하기도 합니다.\n",
    "\n",
    "그리고 어떤 문헌에서는 지도학습과 비지도학습의 중간 개념으로 준(반)지도학습(Semi-Supervised Learning) 또는 약지도학습(Weakly Supervised Learning)을 제시하기도 합니다.\n",
    "\n",
    "알파고의 경우 지도학습을 통해 바둑 기보를 학습하고 강화학습을 거쳐 최적화 되었습니다."
   ]
  },
  {
   "cell_type": "markdown",
   "metadata": {},
   "source": [
    "###  지도학습과 비지도학습\n",
    "\n",
    "---\n",
    "\n",
    "그럼 각 카테고리 속의 머신러닝 알고리즘에는 어떤것들이 있을까요?\n",
    "\n",
    "다음 링크를 보고 어떤 알고리즘이 있는지 학습해 보도록 해요.\n",
    "\n",
    "+ [최적의 ‘머신러닝 알고리즘’을 고르기 위한 치트키](https://blogs.sas.com/content/saskorea/2017/08/22/%EC%B5%9C%EC%A0%81%EC%9D%98-%EB%A8%B8%EC%8B%A0%EB%9F%AC%EB%8B%9D-%EC%95%8C%EA%B3%A0%EB%A6%AC%EC%A6%98%EC%9D%84-%EA%B3%A0%EB%A5%B4%EA%B8%B0-%EC%9C%84%ED%95%9C-%EC%B9%98%ED%8A%B8/)\n",
    "\n",
    "보통 라벨(정답)의 존재 유무에 따라 머신러닝을 지도학습과 비지도학습으로 나눕니다.\n",
    "\n",
    "그리고 데이터가 매우 복잡하다면 차원을 축소하기도 하고 만약 주요한 성분이 있다면 주성분 분석을 적용하기도 합니다.\n",
    "\n",
    "또한, 데이터의 종류에 따라 같은 회귀라도 선형회귀는 수치형데이터(연속적인 데이터)를 예측하는데 사용된다면 로지스틱 회귀는 분류(엄밀히 말하면 이진분류)에 사용 됩니다.\n",
    "\n",
    "따라서 **정답 유무**, **데이터의 종류**, **특성**, **문제 정의**에 따라 머신러닝 알고리즘은 굉장히 복합적으로 사용 됩니다."
   ]
  },
  {
   "cell_type": "markdown",
   "metadata": {},
   "source": [
    "## 사이킷런에서 가이드하는 머신러닝 알고리즘\n",
    "\n",
    "앞에서 머신러닝 알고리즘을 지도학습, 비지도학습, 강화학습으로 나누어 보고 그 안에는 각각 어떤 알고리즘이 있는지 알아보았습니다. 그리고 이런 알고리즘은 절대적인 것은 아니며 상황에 따라 변경하거나 중복해서 사용할 수도 있다고 했는데요.\n",
    "\n",
    "이제부터 우리가 사용할 Scikit-Learn에서는 어떻게 알고리즘을 분류했을까요? 다음 링크를 확인해 보세요.\n",
    "\n",
    "+ [Scikit-learn: Choosing the right estimator](https://scikit-learn.org/stable/tutorial/machine_learning_map/index.html)\n",
    "\n",
    "사이킷런에서 알고리즘들을 분류하는 기준 그리고 종류 역시 적용하고자 하는 상황에 따라 혹은 새로운 기술이 나옴에 따라 언제든 바뀔 수 있습니다. 실제로 다른 라이브러리에선 다르게 알고리즘을 분류하기도 합니다.\n",
    "\n",
    "지금은 배우는 단계이니 우선 사이킷런에서 소개하는 가이드대로 알고리즘을 적용해서 연습해 보는 것도 좋은 방법입니다. 다시 한 번 사이킷런의 알고리즘 분류표를 확인하고 아래 질문에 답하며 정리해 보세요."
   ]
  },
  {
   "cell_type": "markdown",
   "metadata": {},
   "source": [
    "## Hello Scikit-learn\n",
    "\n",
    "### 설치\n",
    "\n",
    "---\n",
    "\n",
    "**의존성 (Dependencies)**\n",
    "\n",
    "사이킷런은 파이썬 기반 머신러닝 라이브러리 입니다. 따라서 사이킷런은 다음과 같은 파이썬, 파이썬 라이브러리에 의존성을 갖습니다. Scikit-Learn 0.20까지는 Python 2.7과 Python 3.4에 동작 하였습니다. 현재 최신 버전인 0.23를 사용하기 위해선 다음과 같은 사양이 요구됩니다.\n",
    "\n",
    "+ Python (>= 3.6)\n",
    "+ NumPy (>= 1.13.3)\n",
    "+ SciPy (>= 0.19.1)\n",
    "+ joblib (>= 0.11)"
   ]
  },
  {
   "cell_type": "markdown",
   "metadata": {},
   "source": [
    "**설치**\n",
    "\n",
    "위 라이브러리가 설치 되었으면 다음과 같이 설치하면 됩니다."
   ]
  },
  {
   "cell_type": "code",
   "execution_count": 1,
   "metadata": {
    "ExecuteTime": {
     "end_time": "2021-01-25T19:07:15.134574Z",
     "start_time": "2021-01-25T19:07:15.132305Z"
    }
   },
   "outputs": [],
   "source": [
    "# !pip install scikit-learn\n",
    "\n",
    "#!conda install scikit-learn"
   ]
  },
  {
   "cell_type": "markdown",
   "metadata": {},
   "source": [
    "**버전 확인**\n",
    "\n",
    "사이킷런을 설치했으니 모듈을 import한 뒤 버전을 확인해 보겠습니다. 사이킷런은 설치명과 모듈을 import할 때 이름이 다릅니다. 이 모듈을 import 할 때는 `sklearn`이라고 쓰셔야 합니다."
   ]
  },
  {
   "cell_type": "code",
   "execution_count": 2,
   "metadata": {
    "ExecuteTime": {
     "end_time": "2021-01-25T19:07:15.517877Z",
     "start_time": "2021-01-25T19:07:15.136640Z"
    }
   },
   "outputs": [
    {
     "name": "stdout",
     "output_type": "stream",
     "text": [
      "0.23.2\n"
     ]
    }
   ],
   "source": [
    "import sklearn\n",
    "print(sklearn.__version__)"
   ]
  },
  {
   "cell_type": "markdown",
   "metadata": {},
   "source": [
    "저는 2020년 5월 기준 최신 버전인 0.23 입니다. 0.22 이상이면 이후 진행에 문제가 없습니다.\n",
    "\n",
    "설치에 대한 Guide는 사이킷런 공식 홈페이지에도 있으니 참고하세요.\n",
    "\n",
    "+ [Installing scikit-learn](https://scikit-learn.org/stable/install.html)"
   ]
  },
  {
   "cell_type": "markdown",
   "metadata": {},
   "source": [
    "### 사이킷런 살펴보기\n",
    "\n",
    "---\n",
    "\n",
    "자 이제 사이킷런을 설치했으니 한번 사용해 볼까요? 아래 사이킷런 공식 홈페이지를 한번 방문해 보세요.\n",
    "\n",
    "+ [scikit-learn](https://scikit-learn.org/stable/index.html)"
   ]
  },
  {
   "cell_type": "markdown",
   "metadata": {},
   "source": [
    "## 사이킷런의 주요 모듈 (1) 데이터 표현법\n",
    "\n",
    "그럼 본격적으로 사이킷런에 대해 알아보도록 하겠습니다. 조금 감이 잡히셨을지 모르겠지만 사이킷런의 알고리즘은 파이썬 클래스로 구현되어 있고, 데이터셋은 ***NumPy의 ndarray, Pandas의 DataFrame, SciPy의 Sparse Matrix***를 이용해 나타낼 수 있습니다. 그리고 훈련과 예측 등 머신러닝 모델을 다룰 때는 CoreAPI라고 불리는 `fit()`, `transfomer()`, `predict()`과 같은 함수들을 이용합니다.\n",
    "\n",
    "다음은 공식 홈페이지에서 소개하는 사이킷런의 모듈들(API)입니다.\n",
    "\n",
    "+ [Scikit-learn: API Reference](https://scikit-learn.org/stable/modules/classes.html)\n",
    "\n",
    "그 중에서 주로 사용하는 API들만 추려보았습니다.\n",
    "\n",
    "![img1](./img/img1.png)"
   ]
  },
  {
   "cell_type": "markdown",
   "metadata": {},
   "source": [
    "### 데이터 표현법\n",
    "\n",
    "---\n",
    "\n",
    "우선 사이킷런에서 제공하는 데이터셋은 ***NumPy의 ndarray, Pandas의 DataFrame, SciPy의 Sparse Matrix***를 이용해 나타낼 수 있다고 했습니다.\n",
    "\n",
    "사이킷런에서는 데이터 표현 방식을 보통 2가지로 나타냅니다. 바로 **특성행렬(Feature Matrix)**과 **타겟벡터(Target Vector)** 입니다.\n",
    "\n",
    "![img2](./img/img2.png)\n",
    "\n",
    "#### 특성 행렬(Feature Matrix)\n",
    "\n",
    "+ 입력 데이터를 의미합니다.\n",
    "+ 특성(feature): 데이터에서 수치 값, 이산 값, 불리언 값으로 표현되는 개별 관측치를 의미합니다. 특성 행렬에서는 열에 해당하는 값입니다.\n",
    "+ 표본(sample): 각 입력 데이터, 특성 행렬에서는 행에 해당하는 값입니다.\n",
    "+ `n_samples`: 행의 개수(표본의 개수)\n",
    "+ `n_features`: 열의 개수(특성의 개수)\n",
    "+ `X`: 통상 특성 행렬은 변수명 X로 표기합니다.\n",
    "+ `[n_samples, n_features]`은 [행, 열]형태의 2차원 배열 구조를 사용하며 이는 NumPy의 ndarray, Pandas의 DataFrame, SciPy의 Sparse Matrix를 사용하여 나타낼 수 있습니다.\n",
    "\n",
    "#### 타겟 벡터 (Target Vector)\n",
    "\n",
    "+ 입력 데이터의 **라벨(정답)**을 의미합니다.\n",
    "+ 목표(Target): 라벨, 타겟값, 목표값이라고도 부르며 특성 행렬(Feature Matrix)로 부터 예측하고자 하는 것을 말합니다.\n",
    "+ `n_samples`: 벡터의 길이(라벨의 개수)\n",
    "+ 타겟 벡터에서 `n_features`는 없습니다.\n",
    "+ `y`: 통상 타겟 벡터는 변수명 y로 표기합니다.\n",
    "+ 타겟 벡터는 보통 1차원 벡터로 나타내며, 이는 *NumPy의 ndarray, Pandas의 Series*를 사용하여 나타낼 수 있습니다.\n",
    "+ (단, 타겟 벡터는 경우에 따라 1차원으로 나타내지 않을 수도 있습니다. 이 노드에서 사용되는 예제는 모두 1차원 벡터 입니다.)"
   ]
  },
  {
   "cell_type": "markdown",
   "metadata": {},
   "source": [
    "> ❗️특성행렬 X의 n_samples와 타겟벡터 y의 n_samples는 동일해야 합니다."
   ]
  },
  {
   "cell_type": "markdown",
   "metadata": {},
   "source": [
    "## 사이킷런의 주요 모듈 (2) 회귀 모델 실습\n",
    "\n",
    "위의 데이터와 머신러닝의 회귀 모델을 이용해 데이터를 예측하는 모델을 만들어 보겠습니다."
   ]
  },
  {
   "cell_type": "code",
   "execution_count": 3,
   "metadata": {
    "ExecuteTime": {
     "end_time": "2021-01-25T19:07:15.803352Z",
     "start_time": "2021-01-25T19:07:15.519022Z"
    }
   },
   "outputs": [
    {
     "data": {
      "text/plain": [
       "<matplotlib.collections.PathCollection at 0x7f953773b6d0>"
      ]
     },
     "execution_count": 3,
     "metadata": {},
     "output_type": "execute_result"
    },
    {
     "data": {
      "image/png": "[encoded data removed]",
      "text/plain": [
       "<Figure size 432x288 with 1 Axes>"
      ]
     },
     "metadata": {
      "needs_background": "light"
     },
     "output_type": "display_data"
    }
   ],
   "source": [
    "import numpy as np\n",
    "import matplotlib.pyplot as plt\n",
    "r = np.random.RandomState(10)\n",
    "x = 10 * r.rand(100)\n",
    "y = 2 * x - 3 * r.rand(100)\n",
    "plt.scatter(x,y)"
   ]
  },
  {
   "cell_type": "markdown",
   "metadata": {},
   "source": [
    "입력 데이터 `x`와 정답 데이터 `y`의 모양을 확인해 보도록 합시다."
   ]
  },
  {
   "cell_type": "code",
   "execution_count": 4,
   "metadata": {
    "ExecuteTime": {
     "end_time": "2021-01-25T19:07:15.807348Z",
     "start_time": "2021-01-25T19:07:15.804659Z"
    }
   },
   "outputs": [
    {
     "data": {
      "text/plain": [
       "(100,)"
      ]
     },
     "execution_count": 4,
     "metadata": {},
     "output_type": "execute_result"
    }
   ],
   "source": [
    "x.shape"
   ]
  },
  {
   "cell_type": "code",
   "execution_count": 5,
   "metadata": {
    "ExecuteTime": {
     "end_time": "2021-01-25T19:07:15.811096Z",
     "start_time": "2021-01-25T19:07:15.808594Z"
    }
   },
   "outputs": [
    {
     "data": {
      "text/plain": [
       "(100,)"
      ]
     },
     "execution_count": 5,
     "metadata": {},
     "output_type": "execute_result"
    }
   ],
   "source": [
    "y.shape"
   ]
  },
  {
   "cell_type": "markdown",
   "metadata": {},
   "source": [
    "`x`와 `y`의 모양은 `(100,)`으로 1차원 벡터입니다.\n",
    "\n",
    "사이킷런에서 머신러닝 모델을 사용하기 위해서 우선 모델 객체를 생성해 줍니다. 지금 예제에서 사용할 모델의 이름은 `LinearRegression` 이며, 이것은 `sklearn.linear_model` 안에 있습니다."
   ]
  },
  {
   "cell_type": "code",
   "execution_count": 6,
   "metadata": {
    "ExecuteTime": {
     "end_time": "2021-01-25T19:07:15.842966Z",
     "start_time": "2021-01-25T19:07:15.812153Z"
    }
   },
   "outputs": [
    {
     "data": {
      "text/plain": [
       "LinearRegression()"
      ]
     },
     "execution_count": 6,
     "metadata": {},
     "output_type": "execute_result"
    }
   ],
   "source": [
    "from sklearn.linear_model import LinearRegression\n",
    "model = LinearRegression()\n",
    "model"
   ]
  },
  {
   "cell_type": "markdown",
   "metadata": {},
   "source": [
    "`LinearRegression` 모델이 잘 생성되었습니다.\n",
    "\n",
    "이 모델을 훈련시킵니다. 훈련시키는 메소드는 `fit()`이라고 하는 메소드입니다.\n",
    "\n",
    "`fit()`메소드에 인자로 특성 행렬과 타겟 벡터를 넣어 줍니다. 즉, 행렬 형태의 입력 데이터와 1차원 벡터 형태의 정답(라벨)을 각각 넣어 줍니다."
   ]
  },
  {
   "cell_type": "code",
   "execution_count": 7,
   "metadata": {
    "ExecuteTime": {
     "end_time": "2021-01-25T19:07:15.845658Z",
     "start_time": "2021-01-25T19:07:15.844081Z"
    }
   },
   "outputs": [],
   "source": [
    "# ! 에러 발생\n",
    "# model.fit(x, y)"
   ]
  },
  {
   "cell_type": "markdown",
   "metadata": {},
   "source": [
    "위의 입력 데이터인 `x`를 그대로 넣으면, 에러가 발생합니다. `x`를 행렬로 바꾸어 주어야 합니다. 행렬로 어떻게 바꾸면 좋을까요? x는 numpy의 ndarray타입이니 `reshape()`를 사용하면 좋을 것 같네요. 통상 특성 행렬의 변수명은 `X`로 한다고 했습니다. 변수명 `X`에 특성 행렬을 넣어 봅시다."
   ]
  },
  {
   "cell_type": "code",
   "execution_count": 8,
   "metadata": {
    "ExecuteTime": {
     "end_time": "2021-01-25T19:07:15.848564Z",
     "start_time": "2021-01-25T19:07:15.846711Z"
    }
   },
   "outputs": [],
   "source": [
    "X = x.reshape(100,1)"
   ]
  },
  {
   "cell_type": "markdown",
   "metadata": {},
   "source": [
    "자 이제 `X`를 `fit()`의 인자로 넣어줍니다."
   ]
  },
  {
   "cell_type": "code",
   "execution_count": 9,
   "metadata": {
    "ExecuteTime": {
     "end_time": "2021-01-25T19:07:15.853847Z",
     "start_time": "2021-01-25T19:07:15.850342Z"
    }
   },
   "outputs": [
    {
     "data": {
      "text/plain": [
       "LinearRegression()"
      ]
     },
     "execution_count": 9,
     "metadata": {},
     "output_type": "execute_result"
    }
   ],
   "source": [
    "model.fit(X,y)"
   ]
  },
  {
   "cell_type": "markdown",
   "metadata": {},
   "source": [
    "입력 데이터와 그 라벨을 이용해 훈련을 완료했습니다. 이제 새로운 데이터를 넣고 예측을 한번 해볼까요? 새로운 데이터는 `np.linspace()`를 이용해서 생성합시다. 예측은 `predict()`를 사용합니다. `predict()`의 인자 역시 행렬로 넣어 주어야 합니다."
   ]
  },
  {
   "cell_type": "code",
   "execution_count": 10,
   "metadata": {
    "ExecuteTime": {
     "end_time": "2021-01-25T19:07:15.858436Z",
     "start_time": "2021-01-25T19:07:15.855437Z"
    }
   },
   "outputs": [],
   "source": [
    "x_new = np.linspace(-1, 11, 100)\n",
    "X_new = x_new.reshape(100,1)\n",
    "y_new = model.predict(X_new)"
   ]
  },
  {
   "cell_type": "markdown",
   "metadata": {},
   "source": [
    "> ***잠깐 Tip!***\n",
    ">\n",
    "> `reshape()` 함수에서 나머지 숫자를 -1로 넣으면 자동으로 남은 숫자를 계산해 줍니다. 즉, `x_new`의 인자의 개수가 100개이므로, `(100, 1)`의 형태나 `(2, 50)`의 형태 등으로 변환해 줄 수 있는데요. `(2, -1)`을 인자로 넣으면 `(2, 50)`의 형태로 자동으로 변환해 줍니다. 아래 코드를 통해 확인해 보세요."
   ]
  },
  {
   "cell_type": "markdown",
   "metadata": {},
   "source": [
    "학습된 회귀 모델이 잘 예측했는지 모델의 성능을 평가해 보도록 하겠습니다. 앞에서 간단히 소개하였듯이 모델의 성능 평가 관련 모듈은 `sklearn.metrics`에 저장되어 있습니다. 회귀 모델의 경우 **RMSE(Root Mean Square Error)**를 사용해 성능을 평가합니다.\n",
    "\n",
    "사이킷런의 RMSE 오차 관련 함수의 스펙을 직접 확인해 보고 코드로 구현해 보세요. (힌트! `mean_squared_error` 함수의 공식을 유심히 보세요. `np.sqrt`를 활용해 보세요.)\n",
    "\n",
    "+ [Scikit-learn: Mean Squared Error](https://scikit-learn.org/stable/modules/model_evaluation.html#mean-squared-error)"
   ]
  },
  {
   "cell_type": "markdown",
   "metadata": {},
   "source": [
    "확인해 보셨나요? 좀 더 직관적으로 확인하기 위해 그래프로 한번 그려보겠습니다."
   ]
  },
  {
   "cell_type": "code",
   "execution_count": 11,
   "metadata": {
    "ExecuteTime": {
     "end_time": "2021-01-25T19:07:15.956069Z",
     "start_time": "2021-01-25T19:07:15.859920Z"
    }
   },
   "outputs": [
    {
     "data": {
      "text/plain": [
       "[<matplotlib.lines.Line2D at 0x7f9534742150>]"
      ]
     },
     "execution_count": 11,
     "metadata": {},
     "output_type": "execute_result"
    },
    {
     "data": {
      "image/png": "[encoded data removed]",
      "text/plain": [
       "<Figure size 432x288 with 1 Axes>"
      ]
     },
     "metadata": {
      "needs_background": "light"
     },
     "output_type": "display_data"
    }
   ],
   "source": [
    "plt.scatter(x, y, label='input data')\n",
    "plt.plot(X_new, y_new, color='red', label='regression line')"
   ]
  },
  {
   "cell_type": "markdown",
   "metadata": {},
   "source": [
    "## 사이킷런의 주요 모듈 (3) datasets 모듈\n",
    "\n",
    "사이킷런은 데이터셋을 모듈로 제공하고 있으며 데이터에 대한 내용은 아래 공식 문서를 참고하세요.\n",
    "\n",
    "+ [Scikit-learn: Dataset loading utilities](https://scikit-learn.org/stable/datasets)\n",
    "\n",
    "`sklearn.datasets` 모듈은 크게 **dataset loaders**와 **dataset fetchers**로 나뉘며, 각각 `Toy dataset`과 `Real World dataset`을 제공하고 있습니다. 우리는 `Toy dataset`을 다뤄볼 예정입니다.\n",
    "\n",
    "`Toy dataset`의 예시입니다.\n",
    "\n",
    "+ `datasets.load_boston()`: 회귀 문제, 미국 보스턴 집값 예측\n",
    "+ `datasets.load_breast_cancer()`: 분류 문제, 유방암 판별\n",
    "+ `datasets.load_digits()`: 분류 문제, 0 ~ 9 숫자 분류\n",
    "+ `datasets.load_iris()`: 분류 문제, iris 품종 분류\n",
    "+ `datasets.load_wine()`: 분류 문제, 와인 분류\n",
    "\n",
    "우리는 와인 데이터셋을 이용하겠습니다."
   ]
  },
  {
   "cell_type": "markdown",
   "metadata": {},
   "source": [
    "### `datasets.load_wine()` 뜯어보기\n",
    "\n",
    "---\n",
    "\n",
    "와인 분류 데이터를 다운로드한 다음 data란 변수에 할당합니다. 그리고 자료형을 한번 확인해 보세요."
   ]
  },
  {
   "cell_type": "code",
   "execution_count": 12,
   "metadata": {
    "ExecuteTime": {
     "end_time": "2021-01-25T19:07:15.981200Z",
     "start_time": "2021-01-25T19:07:15.957246Z"
    }
   },
   "outputs": [
    {
     "data": {
      "text/plain": [
       "sklearn.utils.Bunch"
      ]
     },
     "execution_count": 12,
     "metadata": {},
     "output_type": "execute_result"
    }
   ],
   "source": [
    "from sklearn.datasets import load_wine\n",
    "data = load_wine()\n",
    "type(data)"
   ]
  },
  {
   "cell_type": "markdown",
   "metadata": {},
   "source": [
    "`sklearn.utils.Bunch`라고 하는 데이터 타입이네요? 이 타입이 무엇인지 공식문서를 통해 확인해 봅시다.\n",
    "\n",
    "+ [Scikit-learn: sklearn.utils.Bunch](https://scikit-learn.org/stable/modules/generated/sklearn.utils.Bunch.html?highlight=bunch#sklearn.utils.Bunch)\n",
    "\n",
    "`Bunch`는 파이썬의 딕셔너리와 유사한 형태의 데이터 타입입니다."
   ]
  },
  {
   "cell_type": "code",
   "execution_count": 13,
   "metadata": {
    "ExecuteTime": {
     "end_time": "2021-01-25T19:07:15.985877Z",
     "start_time": "2021-01-25T19:07:15.982453Z"
    }
   },
   "outputs": [
    {
     "name": "stdout",
     "output_type": "stream",
     "text": [
      "{'data': array([[1.423e+01, 1.710e+00, 2.430e+00, ..., 1.040e+00, 3.920e+00,\n",
      "        1.065e+03],\n",
      "       [1.320e+01, 1.780e+00, 2.140e+00, ..., 1.050e+00, 3.400e+00,\n",
      "        1.050e+03],\n",
      "       [1.316e+01, 2.360e+00, 2.670e+00, ..., 1.030e+00, 3.170e+00,\n",
      "        1.185e+03],\n",
      "       ...,\n",
      "       [1.327e+01, 4.280e+00, 2.260e+00, ..., 5.900e-01, 1.560e+00,\n",
      "        8.350e+02],\n",
      "       [1.317e+01, 2.590e+00, 2.370e+00, ..., 6.000e-01, 1.620e+00,\n",
      "        8.400e+02],\n",
      "       [1.413e+01, 4.100e+00, 2.740e+00, ..., 6.100e-01, 1.600e+00,\n",
      "        5.600e+02]]), 'target': array([0, 0, 0, 0, 0, 0, 0, 0, 0, 0, 0, 0, 0, 0, 0, 0, 0, 0, 0, 0, 0, 0,\n",
      "       0, 0, 0, 0, 0, 0, 0, 0, 0, 0, 0, 0, 0, 0, 0, 0, 0, 0, 0, 0, 0, 0,\n",
      "       0, 0, 0, 0, 0, 0, 0, 0, 0, 0, 0, 0, 0, 0, 0, 1, 1, 1, 1, 1, 1, 1,\n",
      "       1, 1, 1, 1, 1, 1, 1, 1, 1, 1, 1, 1, 1, 1, 1, 1, 1, 1, 1, 1, 1, 1,\n",
      "       1, 1, 1, 1, 1, 1, 1, 1, 1, 1, 1, 1, 1, 1, 1, 1, 1, 1, 1, 1, 1, 1,\n",
      "       1, 1, 1, 1, 1, 1, 1, 1, 1, 1, 1, 1, 1, 1, 1, 1, 1, 1, 1, 1, 2, 2,\n",
      "       2, 2, 2, 2, 2, 2, 2, 2, 2, 2, 2, 2, 2, 2, 2, 2, 2, 2, 2, 2, 2, 2,\n",
      "       2, 2, 2, 2, 2, 2, 2, 2, 2, 2, 2, 2, 2, 2, 2, 2, 2, 2, 2, 2, 2, 2,\n",
      "       2, 2]), 'frame': None, 'target_names': array(['class_0', 'class_1', 'class_2'], dtype='<U7'), 'DESCR': '.. _wine_dataset:\\n\\nWine recognition dataset\\n------------------------\\n\\n**Data Set Characteristics:**\\n\\n    :Number of Instances: 178 (50 in each of three classes)\\n    :Number of Attributes: 13 numeric, predictive attributes and the class\\n    :Attribute Information:\\n \\t\\t- Alcohol\\n \\t\\t- Malic acid\\n \\t\\t- Ash\\n\\t\\t- Alcalinity of ash  \\n \\t\\t- Magnesium\\n\\t\\t- Total phenols\\n \\t\\t- Flavanoids\\n \\t\\t- Nonflavanoid phenols\\n \\t\\t- Proanthocyanins\\n\\t\\t- Color intensity\\n \\t\\t- Hue\\n \\t\\t- OD280/OD315 of diluted wines\\n \\t\\t- Proline\\n\\n    - class:\\n            - class_0\\n            - class_1\\n            - class_2\\n\\t\\t\\n    :Summary Statistics:\\n    \\n    ============================= ==== ===== ======= =====\\n                                   Min   Max   Mean     SD\\n    ============================= ==== ===== ======= =====\\n    Alcohol:                      11.0  14.8    13.0   0.8\\n    Malic Acid:                   0.74  5.80    2.34  1.12\\n    Ash:                          1.36  3.23    2.36  0.27\\n    Alcalinity of Ash:            10.6  30.0    19.5   3.3\\n    Magnesium:                    70.0 162.0    99.7  14.3\\n    Total Phenols:                0.98  3.88    2.29  0.63\\n    Flavanoids:                   0.34  5.08    2.03  1.00\\n    Nonflavanoid Phenols:         0.13  0.66    0.36  0.12\\n    Proanthocyanins:              0.41  3.58    1.59  0.57\\n    Colour Intensity:              1.3  13.0     5.1   2.3\\n    Hue:                          0.48  1.71    0.96  0.23\\n    OD280/OD315 of diluted wines: 1.27  4.00    2.61  0.71\\n    Proline:                       278  1680     746   315\\n    ============================= ==== ===== ======= =====\\n\\n    :Missing Attribute Values: None\\n    :Class Distribution: class_0 (59), class_1 (71), class_2 (48)\\n    :Creator: R.A. Fisher\\n    :Donor: Michael Marshall (MARSHALL%PLU@io.arc.nasa.gov)\\n    :Date: July, 1988\\n\\nThis is a copy of UCI ML Wine recognition datasets.\\nhttps://archive.ics.uci.edu/ml/machine-learning-databases/wine/wine.data\\n\\nThe data is the results of a chemical analysis of wines grown in the same\\nregion in Italy by three different cultivators. There are thirteen different\\nmeasurements taken for different constituents found in the three types of\\nwine.\\n\\nOriginal Owners: \\n\\nForina, M. et al, PARVUS - \\nAn Extendible Package for Data Exploration, Classification and Correlation. \\nInstitute of Pharmaceutical and Food Analysis and Technologies,\\nVia Brigata Salerno, 16147 Genoa, Italy.\\n\\nCitation:\\n\\nLichman, M. (2013). UCI Machine Learning Repository\\n[https://archive.ics.uci.edu/ml]. Irvine, CA: University of California,\\nSchool of Information and Computer Science. \\n\\n.. topic:: References\\n\\n  (1) S. Aeberhard, D. Coomans and O. de Vel, \\n  Comparison of Classifiers in High Dimensional Settings, \\n  Tech. Rep. no. 92-02, (1992), Dept. of Computer Science and Dept. of  \\n  Mathematics and Statistics, James Cook University of North Queensland. \\n  (Also submitted to Technometrics). \\n\\n  The data was used with many others for comparing various \\n  classifiers. The classes are separable, though only RDA \\n  has achieved 100% correct classification. \\n  (RDA : 100%, QDA 99.4%, LDA 98.9%, 1NN 96.1% (z-transformed data)) \\n  (All results using the leave-one-out technique) \\n\\n  (2) S. Aeberhard, D. Coomans and O. de Vel, \\n  \"THE CLASSIFICATION PERFORMANCE OF RDA\" \\n  Tech. Rep. no. 92-01, (1992), Dept. of Computer Science and Dept. of \\n  Mathematics and Statistics, James Cook University of North Queensland. \\n  (Also submitted to Journal of Chemometrics).\\n', 'feature_names': ['alcohol', 'malic_acid', 'ash', 'alcalinity_of_ash', 'magnesium', 'total_phenols', 'flavanoids', 'nonflavanoid_phenols', 'proanthocyanins', 'color_intensity', 'hue', 'od280/od315_of_diluted_wines', 'proline']}\n"
     ]
    }
   ],
   "source": [
    "print(data)"
   ]
  },
  {
   "cell_type": "markdown",
   "metadata": {},
   "source": [
    "`data`를 출력해 보면 데이터들이 중괄호에 `{}` 담겨져있고 콜론 `:` 을 이용해서 구분되어 있습니다. 바로 key와 value입니다. 번치 데이터 타입에도 파이썬의 딕셔너리 메소드인 `keys()`를 사용할 수 있어요."
   ]
  },
  {
   "cell_type": "code",
   "execution_count": 14,
   "metadata": {
    "ExecuteTime": {
     "end_time": "2021-01-25T19:07:15.989692Z",
     "start_time": "2021-01-25T19:07:15.987093Z"
    }
   },
   "outputs": [
    {
     "data": {
      "text/plain": [
       "dict_keys(['data', 'target', 'frame', 'target_names', 'DESCR', 'feature_names'])"
      ]
     },
     "execution_count": 14,
     "metadata": {},
     "output_type": "execute_result"
    }
   ],
   "source": [
    "data.keys()"
   ]
  },
  {
   "cell_type": "markdown",
   "metadata": {},
   "source": [
    "어떤 값들이 나왔나요? 이 데이터의 각 키값이 의미하는 것이 무엇인지 하나씩 알아보도록 하겠습니다."
   ]
  },
  {
   "cell_type": "markdown",
   "metadata": {},
   "source": [
    "#### 1. data\n",
    "\n",
    "키값 `data`는 특성 행렬입니다. 파이썬의 딕셔너리와 유사하다고 했죠? 키에 접근하기 위해서 `.`을 사용할 수 있습니다. 한번 확인해 보세요."
   ]
  },
  {
   "cell_type": "code",
   "execution_count": 15,
   "metadata": {
    "ExecuteTime": {
     "end_time": "2021-01-25T19:07:15.993416Z",
     "start_time": "2021-01-25T19:07:15.990692Z"
    }
   },
   "outputs": [
    {
     "data": {
      "text/plain": [
       "array([[1.423e+01, 1.710e+00, 2.430e+00, ..., 1.040e+00, 3.920e+00,\n",
       "        1.065e+03],\n",
       "       [1.320e+01, 1.780e+00, 2.140e+00, ..., 1.050e+00, 3.400e+00,\n",
       "        1.050e+03],\n",
       "       [1.316e+01, 2.360e+00, 2.670e+00, ..., 1.030e+00, 3.170e+00,\n",
       "        1.185e+03],\n",
       "       ...,\n",
       "       [1.327e+01, 4.280e+00, 2.260e+00, ..., 5.900e-01, 1.560e+00,\n",
       "        8.350e+02],\n",
       "       [1.317e+01, 2.590e+00, 2.370e+00, ..., 6.000e-01, 1.620e+00,\n",
       "        8.400e+02],\n",
       "       [1.413e+01, 4.100e+00, 2.740e+00, ..., 6.100e-01, 1.600e+00,\n",
       "        5.600e+02]])"
      ]
     },
     "execution_count": 15,
     "metadata": {},
     "output_type": "execute_result"
    }
   ],
   "source": [
    "data.data"
   ]
  },
  {
   "cell_type": "markdown",
   "metadata": {},
   "source": [
    "특성 행렬은 2차원이며 행에는 데이터의 개수(`n_samples`)가 열에는 특성의 개수(`n_features`)가 들어 있습니다. 모양을 확인해 보죠."
   ]
  },
  {
   "cell_type": "code",
   "execution_count": 16,
   "metadata": {
    "ExecuteTime": {
     "end_time": "2021-01-25T19:07:15.996675Z",
     "start_time": "2021-01-25T19:07:15.994317Z"
    }
   },
   "outputs": [
    {
     "data": {
      "text/plain": [
       "(178, 13)"
      ]
     },
     "execution_count": 16,
     "metadata": {},
     "output_type": "execute_result"
    }
   ],
   "source": [
    "data.data.shape"
   ]
  },
  {
   "cell_type": "markdown",
   "metadata": {},
   "source": [
    "`(178, 13)`이 나오네요. 즉, 특성이 13개, 데이터가 178개인 특성 행렬이 나왔습니다.\n",
    "\n",
    "`ndim`을 이용해 차원을 확인할 수 있습니다."
   ]
  },
  {
   "cell_type": "code",
   "execution_count": 17,
   "metadata": {
    "ExecuteTime": {
     "end_time": "2021-01-25T19:07:16.000638Z",
     "start_time": "2021-01-25T19:07:15.997779Z"
    }
   },
   "outputs": [
    {
     "data": {
      "text/plain": [
       "2"
      ]
     },
     "execution_count": 17,
     "metadata": {},
     "output_type": "execute_result"
    }
   ],
   "source": [
    "data.data.ndim"
   ]
  },
  {
   "cell_type": "markdown",
   "metadata": {},
   "source": [
    "#### 2. target\n",
    "\n",
    "키값 `target`은 뭘까요? 예측하셨겠지만 타겟 벡터입니다."
   ]
  },
  {
   "cell_type": "code",
   "execution_count": 18,
   "metadata": {
    "ExecuteTime": {
     "end_time": "2021-01-25T19:07:16.004768Z",
     "start_time": "2021-01-25T19:07:16.001800Z"
    }
   },
   "outputs": [
    {
     "data": {
      "text/plain": [
       "array([0, 0, 0, 0, 0, 0, 0, 0, 0, 0, 0, 0, 0, 0, 0, 0, 0, 0, 0, 0, 0, 0,\n",
       "       0, 0, 0, 0, 0, 0, 0, 0, 0, 0, 0, 0, 0, 0, 0, 0, 0, 0, 0, 0, 0, 0,\n",
       "       0, 0, 0, 0, 0, 0, 0, 0, 0, 0, 0, 0, 0, 0, 0, 1, 1, 1, 1, 1, 1, 1,\n",
       "       1, 1, 1, 1, 1, 1, 1, 1, 1, 1, 1, 1, 1, 1, 1, 1, 1, 1, 1, 1, 1, 1,\n",
       "       1, 1, 1, 1, 1, 1, 1, 1, 1, 1, 1, 1, 1, 1, 1, 1, 1, 1, 1, 1, 1, 1,\n",
       "       1, 1, 1, 1, 1, 1, 1, 1, 1, 1, 1, 1, 1, 1, 1, 1, 1, 1, 1, 1, 2, 2,\n",
       "       2, 2, 2, 2, 2, 2, 2, 2, 2, 2, 2, 2, 2, 2, 2, 2, 2, 2, 2, 2, 2, 2,\n",
       "       2, 2, 2, 2, 2, 2, 2, 2, 2, 2, 2, 2, 2, 2, 2, 2, 2, 2, 2, 2, 2, 2,\n",
       "       2, 2])"
      ]
     },
     "execution_count": 18,
     "metadata": {},
     "output_type": "execute_result"
    }
   ],
   "source": [
    "data.target"
   ]
  },
  {
   "cell_type": "markdown",
   "metadata": {},
   "source": [
    "타겟 벡터는 1차원입니다. 그리고 타겟 벡터의 길이는 특성 행렬의 데이터 개수와 일치해야 합니다. 정말 그럴까요? 모양을 확인해 봅시다."
   ]
  },
  {
   "cell_type": "code",
   "execution_count": 19,
   "metadata": {
    "ExecuteTime": {
     "end_time": "2021-01-25T19:07:16.008174Z",
     "start_time": "2021-01-25T19:07:16.005836Z"
    }
   },
   "outputs": [
    {
     "data": {
      "text/plain": [
       "(178,)"
      ]
     },
     "execution_count": 19,
     "metadata": {},
     "output_type": "execute_result"
    }
   ],
   "source": [
    "data.target.shape"
   ]
  },
  {
   "cell_type": "markdown",
   "metadata": {},
   "source": [
    "`(178, )` 이 나오네요. 특성 행렬의 데이터 수와 일치합니다."
   ]
  },
  {
   "cell_type": "markdown",
   "metadata": {},
   "source": [
    "#### 3. feature_names\n",
    "\n",
    "`data` 키에 접근해서 `data`의 값을 확인해 본 결과 특성이 13개임을 확인했습니다. 그럼 이 특성들의 이름이 뭔지 알아야겠죠? `feature_names`란 키에 특성들의 이름이 저장되어 있습니다."
   ]
  },
  {
   "cell_type": "code",
   "execution_count": 20,
   "metadata": {
    "ExecuteTime": {
     "end_time": "2021-01-25T19:07:16.011986Z",
     "start_time": "2021-01-25T19:07:16.009238Z"
    }
   },
   "outputs": [
    {
     "data": {
      "text/plain": [
       "['alcohol',\n",
       " 'malic_acid',\n",
       " 'ash',\n",
       " 'alcalinity_of_ash',\n",
       " 'magnesium',\n",
       " 'total_phenols',\n",
       " 'flavanoids',\n",
       " 'nonflavanoid_phenols',\n",
       " 'proanthocyanins',\n",
       " 'color_intensity',\n",
       " 'hue',\n",
       " 'od280/od315_of_diluted_wines',\n",
       " 'proline']"
      ]
     },
     "execution_count": 20,
     "metadata": {},
     "output_type": "execute_result"
    }
   ],
   "source": [
    "data.feature_names"
   ]
  },
  {
   "cell_type": "markdown",
   "metadata": {},
   "source": [
    "`feature_names`들이 저장되어 있네요, 전 와인에 대해 잘 몰라서… `feature_names`들이 무엇을 의미하는지 검색해 봐야 할 것 같아요. 그렇지만 feature의 개수 정도는 간단히 확인이 가능합니다. 내장함수 `len()`을 이용해서 확인해 봅시다."
   ]
  },
  {
   "cell_type": "code",
   "execution_count": 21,
   "metadata": {
    "ExecuteTime": {
     "end_time": "2021-01-25T19:07:16.015725Z",
     "start_time": "2021-01-25T19:07:16.013132Z"
    }
   },
   "outputs": [
    {
     "data": {
      "text/plain": [
       "13"
      ]
     },
     "execution_count": 21,
     "metadata": {},
     "output_type": "execute_result"
    }
   ],
   "source": [
    "len(data.feature_names)"
   ]
  },
  {
   "cell_type": "markdown",
   "metadata": {},
   "source": [
    "`feature_names`의 개수와 특성 행렬의 `n_features(열)`의 숫자가 일치하네요."
   ]
  },
  {
   "cell_type": "markdown",
   "metadata": {},
   "source": [
    "#### 4. target_names\n",
    "\n",
    "target_names는 분류하고자 하는 대상입니다."
   ]
  },
  {
   "cell_type": "code",
   "execution_count": 22,
   "metadata": {
    "ExecuteTime": {
     "end_time": "2021-01-25T19:07:16.019527Z",
     "start_time": "2021-01-25T19:07:16.016917Z"
    }
   },
   "outputs": [
    {
     "data": {
      "text/plain": [
       "array(['class_0', 'class_1', 'class_2'], dtype='<U7')"
      ]
     },
     "execution_count": 22,
     "metadata": {},
     "output_type": "execute_result"
    }
   ],
   "source": [
    "data.target_names"
   ]
  },
  {
   "cell_type": "markdown",
   "metadata": {},
   "source": [
    "출력값을 확인해 보니 다음과 같이 나옵니다.\n",
    "\n",
    "`array(['class_0', 'class_1', 'class_2'], dtype='<U7')`\n",
    "\n",
    "데이터를 각각 `class_0`과 `class_1`, `class_2`로 분류한다는 뜻입니다.\n",
    "\n",
    "와인의 종류가 상세하게 무엇을 의미하는지는 모르지만 각각 0번 와인, 1번 와인, 2번 와인으로 분류를 하는 문제네요.(와인 종류는 굳이 안 찾아보셔도 됩니다.)"
   ]
  },
  {
   "cell_type": "markdown",
   "metadata": {},
   "source": [
    "#### 5. DESCR\n",
    "\n",
    "`DESCR`은 describe의 약자로 데이터에 대한 설명이에요."
   ]
  },
  {
   "cell_type": "code",
   "execution_count": 23,
   "metadata": {
    "ExecuteTime": {
     "end_time": "2021-01-25T19:07:16.022808Z",
     "start_time": "2021-01-25T19:07:16.020633Z"
    }
   },
   "outputs": [
    {
     "name": "stdout",
     "output_type": "stream",
     "text": [
      ".. _wine_dataset:\n",
      "\n",
      "Wine recognition dataset\n",
      "------------------------\n",
      "\n",
      "**Data Set Characteristics:**\n",
      "\n",
      "    :Number of Instances: 178 (50 in each of three classes)\n",
      "    :Number of Attributes: 13 numeric, predictive attributes and the class\n",
      "    :Attribute Information:\n",
      " \t\t- Alcohol\n",
      " \t\t- Malic acid\n",
      " \t\t- Ash\n",
      "\t\t- Alcalinity of ash  \n",
      " \t\t- Magnesium\n",
      "\t\t- Total phenols\n",
      " \t\t- Flavanoids\n",
      " \t\t- Nonflavanoid phenols\n",
      " \t\t- Proanthocyanins\n",
      "\t\t- Color intensity\n",
      " \t\t- Hue\n",
      " \t\t- OD280/OD315 of diluted wines\n",
      " \t\t- Proline\n",
      "\n",
      "    - class:\n",
      "            - class_0\n",
      "            - class_1\n",
      "            - class_2\n",
      "\t\t\n",
      "    :Summary Statistics:\n",
      "    \n",
      "    ============================= ==== ===== ======= =====\n",
      "                                   Min   Max   Mean     SD\n",
      "    ============================= ==== ===== ======= =====\n",
      "    Alcohol:                      11.0  14.8    13.0   0.8\n",
      "    Malic Acid:                   0.74  5.80    2.34  1.12\n",
      "    Ash:                          1.36  3.23    2.36  0.27\n",
      "    Alcalinity of Ash:            10.6  30.0    19.5   3.3\n",
      "    Magnesium:                    70.0 162.0    99.7  14.3\n",
      "    Total Phenols:                0.98  3.88    2.29  0.63\n",
      "    Flavanoids:                   0.34  5.08    2.03  1.00\n",
      "    Nonflavanoid Phenols:         0.13  0.66    0.36  0.12\n",
      "    Proanthocyanins:              0.41  3.58    1.59  0.57\n",
      "    Colour Intensity:              1.3  13.0     5.1   2.3\n",
      "    Hue:                          0.48  1.71    0.96  0.23\n",
      "    OD280/OD315 of diluted wines: 1.27  4.00    2.61  0.71\n",
      "    Proline:                       278  1680     746   315\n",
      "    ============================= ==== ===== ======= =====\n",
      "\n",
      "    :Missing Attribute Values: None\n",
      "    :Class Distribution: class_0 (59), class_1 (71), class_2 (48)\n",
      "    :Creator: R.A. Fisher\n",
      "    :Donor: Michael Marshall (MARSHALL%PLU@io.arc.nasa.gov)\n",
      "    :Date: July, 1988\n",
      "\n",
      "This is a copy of UCI ML Wine recognition datasets.\n",
      "https://archive.ics.uci.edu/ml/machine-learning-databases/wine/wine.data\n",
      "\n",
      "The data is the results of a chemical analysis of wines grown in the same\n",
      "region in Italy by three different cultivators. There are thirteen different\n",
      "measurements taken for different constituents found in the three types of\n",
      "wine.\n",
      "\n",
      "Original Owners: \n",
      "\n",
      "Forina, M. et al, PARVUS - \n",
      "An Extendible Package for Data Exploration, Classification and Correlation. \n",
      "Institute of Pharmaceutical and Food Analysis and Technologies,\n",
      "Via Brigata Salerno, 16147 Genoa, Italy.\n",
      "\n",
      "Citation:\n",
      "\n",
      "Lichman, M. (2013). UCI Machine Learning Repository\n",
      "[https://archive.ics.uci.edu/ml]. Irvine, CA: University of California,\n",
      "School of Information and Computer Science. \n",
      "\n",
      ".. topic:: References\n",
      "\n",
      "  (1) S. Aeberhard, D. Coomans and O. de Vel, \n",
      "  Comparison of Classifiers in High Dimensional Settings, \n",
      "  Tech. Rep. no. 92-02, (1992), Dept. of Computer Science and Dept. of  \n",
      "  Mathematics and Statistics, James Cook University of North Queensland. \n",
      "  (Also submitted to Technometrics). \n",
      "\n",
      "  The data was used with many others for comparing various \n",
      "  classifiers. The classes are separable, though only RDA \n",
      "  has achieved 100% correct classification. \n",
      "  (RDA : 100%, QDA 99.4%, LDA 98.9%, 1NN 96.1% (z-transformed data)) \n",
      "  (All results using the leave-one-out technique) \n",
      "\n",
      "  (2) S. Aeberhard, D. Coomans and O. de Vel, \n",
      "  \"THE CLASSIFICATION PERFORMANCE OF RDA\" \n",
      "  Tech. Rep. no. 92-01, (1992), Dept. of Computer Science and Dept. of \n",
      "  Mathematics and Statistics, James Cook University of North Queensland. \n",
      "  (Also submitted to Journal of Chemometrics).\n",
      "\n"
     ]
    }
   ],
   "source": [
    "print(data.DESCR)"
   ]
  },
  {
   "cell_type": "markdown",
   "metadata": {},
   "source": [
    "위 내용은 사이킷런 공식 문서에도 나와있습니다.\n",
    "\n",
    "+ [sklearn.datasets.load_wine()](https://scikit-learn.org/stable/modules/generated/sklearn.datasets.load_wine.html?highlight=wine#sklearn.datasets.load_wine)\n",
    "\n",
    "어떤가요? 한 번 자세히 뜯어보니 다음부터는 문서만 읽어봐도 되겠죠?"
   ]
  },
  {
   "cell_type": "markdown",
   "metadata": {},
   "source": [
    "## 사이킷런의 주요 모듈 (4) 사이킷런 데이터셋을 이용한 분류 문제 실습"
   ]
  },
  {
   "cell_type": "markdown",
   "metadata": {},
   "source": [
    "### DataFrame으로 나타내기\n",
    "\n",
    "---\n",
    "\n",
    "특성행렬을 Pandas의 DataFrame으로 나타낼 수 있다고 했습니다."
   ]
  },
  {
   "cell_type": "code",
   "execution_count": 24,
   "metadata": {
    "ExecuteTime": {
     "end_time": "2021-01-25T19:07:16.161325Z",
     "start_time": "2021-01-25T19:07:16.024944Z"
    }
   },
   "outputs": [
    {
     "data": {
      "text/html": [
       "<div>\n",
       "<style scoped>\n",
       "    .dataframe tbody tr th:only-of-type {\n",
       "        vertical-align: middle;\n",
       "    }\n",
       "\n",
       "    .dataframe tbody tr th {\n",
       "        vertical-align: top;\n",
       "    }\n",
       "\n",
       "    .dataframe thead th {\n",
       "        text-align: right;\n",
       "    }\n",
       "</style>\n",
       "<table border=\"1\" class=\"dataframe\">\n",
       "  <thead>\n",
       "    <tr style=\"text-align: right;\">\n",
       "      <th></th>\n",
       "      <th>alcohol</th>\n",
       "      <th>malic_acid</th>\n",
       "      <th>ash</th>\n",
       "      <th>alcalinity_of_ash</th>\n",
       "      <th>magnesium</th>\n",
       "      <th>total_phenols</th>\n",
       "      <th>flavanoids</th>\n",
       "      <th>nonflavanoid_phenols</th>\n",
       "      <th>proanthocyanins</th>\n",
       "      <th>color_intensity</th>\n",
       "      <th>hue</th>\n",
       "      <th>od280/od315_of_diluted_wines</th>\n",
       "      <th>proline</th>\n",
       "    </tr>\n",
       "  </thead>\n",
       "  <tbody>\n",
       "    <tr>\n",
       "      <th>0</th>\n",
       "      <td>14.23</td>\n",
       "      <td>1.71</td>\n",
       "      <td>2.43</td>\n",
       "      <td>15.6</td>\n",
       "      <td>127.0</td>\n",
       "      <td>2.80</td>\n",
       "      <td>3.06</td>\n",
       "      <td>0.28</td>\n",
       "      <td>2.29</td>\n",
       "      <td>5.64</td>\n",
       "      <td>1.04</td>\n",
       "      <td>3.92</td>\n",
       "      <td>1065.0</td>\n",
       "    </tr>\n",
       "    <tr>\n",
       "      <th>1</th>\n",
       "      <td>13.20</td>\n",
       "      <td>1.78</td>\n",
       "      <td>2.14</td>\n",
       "      <td>11.2</td>\n",
       "      <td>100.0</td>\n",
       "      <td>2.65</td>\n",
       "      <td>2.76</td>\n",
       "      <td>0.26</td>\n",
       "      <td>1.28</td>\n",
       "      <td>4.38</td>\n",
       "      <td>1.05</td>\n",
       "      <td>3.40</td>\n",
       "      <td>1050.0</td>\n",
       "    </tr>\n",
       "    <tr>\n",
       "      <th>2</th>\n",
       "      <td>13.16</td>\n",
       "      <td>2.36</td>\n",
       "      <td>2.67</td>\n",
       "      <td>18.6</td>\n",
       "      <td>101.0</td>\n",
       "      <td>2.80</td>\n",
       "      <td>3.24</td>\n",
       "      <td>0.30</td>\n",
       "      <td>2.81</td>\n",
       "      <td>5.68</td>\n",
       "      <td>1.03</td>\n",
       "      <td>3.17</td>\n",
       "      <td>1185.0</td>\n",
       "    </tr>\n",
       "    <tr>\n",
       "      <th>3</th>\n",
       "      <td>14.37</td>\n",
       "      <td>1.95</td>\n",
       "      <td>2.50</td>\n",
       "      <td>16.8</td>\n",
       "      <td>113.0</td>\n",
       "      <td>3.85</td>\n",
       "      <td>3.49</td>\n",
       "      <td>0.24</td>\n",
       "      <td>2.18</td>\n",
       "      <td>7.80</td>\n",
       "      <td>0.86</td>\n",
       "      <td>3.45</td>\n",
       "      <td>1480.0</td>\n",
       "    </tr>\n",
       "    <tr>\n",
       "      <th>4</th>\n",
       "      <td>13.24</td>\n",
       "      <td>2.59</td>\n",
       "      <td>2.87</td>\n",
       "      <td>21.0</td>\n",
       "      <td>118.0</td>\n",
       "      <td>2.80</td>\n",
       "      <td>2.69</td>\n",
       "      <td>0.39</td>\n",
       "      <td>1.82</td>\n",
       "      <td>4.32</td>\n",
       "      <td>1.04</td>\n",
       "      <td>2.93</td>\n",
       "      <td>735.0</td>\n",
       "    </tr>\n",
       "    <tr>\n",
       "      <th>...</th>\n",
       "      <td>...</td>\n",
       "      <td>...</td>\n",
       "      <td>...</td>\n",
       "      <td>...</td>\n",
       "      <td>...</td>\n",
       "      <td>...</td>\n",
       "      <td>...</td>\n",
       "      <td>...</td>\n",
       "      <td>...</td>\n",
       "      <td>...</td>\n",
       "      <td>...</td>\n",
       "      <td>...</td>\n",
       "      <td>...</td>\n",
       "    </tr>\n",
       "    <tr>\n",
       "      <th>173</th>\n",
       "      <td>13.71</td>\n",
       "      <td>5.65</td>\n",
       "      <td>2.45</td>\n",
       "      <td>20.5</td>\n",
       "      <td>95.0</td>\n",
       "      <td>1.68</td>\n",
       "      <td>0.61</td>\n",
       "      <td>0.52</td>\n",
       "      <td>1.06</td>\n",
       "      <td>7.70</td>\n",
       "      <td>0.64</td>\n",
       "      <td>1.74</td>\n",
       "      <td>740.0</td>\n",
       "    </tr>\n",
       "    <tr>\n",
       "      <th>174</th>\n",
       "      <td>13.40</td>\n",
       "      <td>3.91</td>\n",
       "      <td>2.48</td>\n",
       "      <td>23.0</td>\n",
       "      <td>102.0</td>\n",
       "      <td>1.80</td>\n",
       "      <td>0.75</td>\n",
       "      <td>0.43</td>\n",
       "      <td>1.41</td>\n",
       "      <td>7.30</td>\n",
       "      <td>0.70</td>\n",
       "      <td>1.56</td>\n",
       "      <td>750.0</td>\n",
       "    </tr>\n",
       "    <tr>\n",
       "      <th>175</th>\n",
       "      <td>13.27</td>\n",
       "      <td>4.28</td>\n",
       "      <td>2.26</td>\n",
       "      <td>20.0</td>\n",
       "      <td>120.0</td>\n",
       "      <td>1.59</td>\n",
       "      <td>0.69</td>\n",
       "      <td>0.43</td>\n",
       "      <td>1.35</td>\n",
       "      <td>10.20</td>\n",
       "      <td>0.59</td>\n",
       "      <td>1.56</td>\n",
       "      <td>835.0</td>\n",
       "    </tr>\n",
       "    <tr>\n",
       "      <th>176</th>\n",
       "      <td>13.17</td>\n",
       "      <td>2.59</td>\n",
       "      <td>2.37</td>\n",
       "      <td>20.0</td>\n",
       "      <td>120.0</td>\n",
       "      <td>1.65</td>\n",
       "      <td>0.68</td>\n",
       "      <td>0.53</td>\n",
       "      <td>1.46</td>\n",
       "      <td>9.30</td>\n",
       "      <td>0.60</td>\n",
       "      <td>1.62</td>\n",
       "      <td>840.0</td>\n",
       "    </tr>\n",
       "    <tr>\n",
       "      <th>177</th>\n",
       "      <td>14.13</td>\n",
       "      <td>4.10</td>\n",
       "      <td>2.74</td>\n",
       "      <td>24.5</td>\n",
       "      <td>96.0</td>\n",
       "      <td>2.05</td>\n",
       "      <td>0.76</td>\n",
       "      <td>0.56</td>\n",
       "      <td>1.35</td>\n",
       "      <td>9.20</td>\n",
       "      <td>0.61</td>\n",
       "      <td>1.60</td>\n",
       "      <td>560.0</td>\n",
       "    </tr>\n",
       "  </tbody>\n",
       "</table>\n",
       "<p>178 rows × 13 columns</p>\n",
       "</div>"
      ],
      "text/plain": [
       "     alcohol  malic_acid   ash  alcalinity_of_ash  magnesium  total_phenols  \\\n",
       "0      14.23        1.71  2.43               15.6      127.0           2.80   \n",
       "1      13.20        1.78  2.14               11.2      100.0           2.65   \n",
       "2      13.16        2.36  2.67               18.6      101.0           2.80   \n",
       "3      14.37        1.95  2.50               16.8      113.0           3.85   \n",
       "4      13.24        2.59  2.87               21.0      118.0           2.80   \n",
       "..       ...         ...   ...                ...        ...            ...   \n",
       "173    13.71        5.65  2.45               20.5       95.0           1.68   \n",
       "174    13.40        3.91  2.48               23.0      102.0           1.80   \n",
       "175    13.27        4.28  2.26               20.0      120.0           1.59   \n",
       "176    13.17        2.59  2.37               20.0      120.0           1.65   \n",
       "177    14.13        4.10  2.74               24.5       96.0           2.05   \n",
       "\n",
       "     flavanoids  nonflavanoid_phenols  proanthocyanins  color_intensity   hue  \\\n",
       "0          3.06                  0.28             2.29             5.64  1.04   \n",
       "1          2.76                  0.26             1.28             4.38  1.05   \n",
       "2          3.24                  0.30             2.81             5.68  1.03   \n",
       "3          3.49                  0.24             2.18             7.80  0.86   \n",
       "4          2.69                  0.39             1.82             4.32  1.04   \n",
       "..          ...                   ...              ...              ...   ...   \n",
       "173        0.61                  0.52             1.06             7.70  0.64   \n",
       "174        0.75                  0.43             1.41             7.30  0.70   \n",
       "175        0.69                  0.43             1.35            10.20  0.59   \n",
       "176        0.68                  0.53             1.46             9.30  0.60   \n",
       "177        0.76                  0.56             1.35             9.20  0.61   \n",
       "\n",
       "     od280/od315_of_diluted_wines  proline  \n",
       "0                            3.92   1065.0  \n",
       "1                            3.40   1050.0  \n",
       "2                            3.17   1185.0  \n",
       "3                            3.45   1480.0  \n",
       "4                            2.93    735.0  \n",
       "..                            ...      ...  \n",
       "173                          1.74    740.0  \n",
       "174                          1.56    750.0  \n",
       "175                          1.56    835.0  \n",
       "176                          1.62    840.0  \n",
       "177                          1.60    560.0  \n",
       "\n",
       "[178 rows x 13 columns]"
      ]
     },
     "execution_count": 24,
     "metadata": {},
     "output_type": "execute_result"
    }
   ],
   "source": [
    "#!pip install pandas\n",
    "\n",
    "import pandas as pd\n",
    "pd.DataFrame(data.data, columns=data.feature_names)"
   ]
  },
  {
   "cell_type": "markdown",
   "metadata": {},
   "source": [
    "DataFrame으로 나타내니 한결 데이터 보기가 편해졌습니다. 이렇게 하면 EDA(Exploration Data Analysis)할때 굉장히 편할 것 같네요."
   ]
  },
  {
   "cell_type": "markdown",
   "metadata": {},
   "source": [
    "### 머신러닝\n",
    "\n",
    "---\n",
    "\n",
    "이제 머신러닝 모델을 만들고 예측을 해보겠습니다.\n",
    "\n",
    "특성 행렬은 통상 변수명 `X`에 저장하고, 타겟 벡터는 `y`에 저장한다고 했습니다."
   ]
  },
  {
   "cell_type": "code",
   "execution_count": 25,
   "metadata": {
    "ExecuteTime": {
     "end_time": "2021-01-25T19:07:48.302225Z",
     "start_time": "2021-01-25T19:07:48.298416Z"
    }
   },
   "outputs": [],
   "source": [
    "X = data.data\n",
    "y = data.target"
   ]
  },
  {
   "cell_type": "markdown",
   "metadata": {},
   "source": [
    "모델을 생성합니다. 이번에는 분류 문제이므로 `RandomForestClassifier`를 사용해 보겠습니다."
   ]
  },
  {
   "cell_type": "code",
   "execution_count": 26,
   "metadata": {
    "ExecuteTime": {
     "end_time": "2021-01-25T19:08:03.269384Z",
     "start_time": "2021-01-25T19:08:03.246040Z"
    }
   },
   "outputs": [],
   "source": [
    "from sklearn.ensemble import RandomForestClassifier\n",
    "model = RandomForestClassifier()"
   ]
  },
  {
   "cell_type": "markdown",
   "metadata": {},
   "source": [
    "훈련을 시킵니다."
   ]
  },
  {
   "cell_type": "code",
   "execution_count": 27,
   "metadata": {
    "ExecuteTime": {
     "end_time": "2021-01-25T19:08:13.078303Z",
     "start_time": "2021-01-25T19:08:12.926093Z"
    }
   },
   "outputs": [
    {
     "data": {
      "text/plain": [
       "RandomForestClassifier()"
      ]
     },
     "execution_count": 27,
     "metadata": {},
     "output_type": "execute_result"
    }
   ],
   "source": [
    "model.fit(X, y)"
   ]
  },
  {
   "cell_type": "markdown",
   "metadata": {},
   "source": [
    "예측을 합니다."
   ]
  },
  {
   "cell_type": "code",
   "execution_count": 28,
   "metadata": {
    "ExecuteTime": {
     "end_time": "2021-01-25T19:08:20.746318Z",
     "start_time": "2021-01-25T19:08:20.733849Z"
    }
   },
   "outputs": [],
   "source": [
    "y_pred = model.predict(X)"
   ]
  },
  {
   "cell_type": "markdown",
   "metadata": {},
   "source": [
    "그리고 성능을 평가해보도록 하겠습니다. 성능은 `sklearn.metrics` 모듈을 사용한다고 했습니다. 분류 문제의 경우 `classification_report` 와 `accuracy_score`를 이용합니다."
   ]
  },
  {
   "cell_type": "code",
   "execution_count": 29,
   "metadata": {
    "ExecuteTime": {
     "end_time": "2021-01-25T19:08:42.045344Z",
     "start_time": "2021-01-25T19:08:42.038473Z"
    }
   },
   "outputs": [
    {
     "name": "stdout",
     "output_type": "stream",
     "text": [
      "              precision    recall  f1-score   support\n",
      "\n",
      "           0       1.00      1.00      1.00        59\n",
      "           1       1.00      1.00      1.00        71\n",
      "           2       1.00      1.00      1.00        48\n",
      "\n",
      "    accuracy                           1.00       178\n",
      "   macro avg       1.00      1.00      1.00       178\n",
      "weighted avg       1.00      1.00      1.00       178\n",
      "\n",
      "accuracy =  1.0\n"
     ]
    }
   ],
   "source": [
    "from sklearn.metrics import accuracy_score\n",
    "from sklearn.metrics import classification_report\n",
    "\n",
    "#타겟 벡터 즉 라벨인 변수명 y와 예측값 y_pred을 각각 인자로 넣습니다. \n",
    "print(classification_report(y, y_pred))\n",
    "#정확도를 출력합니다. \n",
    "print(\"accuracy = \", accuracy_score(y, y_pred))"
   ]
  },
  {
   "cell_type": "markdown",
   "metadata": {},
   "source": [
    "## 사이킷런의 주요 모듈 (5) Estimator\n",
    "\n",
    "앞의 실습에서 머신러닝 모델의 훈련은 `fit()` 메소드를 이용하고 예측은 `predict()` 메소드를 이용했습니다. 사이킷런은 API가 매우 일관성 있게 설계되어 있다는 점이 장점입니다. 이번에는 모델 훈련에서 핵심이 되는 API를 살펴보도록 하겠습니다."
   ]
  },
  {
   "cell_type": "markdown",
   "metadata": {},
   "source": [
    "## Estimator 객체\n",
    "\n",
    "---\n",
    "\n",
    "데이터셋을 기반으로 머신러닝 모델의 파라미터를 추정하는 객체를 `Estimator`라고 합니다. 사이킷런의 모든 머신러닝 모델은 `Estimator`라는 파이썬 클래스로 구현되어 있습니다. 추정을 하는 과정 즉, 훈련은 `Estimator`의 `fit()`메소드를 통해 이루어 지고, 예측은 `predict()`메소드를 통해 이루어 집니다.\n",
    "\n",
    "앞에서 실습에 사용한 `Estimator` 객체는 `LinearRegression()`과 `RandomForestClassifier()`입니다.\n",
    "\n",
    "와인 분류 문제를 해결하는 과정을 그림으로 표현하면 다음과 같습니다.\n",
    "\n",
    "![img4](./img/img4.png)\n",
    "\n",
    "선형 회귀 문제를 해결하는 과정을 그림으로 표현하면 다음과 같습니다.\n",
    "\n",
    "![img5](./img/img5.png)\n",
    "\n",
    "만약 타겟 벡터가 없다면 어떻게 표현할 수 있을까요? 정답이 없는 데이터인 비지도학습의 경우는 `fit()` 메소드의 인자로 `Target Vector`가 들어가지 않습니다.\n",
    "\n",
    "![img6](./img/img6.png)\n",
    "\n",
    "사이킷런의 Estimator 객체를 사용한다면 비지도학습, 지도학습에 관계 없이 학습과 예측을 할 수 있습니다."
   ]
  },
  {
   "cell_type": "markdown",
   "metadata": {},
   "source": [
    "## 훈련 데이터와 테스트 데이터 분리하기\n",
    "\n",
    "앞의 와인 분류 문제에서 정확도가 100%로 나온 것을 기억하시나요? 위의 그림에서 Estimator 객체에 fit()과 prediction() 메소드에 인자로 각기 다른 데이터가 들어가야 하는 것을 눈치채셨나요?\n",
    "\n",
    "![img7](./img/img7.png)\n",
    "\n",
    "![img8](./img/img8.png)\n",
    "\n",
    "처음에 우리는 왼쪽 그림과 같이 훈련에 사용되는 데이터(특성 행렬)와 예측에 사용되는 데이터(특성 행렬)에 같은 값을 넣었습니다. **즉, 동일한 데이터로 훈련과 예측을 하니 정확도가 100%**로 나왔습니다.\n",
    "\n",
    "오른쪽 그림과 같이 훈련에 쓰이는 데이터와 예측에 쓰이는 데이터는 다른 데이터를 사용해야 합니다."
   ]
  },
  {
   "cell_type": "markdown",
   "metadata": {},
   "source": [
    "### 훈련 데이터와 테스트 데이터 직접 분리하기\n",
    "\n",
    "---\n",
    "\n",
    "보통 훈련 데이터와 테스트 데이터의 비율은 8:2로 설정합니다. 자 그럼 데이터를 나누어 보겠습니다."
   ]
  },
  {
   "cell_type": "code",
   "execution_count": 30,
   "metadata": {
    "ExecuteTime": {
     "end_time": "2021-01-25T19:21:25.112453Z",
     "start_time": "2021-01-25T19:21:25.102743Z"
    }
   },
   "outputs": [
    {
     "name": "stdout",
     "output_type": "stream",
     "text": [
      "(178, 13)\n",
      "(178,)\n"
     ]
    }
   ],
   "source": [
    "from sklearn.datasets import load_wine\n",
    "data = load_wine()\n",
    "print(data.data.shape)\n",
    "print(data.target.shape)"
   ]
  },
  {
   "cell_type": "markdown",
   "metadata": {},
   "source": [
    "전체 데이터의 개수는 178개입니다. 8대 2로 특성 행렬과 타겟 벡터를 나누어 보도록 하겠습니다. 데이터의 개수이므로 정수 개만 가능하죠. 178개의 80%면 142.4이지만 정수로 표현하면 142개, 그리고 훈련 데이터는 나머지 36개로 나누어 보겠습니다.\n",
    "\n",
    "![img9](./img/img9.png)\n",
    "\n",
    "특성 행렬과 타겟 벡터는 ndarray type이니 numpy의 슬라이싱을 사용하면 될 것 같네요."
   ]
  },
  {
   "cell_type": "code",
   "execution_count": 31,
   "metadata": {
    "ExecuteTime": {
     "end_time": "2021-01-25T19:22:31.185302Z",
     "start_time": "2021-01-25T19:22:31.176645Z"
    }
   },
   "outputs": [
    {
     "name": "stdout",
     "output_type": "stream",
     "text": [
      "(142, 13) (36, 13)\n"
     ]
    }
   ],
   "source": [
    "X_train = data.data[:142]\n",
    "X_test = data.data[142:]\n",
    "print(X_train.shape, X_test.shape)"
   ]
  },
  {
   "cell_type": "code",
   "execution_count": 32,
   "metadata": {
    "ExecuteTime": {
     "end_time": "2021-01-25T19:22:44.272131Z",
     "start_time": "2021-01-25T19:22:44.269280Z"
    }
   },
   "outputs": [
    {
     "name": "stdout",
     "output_type": "stream",
     "text": [
      "(142,) (36,)\n"
     ]
    }
   ],
   "source": [
    "y_train = data.target[:142]\n",
    "y_test = data.target[142:]\n",
    "print(y_train.shape, y_test.shape)"
   ]
  },
  {
   "cell_type": "markdown",
   "metadata": {},
   "source": [
    "훈련 데이터와 테스트 데이터의 분리가 끝났습니다. 그럼 다시 훈련과 예측을 해보겠습니다."
   ]
  },
  {
   "cell_type": "code",
   "execution_count": 33,
   "metadata": {
    "ExecuteTime": {
     "end_time": "2021-01-25T19:22:58.269123Z",
     "start_time": "2021-01-25T19:22:58.157289Z"
    }
   },
   "outputs": [
    {
     "data": {
      "text/plain": [
       "RandomForestClassifier()"
      ]
     },
     "execution_count": 33,
     "metadata": {},
     "output_type": "execute_result"
    }
   ],
   "source": [
    "from sklearn.ensemble import RandomForestClassifier\n",
    "model = RandomForestClassifier()\n",
    "model.fit(X_train, y_train)"
   ]
  },
  {
   "cell_type": "code",
   "execution_count": 34,
   "metadata": {
    "ExecuteTime": {
     "end_time": "2021-01-25T19:23:06.396057Z",
     "start_time": "2021-01-25T19:23:06.383726Z"
    }
   },
   "outputs": [],
   "source": [
    "y_pred = model.predict(X_test)"
   ]
  },
  {
   "cell_type": "markdown",
   "metadata": {},
   "source": [
    "정확도를 평가해 볼까요?"
   ]
  },
  {
   "cell_type": "code",
   "execution_count": 35,
   "metadata": {
    "ExecuteTime": {
     "end_time": "2021-01-25T19:23:20.139693Z",
     "start_time": "2021-01-25T19:23:20.130781Z"
    }
   },
   "outputs": [
    {
     "name": "stdout",
     "output_type": "stream",
     "text": [
      "정답률= 0.9722222222222222\n"
     ]
    }
   ],
   "source": [
    "from sklearn.metrics import accuracy_score\n",
    "\n",
    "print(\"정답률=\", accuracy_score(y_test, y_pred))"
   ]
  },
  {
   "cell_type": "markdown",
   "metadata": {},
   "source": [
    "저는 94%가 나왔습니다."
   ]
  },
  {
   "cell_type": "markdown",
   "metadata": {},
   "source": [
    "### `train_test_split()` 사용해서 분리하기\n",
    "\n",
    "---\n",
    "\n",
    "훈련 데이터와 테스트 데이터 분리는 필수 기능입니다. 훈련에 쓴 데이터를 예측에 사용하면 항상 정확도는 100%가 나올 것이기 때문이죠. 사이킷런에서는 이 필수 기능을 당연히 API로 제공하고 있습니다. 바로 `model_selection`의 `train_test_split()`함수 입니다."
   ]
  },
  {
   "cell_type": "code",
   "execution_count": 36,
   "metadata": {
    "ExecuteTime": {
     "end_time": "2021-01-25T19:24:09.639789Z",
     "start_time": "2021-01-25T19:24:09.634186Z"
    }
   },
   "outputs": [],
   "source": [
    "from sklearn.model_selection import train_test_split\n",
    "\n",
    "result = train_test_split(X, y, test_size=0.2, random_state=42)"
   ]
  },
  {
   "cell_type": "markdown",
   "metadata": {},
   "source": [
    "인자로 특성 행렬 `X`와 타겟 벡터 `y`를 넣고 테스트 데이터의 비율을 넣어 키워드 인자로 지정해 줍니다. 20%로 해 볼게요. 그리고 우리는 0번부터 순차적으로 데이터를 분할했죠? 사이킷런은 랜덤하게 데이터를 섞어주는 기능도 있습니다. `random_state` 인자에 seed 번호를 입력하면 됩니다.\n",
    "\n",
    "`train_test_split()`은 반환값으로 4개의 원소로 이루어진 list를 반환합니다. (\\*리스트 원소의 데이터 타입은 array입니다.)"
   ]
  },
  {
   "cell_type": "code",
   "execution_count": 37,
   "metadata": {
    "ExecuteTime": {
     "end_time": "2021-01-25T19:25:13.393834Z",
     "start_time": "2021-01-25T19:25:13.391266Z"
    }
   },
   "outputs": [
    {
     "name": "stdout",
     "output_type": "stream",
     "text": [
      "<class 'list'>\n",
      "4\n"
     ]
    }
   ],
   "source": [
    "print(type(result))\n",
    "print(len(result))"
   ]
  },
  {
   "cell_type": "markdown",
   "metadata": {},
   "source": [
    "각각 모양을 확인해 볼까요?"
   ]
  },
  {
   "cell_type": "code",
   "execution_count": 38,
   "metadata": {
    "ExecuteTime": {
     "end_time": "2021-01-25T19:25:17.946097Z",
     "start_time": "2021-01-25T19:25:17.937898Z"
    }
   },
   "outputs": [
    {
     "data": {
      "text/plain": [
       "(142, 13)"
      ]
     },
     "execution_count": 38,
     "metadata": {},
     "output_type": "execute_result"
    }
   ],
   "source": [
    "result[0].shape"
   ]
  },
  {
   "cell_type": "code",
   "execution_count": 39,
   "metadata": {
    "ExecuteTime": {
     "end_time": "2021-01-25T19:25:29.165496Z",
     "start_time": "2021-01-25T19:25:29.161563Z"
    }
   },
   "outputs": [
    {
     "data": {
      "text/plain": [
       "(36, 13)"
      ]
     },
     "execution_count": 39,
     "metadata": {},
     "output_type": "execute_result"
    }
   ],
   "source": [
    "result[1].shape"
   ]
  },
  {
   "cell_type": "code",
   "execution_count": 40,
   "metadata": {
    "ExecuteTime": {
     "end_time": "2021-01-25T19:25:32.234556Z",
     "start_time": "2021-01-25T19:25:32.230694Z"
    }
   },
   "outputs": [
    {
     "data": {
      "text/plain": [
       "(142,)"
      ]
     },
     "execution_count": 40,
     "metadata": {},
     "output_type": "execute_result"
    }
   ],
   "source": [
    "result[2].shape"
   ]
  },
  {
   "cell_type": "code",
   "execution_count": 41,
   "metadata": {
    "ExecuteTime": {
     "end_time": "2021-01-25T19:25:34.450672Z",
     "start_time": "2021-01-25T19:25:34.442062Z"
    }
   },
   "outputs": [
    {
     "data": {
      "text/plain": [
       "(36,)"
      ]
     },
     "execution_count": 41,
     "metadata": {},
     "output_type": "execute_result"
    }
   ],
   "source": [
    "result[3].shape"
   ]
  },
  {
   "cell_type": "markdown",
   "metadata": {},
   "source": [
    "모양을 보니 감이 잡히시나요? 네 0번 원소부터 순서대로 훈련 데이터용 특성 행렬, 테스트 데이터용 특성 행렬, 훈련 데이터용 타겟 벡터, 테스트 데이터용 타겟 벡터 입니다.\n",
    "\n",
    "우리는 이 함수를 이런 식으로 unpacking해서 씁니다.\n",
    "\n"
   ]
  },
  {
   "cell_type": "code",
   "execution_count": 42,
   "metadata": {
    "ExecuteTime": {
     "end_time": "2021-01-25T19:25:49.564192Z",
     "start_time": "2021-01-25T19:25:49.555965Z"
    }
   },
   "outputs": [],
   "source": [
    "X_train, X_test, y_train, y_test = train_test_split(X, y, test_size=0.2, random_state=42)"
   ]
  },
  {
   "cell_type": "markdown",
   "metadata": {},
   "source": [
    "### 실습\n",
    "\n",
    "---\n",
    "\n",
    "그럼 앞서 와인 분류 문제의 데이터를 훈련용 데이터셋과 테스트용 데이터셋으로 나눈 뒤 훈련하고 예측하는 전체 코드를 직접 작성해 보세요.\n",
    "\n"
   ]
  },
  {
   "cell_type": "code",
   "execution_count": 67,
   "metadata": {
    "ExecuteTime": {
     "end_time": "2021-01-25T19:37:38.691342Z",
     "start_time": "2021-01-25T19:37:38.570355Z"
    },
    "scrolled": true
   },
   "outputs": [
    {
     "name": "stdout",
     "output_type": "stream",
     "text": [
      "              precision    recall  f1-score   support\n",
      "\n",
      "           0       1.00      0.92      0.96        12\n",
      "           1       0.93      1.00      0.97        14\n",
      "           2       1.00      1.00      1.00        10\n",
      "\n",
      "    accuracy                           0.97        36\n",
      "   macro avg       0.98      0.97      0.97        36\n",
      "weighted avg       0.97      0.97      0.97        36\n",
      "\n",
      "accuracy =  0.9722222222222222\n"
     ]
    }
   ],
   "source": [
    "# 데이터셋 로드하기\n",
    "from sklearn.datasets import load_wine\n",
    "data = load_wine()\n",
    "\n",
    "# 훈련용 데이터셋 나누기\n",
    "from sklearn.model_selection import train_test_split\n",
    "X_train, X_test, y_train, y_test = train_test_split(data.data, data.target, test_size=0.2, stratify=data.target, random_state=11)\n",
    "\n",
    "# 훈련하기\n",
    "from sklearn.ensemble import RandomForestClassifier\n",
    "model = RandomForestClassifier()\n",
    "model.fit(X_train, y_train)\n",
    "\n",
    "\n",
    "# 예측하기\n",
    "y_pred = model.predict(X_test)\n",
    "\n",
    "\n",
    "# 정답률 출력하기\n",
    "from sklearn.metrics import accuracy_score\n",
    "from sklearn.metrics import classification_report\n",
    "\n",
    "#타겟 벡터 즉 라벨인 변수명 y와 예측값 y_pred을 각각 인자로 넣습니다. \n",
    "print(classification_report(y_test, y_pred))\n",
    "#정확도를 출력합니다. \n",
    "print(\"accuracy = \", accuracy_score(y_test, y_pred))"
   ]
  },
  {
   "cell_type": "code",
   "execution_count": 68,
   "metadata": {
    "ExecuteTime": {
     "end_time": "2021-01-25T19:37:41.930712Z",
     "start_time": "2021-01-25T19:37:41.805248Z"
    }
   },
   "outputs": [
    {
     "name": "stdout",
     "output_type": "stream",
     "text": [
      "정답률= 0.9722222222222222\n"
     ]
    }
   ],
   "source": [
    "from sklearn.datasets import load_wine\n",
    "from sklearn.model_selection import train_test_split\n",
    "from sklearn.ensemble import RandomForestClassifier\n",
    "from sklearn.metrics import accuracy_score\n",
    "\n",
    "data = load_wine()\n",
    "X_train, X_test, y_train, y_test = train_test_split(data.data, data.target, test_size=0.2, random_state=11)\n",
    "model = RandomForestClassifier()\n",
    "model.fit(X_train, y_train)\n",
    "y_pred = model.predict(X_test)\n",
    "print(\"정답률=\", accuracy_score(y_test, y_pred))"
   ]
  },
  {
   "cell_type": "markdown",
   "metadata": {},
   "source": [
    "## 마치며\n",
    "\n",
    "사이킷런에서 핵심이 되는 데이터의 표현법과 `Estimator`를 이용해 모델을 어떻게 훈련하고 예측하는지 알아보았습니다. 마지막으로 훈련 데이터와 테스트 데이터를 분리하는 방법에 대해서도 학습했습니다. 이 외에도 평가와 관련된 항목들은 `metrics` 모듈에 들어가 있고, 여기서 언급하진 않았지만 `sklearn.preprocessing` 모듈 역시 중요한 API 중 하나입니다.\n",
    "\n",
    "이렇듯 사이킷런은 많은 기능들이 잘 정리되어 있어 사용자에게 편의성을 제공하고 있습니다. 아래 사이킷런 주요 모듈을 다시 한번 눈여겨 보세요.\n",
    "\n",
    "![img10](./img/img10.png)"
   ]
  },
  {
   "cell_type": "markdown",
   "metadata": {},
   "source": [
    "> 참고자료\n",
    "\n",
    "+ [최적의 ‘머신러닝 알고리즘’을 고르기 위한 치트키](https://blogs.sas.com/content/saskorea/2017/08/22/%EC%B5%9C%EC%A0%81%EC%9D%98-%EB%A8%B8%EC%8B%A0%EB%9F%AC%EB%8B%9D-%EC%95%8C%EA%B3%A0%EB%A6%AC%EC%A6%98%EC%9D%84-%EA%B3%A0%EB%A5%B4%EA%B8%B0-%EC%9C%84%ED%95%9C-%EC%B9%98%ED%8A%B8/)\n",
    "+ [Installing scikit-learn](https://scikit-learn.org/stable/install.html)\n",
    "+ [scikit-learn](https://scikit-learn.org/stable/index.html)\n",
    "+ [Scikit-learn: API Reference](https://scikit-learn.org/stable/modules/classes.html)\n",
    "+ [Scikit-learn: Mean Squared Error](https://scikit-learn.org/stable/modules/model_evaluation.html#mean-squared-error)\n",
    "+ [Scikit-learn: Dataset loading utilities](https://scikit-learn.org/stable/datasets)\n",
    "+ [Scikit-learn: sklearn.utils.Bunch](https://scikit-learn.org/stable/modules/generated/sklearn.utils.Bunch.html?highlight=bunch#sklearn.utils.Bunch)\n",
    "+ [sklearn.datasets.load_wine()](https://scikit-learn.org/stable/modules/generated/sklearn.datasets.load_wine.html?highlight=wine#sklearn.datasets.load_wine)\n"
   ]
  }
 ],
 "metadata": {
  "hide_input": false,
  "kernelspec": {
   "display_name": "aiffel",
   "language": "python",
   "name": "aiffel"
  },
  "language_info": {
   "codemirror_mode": {
    "name": "ipython",
    "version": 3
   },
   "file_extension": ".py",
   "mimetype": "text/x-python",
   "name": "python",
   "nbconvert_exporter": "python",
   "pygments_lexer": "ipython3",
   "version": "3.7.9"
  },
  "toc": {
   "base_numbering": 1,
   "nav_menu": {},
   "number_sections": true,
   "sideBar": true,
   "skip_h1_title": true,
   "title_cell": "Table of Contents",
   "title_sidebar": "Contents",
   "toc_cell": true,
   "toc_position": {
    "height": "calc(100% - 180px)",
    "left": "10px",
    "top": "150px",
    "width": "343px"
   },
   "toc_section_display": true,
   "toc_window_display": false
  }
 },
 "nbformat": 4,
 "nbformat_minor": 4
}
