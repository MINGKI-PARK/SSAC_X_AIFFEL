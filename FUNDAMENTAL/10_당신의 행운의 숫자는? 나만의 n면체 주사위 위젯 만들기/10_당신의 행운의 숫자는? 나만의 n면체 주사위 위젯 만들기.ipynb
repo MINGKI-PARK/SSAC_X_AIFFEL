{
 "cells": [
  {
   "cell_type": "markdown",
   "metadata": {},
   "source": [
    "# 10_당신의 행운의 숫자는? 나만의 n면체 주사위 위젯 만들기"
   ]
  },
  {
   "cell_type": "markdown",
   "metadata": {
    "toc": true
   },
   "source": [
    "<h1>Table of Contents<span class=\"tocSkip\"></span></h1>\n",
    "<div class=\"toc\"><ul class=\"toc-item\"><li><span><a href=\"#시작하며\" data-toc-modified-id=\"시작하며-1\"><span class=\"toc-item-num\">1&nbsp;&nbsp;</span>시작하며</a></span><ul class=\"toc-item\"><li><span><a href=\"#학습-목표\" data-toc-modified-id=\"학습-목표-1.1\"><span class=\"toc-item-num\">1.1&nbsp;&nbsp;</span>학습 목표</a></span></li></ul></li><li><span><a href=\"#객체-지향-프로그래밍-(1)-객체란?\" data-toc-modified-id=\"객체-지향-프로그래밍-(1)-객체란?-2\"><span class=\"toc-item-num\">2&nbsp;&nbsp;</span>객체 지향 프로그래밍 (1) 객체란?</a></span><ul class=\"toc-item\"><li><span><a href=\"#객체\" data-toc-modified-id=\"객체-2.1\"><span class=\"toc-item-num\">2.1&nbsp;&nbsp;</span>객체</a></span></li><li><span><a href=\"#변수\" data-toc-modified-id=\"변수-2.2\"><span class=\"toc-item-num\">2.2&nbsp;&nbsp;</span>변수</a></span></li><li><span><a href=\"#얕은-복사,-깊은-복사\" data-toc-modified-id=\"얕은-복사,-깊은-복사-2.3\"><span class=\"toc-item-num\">2.3&nbsp;&nbsp;</span>얕은 복사, 깊은 복사</a></span></li></ul></li><li><span><a href=\"#객체-지향-프로그래밍-(2)-객체-지향-프로그래밍이란?\" data-toc-modified-id=\"객체-지향-프로그래밍-(2)-객체-지향-프로그래밍이란?-3\"><span class=\"toc-item-num\">3&nbsp;&nbsp;</span>객체 지향 프로그래밍 (2) 객체 지향 프로그래밍이란?</a></span></li><li><span><a href=\"#클래스-기본-문법-(1)-클래스-선언-및-인스턴스화\" data-toc-modified-id=\"클래스-기본-문법-(1)-클래스-선언-및-인스턴스화-4\"><span class=\"toc-item-num\">4&nbsp;&nbsp;</span>클래스 기본 문법 (1) 클래스 선언 및 인스턴스화</a></span><ul class=\"toc-item\"><li><span><a href=\"#클래스-선언\" data-toc-modified-id=\"클래스-선언-4.1\"><span class=\"toc-item-num\">4.1&nbsp;&nbsp;</span>클래스 선언</a></span></li><li><span><a href=\"#클래스-사용---객체-인스턴스화\" data-toc-modified-id=\"클래스-사용---객체-인스턴스화-4.2\"><span class=\"toc-item-num\">4.2&nbsp;&nbsp;</span>클래스 사용 - 객체 인스턴스화</a></span></li></ul></li><li><span><a href=\"#클래스-기본-문법-(2)-클래스-속성과-메소드\" data-toc-modified-id=\"클래스-기본-문법-(2)-클래스-속성과-메소드-5\"><span class=\"toc-item-num\">5&nbsp;&nbsp;</span>클래스 기본 문법 (2) 클래스 속성과 메소드</a></span><ul class=\"toc-item\"><li><span><a href=\"#클래스의-속성과-메소드\" data-toc-modified-id=\"클래스의-속성과-메소드-5.1\"><span class=\"toc-item-num\">5.1&nbsp;&nbsp;</span>클래스의 속성과 메소드</a></span></li><li><span><a href=\"#클래스의-속성과-메소드-사용\" data-toc-modified-id=\"클래스의-속성과-메소드-사용-5.2\"><span class=\"toc-item-num\">5.2&nbsp;&nbsp;</span>클래스의 속성과 메소드 사용</a></span></li></ul></li><li><span><a href=\"#클래스-기본-문법-(3)-생성자\" data-toc-modified-id=\"클래스-기본-문법-(3)-생성자-6\"><span class=\"toc-item-num\">6&nbsp;&nbsp;</span>클래스 기본 문법 (3) 생성자</a></span><ul class=\"toc-item\"><li><span><a href=\"#생성자-__init__\" data-toc-modified-id=\"생성자-__init__-6.1\"><span class=\"toc-item-num\">6.1&nbsp;&nbsp;</span>생성자 <code>__init__</code></a></span></li></ul></li><li><span><a href=\"#클래스-기본-문법-(4)-클래스-변수와-인스턴스-변수\" data-toc-modified-id=\"클래스-기본-문법-(4)-클래스-변수와-인스턴스-변수-7\"><span class=\"toc-item-num\">7&nbsp;&nbsp;</span>클래스 기본 문법 (4) 클래스 변수와 인스턴스 변수</a></span></li><li><span><a href=\"#객체-지향-프로그래밍을-하는-이유\" data-toc-modified-id=\"객체-지향-프로그래밍을-하는-이유-8\"><span class=\"toc-item-num\">8&nbsp;&nbsp;</span>객체 지향 프로그래밍을 하는 이유</a></span></li><li><span><a href=\"#클래스,-조금-더-알아보기---상속\" data-toc-modified-id=\"클래스,-조금-더-알아보기---상속-9\"><span class=\"toc-item-num\">9&nbsp;&nbsp;</span>클래스, 조금 더 알아보기 - 상속</a></span><ul class=\"toc-item\"><li><span><a href=\"#상속\" data-toc-modified-id=\"상속-9.1\"><span class=\"toc-item-num\">9.1&nbsp;&nbsp;</span>상속</a></span></li><li><span><a href=\"#상속-사용하기\" data-toc-modified-id=\"상속-사용하기-9.2\"><span class=\"toc-item-num\">9.2&nbsp;&nbsp;</span>상속 사용하기</a></span></li><li><span><a href=\"#전체-요약\" data-toc-modified-id=\"전체-요약-9.3\"><span class=\"toc-item-num\">9.3&nbsp;&nbsp;</span>전체 요약</a></span></li></ul></li><li><span><a href=\"#n면체-주사위-만들기-(1)-기획\" data-toc-modified-id=\"n면체-주사위-만들기-(1)-기획-10\"><span class=\"toc-item-num\">10&nbsp;&nbsp;</span>n면체 주사위 만들기 (1) 기획</a></span><ul class=\"toc-item\"><li><span><a href=\"#기획\" data-toc-modified-id=\"기획-10.1\"><span class=\"toc-item-num\">10.1&nbsp;&nbsp;</span>기획</a></span></li></ul></li></ul></div>"
   ]
  },
  {
   "cell_type": "markdown",
   "metadata": {},
   "source": [
    "## 시작하며\n",
    "\n",
    "### 학습 목표\n",
    "\n",
    "---\n",
    "\n",
    "\n",
    "파이썬 클래스 문법을 익힙니다.\n",
    "파이썬 클래스를 활용해 객체 지향 프로그래밍에 대해 학습합니다."
   ]
  },
  {
   "cell_type": "markdown",
   "metadata": {},
   "source": [
    "## 객체 지향 프로그래밍 (1) 객체란?\n",
    "\n",
    "### 객체\n",
    "\n",
    "---\n",
    "\n",
    "> Everything in Python is an object, and almost everything has attributes and methods.\n",
    "\n",
    "\"파이썬(Python)에서 모든 것은 객체(object)다. 그리고 대부분의 객체는 속성(attributes)과 메소드(methods)를 갖는다.\" 라는 말 들어보셨을 겁니다.\n",
    "\n",
    "파이썬에서는 부울(bool), 정수, 실수, 문자열, 배열, 딕셔너리, 함수, 모듈, 프로그램.. 등 모든 것이 객체입니다.\n",
    "\n",
    "아래 링크에 전체 내용이 나와있으니 한번 읽어 보세요.\n",
    "\n",
    "+ [Everything is an Object](https://linux.die.net/diveintopython/html/getting_to_know_python/everything_is_an_object.html)\n",
    "\n",
    "객체(object)란 개념은 다소 모호하긴 합니다. 그러나 적어도 파이썬에서 정의된 모든 클래스는 Object 클래스를 상속받고 있습니다. 이 클래스가 책임지는 것이 변수 할당과 object id 부여입니다. 그런 파이썬의 모든 것이 객체라는 말이 아주 터무니없지는 않은 것 같습니다."
   ]
  },
  {
   "cell_type": "markdown",
   "metadata": {},
   "source": [
    "### 변수\n",
    "\n",
    "---\n",
    "\n",
    "변수 `myvar`에 3을 할당해 보세요."
   ]
  },
  {
   "cell_type": "code",
   "execution_count": 1,
   "metadata": {
    "ExecuteTime": {
     "end_time": "2021-01-25T01:00:44.586764Z",
     "start_time": "2021-01-25T01:00:44.578331Z"
    }
   },
   "outputs": [
    {
     "data": {
      "text/plain": [
       "3"
      ]
     },
     "execution_count": 1,
     "metadata": {},
     "output_type": "execute_result"
    }
   ],
   "source": [
    "myvar = 3\n",
    "myvar"
   ]
  },
  {
   "cell_type": "markdown",
   "metadata": {},
   "source": [
    "변수는 단지 이름일 뿐이에요. = 연산자를 이용해 값을 할당한다는 의미는 값을 복사하는 것이 아니라 데이터가 담긴 객체에 그냥 이름을 붙이는 것입니다. 진짜 객체를 변수명으로 가리켜 참조할 수 있게 하는 것이죠.\n",
    "\n",
    "즉, 아래 코드는 `'cat'`이 담긴 문자열 타입의 객체를 생성하고 `myword`라는 변수(객체)에 할당, 문자열 객체를 참조하게 합니다."
   ]
  },
  {
   "cell_type": "code",
   "execution_count": 3,
   "metadata": {
    "ExecuteTime": {
     "end_time": "2021-01-25T01:03:11.800318Z",
     "start_time": "2021-01-25T01:03:11.797073Z"
    }
   },
   "outputs": [
    {
     "data": {
      "text/plain": [
       "'cat'"
      ]
     },
     "execution_count": 3,
     "metadata": {},
     "output_type": "execute_result"
    }
   ],
   "source": [
    "myword = 'cat'\n",
    "myword"
   ]
  },
  {
   "cell_type": "markdown",
   "metadata": {},
   "source": [
    "앞서 객체는 속성과 메소드를 포함한다고 했습니다. 문자열 클래스에는 `upper()`란 메소드가 있죠?"
   ]
  },
  {
   "cell_type": "code",
   "execution_count": 4,
   "metadata": {
    "ExecuteTime": {
     "end_time": "2021-01-25T01:03:12.196020Z",
     "start_time": "2021-01-25T01:03:12.187969Z"
    }
   },
   "outputs": [
    {
     "data": {
      "text/plain": [
       "'CAT'"
      ]
     },
     "execution_count": 4,
     "metadata": {},
     "output_type": "execute_result"
    }
   ],
   "source": [
    "myword.upper()"
   ]
  },
  {
   "cell_type": "code",
   "execution_count": 5,
   "metadata": {
    "ExecuteTime": {
     "end_time": "2021-01-25T01:03:19.184307Z",
     "start_time": "2021-01-25T01:03:19.176253Z"
    }
   },
   "outputs": [
    {
     "data": {
      "text/plain": [
       "'CAT'"
      ]
     },
     "execution_count": 5,
     "metadata": {},
     "output_type": "execute_result"
    }
   ],
   "source": [
    "'cat'.upper()"
   ]
  },
  {
   "cell_type": "markdown",
   "metadata": {},
   "source": [
    "위 두 코드의 출력값이 같습니다. `myword`가 가리키는 문자열과 `'cat'`의 값이 같기 때문입니다."
   ]
  },
  {
   "cell_type": "code",
   "execution_count": 6,
   "metadata": {
    "ExecuteTime": {
     "end_time": "2021-01-25T01:03:35.191841Z",
     "start_time": "2021-01-25T01:03:35.183831Z"
    }
   },
   "outputs": [
    {
     "data": {
      "text/plain": [
       "4"
      ]
     },
     "execution_count": 6,
     "metadata": {},
     "output_type": "execute_result"
    }
   ],
   "source": [
    "var = 4\n",
    "var"
   ]
  },
  {
   "cell_type": "markdown",
   "metadata": {},
   "source": [
    "변수 `var`에 정수 `4`를 할당합니다.\n",
    "\n",
    "변수는 지금 단계에서는 쉽게 메모리 주소라고 생각하시면 편합니다.\n",
    "\n",
    "한번 `id()` 라는 함수를 사용해서 객체의 identity를 확인해 보겠습니다.\n",
    "\n",
    "`id()` 함수는 파이썬 내장함수로, 프로그램이 돌아가고 있는 동안 객체의 고유값(identity)을 반환합니다. identity는 쉽게 메모리 주소 또는 그냥 객체마다 부여된 id라고 생각하시면 됩니다.\n",
    "\n",
    "+ 참고: [파이썬 공식 문서: id() 함수](https://docs.python.org/3/library/functions.html#id)\n",
    "\n",
    "변수 `var`와 정수 `4`의 id 값을 확인해 보면 동일합니다."
   ]
  },
  {
   "cell_type": "code",
   "execution_count": 7,
   "metadata": {
    "ExecuteTime": {
     "end_time": "2021-01-25T01:04:47.720367Z",
     "start_time": "2021-01-25T01:04:47.716978Z"
    }
   },
   "outputs": [
    {
     "name": "stdout",
     "output_type": "stream",
     "text": [
      "94659467826016 94659467826016\n"
     ]
    }
   ],
   "source": [
    "print(id(var), id(4)) #id 값은 pc마다 다릅니다."
   ]
  },
  {
   "cell_type": "markdown",
   "metadata": {},
   "source": [
    "다음 그림처럼 `4`라는 데이터를 변수 `var`에 할당시킨 것입니다. 따라서 `var`, `4` 각각의 id값을 확인해 보면 같은 값이 나옴을 확인할 수 있습니다.\n",
    "\n",
    "![img1](./img/img1.png)"
   ]
  },
  {
   "cell_type": "markdown",
   "metadata": {},
   "source": [
    "### 얕은 복사, 깊은 복사\n",
    "\n",
    "---\n",
    "\n",
    "변수 `var`에 리스트 변수 `mylist`를 할당합니다."
   ]
  },
  {
   "cell_type": "code",
   "execution_count": 8,
   "metadata": {
    "ExecuteTime": {
     "end_time": "2021-01-25T01:07:31.167904Z",
     "start_time": "2021-01-25T01:07:31.158586Z"
    }
   },
   "outputs": [
    {
     "data": {
      "text/plain": [
       "[1, 2, 3]"
      ]
     },
     "execution_count": 8,
     "metadata": {},
     "output_type": "execute_result"
    }
   ],
   "source": [
    "mylist = [1,2,3]\n",
    "var = mylist\n",
    "var"
   ]
  },
  {
   "cell_type": "markdown",
   "metadata": {},
   "source": [
    "`mylist`에 `append()` 메소드를 이용해서 원소 4 를 추가해 봅니다."
   ]
  },
  {
   "cell_type": "code",
   "execution_count": 9,
   "metadata": {
    "ExecuteTime": {
     "end_time": "2021-01-25T01:07:54.798124Z",
     "start_time": "2021-01-25T01:07:54.795193Z"
    }
   },
   "outputs": [
    {
     "name": "stdout",
     "output_type": "stream",
     "text": [
      "[1, 2, 3, 4]\n"
     ]
    }
   ],
   "source": [
    "mylist.append(4)\n",
    "print(mylist)"
   ]
  },
  {
   "cell_type": "markdown",
   "metadata": {},
   "source": [
    "`var`를 출력해 보겠습니다."
   ]
  },
  {
   "cell_type": "code",
   "execution_count": 10,
   "metadata": {
    "ExecuteTime": {
     "end_time": "2021-01-25T01:08:12.730429Z",
     "start_time": "2021-01-25T01:08:12.722631Z"
    }
   },
   "outputs": [
    {
     "name": "stdout",
     "output_type": "stream",
     "text": [
      "[1, 2, 3, 4]\n"
     ]
    }
   ],
   "source": [
    "print(var)"
   ]
  },
  {
   "cell_type": "markdown",
   "metadata": {},
   "source": [
    "var에도 mylist와 동일한 연산이 적용 되었습니다. 어떻게 된 걸까요? mylist와 var의 id 값을 확인해 보면, 같은 값이 나오는 것을 확인할 수 있습니다."
   ]
  },
  {
   "cell_type": "code",
   "execution_count": 11,
   "metadata": {
    "ExecuteTime": {
     "end_time": "2021-01-25T01:08:26.883897Z",
     "start_time": "2021-01-25T01:08:26.881317Z"
    }
   },
   "outputs": [
    {
     "name": "stdout",
     "output_type": "stream",
     "text": [
      "140237734452832 140237734452832\n"
     ]
    }
   ],
   "source": [
    "print(id(mylist), id(var))"
   ]
  },
  {
   "cell_type": "markdown",
   "metadata": {},
   "source": [
    "변수 `var`에 `mylist`를 할당하면 `var`와 `mylist`는 [1,2,3,4]라는 같은 데이터를 참조하게 됩니다. 따라서 `var`와 `mylist`는 id 값이 같으며, `var`도 `mylist`의 연산으로 원소가 추가된 `[1,2,3,4]` 데이터를 참조하게 됩니다.\n",
    "\n",
    "그리고 이렇게 원본 데이터는 그대로 두고, 참조하는 데이터의 id만을 복사하는 것을 `얕은 복사` 라고 합니다.\n",
    "\n",
    "그런데 우리가 생각하는 복사는 동일한 `[1,2,3,4]` 데이터가 생기는 것이겠죠.\n",
    "\n",
    "이런 복사를 파이썬을 비롯한 프로그래밍에서는 `깊은 복사` 라고 합니다.\n",
    "\n",
    "아래 링크는 파이썬에서 공식적으로 지원하는 깊은 복사와 얕은 복사 관련 함수입니다.\n",
    "\n",
    "+ [파이썬 공식 문서: copy() 모듈](https://docs.python.org/3/library/copy.html)\n",
    "\n",
    "원칙적으로 얕은 복사는 원본 객체의 주소를 복사하고, 깊은 복사는 원본 객체의 값을 복사한다고 기억하시면 됩니다. 다만 파이썬에서 얕은 복사, 깊은 복사의 기준은 조금 복잡하므로 우선 서로 다르다는 것만 기억하고, 좀 더 공부한 뒤 필요할 때 다시 공식 문서로 공부해 보세요."
   ]
  },
  {
   "cell_type": "markdown",
   "metadata": {},
   "source": [
    "> ***요약***\n",
    ">\n",
    "> + 파이썬에서는 모든 것(부울, 정수, 실수, 데이터구조(list,tuple,dict,set…), 함수, 프로그램, 모듈)이 객체다.\n",
    "> + 객체는 상태(state)를 나타내는 속성(attribute)과 동작(behavior)을 나타내는 메소드(method)가 있다.\n",
    "> + 객체의 속성은 변수로 구현된다. 객체의 메소드는 함수로 구현된다."
   ]
  },
  {
   "cell_type": "markdown",
   "metadata": {},
   "source": [
    "## 객체 지향 프로그래밍 (2) 객체 지향 프로그래밍이란?"
   ]
  },
  {
   "cell_type": "markdown",
   "metadata": {},
   "source": [
    "앞에서 객체에 대한 개념과 객체를 담는(참조하는) 변수에 대해 알아보았습니다.\n",
    "이렇게 객체를 활용한 프로그래밍을 **객체 지향 프로그래밍(OOP: Object Oriented Programming)** 이라고 합니다.\n",
    "\n",
    "객체 지향 프로그래밍(OOP)은 최초 프로그래밍 역사와 같은 역사를 가졌다고 해도 무방할 만큼 소프트웨어를 설계하고 구현하기 위한 수많은 원칙과 오랜 역사를 갖고 있는 개념으로, 현재까지도 널리 쓰이고 있습니다.\n",
    "객체 지향 프로그래밍은 거의 모든 언어에서 사용되고 있으며 파이썬 역시 객체 지향적 프로그래밍이 가능한 언어 중 하나입니다.\n",
    "\n",
    "미국의 데니스리치(Dennis Ritchie)는 1972년 C언어를 만들었습니다. C언어는 절차지향 프로그래밍 언어입니다.\n",
    "C언어를 바탕으로 새로운 개념의 프로그래밍 방법인 객체 지향 프로그래밍의 니즈가 생겨났고, 최초의 객체지향 언어인 Small Talk이 만들어집니다. 요즘은 거의 쓰이지 않고 있어요.\n",
    "하지만 이 Small Talk을 바탕으로 만들어진 오브젝티브-C(Objective-C)와 좀 더 ios개발에 최적화한 스위프트(Swift)가 현재 iOS 개발에 널리 쓰이고 있고, 객체 지향 프로그래밍의 패러다임은 아직까지도 지배적인 패러다임으로 사용되고 있다는 점에서 그 유산이 크다고 할 수 있습니다.\n",
    "\n",
    "그 외에도 대표적인 객체지향적 언어는 1995년 만들어진 자바(JAVA)를 꼽을 수 있습니다. 자바는 웹 개발, 안드로이드 개발 외에도 소프트웨어 개발 전반에 걸쳐 사용되고있는 프로그래밍 언어입니다.\n",
    "\n",
    "이렇게 객체지향 프로그래밍은 소프트웨어와 프로그래밍 전반에 오랜 기간 동안 사용된 개념으로 노드 하나에 다루기에는 그 양이 매우 많습니다.\n",
    "\n",
    "따라서, 이번 노드에서 다루는 내용은 객체지향 프로그램의 동작 원리가 아닌 구현 방법에 대해 설명하겠습니다. 즉, 어떻게 사용하고 어디에 활용하는지를 주로 다루어볼 예정입니다. 객체지향 프로그래밍이 절차지향 프로그래밍과 어떻게 다른지에 대해서는 [여기](https://pjh3749.tistory.com/244) 에서 간단히 확인해 봅시다.\n",
    "\n",
    "![img2](./img/img2.png)"
   ]
  },
  {
   "cell_type": "markdown",
   "metadata": {},
   "source": [
    "## 클래스 기본 문법 (1) 클래스 선언 및 인스턴스화\n",
    "\n",
    "파이썬에서 개발자가 객체를 직접 설계하기 위해서는 `class` 키워드를 이용합니다. 기본 클래스 문법을 익혀 보겠습니다."
   ]
  },
  {
   "cell_type": "markdown",
   "metadata": {},
   "source": [
    "### 클래스 선언\n",
    "\n",
    "---\n",
    "\n",
    "![img3](./img/img3.png)"
   ]
  },
  {
   "cell_type": "code",
   "execution_count": 12,
   "metadata": {
    "ExecuteTime": {
     "end_time": "2021-01-25T01:16:12.022755Z",
     "start_time": "2021-01-25T01:16:12.017687Z"
    }
   },
   "outputs": [
    {
     "name": "stdout",
     "output_type": "stream",
     "text": [
      "94659477618080\n",
      "94659477618080\n",
      "140237733603792\n",
      "140237733604112\n",
      "<class 'type'>\n",
      "<class '__main__.Car'>\n"
     ]
    }
   ],
   "source": [
    "class Car:\n",
    "    pass\n",
    "\n",
    "class Car():\n",
    "    pass\n",
    "\n",
    "#id(Car)는 여러번 호출해도 같은 값이 얻어집니다. \n",
    "print(id(Car))\n",
    "print(id(Car))\n",
    "\n",
    "#id(Car())는 Car()가 호출될 때마다 다른 값이 얻어집니다. \n",
    "print(id(Car()))\n",
    "print(id(Car()))\n",
    "\n",
    "# 두 객체의 type을 살펴봅니다. \n",
    "print(type(Car))\n",
    "print(type(Car()))"
   ]
  },
  {
   "cell_type": "markdown",
   "metadata": {},
   "source": [
    "이처럼 클래스 선언은 `class` 키워드를 이용합니다. `class` 키워드를 쓰고 클래스 이름을 쓴 다음 :(콜론)을 씁니다. 클래스 이름 다음에 소괄호를 적어 주어도 되지만 보통은 생략합니다.\n",
    "\n",
    "위 코드에서 보면, `Car`라는 클래스에도 자체도 객체이고, `Car()`를 호출할 때마다 새로운 `Car` 타입의 객체가 생성됩니다. 둘다 id가 존재하기 때문입니다. 그러나, id(Car)의 값은 몇번 호출되더라도 동일하지만 `id(Car())`는 호출될 때마다 다른 id값을 가진다는 것도 알 수 있습니다.\n",
    "\n",
    "`Car`라는 클래스는 `type` 유형의 객체입니다. `Car()`가 호출될 때 `Car` 타입의 객체가 생성됩니다."
   ]
  },
  {
   "cell_type": "markdown",
   "metadata": {},
   "source": [
    "### 클래스 사용 - 객체 인스턴스화\n",
    "\n",
    "---\n",
    "\n",
    "클래스를 이용하려면 클래스로 객체를 만들어 주어야 하는데요. 이를 **\"인스턴스화\"**라고 합니다.\n",
    "\n",
    "인스턴스화는 어떻게 할까요? 선언한 클래스 이름에 괄호를 적어 줍니다. 그리고 생성된 인스턴스를 적당한 변수에 할당해서 사용합니다."
   ]
  },
  {
   "cell_type": "code",
   "execution_count": 13,
   "metadata": {
    "ExecuteTime": {
     "end_time": "2021-01-25T01:18:00.523280Z",
     "start_time": "2021-01-25T01:18:00.515551Z"
    }
   },
   "outputs": [
    {
     "name": "stdout",
     "output_type": "stream",
     "text": [
      "140237733603280\n",
      "140237733603216\n"
     ]
    }
   ],
   "source": [
    "mycar = Car()\n",
    "mycar2 = Car()\n",
    "print(id(mycar))\n",
    "print(id(mycar2))"
   ]
  },
  {
   "cell_type": "markdown",
   "metadata": {},
   "source": [
    "클래스명에 괄호를 추가해 객체를 만든 후, `mycar`와 `mycar2`란 변수에 이 객체를 할당했습니다. `mycar` 변수에 `Car` 클래스의 인스턴스를 할당한 것입니다. 종종 \"클래스를 호출(call)했다\"라는 표현을 쓰기도 합니다. 위 코드에서는 인스턴스가 생성될 때마다 객체를 할당받은 변수들에게 다른 id가 부여되는 것을 알 수 있습니다."
   ]
  },
  {
   "cell_type": "markdown",
   "metadata": {},
   "source": [
    "> **표기법**\n",
    "\n",
    "그런데 잠깐만!! 이 인스턴스화 하는 방법, 어디서 많이 본 것 같지 않나요? 네 맞아요.\n",
    "함수를 호출하는 것과 클래스로 객체를 만드는 것은 문법이 너무 비슷합니다. 클래스에서도 상속을 사용할 때는 클래스를 선언시 소괄호를 붙이기도 하고, 초기값을 설정할 때 인스턴스화시 인자를 전달하기도 합니다. 함수와 매우 비슷하죠? 이건 어떻게 구분할까요?\n",
    "\n",
    "파이썬에서는 표기법으로 구분합니다.\n",
    "\n",
    "PEP는 Python Enhancement Proposals의 약자로 파이썬 개선사항을 위한 공식 문서 입니다. 그 중에서도 **PEP8**(https://www.python.org/dev/peps/pep-0008/)은 파이썬 코딩 스타일(변수명, 코드 표기법 등등)을 개정한 문서인데요, 여기에서 다음과 같이 사용할 것을 권고하고 있습니다.\n",
    "\n",
    "**클래스명 표기법: 카멜 케이스**\n",
    "\n",
    "+ 카멜케이스: 각 단어의 앞글자를 대문자로 쓸것.\n",
    "+ 예시: mycar —> MyCar\n",
    "\n",
    "**함수명 표기법: 스네이크 케이스**\n",
    "\n",
    "+ 스네이크케이스: 단어는 소문자로 쓰고 각 단어의 연결은 언더바(_)를 사용할 것\n",
    "+ 예시: mycar —> my_car\n",
    "\n",
    "그리고 추가로 클래스명은 주로 명사로, 함수명은 주로 동사로 명명합니다.\n",
    "(이 부분은 파이썬 코드를 깨끗이 작성하는 \"Clean Code\" 규범과 관련된 내용이니 참고로만 알고 계세요)"
   ]
  },
  {
   "cell_type": "markdown",
   "metadata": {},
   "source": [
    "## 클래스 기본 문법 (2) 클래스 속성과 메소드\n",
    "\n",
    "### 클래스의 속성과 메소드\n",
    "\n",
    "---\n",
    "\n",
    "앞서 클래스는 개발자가 객체를 설계하기 위한 것이라고 했습니다. 그리고 맨 처음에 객체에는 속성과 메소드가 있다고 배웠습니다.\n",
    "그럼 클래스에서 속성과 메소드를 구현할 수 있어야겠죠?\n",
    "\n",
    "+ 클래스의 속성은 상태(state)를 표현합니다. 속성은 변수로 나타냅니다.\n",
    "+ 클래스의 메소드는 동작(behavior)을 표현합니다. 메소드는 def 키워드로 나타냅니다.\n",
    "\n",
    "그럼 이어서 `Car` 클래스를 계속 코딩하도록 하겠습니다.\n",
    "`색상`은 \"red\", `종류`는 \"sports car\"라는 **속성**을 갖고 `주행`과 `가속`이라는 **동작**을 갖는 클래스를 정의해 보겠습니다.\n",
    "\n",
    "먼저 간단하게 손코딩으로 해볼게요.\n",
    "\n",
    "**속성** 은 변수로 선언한다고 했으니 아래와 같이 선언하겠습니다.\n",
    "\n",
    "+ color = 'red'\n",
    "+ category = 'sports car'\n",
    "\n",
    "**동작** 은 다른 말로 메소드이고 메소드는 `def` 키워드를 사용한다고 했습니다. 다음과 같이 선언해 봅시다.\n",
    "\n",
    "```python\n",
    "def driving():\n",
    "    pass\n",
    "\n",
    "def accel():\n",
    "    pass\n",
    "```\n",
    "\n",
    "`Car` 클래스에 우리가 원하는 속성과 동작을 담아보겠습니다."
   ]
  },
  {
   "cell_type": "code",
   "execution_count": 18,
   "metadata": {
    "ExecuteTime": {
     "end_time": "2021-01-25T01:27:52.495746Z",
     "start_time": "2021-01-25T01:27:52.484583Z"
    }
   },
   "outputs": [],
   "source": [
    "class Car:\n",
    "    color = 'red'\n",
    "    category = 'sports car'\n",
    "\n",
    "    def drive(self):\n",
    "        print(\"I'm driving\")\n",
    "\n",
    "    def accel(self, speed_up, current_speed=10):\n",
    "        self.speed_up = speed_up\n",
    "        self.current_speed = current_speed + speed_up\n",
    "        print(\"speed up\", self.speed_up, \"driving at\", self.current_speed)"
   ]
  },
  {
   "cell_type": "markdown",
   "metadata": {},
   "source": [
    "**코드 설명**\n",
    "\n",
    "코드를 다시 보면서 주석과 아래의 설명을 비교해보세요.\n",
    "\n",
    "```python\n",
    "# Car 클래스입니다.\n",
    "class Car:\n",
    "'''\n",
    "속성은 클래스의 상태를 나타냅니다.\n",
    "색상: 빨강\n",
    "종류: 스포츠 카\n",
    "'''\n",
    "    color = 'red'\n",
    "    category = 'sports car'\n",
    "'''\n",
    "동작은 메서드로 나타냅니다.\n",
    "'''\n",
    "    def drive(self):\n",
    "        '''\n",
    "        주행 메서드\n",
    "        '''\n",
    "        print(\"I'm driving\")\n",
    "\n",
    "    def accel(self, speed_up, current_speed=10):\n",
    "        '''\n",
    "        가속 메서드\n",
    "        :param speed_up: 현재속도\n",
    "        :param current_speed: 가속\n",
    "        :type speed_up: string\n",
    "        :type current_speed: string\n",
    "        '''\n",
    "        self.speed_up = speed_up\n",
    "        self.current_speed = current_speed + speed_up\n",
    "        print(\"speed up\", self.speed_up, \"driving at\", self.current_speed)\n",
    "```\n",
    "\n",
    "+ 속성\n",
    "    - 클래스의 상태는 속성이라고 부르며, 변수로 선언합니다.\n",
    "    - `color`에는 'red'를 `category`에는 'sports car'를 할당합니다.\n",
    "\n",
    "+ 메서드\n",
    "    - 동작은 메서드로 나타내고 메서드 선언은 함수와 똑같이 `def` 키워드를 이용합니다.\n",
    "    - 클래스의 메서드는 첫번째 인자는 `self` 값을 적어 주어야 합니다. (self 에 대한 설명은 나중에 하겠습니다)\n",
    "    - 주행은 `drive()` 라는 메서드명으로 정의하고 self외에 인자는 없습니다.\n",
    "    - 가속은 `accel()` 라는 메서드명으로 정의하고 현재 속도와 가속할 값을 인자로 받습니다.\n",
    "        * 현재속도 인자명 = `current_speed`, 가속 인자명 = `speed_up`\n",
    "        * `accel` 메소드에 `self.speed_up`, `self.current_speed` 를 인자로 줍니다.\n",
    "\n",
    "코드 설명 부분중에 익숙지 않은 내용도 있을 겁니다. 일단 속성과 메소드 사용법부터 설명하고 나머지 부분을 추가로 설명하겠습니다."
   ]
  },
  {
   "cell_type": "markdown",
   "metadata": {},
   "source": [
    "### 클래스의 속성과 메소드 사용\n",
    "\n",
    "---\n",
    "\n",
    "**속성**\n",
    "\n",
    "클래스의 속성과 메소드를 사용해 봅시다. 클래스의 속성에 접근하기 위해서는 인스턴스 객체에 .을 쓰고 그 뒤에 속성명을 적습니다."
   ]
  },
  {
   "cell_type": "code",
   "execution_count": 19,
   "metadata": {
    "ExecuteTime": {
     "end_time": "2021-01-25T01:27:55.323036Z",
     "start_time": "2021-01-25T01:27:55.318449Z"
    }
   },
   "outputs": [],
   "source": [
    "mycar = Car()"
   ]
  },
  {
   "cell_type": "code",
   "execution_count": 20,
   "metadata": {
    "ExecuteTime": {
     "end_time": "2021-01-25T01:27:55.498791Z",
     "start_time": "2021-01-25T01:27:55.496419Z"
    }
   },
   "outputs": [
    {
     "name": "stdout",
     "output_type": "stream",
     "text": [
      "red\n"
     ]
    }
   ],
   "source": [
    "print(mycar.color)"
   ]
  },
  {
   "cell_type": "markdown",
   "metadata": {},
   "source": [
    "아래 코드처럼 없는 속성값에 접근하면 에러가 발생합니다."
   ]
  },
  {
   "cell_type": "code",
   "execution_count": 21,
   "metadata": {
    "ExecuteTime": {
     "end_time": "2021-01-25T01:27:56.338953Z",
     "start_time": "2021-01-25T01:27:56.333905Z"
    }
   },
   "outputs": [
    {
     "ename": "AttributeError",
     "evalue": "'Car' object has no attribute 'price'",
     "output_type": "error",
     "traceback": [
      "\u001b[0;31m---------------------------------------------------------------------------\u001b[0m",
      "\u001b[0;31mAttributeError\u001b[0m                            Traceback (most recent call last)",
      "\u001b[0;32m<ipython-input-21-2738dc00bc3e>\u001b[0m in \u001b[0;36m<module>\u001b[0;34m\u001b[0m\n\u001b[0;32m----> 1\u001b[0;31m \u001b[0mmycar\u001b[0m\u001b[0;34m.\u001b[0m\u001b[0mprice\u001b[0m\u001b[0;34m\u001b[0m\u001b[0;34m\u001b[0m\u001b[0m\n\u001b[0m",
      "\u001b[0;31mAttributeError\u001b[0m: 'Car' object has no attribute 'price'"
     ]
    }
   ],
   "source": [
    "# mycar.price"
   ]
  },
  {
   "cell_type": "markdown",
   "metadata": {},
   "source": [
    "**메소드**\n",
    "\n",
    "메소드를 호출하는 방법은 속성 접근과 유사합니다. 인스턴스 객체에 \".\"을 쓰고 그 뒤에 메소드 명을 적어줍니다.\n",
    "메소드는 `def` 키워드로 구현한다고 했습니다. 다시 말하면 클래스의 메소드는 클래스 내에 정의된 함수라고 말할 수 있습니다.\n",
    "따라서, 함수를 호출하는 것과 동일하게 함수 이름을 쓰고 소괄호 \"()\"를 적어 줍니다.\n",
    "\n",
    "**메소드 호출 (feat. 인터프리터에서 벌어지는 일)**\n",
    "\n",
    "눈썰미가 좋은 분들은 메소드를 정의할 때 `self` 라는 인자를 전달해 준 것을 발견하셨을 것입니다.\n",
    "그런데 메소드를 호출할 때는 `self` 인자를 명시적으로 전달해주지 않아도 됩니다."
   ]
  },
  {
   "cell_type": "code",
   "execution_count": 22,
   "metadata": {
    "ExecuteTime": {
     "end_time": "2021-01-25T01:39:35.773192Z",
     "start_time": "2021-01-25T01:39:35.770699Z"
    }
   },
   "outputs": [
    {
     "name": "stdout",
     "output_type": "stream",
     "text": [
      "I'm driving\n"
     ]
    }
   ],
   "source": [
    "mycar.drive()"
   ]
  },
  {
   "cell_type": "code",
   "execution_count": 23,
   "metadata": {
    "ExecuteTime": {
     "end_time": "2021-01-25T01:39:39.066044Z",
     "start_time": "2021-01-25T01:39:39.063154Z"
    }
   },
   "outputs": [
    {
     "name": "stdout",
     "output_type": "stream",
     "text": [
      "speed up 5 driving at 15\n"
     ]
    }
   ],
   "source": [
    "mycar.accel(5)"
   ]
  },
  {
   "cell_type": "markdown",
   "metadata": {},
   "source": [
    "이건 무슨 일일까요? 우리가 작성한 `mycar.dirve()` 코드는 인터프리터 내부에서는 `Car.drive(mycar)`로 동작합니다.\n",
    "`self`라는 단어는 클래스를 인스턴스화 한 인스턴스 객체를 가리킵니다.\n",
    "\n",
    "메소드를 호출할 때, 우리가 명시적으로 인자를 넣지는 않지만 파이썬 내부적으로는 (=파이썬 인터프리터에서는) 인자 한 개를 사용하고 있고, 그 인자는 파이썬 클래스에 의해 선언된 객체 자신(`self`)입니다.\n",
    "\n",
    "즉, 아래 두 코드는 똑같이 동작합니다."
   ]
  },
  {
   "cell_type": "code",
   "execution_count": 24,
   "metadata": {
    "ExecuteTime": {
     "end_time": "2021-01-25T01:40:39.463216Z",
     "start_time": "2021-01-25T01:40:39.460866Z"
    }
   },
   "outputs": [
    {
     "name": "stdout",
     "output_type": "stream",
     "text": [
      "I'm driving\n"
     ]
    }
   ],
   "source": [
    "mycar.drive()"
   ]
  },
  {
   "cell_type": "code",
   "execution_count": 25,
   "metadata": {
    "ExecuteTime": {
     "end_time": "2021-01-25T01:40:42.283161Z",
     "start_time": "2021-01-25T01:40:42.280429Z"
    }
   },
   "outputs": [
    {
     "name": "stdout",
     "output_type": "stream",
     "text": [
      "I'm driving\n"
     ]
    }
   ],
   "source": [
    "Car.drive(mycar)"
   ]
  },
  {
   "cell_type": "markdown",
   "metadata": {},
   "source": [
    "코드 구현을 도식적으로 표현한 그림입니다.\n",
    "\n",
    "![img4](./img/img4.png)\n",
    "\n",
    "이런 구현이 가능하게 하는 것이 바로 `self` 인자입니다.\n",
    "\n",
    "![img5](./img/img5.png)\n",
    "\n",
    "그러나 그 누구도 `Car.drive(mycar)`라고 사용하지 않습니다. **여러분 절대 이렇게 구현하지 마세요!**\n",
    "\n",
    "다른 사람들이 알아보기 힘들고 코드야 어떻게든 동작하겠지만 파이썬 인터프리터가 처리해 주는 일을 너무 어렵게 구현하는 것입니다.\n",
    "\n",
    "참고로, 클래스 메소드를 정의할 때 `self` 인자를 사용하지 않으면 에러가 발생합니다.\n",
    "\n",
    "아래의 run2()메소드 처럼요."
   ]
  },
  {
   "cell_type": "code",
   "execution_count": 26,
   "metadata": {
    "ExecuteTime": {
     "end_time": "2021-01-25T01:42:59.912896Z",
     "start_time": "2021-01-25T01:42:59.906188Z"
    }
   },
   "outputs": [],
   "source": [
    "class Test:\n",
    "    def run1(self):\n",
    "        print(\"run1\")\n",
    "\n",
    "    def run2():\n",
    "        print(\"run2\")\n",
    "\n",
    "t = Test()"
   ]
  },
  {
   "cell_type": "code",
   "execution_count": 27,
   "metadata": {
    "ExecuteTime": {
     "end_time": "2021-01-25T01:43:03.656937Z",
     "start_time": "2021-01-25T01:43:03.653610Z"
    }
   },
   "outputs": [
    {
     "name": "stdout",
     "output_type": "stream",
     "text": [
      "run1\n"
     ]
    }
   ],
   "source": [
    "t.run1()"
   ]
  },
  {
   "cell_type": "code",
   "execution_count": 28,
   "metadata": {
    "ExecuteTime": {
     "end_time": "2021-01-25T01:43:06.985530Z",
     "start_time": "2021-01-25T01:43:06.972816Z"
    }
   },
   "outputs": [
    {
     "ename": "TypeError",
     "evalue": "run2() takes 0 positional arguments but 1 was given",
     "output_type": "error",
     "traceback": [
      "\u001b[0;31m---------------------------------------------------------------------------\u001b[0m",
      "\u001b[0;31mTypeError\u001b[0m                                 Traceback (most recent call last)",
      "\u001b[0;32m<ipython-input-28-3299b0fcd368>\u001b[0m in \u001b[0;36m<module>\u001b[0;34m\u001b[0m\n\u001b[0;32m----> 1\u001b[0;31m \u001b[0mt\u001b[0m\u001b[0;34m.\u001b[0m\u001b[0mrun2\u001b[0m\u001b[0;34m(\u001b[0m\u001b[0;34m)\u001b[0m\u001b[0;34m\u001b[0m\u001b[0;34m\u001b[0m\u001b[0m\n\u001b[0m",
      "\u001b[0;31mTypeError\u001b[0m: run2() takes 0 positional arguments but 1 was given"
     ]
    }
   ],
   "source": [
    "# t.run2()"
   ]
  },
  {
   "cell_type": "markdown",
   "metadata": {},
   "source": [
    "**접두사 self.**\n",
    "\n",
    "같은 이유로 인스턴스의 속성으로 사용하고 싶은 변수는 `self.`을 써줍니다. `self` 인자를 통해 선언된 객체의 값이란 의미입니다.\n",
    "\n",
    "객체 안에서 `self`를 사용하면 인스턴스 객체의 고유한 속성을 나타낼 수 있습니다. 클래스가 아닌 `self`, 즉 인스턴스화 된 객체 자신의 속성이라는 뜻입니다.\n",
    "참고로 클래스의 메소드 내부에서 `self.` 접두사가 없이 일반 변수와 같게 선언된 변수는 메소드 내부에서만 사용되므로, `self.`를 사용해 참조할 수 없습니다.\n",
    "아래의 두 메소드를 비교해 보세요."
   ]
  },
  {
   "cell_type": "code",
   "execution_count": 30,
   "metadata": {
    "ExecuteTime": {
     "end_time": "2021-01-25T01:44:14.126535Z",
     "start_time": "2021-01-25T01:44:14.123505Z"
    }
   },
   "outputs": [],
   "source": [
    "class Test2:\n",
    "    def run1(self, a):\n",
    "        self.a = float(a) * 10\n",
    "        print(self.a)\n",
    "\n",
    "    def run2(self, b):\n",
    "        b = float(b) + 10\n",
    "        print(self.b)\n",
    "        \n",
    "t = Test2()"
   ]
  },
  {
   "cell_type": "code",
   "execution_count": 31,
   "metadata": {
    "ExecuteTime": {
     "end_time": "2021-01-25T01:44:14.317970Z",
     "start_time": "2021-01-25T01:44:14.314315Z"
    }
   },
   "outputs": [
    {
     "name": "stdout",
     "output_type": "stream",
     "text": [
      "10.0\n"
     ]
    }
   ],
   "source": [
    "t.run1(1)"
   ]
  },
  {
   "cell_type": "code",
   "execution_count": 32,
   "metadata": {
    "ExecuteTime": {
     "end_time": "2021-01-25T01:44:14.501192Z",
     "start_time": "2021-01-25T01:44:14.492675Z"
    }
   },
   "outputs": [
    {
     "ename": "AttributeError",
     "evalue": "'Test2' object has no attribute 'b'",
     "output_type": "error",
     "traceback": [
      "\u001b[0;31m---------------------------------------------------------------------------\u001b[0m",
      "\u001b[0;31mAttributeError\u001b[0m                            Traceback (most recent call last)",
      "\u001b[0;32m<ipython-input-32-c09fe4c96ef9>\u001b[0m in \u001b[0;36m<module>\u001b[0;34m\u001b[0m\n\u001b[0;32m----> 1\u001b[0;31m \u001b[0mt\u001b[0m\u001b[0;34m.\u001b[0m\u001b[0mrun2\u001b[0m\u001b[0;34m(\u001b[0m\u001b[0;36m1\u001b[0m\u001b[0;34m)\u001b[0m\u001b[0;34m\u001b[0m\u001b[0;34m\u001b[0m\u001b[0m\n\u001b[0m",
      "\u001b[0;32m<ipython-input-30-00e4f65e6067>\u001b[0m in \u001b[0;36mrun2\u001b[0;34m(self, b)\u001b[0m\n\u001b[1;32m      6\u001b[0m     \u001b[0;32mdef\u001b[0m \u001b[0mrun2\u001b[0m\u001b[0;34m(\u001b[0m\u001b[0mself\u001b[0m\u001b[0;34m,\u001b[0m \u001b[0mb\u001b[0m\u001b[0;34m)\u001b[0m\u001b[0;34m:\u001b[0m\u001b[0;34m\u001b[0m\u001b[0;34m\u001b[0m\u001b[0m\n\u001b[1;32m      7\u001b[0m         \u001b[0mb\u001b[0m \u001b[0;34m=\u001b[0m \u001b[0mfloat\u001b[0m\u001b[0;34m(\u001b[0m\u001b[0mb\u001b[0m\u001b[0;34m)\u001b[0m \u001b[0;34m+\u001b[0m \u001b[0;36m10\u001b[0m\u001b[0;34m\u001b[0m\u001b[0;34m\u001b[0m\u001b[0m\n\u001b[0;32m----> 8\u001b[0;31m         \u001b[0mprint\u001b[0m\u001b[0;34m(\u001b[0m\u001b[0mself\u001b[0m\u001b[0;34m.\u001b[0m\u001b[0mb\u001b[0m\u001b[0;34m)\u001b[0m\u001b[0;34m\u001b[0m\u001b[0;34m\u001b[0m\u001b[0m\n\u001b[0m\u001b[1;32m      9\u001b[0m \u001b[0;34m\u001b[0m\u001b[0m\n\u001b[1;32m     10\u001b[0m \u001b[0mt\u001b[0m \u001b[0;34m=\u001b[0m \u001b[0mTest2\u001b[0m\u001b[0;34m(\u001b[0m\u001b[0;34m)\u001b[0m\u001b[0;34m\u001b[0m\u001b[0;34m\u001b[0m\u001b[0m\n",
      "\u001b[0;31mAttributeError\u001b[0m: 'Test2' object has no attribute 'b'"
     ]
    }
   ],
   "source": [
    "t.run2(1)"
   ]
  },
  {
   "cell_type": "markdown",
   "metadata": {},
   "source": [
    "> self 요약\n",
    ">\n",
    ">self는 초보자에게는 조금 어려운 개념입니다.\n",
    ">\n",
    "> + self는 자기 자신입니다.\n",
    "> + 클래스에 의해 생성된 객체(인스턴스)를 가리킵니다.\n",
    "> + 클래스의 메서드는 인자로 해당 인스턴스(self)를 받아야 합니다.\n",
    "> + 메소드를 호출할 때는 self 인자를 전달하지 않습니다. self의 값은 인터프리터가 제공합니다.\n",
    "> + 인스턴스 변수를 정의할 때에는 접두사 self.을 붙여줍니다."
   ]
  },
  {
   "cell_type": "markdown",
   "metadata": {},
   "source": [
    "## 클래스 기본 문법 (3) 생성자\n",
    "\n",
    "### 생성자 `__init__`\n",
    "\n",
    "---\n",
    "\n",
    "클래스에 의해 만든 인스턴스 객체의 속성값을 사용자는 어떻게 초기화할 수 있을까요? Car 클래스를 만들 때부터 색깔과 카테고리를 지정해 주고 싶다면 어떻게 그 값을 전달해 줄 수 있을까요? `__init__` 을 사용해서 만들 수 있습니다. 아래 캡쳐본은 파이썬 공식문서에서 설명하고 있는 `__init__`의 문법입니다.\n",
    "\n",
    "![img6](./img/img6.png)\n",
    "\n",
    "+ [파이썬 문서-클래스](https://docs.python.org/3.8/tutorial/classes.html)\n",
    "\n",
    "문법 내용이 많진 않죠? 우리가 아까 설계한 Car 클래스로 연습해 보겠습니다."
   ]
  },
  {
   "cell_type": "code",
   "execution_count": 33,
   "metadata": {
    "ExecuteTime": {
     "end_time": "2021-01-25T01:47:39.824244Z",
     "start_time": "2021-01-25T01:47:39.815461Z"
    }
   },
   "outputs": [],
   "source": [
    "class Car:\n",
    "    color = 'red'\n",
    "    category = 'sports car'\n",
    "\n",
    "    def drive(self):\n",
    "        print(\"I'm driving\")\n",
    "\n",
    "    def accel(self, speed_up, current_speed=10):\n",
    "        self.speed_up = speed_up\n",
    "        self.current_speed = current_speed + self.speed_up\n",
    "        print(\"speed up\", self.speed_up, \"driving at\", self.current_speed)"
   ]
  },
  {
   "cell_type": "markdown",
   "metadata": {},
   "source": [
    "아래는 `Car` 클래스 인스턴스의 `color`와 `category`를 초기화하도록 변경한 코드입니다."
   ]
  },
  {
   "cell_type": "code",
   "execution_count": 34,
   "metadata": {
    "ExecuteTime": {
     "end_time": "2021-01-25T01:48:08.561076Z",
     "start_time": "2021-01-25T01:48:08.557900Z"
    }
   },
   "outputs": [],
   "source": [
    "class Car2:\n",
    "    def __init__(self, color, category):\n",
    "        self.color = color\n",
    "        self.category = category\n",
    "\n",
    "    def drive(self):\n",
    "        print(\"I'm driving\")\n",
    "\n",
    "    def accel(self, speed_up, current_speed=10):\n",
    "        self.speed_up = speed_up\n",
    "        self.current_speed = current_speed + self.speed_up\n",
    "        print(\"speed up\", self.speed_up, \"driving at\", self.current_speed)"
   ]
  },
  {
   "cell_type": "markdown",
   "metadata": {},
   "source": [
    "**코드설명**\n",
    "\n",
    "+ `__init__ `메소드안에 인자를 전달함로써 인스턴스 객체의 속성을 초기화할 수 있습니다 .\n",
    "+ 즉, `__init__` 메소드안에 정의된 속성(변수) `color`와 `category`는 클래스를 인스턴스화 할 때 값을 설정할 수 있습니다.\n",
    "+ 이를 인스턴스 객체의 초기화(initializing instance) 라고 히고, `__init__`함수는 생성자(constructor)라고 합니다.\n",
    "+ `__init__` 역시 `def` 키워드로 정의합니다. 즉, 클래스안의 메소드이므로 `self` 문법 잊지 마세요!\n",
    "\n",
    "실제로 동작시켜 보겠습니다.\n",
    "\n"
   ]
  },
  {
   "cell_type": "code",
   "execution_count": 35,
   "metadata": {
    "ExecuteTime": {
     "end_time": "2021-01-25T01:49:39.194747Z",
     "start_time": "2021-01-25T01:49:39.192459Z"
    }
   },
   "outputs": [],
   "source": [
    "#인스턴스 객체 선언\n",
    "car1 = Car()\n",
    "car2 = Car2('yellow', 'sedan')"
   ]
  },
  {
   "cell_type": "markdown",
   "metadata": {},
   "source": [
    "`Car2` 클래스를 인스턴스 객체로 만든 `car2` 와 같이 인스턴스 객체를 선언할 때 인자를 전달해 주는 형식으로 객체를 초기화 시킬 수 있습니다."
   ]
  },
  {
   "cell_type": "code",
   "execution_count": 36,
   "metadata": {
    "ExecuteTime": {
     "end_time": "2021-01-25T01:50:08.141063Z",
     "start_time": "2021-01-25T01:50:08.132686Z"
    }
   },
   "outputs": [
    {
     "data": {
      "text/plain": [
       "'red'"
      ]
     },
     "execution_count": 36,
     "metadata": {},
     "output_type": "execute_result"
    }
   ],
   "source": [
    "car1.color"
   ]
  },
  {
   "cell_type": "code",
   "execution_count": 37,
   "metadata": {
    "ExecuteTime": {
     "end_time": "2021-01-25T01:50:10.851664Z",
     "start_time": "2021-01-25T01:50:10.848612Z"
    }
   },
   "outputs": [
    {
     "data": {
      "text/plain": [
       "'yellow'"
      ]
     },
     "execution_count": 37,
     "metadata": {},
     "output_type": "execute_result"
    }
   ],
   "source": [
    "car2.color"
   ]
  },
  {
   "cell_type": "code",
   "execution_count": 38,
   "metadata": {
    "ExecuteTime": {
     "end_time": "2021-01-25T01:50:16.565563Z",
     "start_time": "2021-01-25T01:50:16.557495Z"
    }
   },
   "outputs": [
    {
     "data": {
      "text/plain": [
       "'sports car'"
      ]
     },
     "execution_count": 38,
     "metadata": {},
     "output_type": "execute_result"
    }
   ],
   "source": [
    "car1.category"
   ]
  },
  {
   "cell_type": "code",
   "execution_count": 39,
   "metadata": {
    "ExecuteTime": {
     "end_time": "2021-01-25T01:50:26.335898Z",
     "start_time": "2021-01-25T01:50:26.332810Z"
    }
   },
   "outputs": [
    {
     "data": {
      "text/plain": [
       "'sedan'"
      ]
     },
     "execution_count": 39,
     "metadata": {},
     "output_type": "execute_result"
    }
   ],
   "source": [
    "car2.category"
   ]
  },
  {
   "cell_type": "markdown",
   "metadata": {},
   "source": [
    "일반 함수와 문법은 비슷합니다. 아래처럼 키워드 인자를 지정할 수도 있습니다.\n",
    "\n",
    "+ 참고: [30.2 키워드 인수 사용하기 - 파이썬 코딩 도장](https://dojang.io/mod/page/view.php?id=2346)"
   ]
  },
  {
   "cell_type": "code",
   "execution_count": 40,
   "metadata": {
    "ExecuteTime": {
     "end_time": "2021-01-25T01:51:11.932299Z",
     "start_time": "2021-01-25T01:51:11.925667Z"
    }
   },
   "outputs": [],
   "source": [
    "class Car2:\n",
    "    def __init__(self, color='red', category='sprots car'):\n",
    "        self.color = color\n",
    "        self.category = category"
   ]
  },
  {
   "cell_type": "markdown",
   "metadata": {},
   "source": [
    "> **생성자 요약**\n",
    "\n",
    "+ `__init__`이라고 쓰고, \"던더(Double Under) 이닛\"이라고 발음합니다.\n",
    "+ 다른 객체 지향 언어를 알고있는 독자라면 생성자라는 말을 들으면 객체 인스턴스화와 초기화 2가지 작업을 생각할 수 있습니다.\n",
    "+ 그러나 파이썬의 생성자는 초기화만 수행 합니다. 그럼 객체 인스턴스화는 누가 할까요? 기억 나시나요? 네, 바로 클래스 사용시 변수 할당을 통해 이루어집니다.\n",
    "+ 그리고 이 `__init__`처럼 앞뒤에 언더바(\\_)가 두개씩 있는 메소드를 `매직 메소드` 라고 합니다.\n",
    "+ 매직 메서드에 대해 더 알아보고 싶은 분은 여기 링크를 참고해 보세요. https://rszalski.github.io/magicmethods/"
   ]
  },
  {
   "cell_type": "markdown",
   "metadata": {},
   "source": [
    "## 클래스 기본 문법 (4) 클래스 변수와 인스턴스 변수\n",
    "\n",
    "이번에는 클래스 내 변수를 선언하는 방법을 설명하도록 하겠습니다. 클래스에서 변수를 선언하는 방법은 2가지가 있었습니다. 하나는 보통 변수와 동일하게 변수명을 쓰고 값을 할당하는 방법, 두 번째는 `__init__` 메소드 안에 `self.`와 함께 설정하는 방법입니다.\n",
    "\n",
    "아래 코드를 예로 들면 `Manufacture` 같은 변수가 있을 수 있고, `color` 와 같은 변수가 있을 수 있습니다."
   ]
  },
  {
   "cell_type": "code",
   "execution_count": 42,
   "metadata": {
    "ExecuteTime": {
     "end_time": "2021-01-25T02:01:23.626354Z",
     "start_time": "2021-01-25T02:01:23.623942Z"
    }
   },
   "outputs": [],
   "source": [
    "class Car:\n",
    "    Manufacture = \"India\"\n",
    "\n",
    "    def __init__(self, color, category='sedan'):\n",
    "        self.color = color\n",
    "        self.category = category"
   ]
  },
  {
   "cell_type": "markdown",
   "metadata": {},
   "source": [
    "`Manufacture` 같은 변수를 클래스 변수라고 합니다. `color`와 같은 변수를 인스턴스 변수라고 합니다.\n",
    "\n",
    "2개의 변수는 무엇이 다를까요?"
   ]
  },
  {
   "cell_type": "code",
   "execution_count": 43,
   "metadata": {
    "ExecuteTime": {
     "end_time": "2021-01-25T02:01:25.018735Z",
     "start_time": "2021-01-25T02:01:25.014667Z"
    }
   },
   "outputs": [
    {
     "name": "stdout",
     "output_type": "stream",
     "text": [
      "India red sports car\n",
      "India white sedan\n"
     ]
    }
   ],
   "source": [
    "car1 = Car('red','sports car')\n",
    "car2 = Car('white')\n",
    "print(car1.Manufacture, car1.color, car1.category)\n",
    "print(car2.Manufacture, car2.color, car2.category)"
   ]
  },
  {
   "cell_type": "markdown",
   "metadata": {},
   "source": [
    "**클래스 변수**\n",
    "\n",
    "+ 클래스에 바로 선언된 속성을 클래스 변수라고 하며 클래스에 의해 생성된 **모든 객체에서 같은 값을 조회**할 때 가능합니다.\n",
    "+` Manufacture`는 클래스 변수에요.\n",
    "+ `Manufacture` 속성은 car1과 car2가 공유합니다.\n",
    "\n",
    "**인스턴스 변수**\n",
    "\n",
    "+ `__init__()` 안에서 `self`를 사용해 선언된 변수를 인스턴스 변수라고 합니다. 객체가 인스턴스화 될 때마다 새로운 값이 할당되며 서로 다른 객체 간에는 값을 공유할 수 없습니다.\n",
    "+ `color`와 `category`는 인스턴스 변수에요.\n",
    "+ `color`와 `category` 속성은 `car1`과 `car2`가 공유하지 않습니다.\n",
    "\n",
    "`Car` 클래스에 만들어진 `car` 객체의 제조사는 항상 같은 곳인데 색상과 종류가 각각 다를 수 있다면, 제조사는 클래스 변수로 선언하고 색상과 종류 속성은 인스턴스 변수로 선언하여 초기화가 가능하게 구현합니다.\n",
    "\n",
    "즉! 객체 단위로 변경되는 변수는 인스턴스 변수로 선언하세욧!!!"
   ]
  },
  {
   "cell_type": "markdown",
   "metadata": {},
   "source": [
    "## 객체 지향 프로그래밍을 하는 이유\n",
    "\n",
    "우리는 객체 지향 프로그래밍을 하기 위해 객체와 변수의 의미를 알아보고 파이썬 클래스 문법을 통해 객체를 설계할 수 있다는 것을 학습했습니다.\n",
    "\n",
    "*그런데 말입니다*\n",
    "\n",
    "객체와 객체지향 프로그래밍을 왜 사용할까요? 그 이유를 전문 용어로 설명하면 **추상화**와 **캡슐화**를 위함입니다. 위키피디아에서 위 두 단어를 검색해 보세요.\n",
    "\n",
    "+ [위키피디아-추상화(과학)](https://ko.wikipedia.org/wiki/%EC%B6%94%EC%83%81%ED%99%94_(%EC%BB%B4%ED%93%A8%ED%84%B0_%EA%B3%BC%ED%95%99))\n",
    "+ [위키피디아-캡슐화](https://ko.wikipedia.org/wiki/%EC%BA%A1%EC%8A%90%ED%99%94)\n"
   ]
  },
  {
   "cell_type": "markdown",
   "metadata": {},
   "source": [
    "추상화, 캡슐화의 예시를 들어 보겠습니다. 아래 그림에서 `Car` 클래스는 자동차의 여러 기능 중 운전하기(drive), 가속하기(accel) 기능을 제공합니다. 각 기능은 추상화하여 함수로 제공하기 때문에 자동차 클래스를 만들어 사용하는 사람은 세부 구현에 대해서는 알지 못해도 필요한 함수를 호출하는 것만으로 손쉽게 해당 기능을 사용할 수 있습니다. 또한 각 기능을 `Car` 클래스로 캡슐화하여 제공하므로 자동차 클래스가 필요한 사람은 언제나 `Car` 클래스라는 캡슐을 쉽게 가져다 쓸 수 있습니다.\n",
    "\n",
    "![img7](./img/img7.png)"
   ]
  },
  {
   "cell_type": "markdown",
   "metadata": {},
   "source": [
    "## 클래스, 조금 더 알아보기 - 상속\n",
    "\n",
    "이제 조금 클래스에 대해 감이 오셨나요? 아직 클래스에 대해 다 알기에는 많이 부족합니다 ㅎㅎㅎ 클래스가 왜 강력한지 클래스만의 독특한 기능을 하나만 더 알아보겠습니다.\n",
    "\n",
    "### 상속\n",
    "\n",
    "---\n",
    "\n",
    "기존의 클래스와 거의 같은 클래스인데, 메소드 기능 몇 개만 추가하고 싶으면 어떻게 하면 될까요? 예를 들어 우리는 앞서 `Car` 라는 클래스를 선언했습니다.\n",
    "\n"
   ]
  },
  {
   "cell_type": "code",
   "execution_count": 44,
   "metadata": {
    "ExecuteTime": {
     "end_time": "2021-01-25T02:12:38.071357Z",
     "start_time": "2021-01-25T02:12:38.067071Z"
    }
   },
   "outputs": [],
   "source": [
    "class Car:\n",
    "    Manufacture = \"India\"\n",
    "\n",
    "    def __init__(self, color='red', category='sedan'):\n",
    "        self.color = color\n",
    "        self.category = category\n",
    "\n",
    "    def drive(self):\n",
    "        print(\"I'm driving\")\n",
    "\n",
    "    def accel(self, speed_up, current_speed=10):\n",
    "        self.speed_up = speed_up\n",
    "        self.current_speed = current_speed + self.speed_up\n",
    "        print(\"speed up\", self.speed_up, \"driving at\", self.current_speed)"
   ]
  },
  {
   "cell_type": "markdown",
   "metadata": {},
   "source": [
    "여기에 `Car` 클래스의 기능은 유지한 채 `maker` 속성만 추가된 새로운 클래스 `NewCar`를 선언하고 싶다면, 클래스의 상속 기능을 이용하면 됩니다.\n",
    "\n",
    "상속은 소괄호 안에 상속받을 클래스 이름을 적어주면 돼요."
   ]
  },
  {
   "cell_type": "code",
   "execution_count": 45,
   "metadata": {
    "ExecuteTime": {
     "end_time": "2021-01-25T02:12:38.460436Z",
     "start_time": "2021-01-25T02:12:38.456917Z"
    }
   },
   "outputs": [
    {
     "name": "stdout",
     "output_type": "stream",
     "text": [
      "I'm driving\n",
      "speed up 10 driving at 20\n"
     ]
    }
   ],
   "source": [
    "class NewCar(Car):\n",
    "    pass\n",
    "\n",
    "car = NewCar()\n",
    "car.drive()\n",
    "car.accel(10)"
   ]
  },
  {
   "cell_type": "markdown",
   "metadata": {},
   "source": [
    "`NewCar`에는 아무런 기능도 코딩하지 않았는데 `Car`의 기능을 그대로 사용할 수 있네요.\n",
    "\n",
    "![img8](./img/img8.png)\n",
    "\n",
    "현실세계와 동일한 개념입니다. 이런 걸 상속이라고 합니다.\n",
    "\n",
    "`Car` 클래스와 비슷한 기능과 속성을 유지한 채 `maker` 속성만 추가해 조금 다른 클래스를 만들고 싶다면, `Car` 클래스를 상속받은 뒤 `maker` 속성만 추가해주면 됩니다."
   ]
  },
  {
   "cell_type": "code",
   "execution_count": 46,
   "metadata": {
    "ExecuteTime": {
     "end_time": "2021-01-25T02:14:12.829432Z",
     "start_time": "2021-01-25T02:14:12.826258Z"
    }
   },
   "outputs": [
    {
     "data": {
      "text/plain": [
       "'Porsche'"
      ]
     },
     "execution_count": 46,
     "metadata": {},
     "output_type": "execute_result"
    }
   ],
   "source": [
    "class NewCar(Car):\n",
    "    maker = 'Porsche'\n",
    "\n",
    "car = NewCar()\n",
    "car.maker"
   ]
  },
  {
   "cell_type": "markdown",
   "metadata": {},
   "source": [
    "> 자식 클래스, 부모 클래스\n",
    ">\n",
    "> + 상속 받은 클래스를 \"자식 클래스\", \"서브 클래스(sub class)\", \"파생된 클래스(derived class)\"라고 합니다.\n",
    "> + 기존 클래스를 \"부모 클래스\", \"슈퍼 클래스(super class)\", \"베이스 클래스(base class)\" 라고 합니다."
   ]
  },
  {
   "cell_type": "markdown",
   "metadata": {},
   "source": [
    "### 상속 사용하기\n",
    "\n",
    "---\n",
    "\n",
    "+ 메소드 추가하기(add)\n",
    "+ 메소드 재정의하기(override)\n",
    "+ 부모 메소드 호출하기(super())\n",
    "\n",
    "**메소드 추가하기**\n",
    "\n",
    "자식 클래스에 새로운 메소드를 추가 할 수 있습니다. 아래와 같이 정의하면 기존 `Car` 클래스의 메소드들과 함께 새로운 메소드 `fly()` 도 사용할 수 있습니다."
   ]
  },
  {
   "cell_type": "code",
   "execution_count": null,
   "metadata": {},
   "outputs": [],
   "source": [
    "class NewCar(Car):\n",
    "    def fly(self):\n",
    "        print(\"I'm flying!! This is the new car!!\")"
   ]
  },
  {
   "cell_type": "markdown",
   "metadata": {},
   "source": [
    "**메소드 오버라이드**\n",
    "\n",
    "자식 클래스의 `drive()` 메소드에 \"I'm driving and can fly\"라는 문구가 출력되는 메소드를 정의한다고 해 볼게요. 이렇게 기존에 있는 메소드를 변경하는 것을 **메소드 오버라이드(재정의, override)** 라고 합니다."
   ]
  },
  {
   "cell_type": "code",
   "execution_count": 47,
   "metadata": {
    "ExecuteTime": {
     "end_time": "2021-01-25T02:16:09.475367Z",
     "start_time": "2021-01-25T02:16:09.470770Z"
    }
   },
   "outputs": [],
   "source": [
    "class NewCar(Car):\n",
    "    def fly(self):\n",
    "        print(\"I'm flying!! This is the new car!!\")\n",
    "\n",
    "    def drive(self):\n",
    "        print(\"I'm driving and can fly\")"
   ]
  },
  {
   "cell_type": "markdown",
   "metadata": {},
   "source": [
    "+ fly() : 메소드 추가\n",
    "+ drive() : 메소드 재정의\n",
    "\n",
    "메소드 추가와 재정의의 차이가 느껴지시나요? 다음 퀴즈에 답해보세요."
   ]
  },
  {
   "cell_type": "markdown",
   "metadata": {},
   "source": [
    "**부모 메소드 호출하기 super()**\n",
    "\n",
    "부모 메소드 호출은 `super()` 라는 함수를 이용합니다. `super()`는 파이썬 내장함수입니다. 자식 클래스에서 부모 클래스의 메소드를 호출하고 싶을 때 사용합니다.\n",
    "\n",
    "+ [Built-in Functions (super()) - Python 3.8.2 documentation](https://docs.python.org/3/library/functions.html#super)\n",
    "\n",
    "`super()` 함수 문법\n",
    "\n",
    "아래 코드는 공식문서에서 발췌한 예제 코드입니다. 클래스 C는 클래스 B를 상속 받았고, `method()`를 다시 재정의하고 `super()` 함수를 사용합니다.\n",
    "\n",
    "![img9](./img/img9.png)\n",
    "\n",
    "즉, super() 함수는 다음과 같이 사용합니다.\n",
    "\n",
    "```python\n",
    "def (부모클래스의)메소드이름():\n",
    "    super().메소드이름()\n",
    "```\n",
    "\n",
    "근데 조금 이상하네요. 자식 클래스는 부모 클래스의 메소드를 그대로 이어 받을 수 있었습니다. 그리고 기능을 추가하고 싶다면 메소드 오버라이드라는 기능을 사용하면 되는데요. 왜 굳이 또 메소드를 호출해야 할까요? `super()`는 어떤 경우에 필요할까요? 예제를 통해 `super()`를 어떻게 사용하면 좋을지 알아보겠습니다.\n",
    "\n",
    "위에서 말한 것처럼, Car 클래스를 상속받은 NewCar 클래스의 초기화 함수(생성자) `__init__()` 메소드에 `color`, `category`속성은 동일하게 유지한 채 `maker` 속성을 추가한 `NewCar` 클래스를 만들어 봅시다.\n",
    "\n",
    "그럴 때, `super()` 를 사용합니다. 아래 코드를 보시죠."
   ]
  },
  {
   "cell_type": "code",
   "execution_count": 48,
   "metadata": {
    "ExecuteTime": {
     "end_time": "2021-01-25T02:36:24.951576Z",
     "start_time": "2021-01-25T02:36:24.947769Z"
    }
   },
   "outputs": [],
   "source": [
    "class NewCar(Car):\n",
    "    def __init__(self, color, category, maker):\n",
    "        super().__init__(color, category)\n",
    "        self.maker = maker\n",
    "\n",
    "    def fly(self):\n",
    "        print(\"I'm flying!! This is the new car!!\")\n",
    "\n",
    "    def accel(self, speed_up, level=1, current_speed=10):\n",
    "        self.boost[level] = {1 : 0, 2 : 30, 3 : 50}\n",
    "        self.speed_up = speed_up + self.boost[level]\n",
    "        self.current_speed = current_speed + self.speed_up\n",
    "        print(\"speed up\", self.speed_up, \"driving at\", self.current_speed)"
   ]
  },
  {
   "cell_type": "markdown",
   "metadata": {},
   "source": [
    "음.. 그런데 왜 이렇게 정의하지 않았을까요?\n",
    "\n",
    "```python\n",
    "class NewCar(Car):\n",
    "    def __init__(self, color, category, maker):\n",
    "        self.color = color\n",
    "        self.category = category\n",
    "        self.maker = maker\n",
    "```\n",
    "\n",
    "지금은 부모 클래스에서 `color`를 이름으로 받지만 color를 RGB 값으로 받도록 바꾸고 싶다고 합시다. 자동차 클래스를 상속받은 모든 클래스에서 `color`는 RGB 값으로 받게 하고 싶습니다. 만약 메소드를 오버라이드 했다면 상속받은 클래스 하나하나의 초기화 코드를 변경해 주어야 할 겁니다. 이렇게 `super()` 를 사용해 변수를 초기화하면 부모 클래스만 변경하면 되겠죠?\n",
    "\n",
    "즉, 부모 클래스의 변경사항이 그대로 자식 클래스에 반영됩니다.\n",
    "\n"
   ]
  },
  {
   "cell_type": "code",
   "execution_count": 49,
   "metadata": {
    "ExecuteTime": {
     "end_time": "2021-01-25T02:37:48.819140Z",
     "start_time": "2021-01-25T02:37:48.815381Z"
    }
   },
   "outputs": [
    {
     "name": "stdout",
     "output_type": "stream",
     "text": [
      "2020Y sports car\n"
     ]
    }
   ],
   "source": [
    "class Car:\n",
    "    Manufacture = \"India\"\n",
    "\n",
    "    def __init__(self, color='red', category='sedan'):\n",
    "        self.color = color \n",
    "        self.category = '2020Y '+ category\n",
    "\n",
    "\n",
    "class NewCar(Car):\n",
    "    def __init__(self, color, category, maker):\n",
    "        super().__init__(color, category)\n",
    "        self.maker = maker\n",
    "\n",
    "newcar = NewCar('red','sports car', 'Kia')\n",
    "print(newcar.category)"
   ]
  },
  {
   "cell_type": "markdown",
   "metadata": {},
   "source": [
    "현실에서 상속을 받으면 재산세도 내야하고 형제가 있으면 유산을 나눠 가지기도 하고 그렇죠? 클래스의 세계에선 어떤가요? 부모가 재산을 물려주기 보다는 자식이 부모 재산을 가져다 쓰는 느낌이죠? 맞아요. 상속은 기존에 있는 코드를 재사용(상속)하기 위한 기능입니다."
   ]
  },
  {
   "cell_type": "markdown",
   "metadata": {},
   "source": [
    "### 전체 요약\n",
    "\n",
    "---\n",
    "\n",
    "내용이 조금 많을 수 있습니다. 지금까지 배운 클래스 문법을 정리해 보겠습니다.\n",
    "\n",
    "1. 클래스 선언\n",
    "\n",
    "\n",
    "2. 클래스 사용\n",
    "    + \"객체의 인스턴스\"\n",
    "\n",
    "\n",
    "3. 클래스는 동작과 상태를 갖는다.\n",
    "    + 상태(State): 속성(Attribute)로 표현, 일명 변수\n",
    "    + 동작(Behavior): Methode로 표현, 일명 함수\n",
    "    + 객체는 동작은 공유하지만 상태는 공유하지 않는다.\n",
    "\n",
    "\n",
    "4. 생성자 `__init__`\n",
    "\n",
    "\n",
    "5. 클래스 변수와 인스턴스 변수\n",
    "    + 클래스에 선언된 속성은 클래스 변수라고 하며 이 클래스에 의해 생성된 모든 객체에 대해 같은 속성(값)을 갖는다.\n",
    "    + 객체가 인스턴스화 될 때마다 새로운 값이 할당되며 서로 다른 객체 간에는 속성(값)을 공유할 수 없다.\n",
    "\n",
    "\n",
    "6. 상속\n",
    "    + 메소드 추가, 메소드 오버라이드, 부모메소드 호출하기"
   ]
  },
  {
   "cell_type": "markdown",
   "metadata": {},
   "source": [
    "## n면체 주사위 만들기 (1) 기획\n",
    "\n",
    "우리는 주사위 게임을 만들어 볼 겁니다.\n",
    "\n",
    "일반적인 주사위는 1~6까지 눈이 있는 정육면체죠. 그치만 주사위가 꼭 6개면만 가질 필요는 없겠죠? 사용자가 원하면 주사위 숫자 수는 달라질 수 있을 거에요.\n",
    "\n",
    "우리는 이런 n면체 주사위를 파이썬 클래스를 이용해 프로그래밍 해보겠습니다. 이하 스텝들에서 제시되는 과정을 따라 여러분들도 각자의 jupyter notebook을 열어서 스스로 자기만의 클래스를 구현해 보기를 권합니다.\n",
    "\n",
    "![img10](./img/img10.png)"
   ]
  },
  {
   "cell_type": "markdown",
   "metadata": {},
   "source": [
    "### 기획\n",
    "\n",
    "---\n",
    "\n",
    "나만의 n면체 주사위의 기능은 다음과 같습니다.\n",
    "\n",
    "**기능**\n",
    "\n",
    "+ 주사위의 면의 개수 n을 입력할 수 있다.\n",
    "+ 주사위를 던지면 1~n 눈의 수 중에서 랜덤으로 값을 출력한다.\n",
    "\n",
    "---\n",
    "\n",
    "+ 나만의 n면체 주사위 클래스 이름은 \n",
    "FunnyDice\n",
    " 라고 한다. (Dice는 주사위라는 뜻이에요)\n",
    "\n",
    "+ 주사위 면의 개수 n을 인스턴스 변수로 선언해 주사위 면의 개수 n을 입력할 수 있게 한다.\n",
    "\n",
    "+ throw\n",
    "란 메소드로 던져서 1 ~ n 중 하나의 값이 나오게 한다.\n",
    "\n",
    "+ 주사위의 값을 특정한 값으로 세팅하기 : \n",
    "setval\n",
    "이란 기능을 통해 특정 값을 user가 선택할 수 있는 치팅 기능을 넣어도 재밌을 것 같다.\n",
    "\n",
    "+ 현재 주사위 값 얻기 : 주사위를 던졌든, 주사위 값을 세팅했던지 주사위의 값을 user한테 알려줘야 한다. \n",
    "getval\n",
    "이란 기능을 추가해서 user가 현재 주사위의 값을 읽을 수 있게 해준다."
   ]
  },
  {
   "cell_type": "markdown",
   "metadata": {},
   "source": [
    "> 참고자료\n",
    "\n",
    "+ [Everything is an Object](https://linux.die.net/diveintopython/html/getting_to_know_python/everything_is_an_object.html)\n",
    "+ [파이썬 공식 문서: id() 함수](https://docs.python.org/3/library/functions.html#id)\n",
    "+ [파이썬 공식 문서: copy() 모듈](https://docs.python.org/3/library/copy.html)\n",
    "+ [객체 지향이란 무엇인가](https://pjh3749.tistory.com/244)\n",
    "+ [파이썬 문서-클래스](https://docs.python.org/3.8/tutorial/classes.html)\n",
    "+ [30.2 키워드 인수 사용하기 - 파이썬 코딩 도장](https://dojang.io/mod/page/view.php?id=2346)\n",
    "+ [위키피디아-추상화(과학)](https://ko.wikipedia.org/wiki/%EC%B6%94%EC%83%81%ED%99%94_(%EC%BB%B4%ED%93%A8%ED%84%B0_%EA%B3%BC%ED%95%99))\n",
    "+ [위키피디아-캡슐화](https://ko.wikipedia.org/wiki/%EC%BA%A1%EC%8A%90%ED%99%94)\n",
    "+ [Built-in Functions (super()) - Python 3.8.2 documentation](https://docs.python.org/3/library/functions.html#super)"
   ]
  }
 ],
 "metadata": {
  "hide_input": false,
  "kernelspec": {
   "display_name": "aiffel",
   "language": "python",
   "name": "aiffel"
  },
  "language_info": {
   "codemirror_mode": {
    "name": "ipython",
    "version": 3
   },
   "file_extension": ".py",
   "mimetype": "text/x-python",
   "name": "python",
   "nbconvert_exporter": "python",
   "pygments_lexer": "ipython3",
   "version": "3.7.9"
  },
  "toc": {
   "base_numbering": 1,
   "nav_menu": {},
   "number_sections": true,
   "sideBar": true,
   "skip_h1_title": true,
   "title_cell": "Table of Contents",
   "title_sidebar": "Contents",
   "toc_cell": true,
   "toc_position": {},
   "toc_section_display": true,
   "toc_window_display": false
  }
 },
 "nbformat": 4,
 "nbformat_minor": 4
}
