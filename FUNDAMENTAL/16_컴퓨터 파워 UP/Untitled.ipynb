{
 "cells": [
  {
   "cell_type": "markdown",
   "metadata": {
    "toc": true
   },
   "source": [
    "<h1>Table of Contents<span class=\"tocSkip\"></span></h1>\n",
    "<div class=\"toc\"><ul class=\"toc-item\"><li><span><a href=\"#멀티태스킹이란?\" data-toc-modified-id=\"멀티태스킹이란?-1\"><span class=\"toc-item-num\">1&nbsp;&nbsp;</span>멀티태스킹이란?</a></span><ul class=\"toc-item\"><li><span><a href=\"#동시성,-병렬성\" data-toc-modified-id=\"동시성,-병렬성-1.1\"><span class=\"toc-item-num\">1.1&nbsp;&nbsp;</span>동시성, 병렬성</a></span></li><li><span><a href=\"#동기-vs-비동기(Synchronous-vs-Asynchronous)\" data-toc-modified-id=\"동기-vs-비동기(Synchronous-vs-Asynchronous)-1.2\"><span class=\"toc-item-num\">1.2&nbsp;&nbsp;</span>동기 vs 비동기(Synchronous vs Asynchronous)</a></span></li><li><span><a href=\"#I/O-Bound-vs-CPU-Bound\" data-toc-modified-id=\"I/O-Bound-vs-CPU-Bound-1.3\"><span class=\"toc-item-num\">1.3&nbsp;&nbsp;</span>I/O Bound vs CPU Bound</a></span></li></ul></li><li><span><a href=\"#프로세스,-쓰레드,-프로파일링\" data-toc-modified-id=\"프로세스,-쓰레드,-프로파일링-2\"><span class=\"toc-item-num\">2&nbsp;&nbsp;</span>프로세스, 쓰레드, 프로파일링</a></span><ul class=\"toc-item\"><li><span><a href=\"#Process(프로세스)\" data-toc-modified-id=\"Process(프로세스)-2.1\"><span class=\"toc-item-num\">2.1&nbsp;&nbsp;</span>Process(프로세스)</a></span></li><li><span><a href=\"#Thread(스레드)\" data-toc-modified-id=\"Thread(스레드)-2.2\"><span class=\"toc-item-num\">2.2&nbsp;&nbsp;</span>Thread(스레드)</a></span></li><li><span><a href=\"#프로파일링(Profiling)\" data-toc-modified-id=\"프로파일링(Profiling)-2.3\"><span class=\"toc-item-num\">2.3&nbsp;&nbsp;</span>프로파일링(Profiling)</a></span></li></ul></li><li><span><a href=\"#Scale-Up-vs-Scale-Out\" data-toc-modified-id=\"Scale-Up-vs-Scale-Out-3\"><span class=\"toc-item-num\">3&nbsp;&nbsp;</span>Scale Up vs Scale Out</a></span></li><li><span><a href=\"#파이썬에서-멀티스레드-사용하기\" data-toc-modified-id=\"파이썬에서-멀티스레드-사용하기-4\"><span class=\"toc-item-num\">4&nbsp;&nbsp;</span>파이썬에서 멀티스레드 사용하기</a></span><ul class=\"toc-item\"><li><span><a href=\"#기본-코드\" data-toc-modified-id=\"기본-코드-4.1\"><span class=\"toc-item-num\">4.1&nbsp;&nbsp;</span>기본 코드</a></span></li><li><span><a href=\"#멀티스레드\" data-toc-modified-id=\"멀티스레드-4.2\"><span class=\"toc-item-num\">4.2&nbsp;&nbsp;</span>멀티스레드</a></span></li><li><span><a href=\"#스레드-생성-확인\" data-toc-modified-id=\"스레드-생성-확인-4.3\"><span class=\"toc-item-num\">4.3&nbsp;&nbsp;</span>스레드 생성 확인</a></span></li><li><span><a href=\"#스레드-생성\" data-toc-modified-id=\"스레드-생성-4.4\"><span class=\"toc-item-num\">4.4&nbsp;&nbsp;</span>스레드 생성</a></span></li></ul></li><li><span><a href=\"#파이썬에서-멀티프로세스-사용하기\" data-toc-modified-id=\"파이썬에서-멀티프로세스-사용하기-5\"><span class=\"toc-item-num\">5&nbsp;&nbsp;</span>파이썬에서 멀티프로세스 사용하기</a></span><ul class=\"toc-item\"><li><span><a href=\"#프로세스-생성\" data-toc-modified-id=\"프로세스-생성-5.1\"><span class=\"toc-item-num\">5.1&nbsp;&nbsp;</span>프로세스 생성</a></span></li><li><span><a href=\"#프로세스-사용\" data-toc-modified-id=\"프로세스-사용-5.2\"><span class=\"toc-item-num\">5.2&nbsp;&nbsp;</span>프로세스 사용</a></span></li></ul></li></ul></div>"
   ]
  },
  {
   "cell_type": "markdown",
   "metadata": {},
   "source": [
    "## 멀티태스킹이란?\n",
    "\n",
    "컴퓨터 자원을 최적화하는 방법, 즉 병렬 컴퓨팅, 분산 컴퓨팅 등의 개념.\n",
    "\n",
    "어떻게 컴퓨팅 파워를 향상시킬 수 있을까? 어떻게 한정된 컴퓨팅 자원을 활용하여 여러 가지 일을 효율적으로 진행할 수 있을까?"
   ]
  },
  {
   "cell_type": "markdown",
   "metadata": {},
   "source": [
    "###  동시성, 병렬성\n",
    "\n",
    "---\n",
    "\n",
    "멀티태스킹의 두 가지 동작 방식.\n",
    "\n",
    "동시성(Concurrency)\n",
    "\n",
    "하나의 프로세서가 여러 가지 task를 동시에 수행하는 개념을 동시성이라고 한다. 실제로 그 프로세서는 특정 순간에는 한 가지 태스크만을 수행하겠지만, 다른 태스크를 수행할 수 있는 시간에는 태스크를 전환해서 효율적으로 여러 개의 태스크를 동시에 수행하는 것처럼 보인다.\n",
    "\n",
    "병렬성(Parallelism)\n",
    "\n",
    "유사한 태스크를 여러 프로세서가 동시에 수행하는 것을 병렬성이라고 한다. 프로세서의 갯수만큼 퍼포먼스가 좋아진다."
   ]
  },
  {
   "cell_type": "markdown",
   "metadata": {},
   "source": [
    "### 동기 vs 비동기(Synchronous vs Asynchronous)\n",
    "\n",
    "---\n",
    "\n",
    "동시성에서 주로 다루게 될 개념. 어떤 일을 바로 하지 못하고 대기해야 하는 일을 일컬을 때 컴퓨터에서는 '바운드(bound)되었다'라는 표현을 많이 쓴다.\n",
    "\n",
    "작동하는 방식에 따라 앞 작업이 종료되기를 무조건 기다렸다가 다음 작업을 수행하는 것은 동기(Synchronized)방식. 기다리는 동안 다른 일을 처리하는 것을 비동기(Asynchronous) 방식.\n",
    "\n",
    "+ 동기(Synchronous) : 어떤 일이 순차적으로 실행됨. 요청과 요청에 대한 응답이 동시에 실행됨(따라서 요청에 지연이 발생하더라도 계속 대기한다.)\n",
    "\n",
    "+ 비동기(Asynchronous) : 어떤 일이 비순차적으로 실행됨. 요청과 요청에 대한 응답이 동시에 실행되지 않음. 특정 코드의 연산이 끝날 때까지 코드의 실행을 멈추지 않고 다음 코드를 먼저 실행하며, 중간에 실행되는 코드는 주로 콜백함수로 연결하기도 한다."
   ]
  },
  {
   "cell_type": "markdown",
   "metadata": {},
   "source": [
    "### I/O Bound vs CPU Bound\n",
    "\n",
    "---\n",
    "\n",
    "컴퓨터가 일을 수행하면서 뭔가 기다릴 때, 즉 속도에 제한이 걸릴 때는 두 가지 경우에 해당된다.\n",
    "\n",
    "+ I/O 바운드 : 입력과 출력에서의 데이터(파일)처리에 시간이 소요될 때.\n",
    "+ CPU 바운드 : 복잡한 수식 계산이나 그래픽 작업과 같은 엄청난 계산이 필요할 때."
   ]
  },
  {
   "cell_type": "markdown",
   "metadata": {},
   "source": [
    "## 프로세스, 쓰레드, 프로파일링"
   ]
  },
  {
   "cell_type": "markdown",
   "metadata": {},
   "source": [
    "### Process(프로세스)\n",
    "\n",
    "---\n",
    "\n",
    "프로그램을 구동하여 프로그램 자체와 프로그램의 상태가 메모리상에서 실행되는 작업 단위를 지칭."
   ]
  },
  {
   "cell_type": "code",
   "execution_count": 1,
   "metadata": {
    "ExecuteTime": {
     "end_time": "2021-02-08T03:11:56.722551Z",
     "start_time": "2021-02-08T03:11:56.716989Z"
    }
   },
   "outputs": [
    {
     "name": "stdout",
     "output_type": "stream",
     "text": [
      "30123\n",
      "1000\n",
      "1000\n",
      "/home/ssac28/aiffel/SSAC X AIFFEL/FUNDAMENTAL/16_컴퓨터 파워 UP\n"
     ]
    }
   ],
   "source": [
    "import os\n",
    "\n",
    "# process ID\n",
    "print(os.getpid())\n",
    "\n",
    "# user ID\n",
    "print(os.getuid())\n",
    "\n",
    "# group ID\n",
    "print(os.getgid())\n",
    "\n",
    "# 현재 작업중인 디렉토리\n",
    "print(os.getcwd())"
   ]
  },
  {
   "cell_type": "markdown",
   "metadata": {},
   "source": [
    "### Thread(스레드)\n",
    "\n",
    "---\n",
    "\n",
    "스레드(thread)는 어떠한 프로그램 내에서, 특히 프로세스 내에서 실행되는 흐름의 단위. 같은 작업을 좀 더 빠르게 처리하기 위해 여러 개의 스레드를 생성하기도 한다."
   ]
  },
  {
   "cell_type": "markdown",
   "metadata": {},
   "source": [
    "### 프로파일링(Profiling)\n",
    "\n",
    "---\n",
    "\n",
    "코드에서 시스템의 어느 부분이 느린지 혹은 어디서 RAM을 많이 사용하고 있는지 확인하고 싶을 때 사용하는 기법. 맥의 활성 상태 보기나 윈도우의 작업 관리자를 통해 현재 실행 중인 프로그램의 상태를 확인하는 작업을 코딩하는 것을 프로파일링이라고 한다."
   ]
  },
  {
   "cell_type": "code",
   "execution_count": 2,
   "metadata": {
    "ExecuteTime": {
     "end_time": "2021-02-08T03:15:24.863011Z",
     "start_time": "2021-02-08T03:15:04.738711Z"
    }
   },
   "outputs": [
    {
     "name": "stdout",
     "output_type": "stream",
     "text": [
      "set               : 1.5512540230120067 [ms]\n",
      "list              : 0.6361959830101114 [ms]\n",
      "tuple             : 0.7393180869985372 [ms]\n",
      "string            : 0.42515056900447235 [ms]\n",
      "set_add           : 4.84569008499966 [ms]\n",
      "list_append       : 3.7542914130026475 [ms]\n",
      "set_comprehension : 4.359444241010351 [ms]\n",
      "list_comprehension: 3.804367575008655 [ms]\n"
     ]
    }
   ],
   "source": [
    "import timeit\n",
    "        \n",
    "def f1():\n",
    "    s = set(range(100))\n",
    "\n",
    "    \n",
    "def f2():\n",
    "    l = list(range(100))\n",
    "\n",
    "    \n",
    "def f3():\n",
    "    t = tuple(range(100))\n",
    "\n",
    "\n",
    "def f4():\n",
    "    s = str(range(100))\n",
    "\n",
    "    \n",
    "def f5():\n",
    "    s = set()\n",
    "    for i in range(100):\n",
    "        s.add(i)\n",
    "\n",
    "def f6():\n",
    "    l = []\n",
    "    for i in range(100):\n",
    "        l.append(i)\n",
    "    \n",
    "def f7():\n",
    "    s_comp = {i for i in range(100)}\n",
    "\n",
    "    \n",
    "def f8():\n",
    "    l_comp = [i for i in range(100)]\n",
    "    \n",
    "\n",
    "if __name__ == \"__main__\":\n",
    "    t1 = timeit.Timer(\"f1()\", \"from __main__ import f1\")\n",
    "    t2 = timeit.Timer(\"f2()\", \"from __main__ import f2\")\n",
    "    t3 = timeit.Timer(\"f3()\", \"from __main__ import f3\")\n",
    "    t4 = timeit.Timer(\"f4()\", \"from __main__ import f4\")\n",
    "    t5 = timeit.Timer(\"f5()\", \"from __main__ import f5\")\n",
    "    t6 = timeit.Timer(\"f6()\", \"from __main__ import f6\")\n",
    "    t7 = timeit.Timer(\"f7()\", \"from __main__ import f7\")\n",
    "    t8 = timeit.Timer(\"f8()\", \"from __main__ import f8\")\n",
    "    print(\"set               :\", t1.timeit(), '[ms]')\n",
    "    print(\"list              :\", t2.timeit(), '[ms]')\n",
    "    print(\"tuple             :\", t3.timeit(), '[ms]')\n",
    "    print(\"string            :\", t4.timeit(), '[ms]')\n",
    "    print(\"set_add           :\", t5.timeit(), '[ms]')\n",
    "    print(\"list_append       :\", t6.timeit(), '[ms]')\n",
    "    print(\"set_comprehension :\", t5.timeit(), '[ms]')\n",
    "    print(\"list_comprehension:\", t6.timeit(), '[ms]')"
   ]
  },
  {
   "cell_type": "markdown",
   "metadata": {},
   "source": [
    "> 프로파일링은 애플리케이션에서 가장 자원이 집중되는 지점을 정밀하게 찾아내는 기법이다. 프로파일러는 애플리케이션을 실행시키고 각각의 함수 실행에 드는 시간을 찾아내는 프로그램. 즉 코드의 병목을 찾아내고 성능을 측정해주는 도구.\n",
    "\n",
    "profile 모듈, cProfile 모듈, line_profiler 패키지를 이용하면 프로파일링 가능."
   ]
  },
  {
   "cell_type": "markdown",
   "metadata": {},
   "source": [
    "## Scale Up vs Scale Out\n",
    "\n",
    "Scale-Up은 한 대의 컴퓨터의 성능을 최적화시키는 방법. Scale-Out은 여러 대의 컴퓨터를 한 대처럼 사용하는 것."
   ]
  },
  {
   "cell_type": "markdown",
   "metadata": {},
   "source": [
    "## 파이썬에서 멀티스레드 사용하기"
   ]
  },
  {
   "cell_type": "markdown",
   "metadata": {},
   "source": [
    "### 기본 코드\n",
    "\n",
    "---\n",
    "\n",
    "음식 배달과 그릇 찾기 두 가지 작업을 순차적으로 수행하는 코드"
   ]
  },
  {
   "cell_type": "code",
   "execution_count": 5,
   "metadata": {
    "ExecuteTime": {
     "end_time": "2021-02-08T03:20:37.206888Z",
     "start_time": "2021-02-08T03:20:37.202199Z"
    }
   },
   "outputs": [
    {
     "name": "stdout",
     "output_type": "stream",
     "text": [
      "delivery\n",
      "Retriving Dish\n"
     ]
    }
   ],
   "source": [
    "class Delivery:\n",
    "    def run(self):\n",
    "        print(\"delivery\")\n",
    "\n",
    "class RetriveDish:\n",
    "    def run(self):\n",
    "        print(\"Retriving Dish\")\n",
    "\n",
    "work1 = Delivery()\n",
    "work2 = RetriveDish()\n",
    "\n",
    "def main():\n",
    "    work1.run()\n",
    "    work2.run()\n",
    "\n",
    "if __name__ == '__main__':\n",
    "    main()"
   ]
  },
  {
   "cell_type": "markdown",
   "metadata": {},
   "source": [
    "###  멀티스레드\n",
    "\n",
    "---\n",
    "\n",
    "+ threading 모듈을 import.\n",
    "+ 클래스에 Thread를 상속받기"
   ]
  },
  {
   "cell_type": "code",
   "execution_count": 4,
   "metadata": {
    "ExecuteTime": {
     "end_time": "2021-02-08T03:20:25.370693Z",
     "start_time": "2021-02-08T03:20:25.364411Z"
    }
   },
   "outputs": [
    {
     "name": "stdout",
     "output_type": "stream",
     "text": [
      "delivery\n",
      "Retriving Dish\n"
     ]
    }
   ],
   "source": [
    "from threading import *\n",
    "\n",
    "class Delivery(Thread):\n",
    "    def run(self):\n",
    "        print(\"delivery\")\n",
    "\n",
    "class RetriveDish(Thread):\n",
    "    def run(self):\n",
    "        print(\"Retriving Dish\")\n",
    "\n",
    "work1 = Delivery()\n",
    "work2 = RetriveDish()\n",
    "\n",
    "def main():\n",
    "    work1.run()\n",
    "    work2.run()\n",
    "\n",
    "if __name__ == '__main__':\n",
    "    main()"
   ]
  },
  {
   "cell_type": "markdown",
   "metadata": {},
   "source": [
    "### 스레드 생성 확인\n",
    "\n",
    "---\n",
    "\n",
    "함수 이름을 출력해서 함수 객체 확인"
   ]
  },
  {
   "cell_type": "code",
   "execution_count": 6,
   "metadata": {
    "ExecuteTime": {
     "end_time": "2021-02-08T03:21:11.065850Z",
     "start_time": "2021-02-08T03:21:11.059896Z"
    }
   },
   "outputs": [
    {
     "name": "stdout",
     "output_type": "stream",
     "text": [
      "<bound method Delivery.run of <__main__.Delivery object at 0x7f8d5ee85b10>>\n",
      "<bound method Delivery.run of <Delivery(Thread-6, initial)>>\n"
     ]
    }
   ],
   "source": [
    "from threading import *\n",
    "\n",
    "class Delivery:\n",
    "    def run(self):\n",
    "        print(\"delivering\")\n",
    "\n",
    "work1 = Delivery()\n",
    "print(work1.run)\n",
    "\n",
    "class Delivery(Thread):\n",
    "    def run(self):\n",
    "        print(\"delivering\")\n",
    "\n",
    "work2 = Delivery()\n",
    "print(work2.run)"
   ]
  },
  {
   "cell_type": "markdown",
   "metadata": {},
   "source": [
    "###  스레드 생성\n",
    "\n",
    "---\n",
    "\n",
    "상속 받아서 구현할 수도 있지만 그대로 인스턴스화하여 스레드를 생성할 수 있음.\n",
    "\n",
    "\n",
    "인스턴스화 하려면 Thread 클래스에 인자로 target과 args 값을 넣어 준다. args에 넣어 준 파라미터는 스레드 함수의 인자로 넘어간다.\n",
    "\n",
    "```python\n",
    "t = Thread(target=함수이름, args=())\n",
    "```\n",
    "\n",
    "Thread 클래스에는 start(), join() 같은 스레드 동작 관련 메서드가 있음. Thread 로 실행할 함수를 정의한 후 start()를 통해 스레드를 실행한다."
   ]
  },
  {
   "cell_type": "code",
   "execution_count": 7,
   "metadata": {
    "ExecuteTime": {
     "end_time": "2021-02-08T03:25:32.422741Z",
     "start_time": "2021-02-08T03:25:32.418172Z"
    }
   },
   "outputs": [
    {
     "name": "stdout",
     "output_type": "stream",
     "text": [
      "do  Overwork\n",
      "do  Overwork\n",
      "do  Overwork\n",
      "do  Overwork\n"
     ]
    }
   ],
   "source": [
    "from time import sleep\n",
    "\n",
    "Stopped = False\n",
    "\n",
    "def worker(work, sleep_sec):    # 일꾼 스레드입니다.\n",
    "    while not Stopped:   # 그만 하라고 할때까지\n",
    "        print('do ', work)    # 시키는 일을 하고\n",
    "        sleep(sleep_sec)    # 잠깐 쉽니다.\n",
    "    print('retired..')           # 언젠가 이 굴레를 벗어나면, 은퇴할 때가 오겠지요?\n",
    "        \n",
    "t = Thread(target=worker, args=('Overwork', 3))    # 일꾼 스레드를 하나 생성합니다. 열심히 일하고 3초간 쉽니다.\n",
    "t.start()    # 일꾼, 이제 일을 해야지? 😈"
   ]
  },
  {
   "cell_type": "code",
   "execution_count": 8,
   "metadata": {
    "ExecuteTime": {
     "end_time": "2021-02-08T03:25:44.436835Z",
     "start_time": "2021-02-08T03:25:43.258902Z"
    }
   },
   "outputs": [
    {
     "name": "stdout",
     "output_type": "stream",
     "text": [
      "retired..\n",
      "worker is gone.\n"
     ]
    }
   ],
   "source": [
    "# 이 코드 블럭을 실행하기 전까지는 일꾼 스레드는 종료하지 않습니다. \n",
    "Stopped = True    # 일꾼 일 그만하라고 세팅해 줍시다. \n",
    "t.join()                    # 일꾼 스레드가 종료할때까지 기다립니다. \n",
    "print('worker is gone.')"
   ]
  },
  {
   "cell_type": "markdown",
   "metadata": {},
   "source": [
    "## 파이썬에서 멀티프로세스 사용하기\n",
    "\n",
    "multiprocessing 모듈을 이용해서 할 수 있다."
   ]
  },
  {
   "cell_type": "markdown",
   "metadata": {},
   "source": [
    "### 프로세스 생성\n",
    "\n",
    "---\n",
    "\n",
    "+ Process 인스턴스를 만든 뒤, target과 args 파라미터에 각각 함수 이름과 함수 인자를 전달한다."
   ]
  },
  {
   "cell_type": "code",
   "execution_count": 9,
   "metadata": {
    "ExecuteTime": {
     "end_time": "2021-02-08T03:27:48.531406Z",
     "start_time": "2021-02-08T03:27:48.523235Z"
    }
   },
   "outputs": [
    {
     "name": "stdout",
     "output_type": "stream",
     "text": [
      "delivering...\n"
     ]
    }
   ],
   "source": [
    "import multiprocessing as mp\n",
    "\n",
    "def delivery():\n",
    "    print('delivering...')\n",
    "\n",
    "p = mp.Process(target=delivery, args=())\n",
    "p.start()"
   ]
  },
  {
   "cell_type": "markdown",
   "metadata": {},
   "source": [
    "### 프로세스 사용\n",
    "\n",
    "---\n",
    "\n",
    "Process 클래스는 start(), join(), terminate() 같은 프로세스 동작 관련 메서드가 있다.\n",
    "\n",
    "```python\n",
    "p = mp.Process(target=delivery, args=())\n",
    "p.start() # 프로세스 시작\n",
    "p.join() # 실제 종료까지 기다림 (필요시에만 사용)\n",
    "p.terminate() # 프로세스 종료\n",
    "```"
   ]
  },
  {
   "cell_type": "code",
   "execution_count": null,
   "metadata": {},
   "outputs": [],
   "source": []
  },
  {
   "cell_type": "code",
   "execution_count": null,
   "metadata": {},
   "outputs": [],
   "source": []
  },
  {
   "cell_type": "code",
   "execution_count": null,
   "metadata": {},
   "outputs": [],
   "source": []
  }
 ],
 "metadata": {
  "hide_input": false,
  "kernelspec": {
   "display_name": "aiffel",
   "language": "python",
   "name": "aiffel"
  },
  "language_info": {
   "codemirror_mode": {
    "name": "ipython",
    "version": 3
   },
   "file_extension": ".py",
   "mimetype": "text/x-python",
   "name": "python",
   "nbconvert_exporter": "python",
   "pygments_lexer": "ipython3",
   "version": "3.7.9"
  },
  "toc": {
   "base_numbering": 1,
   "nav_menu": {},
   "number_sections": true,
   "sideBar": true,
   "skip_h1_title": true,
   "title_cell": "Table of Contents",
   "title_sidebar": "Contents",
   "toc_cell": true,
   "toc_position": {},
   "toc_section_display": true,
   "toc_window_display": false
  }
 },
 "nbformat": 4,
 "nbformat_minor": 4
}
